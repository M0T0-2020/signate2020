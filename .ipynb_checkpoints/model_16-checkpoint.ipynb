{
 "cells": [
  {
   "cell_type": "code",
   "execution_count": 9,
   "metadata": {},
   "outputs": [],
   "source": [
    "import  warnings\n",
    "warnings.filterwarnings('ignore')\n",
    "import numpy as np\n",
    "import pandas as pd\n",
    "\n",
    "from sklearn.model_selection import StratifiedShuffleSplit, StratifiedKFold, KFold\n",
    "from sklearn import metrics\n",
    "from sklearn.cluster import KMeans\n",
    "from sklearn.feature_extraction.text import TfidfVectorizer, CountVectorizer\n",
    "from sklearn.linear_model import LogisticRegression, RidgeClassifier\n",
    "from sklearn.neighbors import KNeighborsClassifier\n",
    "from sklearn.naive_bayes import GaussianNB\n",
    "from sklearn.gaussian_process import GaussianProcessClassifier\n",
    "\n",
    "import torch\n",
    "from torch import nn\n",
    "from torch.utils.data import Dataset, DataLoader\n",
    "import torch.utils.data\n",
    "import torchvision\n",
    "from torch import optim\n",
    "from torch import cuda\n",
    "from torch.optim.lr_scheduler import CosineAnnealingLR\n",
    "\n",
    "#import torch_xla\n",
    "#import torch_xla.core.xla_model as xm\n",
    "\n",
    "import time, gc, random\n",
    "from tqdm import tqdm_notebook as tqdm\n",
    "from matplotlib import pyplot as plt\n",
    "import seaborn as sns\n",
    "\n",
    "from stop_words import get_stop_words\n",
    "import nltk, string\n",
    "from nltk.stem.porter import PorterStemmer\n",
    "\n",
    "import lightgbm as lgb\n",
    "\n",
    "random.seed(2020)\n",
    "np.random.seed(2020)\n",
    "\n",
    "warnings.filterwarnings('ignore')\n",
    "%matplotlib inline"
   ]
  },
  {
   "cell_type": "code",
   "execution_count": 10,
   "metadata": {},
   "outputs": [],
   "source": [
    "class Preprocessing:\n",
    "    def __init__(self):\n",
    "        self.porter = PorterStemmer()\n",
    "        self.stop_words = get_stop_words('en')\n",
    "        self.stop_words.append(' ')\n",
    "        self.stop_words.append('')\n",
    "    \n",
    "    def pipeline(self, df):\n",
    "        for lang in ['description']:\n",
    "            #, 'translate_es', 'translate_fr', 'translate_de', 'translate_ja']:\n",
    "            df[lang] = df[lang].apply(lambda x: self.change_text(x))\n",
    "        return df\n",
    "\n",
    "    def change_text(self, text):\n",
    "        text = text.lower()\n",
    "        text = text.replace('ml', 'machine learning')\n",
    "        text = text.replace('machine learning', 'machinelearning')\n",
    "        text = \"\".join([char if char not in string.punctuation else ' ' for char in text])\n",
    "        text = \" \".join([self.porter.stem(char) for char in text.split(' ') if char not in self.stop_words])\n",
    "        return text\n",
    "    \n",
    "    def vectorize_tfidf(self, df):\n",
    "        vec_tfidf = TfidfVectorizer()\n",
    "        X = vec_tfidf.fit_transform(df.description.values)\n",
    "        X = pd.DataFrame(X.toarray(), columns=vec_tfidf.get_feature_names())\n",
    "        return X\n",
    "    \n",
    "    def vectorize_cnt(self, df):\n",
    "        vec_cnt = CountVectorizer()\n",
    "        X = vec_cnt.fit_transform(df.description.values)\n",
    "        X = pd.DataFrame(X.toarray(), columns=vec_cnt.get_feature_names())\n",
    "        return X"
   ]
  },
  {
   "cell_type": "code",
   "execution_count": 51,
   "metadata": {},
   "outputs": [],
   "source": [
    "def make_offdf(train_df, original_test_df, feature, params_list, _type):\n",
    "    k = StratifiedKFold(n_splits=5, random_state=2020, shuffle=True)\n",
    "    \n",
    "    y_1 = train_df.jobflag.apply(lambda x: 1 if x==1 else 0)\n",
    "    y_2 = train_df.jobflag.apply(lambda x: 1 if x==2 else 0)\n",
    "    y_3 = train_df.jobflag.apply(lambda x: 1 if x==3 else 0)\n",
    "    y_4 = train_df.jobflag.apply(lambda x: 1 if x==4 else 0)\n",
    "    \n",
    "    off_df = []\n",
    "    test_df = original_test_df.copy()\n",
    "    for i in range(4):\n",
    "        test_df[f'lgb_preds_{i+1}_{_type}']=0\n",
    "    \n",
    "    for trn, val in k.split(train_df, train_df.jobflag):\n",
    "        train_X, val_X = train_df.iloc[trn,:][feature], train_df.iloc[val,:][feature]\n",
    "        tmp_off_df = train_df.iloc[val,:]\n",
    "        c=1\n",
    "        for y, param in zip([y_1, y_2, y_3, y_4], params_list):\n",
    "            tmp_off_df[f'lgb_preds_{c}_{_type}']=0\n",
    "            for _ in range(5):\n",
    "                train_y, val_y = y.iloc[trn], y.iloc[val]\n",
    "                train_set= lgb.Dataset(train_X,  train_y)\n",
    "                val_set = lgb.Dataset(val_X,  val_y)   \n",
    "\n",
    "                model = lgb.train(\n",
    "                    train_set=train_set, valid_sets=[train_set, val_set], params=param, num_boost_round=3000, \n",
    "                    early_stopping_rounds=200, verbose_eval=500\n",
    "                )\n",
    "                tmp_off_df[f'lgb_preds_{c}_{_type}'] += model.predict(val_X)/5\n",
    "                param['random_state']+=1\n",
    "                \n",
    "                test_df[f'lgb_preds_{c}_{_type}'] += model.predict(test_df[feature])/5\n",
    "                \n",
    "            c+=1\n",
    "        \n",
    "        off_df.append(tmp_off_df)\n",
    "    \n",
    "    for i in range(4):\n",
    "        test_df[f'lgb_preds_{i+1}_{_type}']/=5\n",
    "    \n",
    "    off_df = pd.concat(off_df, axis=0)\n",
    "    off_df.sort_values('text_id', inplace=True)\n",
    "    return off_df.reset_index(drop=True), test_df"
   ]
  },
  {
   "cell_type": "code",
   "execution_count": 52,
   "metadata": {},
   "outputs": [],
   "source": [
    "class CreateDataset(Dataset):\n",
    "    def __init__(self, X, y):\n",
    "        self.X=X\n",
    "        self.y=y\n",
    "        \n",
    "    def __len__(self):  # len(Dataset)で返す値を指定\n",
    "        return len(self.X)\n",
    "\n",
    "    def __getitem__(self, index):  # Dataset[index]で返す値を指定\n",
    "        # argumentation\n",
    "        x = torch.FloatTensor(self.X[index])\n",
    "        if self.y!=None:\n",
    "            return {\n",
    "                'input': x,\n",
    "                'label': torch.FloatTensor(self.y[index])\n",
    "            }\n",
    "        else:\n",
    "            return {\n",
    "                'input': x\n",
    "            }\n",
    "        \n",
    "class ImbalancedDatasetSampler(torch.utils.data.sampler.Sampler):\n",
    "    \"\"\"Samples elements randomly from a given list of indices for imbalanced dataset\n",
    "    Arguments:\n",
    "        indices (list, optional): a list of indices\n",
    "        num_samples (int, optional): number of samples to draw\n",
    "        callback_get_label func: a callback-like function which takes two arguments - dataset and index\n",
    "    \"\"\"\n",
    "\n",
    "    def __init__(self, dataset, indices=None, num_samples=None, callback_get_label=None):\n",
    "                \n",
    "        # if indices is not provided, \n",
    "        # all elements in the dataset will be considered\n",
    "        self.indices = list(range(len(dataset))) \\\n",
    "            if indices is None else indices\n",
    "\n",
    "        # define custom callback\n",
    "        self.callback_get_label = callback_get_label\n",
    "\n",
    "        # if num_samples is not provided, \n",
    "        # draw `len(indices)` samples in each iteration\n",
    "        self.num_samples = len(self.indices) \\\n",
    "            if num_samples is None else num_samples\n",
    "            \n",
    "        # distribution of classes in the dataset \n",
    "        label_to_count = {}\n",
    "        for idx in self.indices:\n",
    "            label = self._get_label(dataset, idx)\n",
    "            if label in label_to_count:\n",
    "                label_to_count[label] += 1\n",
    "            else:\n",
    "                label_to_count[label] = 1\n",
    "                \n",
    "        # weight for each sample\n",
    "        weights = [1.0 / np.sqrt(label_to_count[self._get_label(dataset, idx)])\n",
    "                   for idx in self.indices]\n",
    "        self.weights = torch.DoubleTensor(weights)\n",
    "\n",
    "    def _get_label(self, dataset, idx):\n",
    "        \"\"\"if isinstance(dataset, torchvision.datasets.MNIST):\n",
    "            return dataset.train_labels[idx].item()\n",
    "        elif isinstance(dataset, torchvision.datasets.ImageFolder):\n",
    "            return dataset.imgs[idx][1]\n",
    "        elif isinstance(dataset, torch.utils.data.Subset):\n",
    "            return dataset.dataset.imgs[idx][1]\n",
    "        elif self.callback_get_label:\n",
    "            return self.callback_get_label(dataset, idx)\n",
    "        else:\n",
    "            raise NotImplementedError\"\"\"\n",
    "        return dataset.y[idx][0]\n",
    "        \n",
    "                \n",
    "    def __iter__(self):\n",
    "        return (self.indices[i] for i in torch.multinomial(\n",
    "            self.weights, self.num_samples, replacement=True))\n",
    "\n",
    "    def __len__(self):\n",
    "        return self.num_samples\n",
    "    \n",
    "class MLPClass(torch.nn.Module):\n",
    "    def __init__(self, input_size, output_size):\n",
    "        super().__init__()\n",
    "        \n",
    "        self.fc = nn.Sequential(\n",
    "            nn.Linear(input_size, 300),\n",
    "            nn.LeakyReLU(),\n",
    "            nn.Dropout(0.5),\n",
    "            nn.Linear(300, 100),\n",
    "            nn.LeakyReLU(),\n",
    "            nn.Dropout(0.5),\n",
    "            nn.Linear(100, output_size)\n",
    "        )\n",
    "        \n",
    "            \n",
    "        \n",
    "        self.sigmoid = torch.nn.Sigmoid()\n",
    "        self.softmax = torch.nn.Softmax()\n",
    "\n",
    "    def forward(self, x):\n",
    "        x = self.fc(x)\n",
    "        #x= self.sigmoid(x)\n",
    "        x= self.softmax(x)\n",
    "        return x\n",
    "\n",
    "class CustomLoss(nn.Module):\n",
    "    def __init__(self):\n",
    "        super(CustomLoss, self).__init__()\n",
    "        self.mse = nn.MSELoss()\n",
    "\n",
    "    def forward(self, pred, target):\n",
    "        pred_1 = pred[target<1.5][:,0]\n",
    "        loss_1 = torch.mean((pred_1-1)**2)\n",
    "        \n",
    "        pred_2 = pred[(target>1.5)&(target<2.5)][:,1]\n",
    "        loss_2 = torch.mean((pred_2-1)**2)\n",
    "        \n",
    "        pred_3 = pred[(target>2.5)&(target<3.5)][:,2]\n",
    "        loss_3 = torch.mean((pred_3-1)**2)\n",
    "\n",
    "        pred_4 = pred[target>3.5][:,3]\n",
    "        loss_4 = torch.mean((pred_4-1)**2)\n",
    "        \n",
    "        loss = loss_1 + loss_2 + loss_3 + loss_4\n",
    "        \n",
    "        return loss\n",
    "    \n",
    "class Model_Trainer:\n",
    "    def __init__(self, output_size, feature):\n",
    "        self.device =  'cuda' if cuda.is_available() else 'cpu'\n",
    "        self.model = MLPClass(len(feature), output_size).to(self.device)\n",
    "        self.criterion = CustomLoss()\n",
    "        self.optimizer = optim.Adam(params=self.model.parameters(), lr=6e-4, weight_decay=0.0005)\n",
    "        self.scheduler = CosineAnnealingLR(optimizer=self.optimizer, T_max=10)\n",
    "        self.output_size = output_size\n",
    "\n",
    "    \n",
    "    def load_params(self, state_dict):\n",
    "        self.model.load_state_dict(state_dict)\n",
    "\n",
    "    \n",
    "    def train(self, trn_dataloader):\n",
    "        self.model.train()\n",
    "        avg_loss=0\n",
    "        for data in trn_dataloader:\n",
    "            self.optimizer.zero_grad()\n",
    "            x = data['input'].to(self.device)\n",
    "            label = data['label'].squeeze(1)\n",
    "            if len(np.unique(label))!=4:\n",
    "                continue\n",
    "            label = label.to(self.device)\n",
    "            x = self.model(x)   \n",
    "            loss = self.criterion(x, label)\n",
    "            loss.backward()\n",
    "            self.optimizer.step()\n",
    "            self.scheduler.step()\n",
    "            avg_loss += loss.item()/len(trn_dataloader)\n",
    "            \n",
    "        return avg_loss\n",
    "\n",
    "    def eval(self, val_dataloader):\n",
    "        self.model.eval()\n",
    "        avg_loss=0\n",
    "        for data in val_dataloader:\n",
    "            x = data['input'].to(self.device)\n",
    "            label = data['label'].to(self.device).squeeze(1)\n",
    "            x = self.model(x)\n",
    "            loss = self.criterion(x, label)\n",
    "            avg_loss += loss.item()/len(val_dataloader)\n",
    "        return avg_loss, x.detach().cpu().numpy()\n",
    "\n",
    "    def predict(self, data_loader):\n",
    "        self.model.eval()\n",
    "        for data in data_loader:\n",
    "            x = data['input'].to(self.device)\n",
    "            x = self.model(x)\n",
    "        return x.detach().cpu().numpy()\n",
    "    \n",
    "def make_off_df(train_df, feature):\n",
    "    k = StratifiedKFold(n_splits=5, random_state=2020, shuffle=True)\n",
    "    #k = KFold(n_splits=5, random_state=202, shuffle=True)\n",
    "    \n",
    "    trn_cv_loss = []\n",
    "    val_cv_loss = []\n",
    "    off_df=[]\n",
    "    \n",
    "    fake_label =  train_df.jobflag.apply(\n",
    "        lambda x: random.randint(1,4)\n",
    "    )\n",
    "    for trn, val in k.split(train_df, train_df.jobflag):\n",
    "    #for trn, val in k.split(train_df, fake_label):\n",
    "    #for trn, val in k.split(train_df):\n",
    "        trn_df = train_df.iloc[\n",
    "            trn,:\n",
    "        ]\n",
    "        val_df = train_df.iloc[\n",
    "            val,:\n",
    "        ]\n",
    "        \n",
    "        \"\"\"sns.distplot(trn_df['jobflag'])\n",
    "        sns.distplot(val_df['jobflag'])\n",
    "        plt.show()\n",
    "        \"\"\"\n",
    "        trn_X, trn_y = trn_df[feature].values.tolist(),trn_df[['jobflag']].values.tolist() \n",
    "        val_X, val_y = val_df[feature].values.tolist(),val_df[['jobflag']].values.tolist() \n",
    "\n",
    "\n",
    "        trn_data_set = CreateDataset(trn_X, trn_y)\n",
    "        val_data_set = CreateDataset(val_X, val_y)\n",
    "        trn_dataloader = DataLoader(trn_data_set, shuffle=False, batch_size=256*2, sampler=ImbalancedDatasetSampler(trn_data_set))\n",
    "        val_dataloader = DataLoader(val_data_set, shuffle=False, batch_size=len(val_data_set))\n",
    "\n",
    "    \n",
    "\n",
    "        trn_loss_list=[]\n",
    "        val_loss_list=[]\n",
    "\n",
    "        model_trainer = Model_Trainer(4, feature)\n",
    "        \n",
    "        for e in tqdm(range(40)):\n",
    "            trn_loss_avg = model_trainer.train(trn_dataloader)\n",
    "            val_loss_avg, p = model_trainer.eval(val_dataloader)\n",
    "            for mm in range(4):\n",
    "                val_df[f'p_{mm+1}_{e}'] = p[:,mm]\n",
    "            val_df[f'p_{e}'] = np.argmax(p, axis=1)+1\n",
    "\n",
    "            trn_loss_list.append(trn_loss_avg)\n",
    "            val_loss_list.append(val_loss_avg)\n",
    "\n",
    "        trn_cv_loss.append(trn_loss_list)\n",
    "        val_cv_loss.append(val_loss_list)\n",
    "        off_df.append(val_df)\n",
    "        \n",
    "    off_df = pd.concat(off_df, axis=0)\n",
    "    off_df.sort_values('text_id', inplace=True)\n",
    "    off_df.reset_index(drop=True, inplace=True)\n",
    "    return off_df, trn_cv_loss, val_cv_loss\n",
    "\n",
    "def predict_test_df(train_df, test_df, feature):\n",
    "\n",
    "    X, y = train_df[feature].values.tolist(),train_df[['jobflag']].values.tolist()\n",
    "    trn_data_set = CreateDataset(X, y)\n",
    "    trn_dataloader = DataLoader(trn_data_set, shuffle=False, batch_size=256*2, sampler=ImbalancedDatasetSampler(trn_data_set))\n",
    "    \n",
    "    val_X, val_y = test_df[feature].values.tolist(), None\n",
    "    val_data_set = CreateDataset(val_X, val_y)\n",
    "    val_dataloader = DataLoader(val_data_set, shuffle=False, batch_size=len(val_data_set))\n",
    "    \n",
    "    trn_loss_list=[]\n",
    "    model_trainer = Model_Trainer(4, feature)\n",
    "    \n",
    "    for e in tqdm(range(40)):\n",
    "        trn_loss_avg = model_trainer.train(trn_dataloader)\n",
    "        p = model_trainer.predict(val_dataloader)\n",
    "        for mm in range(4):\n",
    "            test_df[f'p_{mm+1}_{e}'] = p[:,mm]\n",
    "        test_df[f'p_{e}'] = np.argmax(p, axis=1)+1\n",
    "        \n",
    "        trn_loss_list.append(trn_loss_avg)\n",
    "        \n",
    "    return test_df, trn_loss_list"
   ]
  },
  {
   "cell_type": "code",
   "execution_count": 53,
   "metadata": {},
   "outputs": [],
   "source": [
    "boost_feature = ['abil', 'abl', 'accept', 'access', 'accord', 'account', 'accur', 'accuraci', 'achiev', 'acquisit', 'across', 'act', 'action', \n",
    "           'activ', 'ad', 'addit', 'address', 'adher', 'administr', 'advanc', 'advis', 'advisor', 'agil', 'agre', 'ai', 'algorithm', \n",
    "           'align', 'analys', 'analysi', 'analyst', 'analyt', 'analyz', 'api', 'appli', 'applic', 'approach', 'appropri', 'approv', \n",
    "           'architect', 'architectur', 'area', 'assembl', 'assess', 'assign', 'assist', 'audienc', 'autom', 'avail', 'aw', 'back',\n",
    "           'backend', 'base', 'basic', 'behavior', 'benefit', 'best', 'board', 'bug', 'build', 'busi', 'call', 'can', 'candid', 'capabl',\n",
    "           'capac', 'case', 'caus', 'challeng', 'chang', 'clearli', 'client', 'clinic', 'close', 'cloud', 'cluster', 'coach', 'code', \n",
    "           'collabor', 'collect', 'commerci', 'commiss', 'commun', 'compani', 'complet', 'complex', 'complianc', 'compon', 'comput', \n",
    "           'concept', 'conduct', 'confer', 'configur', 'connect', 'consist', 'construct', 'consult', 'content', 'continu', 'contract',\n",
    "           'contribut', 'control', 'coordin', 'core', 'corpor', 'correct', 'cost', 'creat', 'creation', 'creativ', 'critic', 'cross', \n",
    "           'cultur', 'current', 'custom', 'cycl', 'daili', 'dashboard', 'data', 'databas', 'dataset', 'date', 'deadlin', 'debug', 'decis',\n",
    "           'deep', 'defect', 'defin', 'definit', 'deliv', 'deliver', 'deliveri', 'demand', 'demonstr', 'depart', 'depend', 'deploy', 'depth',\n",
    "           'deriv', 'design', 'desir', 'detail', 'detect', 'determin', 'develop', 'devic', 'devop', 'differ', 'digit', 'direct', 'disciplin',\n",
    "           'discoveri', 'discuss', 'distribut', 'divers', 'document', 'domain', 'draw', 'drive', 'duti', 'dynam', 'edg', 'educ', 'effect',\n",
    "           'effici', 'effort', 'electron', 'email', 'embed', 'employe', 'enabl', 'end', 'engag', 'engin', 'enhanc', 'ensur', 'enterpris',\n",
    "           'environ', 'equip', 'erp', 'escal', 'establish', 'estim', 'etc', 'evalu', 'event', 'excel', 'execut', 'exist', 'expand', 'experi',\n",
    "           'expert', 'expertis', 'explain', 'explor', 'exploratori', 'extern', 'extract', 'face', 'facilit', 'failur', 'featur', 'feder', \n",
    "           'field', 'find', 'fix', 'flow', 'focu', 'follow', 'form', 'formul', 'framework', 'front', 'full', 'function', 'futur', 'gain',\n",
    "           'gap', 'gather', 'gener', 'global', 'go', 'goal', 'good', 'govern', 'group', 'grow', 'growth', 'guid', 'guidanc', 'hand', \n",
    "           'hardwar', 'healthcar', 'help', 'high', 'highli', 'hoc', 'idea', 'identifi', 'impact', 'implement', 'improv', 'incid', 'includ',\n",
    "           'increas', 'independ', 'individu', 'industri', 'influenc', 'inform', 'infrastructur', 'initi', 'innov', 'input', 'insight',\n",
    "           'inspect', 'instal', 'integr', 'intellig', 'interact', 'interfac', 'intern', 'interpret', 'investig', 'issu', 'iter', 'java',\n",
    "           'job', 'junior', 'keep', 'key', 'knowledg', 'languag', 'larg', 'latest', 'lead', 'leader', 'leadership', 'learn', 'level', \n",
    "           'leverag', 'librari', 'life', 'like', 'limit', 'linux', 'log', 'logic', 'machin', 'machinelearn', 'maintain', 'mainten', \n",
    "           'make', 'manag', 'manner', 'manufactur', 'map', 'market', 'materi', 'matter', 'may', 'measur', 'mechan', 'medic', 'meet',\n",
    "           'member', 'mentor', 'met', 'method', 'methodolog', 'metric', 'microsoft', 'migrat', 'mission', 'mobil', 'model', 'moder',\n",
    "           'modifi', 'modul', 'monitor', 'multi', 'multipl', 'must', 'necessari', 'need', 'net', 'network', 'new', 'next', 'non', 'novel',\n",
    "           'object', 'obtain', 'ongo', 'open', 'oper', 'opportun', 'optim', 'order', 'organ', 'organiz', 'orient', 'outcom', 'outsid',\n",
    "           'overal', 'overse', 'part', 'parti', 'particip', 'partner', 'partnership', 'pattern', 'payrol', 'peer', 'perform', 'person',\n",
    "           'personnel', 'pipelin', 'plan', 'platform', 'point', 'polici', 'posit', 'post', 'potenti', 'practic', 'pre', 'predict', 'prepar', \n",
    "           'present', 'price', 'principl', 'prior', 'priorit', 'proactiv', 'problem', 'procedur', 'process', 'produc', 'product', \n",
    "           'profession', 'program', 'progress', 'project', 'promot', 'proof', 'propos', 'prospect', 'protocol', 'prototyp','provid', \n",
    "           'purpos', 'python', 'qa', 'qualifi', 'qualiti', 'queri', 'question', 'quickli', 'real', 'recommend', 'referr', 'refin', 'regard',\n",
    "           'region', 'regul', 'regular', 'regulatori', 'relat', 'relationship', 'releas', 'relev', 'reliabl', 'report','repres', 'request',\n",
    "           'requir', 'research', 'resid', 'resolut', 'resolv', 'resourc', 'respons', 'result', 'retail', 'review', 'rigor', 'risk', 'roadmap',\n",
    "           'role', 'root', 'rule', 'run', 'safeti', 'sale', 'scalabl', 'scale', 'schedul', 'scienc', 'scientist', 'scope', 'script', 'scrum',\n",
    "           'secur', 'segment', 'select', 'self', 'sell', 'senior', 'serv', 'server', 'servic', 'set', 'share', 'show', 'simul', 'site',\n",
    "           'skill', 'small', 'softwar', 'solut', 'solv', 'sourc', 'specif', 'sql', 'stack', 'staff', 'stakehold', 'standard', 'state',\n",
    "           'statist', 'statu', 'stay', 'store', 'stori', 'strateg', 'strategi', 'stream', 'strong', 'structur', 'studi', 'subject', \n",
    "           'success', 'suggest', 'supplier', 'support', 'system', 'take', 'target', 'task', 'team', 'technic', 'techniqu', 'technolog', \n",
    "           'term','test', 'think', 'thought', 'throughout', 'time', 'timelin', 'tool', 'top', 'track', 'train', 'transform', 'translat',\n",
    "           'travel', 'trend', 'troubleshoot', 'tune', 'understand', 'unit', 'updat', 'upgrad', 'use', 'user', 'util', 'valid',\n",
    "           'valu', 'variou', 'vehicl', 'vendor', 'verif', 'verifi', 'version', 'via', 'vision', 'visual', 'way',\n",
    "           'web', 'well', 'wide', 'will', 'window', 'within', 'work', 'workflow','write']\n",
    "\n",
    "PARAMS_1={\n",
    "    'boosting_type': 'gbdt',\n",
    "    \n",
    "    #'objective': 'multiclass','metric': 'multiclass', 'num_class':4,\n",
    "    \n",
    "    'objective': 'tweedie','metric': 'tweedie',\n",
    "    \n",
    "    'n_estimators': 1400,\n",
    "    'boost_from_average': False,'verbose': -1,'random_state':2020,\n",
    "    \n",
    "   'tweedie_variance_power': 1.349969119190657, 'max_bin': 212, 'subsample': 0.5774043241504451, 'subsample_freq': 0.7045972939301558, \n",
    "    'learning_rate': 0.16528226095247364, 'num_leaves': 4, 'feature_fraction': 0.9964784224971625,\n",
    "    'bagging_freq': 6, 'min_child_samples': 23, 'lambda_l1': 0.016924825494747078, 'lambda_l2': 0.0008031532180312293\n",
    "}\n",
    "\n",
    "\n",
    "PARAMS_2={\n",
    "    'boosting_type': 'gbdt',\n",
    "    \n",
    "    #'objective': 'multiclass','metric': 'multiclass', 'num_class':4,\n",
    "    \n",
    "    'objective': 'tweedie','metric': 'tweedie',\n",
    "    \n",
    "    'n_estimators': 1400,\n",
    "    'boost_from_average': False,'verbose': -1,'random_state':2020,\n",
    "    \n",
    "    'tweedie_variance_power': 1.3014991003823067, 'max_bin': 134, 'subsample': 0.8990859498726816, 'subsample_freq': 0.5274951186330312,\n",
    "    'learning_rate': 0.3937162652059595, 'num_leaves': 5, 'feature_fraction': 0.8861294810479933, 'bagging_freq': 5,\n",
    "    'min_child_samples': 28, 'lambda_l1': 6.037171725930821, 'lambda_l2': 0.0025254105473444784\n",
    "}\n",
    "\n",
    "PARAMS_3={\n",
    "    'boosting_type': 'gbdt',\n",
    "    \n",
    "    #'objective': 'multiclass','metric': 'multiclass', 'num_class':4,\n",
    "    \n",
    "    #'objective': 'tweedie','metric': 'tweedie',\n",
    "     \n",
    "    'objective': 'xentropy','metric': 'xentropy',\n",
    "    \n",
    "    'n_estimators': 1400,\n",
    "    'boost_from_average': False,'verbose': -1,'random_state':2020,\n",
    "    \n",
    "    'max_bin': 50, 'subsample': 0.8509082362331666, 'subsample_freq': 0.6958806976511948, 'learning_rate': 0.09406169926162017,\n",
    "    'num_leaves': 7, 'feature_fraction': 0.7562554580497556, 'bagging_freq': 4, 'min_child_samples': 5, 'lambda_l1': 0.00021420978217365439,\n",
    "    'lambda_l2': 0.011867471326820044\n",
    "}\n",
    "\n",
    "PARAMS_4={\n",
    "    'boosting_type': 'gbdt',\n",
    "    \n",
    "    #'objective': 'multiclass','metric': 'multiclass', 'num_class':4,\n",
    "    \n",
    "    'objective': 'tweedie','metric': 'tweedie',\n",
    "    \n",
    "    'n_estimators': 1400,\n",
    "    'boost_from_average': False,'verbose': -1,'random_state':2020,\n",
    "    \n",
    "    'tweedie_variance_power': 1.3572492826220748, 'max_bin': 169, 'subsample': 0.6874225607452877, 'subsample_freq': 0.5369168449326642,\n",
    "    'learning_rate': 0.0353671206084155, 'num_leaves': 8, 'feature_fraction': 0.9508830019260512, \n",
    "    'bagging_freq': 2, 'min_child_samples': 63, 'lambda_l1': 8.281467382972142, 'lambda_l2': 0.1428656656583413\n",
    "}\n",
    "\n",
    "param_list = [PARAMS_1, PARAMS_2, PARAMS_3, PARAMS_4]"
   ]
  },
  {
   "cell_type": "code",
   "execution_count": 67,
   "metadata": {},
   "outputs": [],
   "source": [
    "train_df = pd.read_csv('../train.csv')\n",
    "test_df = pd.read_csv('../test.csv')\n",
    "for i in range(4):    \n",
    "    train_df = pd.merge(train_df, pd.read_csv(f'../train_df_off{i+1}.csv'), on='id')\n",
    "    test_df = pd.merge(test_df, pd.read_csv(f'../test_df_off{i+1}.csv').drop(columns=['description', 'jobflag']), on='id')\n",
    "df = pd.concat([train_df, test_df],axis=0,ignore_index=True)\n",
    "df['text_id'] = df['id']\n",
    "del df['id']\n",
    "preprocessing = Preprocessing()\n",
    "df.description = df.description.apply(lambda x: preprocessing.change_text(x))\n",
    "\n",
    "cols = ['jobflag','text_id']\n",
    "X = preprocessing.vectorize_tfidf(df)\n",
    "X = pd.concat([df[cols], X], axis=1)"
   ]
  },
  {
   "cell_type": "code",
   "execution_count": 68,
   "metadata": {},
   "outputs": [],
   "source": [
    "train_df = X[X.jobflag.notnull()].reset_index(drop=True)\n",
    "test_df = X[X.jobflag.isnull()].drop(columns=['jobflag']).reset_index(drop=True)\n",
    "\n",
    "#off_df_tfidf, test_df_tfidf = make_offdf(train_df, test_df, boost_feature, param_list, _type='tfidf')"
   ]
  },
  {
   "cell_type": "code",
   "execution_count": 69,
   "metadata": {},
   "outputs": [
    {
     "data": {
      "text/plain": [
       "((2886, 3385), (1743, 3384))"
      ]
     },
     "execution_count": 69,
     "metadata": {},
     "output_type": "execute_result"
    }
   ],
   "source": [
    "train_df.shape, test_df.shape"
   ]
  },
  {
   "cell_type": "code",
   "execution_count": 58,
   "metadata": {
    "collapsed": true
   },
   "outputs": [
    {
     "data": {
      "application/vnd.jupyter.widget-view+json": {
       "model_id": "af99b5c84b614aac8e4cfc1a69fd6253",
       "version_major": 2,
       "version_minor": 0
      },
      "text/plain": [
       "HBox(children=(FloatProgress(value=0.0, max=40.0), HTML(value='')))"
      ]
     },
     "metadata": {},
     "output_type": "display_data"
    },
    {
     "name": "stdout",
     "output_type": "stream",
     "text": [
      "\n"
     ]
    },
    {
     "data": {
      "application/vnd.jupyter.widget-view+json": {
       "model_id": "4f560e7020f1405a940c4ebfd35b99d9",
       "version_major": 2,
       "version_minor": 0
      },
      "text/plain": [
       "HBox(children=(FloatProgress(value=0.0, max=40.0), HTML(value='')))"
      ]
     },
     "metadata": {},
     "output_type": "display_data"
    },
    {
     "name": "stdout",
     "output_type": "stream",
     "text": [
      "\n"
     ]
    },
    {
     "data": {
      "application/vnd.jupyter.widget-view+json": {
       "model_id": "a71d57879d0045c6ba9c1fb82152ed0e",
       "version_major": 2,
       "version_minor": 0
      },
      "text/plain": [
       "HBox(children=(FloatProgress(value=0.0, max=40.0), HTML(value='')))"
      ]
     },
     "metadata": {},
     "output_type": "display_data"
    },
    {
     "name": "stdout",
     "output_type": "stream",
     "text": [
      "\n"
     ]
    },
    {
     "data": {
      "application/vnd.jupyter.widget-view+json": {
       "model_id": "19fc2500d3dd48baae8c3d35a8448607",
       "version_major": 2,
       "version_minor": 0
      },
      "text/plain": [
       "HBox(children=(FloatProgress(value=0.0, max=40.0), HTML(value='')))"
      ]
     },
     "metadata": {},
     "output_type": "display_data"
    },
    {
     "name": "stdout",
     "output_type": "stream",
     "text": [
      "\n"
     ]
    },
    {
     "data": {
      "application/vnd.jupyter.widget-view+json": {
       "model_id": "87958b8e12d14875b562275e8492252b",
       "version_major": 2,
       "version_minor": 0
      },
      "text/plain": [
       "HBox(children=(FloatProgress(value=0.0, max=40.0), HTML(value='')))"
      ]
     },
     "metadata": {},
     "output_type": "display_data"
    },
    {
     "name": "stdout",
     "output_type": "stream",
     "text": [
      "\n"
     ]
    },
    {
     "data": {
      "application/vnd.jupyter.widget-view+json": {
       "model_id": "5401676565734d718a4d1b0487135217",
       "version_major": 2,
       "version_minor": 0
      },
      "text/plain": [
       "HBox(children=(FloatProgress(value=0.0, max=40.0), HTML(value='')))"
      ]
     },
     "metadata": {},
     "output_type": "display_data"
    },
    {
     "name": "stdout",
     "output_type": "stream",
     "text": [
      "\n"
     ]
    }
   ],
   "source": [
    "train_df = X[X.jobflag.notnull()].reset_index(drop=True)\n",
    "test_df = X[X.jobflag.isnull()].drop(columns=['jobflag']).reset_index(drop=True)\n",
    "\n",
    "mlp_feature = train_df.drop(columns=cols).columns.tolist()\n",
    "\n",
    "off_df_mlp, trn_cv_loss, val_cv_loss = make_off_df(train_df, mlp_feature)\n",
    "test_df_mlp, trn_loss_list = predict_test_df(train_df, test_df, mlp_feature)"
   ]
  },
  {
   "cell_type": "code",
   "execution_count": 24,
   "metadata": {},
   "outputs": [],
   "source": [
    "mlp_pred_cols = [f'p_{mm+1}_{e}' for e in range(40) for mm in range(4)]"
   ]
  },
  {
   "cell_type": "code",
   "execution_count": 77,
   "metadata": {},
   "outputs": [],
   "source": [
    "train_df2 = pd.concat([\n",
    "    off_df_tfidf,\n",
    "    off_df_mlp[mlp_pred_cols]\n",
    "], axis=1)\n",
    "\n",
    "test_df2 = pd.concat([\n",
    "    test_df_tfidf,\n",
    "    test_df_mlp[mlp_pred_cols]\n",
    "], axis=1)"
   ]
  },
  {
   "cell_type": "code",
   "execution_count": 78,
   "metadata": {},
   "outputs": [
    {
     "data": {
      "text/plain": [
       "((2886, 3549), (1743, 3548))"
      ]
     },
     "execution_count": 78,
     "metadata": {},
     "output_type": "execute_result"
    }
   ],
   "source": [
    "train_df2.shape, test_df2.shape"
   ]
  },
  {
   "cell_type": "code",
   "execution_count": 81,
   "metadata": {},
   "outputs": [
    {
     "data": {
      "text/plain": [
       "['jobflag']"
      ]
     },
     "execution_count": 81,
     "metadata": {},
     "output_type": "execute_result"
    }
   ],
   "source": [
    "[col for col in train_df2.columns if col not in test_df2.columns]"
   ]
  },
  {
   "cell_type": "code",
   "execution_count": 82,
   "metadata": {},
   "outputs": [
    {
     "data": {
      "text/plain": [
       "((1743, 3548), (2886, 3549), (2886, 3385))"
      ]
     },
     "execution_count": 82,
     "metadata": {},
     "output_type": "execute_result"
    }
   ],
   "source": [
    "test_df2.shape, train_df2.shape, train_df.shape"
   ]
  },
  {
   "cell_type": "code",
   "execution_count": 83,
   "metadata": {},
   "outputs": [],
   "source": [
    "mlp_feature2 = train_df2.drop(columns=cols).columns.tolist()"
   ]
  },
  {
   "cell_type": "code",
   "execution_count": 84,
   "metadata": {
    "collapsed": true
   },
   "outputs": [
    {
     "data": {
      "application/vnd.jupyter.widget-view+json": {
       "model_id": "f01cab818afd437f81dbc0a3c8ca5ba8",
       "version_major": 2,
       "version_minor": 0
      },
      "text/plain": [
       "HBox(children=(FloatProgress(value=0.0, max=40.0), HTML(value='')))"
      ]
     },
     "metadata": {},
     "output_type": "display_data"
    },
    {
     "name": "stdout",
     "output_type": "stream",
     "text": [
      "\n"
     ]
    },
    {
     "data": {
      "application/vnd.jupyter.widget-view+json": {
       "model_id": "a62bf9b86a084b019e8c8aa801a643ae",
       "version_major": 2,
       "version_minor": 0
      },
      "text/plain": [
       "HBox(children=(FloatProgress(value=0.0, max=40.0), HTML(value='')))"
      ]
     },
     "metadata": {},
     "output_type": "display_data"
    },
    {
     "name": "stdout",
     "output_type": "stream",
     "text": [
      "\n"
     ]
    },
    {
     "data": {
      "application/vnd.jupyter.widget-view+json": {
       "model_id": "8a7854b76e4e4e0ca3bf1643eb5bb0c6",
       "version_major": 2,
       "version_minor": 0
      },
      "text/plain": [
       "HBox(children=(FloatProgress(value=0.0, max=40.0), HTML(value='')))"
      ]
     },
     "metadata": {},
     "output_type": "display_data"
    },
    {
     "name": "stdout",
     "output_type": "stream",
     "text": [
      "\n"
     ]
    },
    {
     "data": {
      "application/vnd.jupyter.widget-view+json": {
       "model_id": "0d2ca58e859e4ccbb8af7442a076e66a",
       "version_major": 2,
       "version_minor": 0
      },
      "text/plain": [
       "HBox(children=(FloatProgress(value=0.0, max=40.0), HTML(value='')))"
      ]
     },
     "metadata": {},
     "output_type": "display_data"
    },
    {
     "name": "stdout",
     "output_type": "stream",
     "text": [
      "\n"
     ]
    },
    {
     "data": {
      "application/vnd.jupyter.widget-view+json": {
       "model_id": "f07e575918d04ba0aeb745231d8e3352",
       "version_major": 2,
       "version_minor": 0
      },
      "text/plain": [
       "HBox(children=(FloatProgress(value=0.0, max=40.0), HTML(value='')))"
      ]
     },
     "metadata": {},
     "output_type": "display_data"
    },
    {
     "name": "stdout",
     "output_type": "stream",
     "text": [
      "\n"
     ]
    },
    {
     "data": {
      "application/vnd.jupyter.widget-view+json": {
       "model_id": "5704e085056f4ec38c6ba912b7eedd61",
       "version_major": 2,
       "version_minor": 0
      },
      "text/plain": [
       "HBox(children=(FloatProgress(value=0.0, max=40.0), HTML(value='')))"
      ]
     },
     "metadata": {},
     "output_type": "display_data"
    },
    {
     "name": "stdout",
     "output_type": "stream",
     "text": [
      "\n"
     ]
    }
   ],
   "source": [
    "off_df_mlp2, trn_cv_loss2, val_cv_loss2 = make_off_df(train_df2, mlp_feature2)\n",
    "test_df_mlp2, trn_loss_list2 = predict_test_df(train_df2, test_df2, mlp_feature2)"
   ]
  },
  {
   "cell_type": "code",
   "execution_count": 86,
   "metadata": {},
   "outputs": [
    {
     "data": {
      "image/png": "[encoded data removed]",
      "text/plain": [
       "<Figure size 432x288 with 1 Axes>"
      ]
     },
     "metadata": {
      "needs_background": "light"
     },
     "output_type": "display_data"
    },
    {
     "data": {
      "image/png": "[encoded data removed]",
      "text/plain": [
       "<Figure size 432x288 with 1 Axes>"
      ]
     },
     "metadata": {
      "needs_background": "light"
     },
     "output_type": "display_data"
    },
    {
     "data": {
      "image/png": "[encoded data removed]",
      "text/plain": [
       "<Figure size 432x288 with 1 Axes>"
      ]
     },
     "metadata": {
      "needs_background": "light"
     },
     "output_type": "display_data"
    },
    {
     "data": {
      "image/png": "[encoded data removed]",
      "text/plain": [
       "<Figure size 432x288 with 1 Axes>"
      ]
     },
     "metadata": {
      "needs_background": "light"
     },
     "output_type": "display_data"
    },
    {
     "data": {
      "image/png": "[encoded data removed]",
      "text/plain": [
       "<Figure size 432x288 with 1 Axes>"
      ]
     },
     "metadata": {
      "needs_background": "light"
     },
     "output_type": "display_data"
    },
    {
     "data": {
      "image/png": "[encoded data removed]",
      "text/plain": [
       "<Figure size 432x288 with 1 Axes>"
      ]
     },
     "metadata": {
      "needs_background": "light"
     },
     "output_type": "display_data"
    }
   ],
   "source": [
    "scores=[]\n",
    "for i in range(40):   \n",
    "    p = off_df_mlp2[f'p_{i}']\n",
    "    label = off_df_mlp2['jobflag']\n",
    "    score = metrics.f1_score(label, p, average='macro')\n",
    "    scores.append(score)\n",
    "plt.plot(scores)\n",
    "plt.show()\n",
    "\n",
    "for i in range(len(trn_cv_loss)):\n",
    "    plt.plot(trn_cv_loss2[i])\n",
    "    \n",
    "    plt.plot(val_cv_loss2[i])\n",
    "    plt.show()"
   ]
  },
  {
   "cell_type": "code",
   "execution_count": 87,
   "metadata": {},
   "outputs": [
    {
     "data": {
      "text/plain": [
       "score    0.566177\n",
       "dtype: float64"
      ]
     },
     "execution_count": 87,
     "metadata": {},
     "output_type": "execute_result"
    }
   ],
   "source": [
    "data = pd.DataFrame()\n",
    "data['score'] = scores\n",
    "data.max()"
   ]
  },
  {
   "cell_type": "code",
   "execution_count": 89,
   "metadata": {},
   "outputs": [
    {
     "data": {
      "text/plain": [
       "Index(['text_id', '000', '10', '10g', '11', '12', '12c', '150', '20', '2003',\n",
       "       ...\n",
       "       'p_30', 'p_31', 'p_32', 'p_33', 'p_34', 'p_35', 'p_36', 'p_37', 'p_38',\n",
       "       'p_39'],\n",
       "      dtype='object', length=3588)"
      ]
     },
     "execution_count": 89,
     "metadata": {},
     "output_type": "execute_result"
    }
   ],
   "source": [
    "test_df_mlp2.columns"
   ]
  },
  {
   "cell_type": "code",
   "execution_count": 91,
   "metadata": {},
   "outputs": [],
   "source": [
    "preds = np.zeros((len(test_df), 4))\n",
    "for i in range(10, 15):\n",
    "    preds += test_df_mlp2[[f'p_{label+1}_{i}'  for label in range(4)]].values"
   ]
  },
  {
   "cell_type": "code",
   "execution_count": 92,
   "metadata": {},
   "outputs": [],
   "source": [
    "test_df_mlp2['final_preds'] = 1+np.argmax(preds, axis=1)"
   ]
  },
  {
   "cell_type": "code",
   "execution_count": 96,
   "metadata": {},
   "outputs": [],
   "source": [
    "test_df_mlp2[['text_id', 'final_preds']].to_csv('/Users/abcdm/Downloads/sub_16.csv', index=False, header=False)"
   ]
  },
  {
   "cell_type": "code",
   "execution_count": 98,
   "metadata": {},
   "outputs": [
    {
     "data": {
      "text/html": [
       "<div>\n",
       "<style scoped>\n",
       "    .dataframe tbody tr th:only-of-type {\n",
       "        vertical-align: middle;\n",
       "    }\n",
       "\n",
       "    .dataframe tbody tr th {\n",
       "        vertical-align: top;\n",
       "    }\n",
       "\n",
       "    .dataframe thead th {\n",
       "        text-align: right;\n",
       "    }\n",
       "</style>\n",
       "<table border=\"1\" class=\"dataframe\">\n",
       "  <thead>\n",
       "    <tr style=\"text-align: right;\">\n",
       "      <th></th>\n",
       "      <th>1_16</th>\n",
       "      <th>2_16</th>\n",
       "      <th>3_16</th>\n",
       "      <th>4_16</th>\n",
       "      <th>1_14</th>\n",
       "      <th>2_14</th>\n",
       "      <th>3_14</th>\n",
       "      <th>4_14</th>\n",
       "    </tr>\n",
       "  </thead>\n",
       "  <tbody>\n",
       "    <tr>\n",
       "      <th>1_16</th>\n",
       "      <td>1.000000</td>\n",
       "      <td>-0.231378</td>\n",
       "      <td>-0.343242</td>\n",
       "      <td>-0.380665</td>\n",
       "      <td>0.634747</td>\n",
       "      <td>0.008705</td>\n",
       "      <td>-0.326405</td>\n",
       "      <td>-0.232669</td>\n",
       "    </tr>\n",
       "    <tr>\n",
       "      <th>2_16</th>\n",
       "      <td>-0.231378</td>\n",
       "      <td>1.000000</td>\n",
       "      <td>-0.271918</td>\n",
       "      <td>-0.301565</td>\n",
       "      <td>-0.029197</td>\n",
       "      <td>0.446016</td>\n",
       "      <td>-0.051118</td>\n",
       "      <td>-0.198546</td>\n",
       "    </tr>\n",
       "    <tr>\n",
       "      <th>3_16</th>\n",
       "      <td>-0.343242</td>\n",
       "      <td>-0.271918</td>\n",
       "      <td>1.000000</td>\n",
       "      <td>-0.447362</td>\n",
       "      <td>-0.286223</td>\n",
       "      <td>-0.149233</td>\n",
       "      <td>0.566361</td>\n",
       "      <td>-0.243170</td>\n",
       "    </tr>\n",
       "    <tr>\n",
       "      <th>4_16</th>\n",
       "      <td>-0.380665</td>\n",
       "      <td>-0.301565</td>\n",
       "      <td>-0.447362</td>\n",
       "      <td>1.000000</td>\n",
       "      <td>-0.266353</td>\n",
       "      <td>-0.207052</td>\n",
       "      <td>-0.215160</td>\n",
       "      <td>0.593056</td>\n",
       "    </tr>\n",
       "    <tr>\n",
       "      <th>1_14</th>\n",
       "      <td>0.634747</td>\n",
       "      <td>-0.029197</td>\n",
       "      <td>-0.286223</td>\n",
       "      <td>-0.266353</td>\n",
       "      <td>1.000000</td>\n",
       "      <td>-0.169278</td>\n",
       "      <td>-0.413635</td>\n",
       "      <td>-0.357691</td>\n",
       "    </tr>\n",
       "    <tr>\n",
       "      <th>2_14</th>\n",
       "      <td>0.008705</td>\n",
       "      <td>0.446016</td>\n",
       "      <td>-0.149233</td>\n",
       "      <td>-0.207052</td>\n",
       "      <td>-0.169278</td>\n",
       "      <td>1.000000</td>\n",
       "      <td>-0.246977</td>\n",
       "      <td>-0.213574</td>\n",
       "    </tr>\n",
       "    <tr>\n",
       "      <th>3_14</th>\n",
       "      <td>-0.326405</td>\n",
       "      <td>-0.051118</td>\n",
       "      <td>0.566361</td>\n",
       "      <td>-0.215160</td>\n",
       "      <td>-0.413635</td>\n",
       "      <td>-0.246977</td>\n",
       "      <td>1.000000</td>\n",
       "      <td>-0.521874</td>\n",
       "    </tr>\n",
       "    <tr>\n",
       "      <th>4_14</th>\n",
       "      <td>-0.232669</td>\n",
       "      <td>-0.198546</td>\n",
       "      <td>-0.243170</td>\n",
       "      <td>0.593056</td>\n",
       "      <td>-0.357691</td>\n",
       "      <td>-0.213574</td>\n",
       "      <td>-0.521874</td>\n",
       "      <td>1.000000</td>\n",
       "    </tr>\n",
       "  </tbody>\n",
       "</table>\n",
       "</div>"
      ],
      "text/plain": [
       "          1_16      2_16      3_16      4_16      1_14      2_14      3_14  \\\n",
       "1_16  1.000000 -0.231378 -0.343242 -0.380665  0.634747  0.008705 -0.326405   \n",
       "2_16 -0.231378  1.000000 -0.271918 -0.301565 -0.029197  0.446016 -0.051118   \n",
       "3_16 -0.343242 -0.271918  1.000000 -0.447362 -0.286223 -0.149233  0.566361   \n",
       "4_16 -0.380665 -0.301565 -0.447362  1.000000 -0.266353 -0.207052 -0.215160   \n",
       "1_14  0.634747 -0.029197 -0.286223 -0.266353  1.000000 -0.169278 -0.413635   \n",
       "2_14  0.008705  0.446016 -0.149233 -0.207052 -0.169278  1.000000 -0.246977   \n",
       "3_14 -0.326405 -0.051118  0.566361 -0.215160 -0.413635 -0.246977  1.000000   \n",
       "4_14 -0.232669 -0.198546 -0.243170  0.593056 -0.357691 -0.213574 -0.521874   \n",
       "\n",
       "          4_14  \n",
       "1_16 -0.232669  \n",
       "2_16 -0.198546  \n",
       "3_16 -0.243170  \n",
       "4_16  0.593056  \n",
       "1_14 -0.357691  \n",
       "2_14 -0.213574  \n",
       "3_14 -0.521874  \n",
       "4_14  1.000000  "
      ]
     },
     "execution_count": 98,
     "metadata": {},
     "output_type": "execute_result"
    }
   ],
   "source": [
    "data = pd.merge(\n",
    "    pd.read_csv('/Users/abcdm/Downloads/sub_16.csv', header=None),\n",
    "    pd.read_csv('/Users/abcdm/Downloads/sub_14.csv', header=None),\n",
    "    on=[0]\n",
    ")\n",
    "\n",
    "pd.concat([\n",
    "    pd.get_dummies(data['1_x']).rename(\n",
    "        columns={i+1:f'{i+1}_16' for i in range(4)}\n",
    "    ),\n",
    "    pd.get_dummies(data['1_y']).rename(\n",
    "        columns={i+1:f'{i+1}_14' for i in range(4)}\n",
    "    )\n",
    "], axis=1).corr()"
   ]
  },
  {
   "cell_type": "code",
   "execution_count": 99,
   "metadata": {},
   "outputs": [
    {
     "data": {
      "text/html": [
       "<div>\n",
       "<style scoped>\n",
       "    .dataframe tbody tr th:only-of-type {\n",
       "        vertical-align: middle;\n",
       "    }\n",
       "\n",
       "    .dataframe tbody tr th {\n",
       "        vertical-align: top;\n",
       "    }\n",
       "\n",
       "    .dataframe thead th {\n",
       "        text-align: right;\n",
       "    }\n",
       "</style>\n",
       "<table border=\"1\" class=\"dataframe\">\n",
       "  <thead>\n",
       "    <tr style=\"text-align: right;\">\n",
       "      <th></th>\n",
       "      <th>1_16</th>\n",
       "      <th>2_16</th>\n",
       "      <th>3_16</th>\n",
       "      <th>4_16</th>\n",
       "      <th>1_15</th>\n",
       "      <th>2_15</th>\n",
       "      <th>3_15</th>\n",
       "      <th>4_15</th>\n",
       "    </tr>\n",
       "  </thead>\n",
       "  <tbody>\n",
       "    <tr>\n",
       "      <th>1_16</th>\n",
       "      <td>1.000000</td>\n",
       "      <td>-0.231378</td>\n",
       "      <td>-0.343242</td>\n",
       "      <td>-0.380665</td>\n",
       "      <td>0.825008</td>\n",
       "      <td>-0.085476</td>\n",
       "      <td>-0.382522</td>\n",
       "      <td>-0.288648</td>\n",
       "    </tr>\n",
       "    <tr>\n",
       "      <th>2_16</th>\n",
       "      <td>-0.231378</td>\n",
       "      <td>1.000000</td>\n",
       "      <td>-0.271918</td>\n",
       "      <td>-0.301565</td>\n",
       "      <td>-0.109957</td>\n",
       "      <td>0.738789</td>\n",
       "      <td>-0.205577</td>\n",
       "      <td>-0.262602</td>\n",
       "    </tr>\n",
       "    <tr>\n",
       "      <th>3_16</th>\n",
       "      <td>-0.343242</td>\n",
       "      <td>-0.271918</td>\n",
       "      <td>1.000000</td>\n",
       "      <td>-0.447362</td>\n",
       "      <td>-0.314312</td>\n",
       "      <td>-0.206920</td>\n",
       "      <td>0.729929</td>\n",
       "      <td>-0.318466</td>\n",
       "    </tr>\n",
       "    <tr>\n",
       "      <th>4_16</th>\n",
       "      <td>-0.380665</td>\n",
       "      <td>-0.301565</td>\n",
       "      <td>-0.447362</td>\n",
       "      <td>1.000000</td>\n",
       "      <td>-0.346320</td>\n",
       "      <td>-0.292926</td>\n",
       "      <td>-0.203832</td>\n",
       "      <td>0.764399</td>\n",
       "    </tr>\n",
       "    <tr>\n",
       "      <th>1_15</th>\n",
       "      <td>0.825008</td>\n",
       "      <td>-0.109957</td>\n",
       "      <td>-0.314312</td>\n",
       "      <td>-0.346320</td>\n",
       "      <td>1.000000</td>\n",
       "      <td>-0.221800</td>\n",
       "      <td>-0.388875</td>\n",
       "      <td>-0.335892</td>\n",
       "    </tr>\n",
       "    <tr>\n",
       "      <th>2_15</th>\n",
       "      <td>-0.085476</td>\n",
       "      <td>0.738789</td>\n",
       "      <td>-0.206920</td>\n",
       "      <td>-0.292926</td>\n",
       "      <td>-0.221800</td>\n",
       "      <td>1.000000</td>\n",
       "      <td>-0.303224</td>\n",
       "      <td>-0.261910</td>\n",
       "    </tr>\n",
       "    <tr>\n",
       "      <th>3_15</th>\n",
       "      <td>-0.382522</td>\n",
       "      <td>-0.205577</td>\n",
       "      <td>0.729929</td>\n",
       "      <td>-0.203832</td>\n",
       "      <td>-0.388875</td>\n",
       "      <td>-0.303224</td>\n",
       "      <td>1.000000</td>\n",
       "      <td>-0.459200</td>\n",
       "    </tr>\n",
       "    <tr>\n",
       "      <th>4_15</th>\n",
       "      <td>-0.288648</td>\n",
       "      <td>-0.262602</td>\n",
       "      <td>-0.318466</td>\n",
       "      <td>0.764399</td>\n",
       "      <td>-0.335892</td>\n",
       "      <td>-0.261910</td>\n",
       "      <td>-0.459200</td>\n",
       "      <td>1.000000</td>\n",
       "    </tr>\n",
       "  </tbody>\n",
       "</table>\n",
       "</div>"
      ],
      "text/plain": [
       "          1_16      2_16      3_16      4_16      1_15      2_15      3_15  \\\n",
       "1_16  1.000000 -0.231378 -0.343242 -0.380665  0.825008 -0.085476 -0.382522   \n",
       "2_16 -0.231378  1.000000 -0.271918 -0.301565 -0.109957  0.738789 -0.205577   \n",
       "3_16 -0.343242 -0.271918  1.000000 -0.447362 -0.314312 -0.206920  0.729929   \n",
       "4_16 -0.380665 -0.301565 -0.447362  1.000000 -0.346320 -0.292926 -0.203832   \n",
       "1_15  0.825008 -0.109957 -0.314312 -0.346320  1.000000 -0.221800 -0.388875   \n",
       "2_15 -0.085476  0.738789 -0.206920 -0.292926 -0.221800  1.000000 -0.303224   \n",
       "3_15 -0.382522 -0.205577  0.729929 -0.203832 -0.388875 -0.303224  1.000000   \n",
       "4_15 -0.288648 -0.262602 -0.318466  0.764399 -0.335892 -0.261910 -0.459200   \n",
       "\n",
       "          4_15  \n",
       "1_16 -0.288648  \n",
       "2_16 -0.262602  \n",
       "3_16 -0.318466  \n",
       "4_16  0.764399  \n",
       "1_15 -0.335892  \n",
       "2_15 -0.261910  \n",
       "3_15 -0.459200  \n",
       "4_15  1.000000  "
      ]
     },
     "execution_count": 99,
     "metadata": {},
     "output_type": "execute_result"
    }
   ],
   "source": [
    "data = pd.merge(\n",
    "    pd.read_csv('/Users/abcdm/Downloads/sub_16.csv', header=None),\n",
    "    pd.read_csv('/Users/abcdm/Downloads/sub_15.csv', header=None),\n",
    "    on=[0]\n",
    ")\n",
    "\n",
    "pd.concat([\n",
    "    pd.get_dummies(data['1_x']).rename(\n",
    "        columns={i+1:f'{i+1}_16' for i in range(4)}\n",
    "    ),\n",
    "    pd.get_dummies(data['1_y']).rename(\n",
    "        columns={i+1:f'{i+1}_15' for i in range(4)}\n",
    "    )\n",
    "], axis=1).corr()"
   ]
  },
  {
   "cell_type": "code",
   "execution_count": null,
   "metadata": {},
   "outputs": [],
   "source": []
  }
 ],
 "metadata": {
  "kernelspec": {
   "display_name": "Python 3",
   "language": "python",
   "name": "python3"
  },
  "language_info": {
   "codemirror_mode": {
    "name": "ipython",
    "version": 3
   },
   "file_extension": ".py",
   "mimetype": "text/x-python",
   "name": "python",
   "nbconvert_exporter": "python",
   "pygments_lexer": "ipython3",
   "version": "3.7.5"
  }
 },
 "nbformat": 4,
 "nbformat_minor": 2
}
