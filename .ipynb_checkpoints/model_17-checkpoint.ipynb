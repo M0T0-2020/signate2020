{
 "cells": [
  {
   "cell_type": "code",
   "execution_count": 1,
   "metadata": {},
   "outputs": [],
   "source": [
    "import  warnings\n",
    "warnings.filterwarnings('ignore')\n",
    "import numpy as np\n",
    "import pandas as pd\n",
    "\n",
    "from sklearn.model_selection import StratifiedShuffleSplit, StratifiedKFold, KFold\n",
    "from sklearn import metrics\n",
    "from sklearn.cluster import KMeans\n",
    "from sklearn.feature_extraction.text import TfidfVectorizer, CountVectorizer\n",
    "from sklearn.linear_model import LogisticRegression, RidgeClassifier\n",
    "from sklearn.neighbors import KNeighborsClassifier\n",
    "from sklearn.naive_bayes import GaussianNB\n",
    "from sklearn.gaussian_process import GaussianProcessClassifier\n",
    "\n",
    "import torch\n",
    "from torch import nn\n",
    "from torch.utils.data import Dataset, DataLoader\n",
    "import torch.utils.data\n",
    "import torchvision\n",
    "from torch import optim\n",
    "from torch import cuda\n",
    "from torch.optim.lr_scheduler import CosineAnnealingLR\n",
    "\n",
    "#import torch_xla\n",
    "#import torch_xla.core.xla_model as xm\n",
    "\n",
    "import time, gc, random\n",
    "from tqdm import tqdm_notebook as tqdm\n",
    "from matplotlib import pyplot as plt\n",
    "import seaborn as sns\n",
    "\n",
    "from stop_words import get_stop_words\n",
    "import nltk, string\n",
    "from nltk.stem.porter import PorterStemmer\n",
    "\n",
    "import lightgbm as lgb\n",
    "\n",
    "random.seed(2020)\n",
    "np.random.seed(2020)\n",
    "\n",
    "warnings.filterwarnings('ignore')\n",
    "%matplotlib inline"
   ]
  },
  {
   "cell_type": "code",
   "execution_count": 2,
   "metadata": {},
   "outputs": [],
   "source": [
    "class Preprocessing:\n",
    "    def __init__(self):\n",
    "        self.porter = PorterStemmer()\n",
    "        self.stop_words = get_stop_words('en')\n",
    "        self.stop_words.append(' ')\n",
    "        self.stop_words.append('')\n",
    "    \n",
    "    def pipeline(self, df):\n",
    "        for lang in ['description']:\n",
    "            #, 'translate_es', 'translate_fr', 'translate_de', 'translate_ja']:\n",
    "            df[lang] = df[lang].apply(lambda x: self.change_text(x))\n",
    "        return df\n",
    "\n",
    "    def change_text(self, text):\n",
    "        text = text.lower()\n",
    "        text = text.replace('ml', 'machine learning')\n",
    "        text = text.replace('machine learning', 'machinelearning')\n",
    "        text = \"\".join([char if char not in string.punctuation else ' ' for char in text])\n",
    "        text = \" \".join([self.porter.stem(char) for char in text.split(' ') if char not in self.stop_words])\n",
    "        return text\n",
    "    \n",
    "    def vectorize_tfidf(self, df):\n",
    "        vec_tfidf = TfidfVectorizer()\n",
    "        X = vec_tfidf.fit_transform(df.description.values)\n",
    "        X = pd.DataFrame(X.toarray(), columns=vec_tfidf.get_feature_names())\n",
    "        return X\n",
    "    \n",
    "    def vectorize_cnt(self, df):\n",
    "        vec_cnt = CountVectorizer()\n",
    "        X = vec_cnt.fit_transform(df.description.values)\n",
    "        X = pd.DataFrame(X.toarray(), columns=vec_cnt.get_feature_names())\n",
    "        return X"
   ]
  },
  {
   "cell_type": "code",
   "execution_count": 3,
   "metadata": {},
   "outputs": [],
   "source": [
    "def make_offdf(train_df, original_test_df, feature, params_list, _type):\n",
    "    k = StratifiedKFold(n_splits=5, random_state=2020, shuffle=True)\n",
    "    \n",
    "    y_1 = train_df.jobflag.apply(lambda x: 1 if x==1 else 0)\n",
    "    y_2 = train_df.jobflag.apply(lambda x: 1 if x==2 else 0)\n",
    "    y_3 = train_df.jobflag.apply(lambda x: 1 if x==3 else 0)\n",
    "    y_4 = train_df.jobflag.apply(lambda x: 1 if x==4 else 0)\n",
    "    \n",
    "    off_df = []\n",
    "    test_df = original_test_df.copy()\n",
    "    for i in range(4):\n",
    "        test_df[f'lgb_preds_{i+1}_{_type}']=0\n",
    "    \n",
    "    for trn, val in k.split(train_df, train_df.jobflag):\n",
    "        train_X, val_X = train_df.iloc[trn,:][feature], train_df.iloc[val,:][feature]\n",
    "        tmp_off_df = train_df.iloc[val,:]\n",
    "        c=1\n",
    "        for y, param in zip([y_1, y_2, y_3, y_4], params_list):\n",
    "            tmp_off_df[f'lgb_preds_{c}_{_type}']=0\n",
    "            for _ in range(5):\n",
    "                train_y, val_y = y.iloc[trn], y.iloc[val]\n",
    "                train_set= lgb.Dataset(train_X,  train_y)\n",
    "                val_set = lgb.Dataset(val_X,  val_y)   \n",
    "\n",
    "                model = lgb.train(\n",
    "                    train_set=train_set, valid_sets=[train_set, val_set], params=param, num_boost_round=3000, \n",
    "                    early_stopping_rounds=200, verbose_eval=500\n",
    "                )\n",
    "                tmp_off_df[f'lgb_preds_{c}_{_type}'] += model.predict(val_X)/5\n",
    "                param['random_state']+=1\n",
    "                \n",
    "                test_df[f'lgb_preds_{c}_{_type}'] += model.predict(test_df[feature])/5\n",
    "                \n",
    "            c+=1\n",
    "        \n",
    "        off_df.append(tmp_off_df)\n",
    "    \n",
    "    for i in range(4):\n",
    "        test_df[f'lgb_preds_{i+1}_{_type}']/=5\n",
    "    \n",
    "    off_df = pd.concat(off_df, axis=0)\n",
    "    off_df.sort_values('text_id', inplace=True)\n",
    "    return off_df.reset_index(drop=True), test_df"
   ]
  },
  {
   "cell_type": "code",
   "execution_count": 4,
   "metadata": {},
   "outputs": [],
   "source": [
    "class CreateDataset(Dataset):\n",
    "    def __init__(self, X, y):\n",
    "        self.X=X\n",
    "        self.y=y\n",
    "        \n",
    "    def __len__(self):  # len(Dataset)で返す値を指定\n",
    "        return len(self.X)\n",
    "\n",
    "    def __getitem__(self, index):  # Dataset[index]で返す値を指定\n",
    "        # argumentation\n",
    "        x = torch.FloatTensor(self.X[index])\n",
    "        if self.y!=None:\n",
    "            return {\n",
    "                'input': x,\n",
    "                'label': torch.FloatTensor(self.y[index])\n",
    "            }\n",
    "        else:\n",
    "            return {\n",
    "                'input': x\n",
    "            }\n",
    "        \n",
    "class ImbalancedDatasetSampler(torch.utils.data.sampler.Sampler):\n",
    "    \"\"\"Samples elements randomly from a given list of indices for imbalanced dataset\n",
    "    Arguments:\n",
    "        indices (list, optional): a list of indices\n",
    "        num_samples (int, optional): number of samples to draw\n",
    "        callback_get_label func: a callback-like function which takes two arguments - dataset and index\n",
    "    \"\"\"\n",
    "\n",
    "    def __init__(self, dataset, indices=None, num_samples=None, callback_get_label=None):\n",
    "                \n",
    "        # if indices is not provided, \n",
    "        # all elements in the dataset will be considered\n",
    "        self.indices = list(range(len(dataset))) \\\n",
    "            if indices is None else indices\n",
    "\n",
    "        # define custom callback\n",
    "        self.callback_get_label = callback_get_label\n",
    "\n",
    "        # if num_samples is not provided, \n",
    "        # draw `len(indices)` samples in each iteration\n",
    "        self.num_samples = len(self.indices) \\\n",
    "            if num_samples is None else num_samples\n",
    "            \n",
    "        # distribution of classes in the dataset \n",
    "        label_to_count = {}\n",
    "        for idx in self.indices:\n",
    "            label = self._get_label(dataset, idx)\n",
    "            if label in label_to_count:\n",
    "                label_to_count[label] += 1\n",
    "            else:\n",
    "                label_to_count[label] = 1\n",
    "                \n",
    "        # weight for each sample\n",
    "        weights = [1.0 / np.sqrt(label_to_count[self._get_label(dataset, idx)])\n",
    "                   for idx in self.indices]\n",
    "        self.weights = torch.DoubleTensor(weights)\n",
    "\n",
    "    def _get_label(self, dataset, idx):\n",
    "        \"\"\"if isinstance(dataset, torchvision.datasets.MNIST):\n",
    "            return dataset.train_labels[idx].item()\n",
    "        elif isinstance(dataset, torchvision.datasets.ImageFolder):\n",
    "            return dataset.imgs[idx][1]\n",
    "        elif isinstance(dataset, torch.utils.data.Subset):\n",
    "            return dataset.dataset.imgs[idx][1]\n",
    "        elif self.callback_get_label:\n",
    "            return self.callback_get_label(dataset, idx)\n",
    "        else:\n",
    "            raise NotImplementedError\"\"\"\n",
    "        return dataset.y[idx][0]\n",
    "        \n",
    "                \n",
    "    def __iter__(self):\n",
    "        return (self.indices[i] for i in torch.multinomial(\n",
    "            self.weights, self.num_samples, replacement=True))\n",
    "\n",
    "    def __len__(self):\n",
    "        return self.num_samples\n",
    "    \n",
    "class MLPClass(torch.nn.Module):\n",
    "    def __init__(self, input_size, output_size):\n",
    "        super().__init__()\n",
    "        \n",
    "        self.fc = nn.Sequential(\n",
    "            nn.Linear(input_size, 300),\n",
    "            nn.LeakyReLU(),\n",
    "            nn.Dropout(0.5),\n",
    "            nn.Linear(300, 100),\n",
    "            nn.LeakyReLU(),\n",
    "            nn.Dropout(0.5),\n",
    "            nn.Linear(100, output_size)\n",
    "        )\n",
    "        \n",
    "            \n",
    "        \n",
    "        self.sigmoid = torch.nn.Sigmoid()\n",
    "        self.softmax = torch.nn.Softmax()\n",
    "\n",
    "    def forward(self, x):\n",
    "        x = self.fc(x)\n",
    "        #x= self.sigmoid(x)\n",
    "        x= self.softmax(x)\n",
    "        return x\n",
    "\n",
    "class CustomLoss(nn.Module):\n",
    "    def __init__(self):\n",
    "        super(CustomLoss, self).__init__()\n",
    "        self.mse = nn.MSELoss()\n",
    "\n",
    "    def forward(self, pred, target):\n",
    "        pred_1 = pred[target<1.5][:,0]\n",
    "        loss_1 = torch.mean((pred_1-1)**2)\n",
    "        \n",
    "        pred_2 = pred[(target>1.5)&(target<2.5)][:,1]\n",
    "        loss_2 = torch.mean((pred_2-1)**2)\n",
    "        \n",
    "        pred_3 = pred[(target>2.5)&(target<3.5)][:,2]\n",
    "        loss_3 = torch.mean((pred_3-1)**2)\n",
    "\n",
    "        pred_4 = pred[target>3.5][:,3]\n",
    "        loss_4 = torch.mean((pred_4-1)**2)\n",
    "        \n",
    "        loss = loss_1 + loss_2 + loss_3 + loss_4\n",
    "        \n",
    "        return loss\n",
    "    \n",
    "class Model_Trainer:\n",
    "    def __init__(self, output_size, feature):\n",
    "        self.device =  'cuda' if cuda.is_available() else 'cpu'\n",
    "        self.model = MLPClass(len(feature), output_size).to(self.device)\n",
    "        self.criterion = CustomLoss()\n",
    "        self.optimizer = optim.Adam(params=self.model.parameters(), lr=6e-4, weight_decay=0.0005)\n",
    "        self.scheduler = CosineAnnealingLR(optimizer=self.optimizer, T_max=10)\n",
    "        self.output_size = output_size\n",
    "\n",
    "    \n",
    "    def load_params(self, state_dict):\n",
    "        self.model.load_state_dict(state_dict)\n",
    "\n",
    "    \n",
    "    def train(self, trn_dataloader):\n",
    "        self.model.train()\n",
    "        avg_loss=0\n",
    "        for data in trn_dataloader:\n",
    "            self.optimizer.zero_grad()\n",
    "            x = data['input'].to(self.device)\n",
    "            label = data['label'].squeeze(1)\n",
    "            if len(np.unique(label))!=4:\n",
    "                continue\n",
    "            label = label.to(self.device)\n",
    "            x = self.model(x)   \n",
    "            loss = self.criterion(x, label)\n",
    "            loss.backward()\n",
    "            self.optimizer.step()\n",
    "            self.scheduler.step()\n",
    "            avg_loss += loss.item()/len(trn_dataloader)\n",
    "            \n",
    "        return avg_loss\n",
    "\n",
    "    def eval(self, val_dataloader):\n",
    "        self.model.eval()\n",
    "        avg_loss=0\n",
    "        for data in val_dataloader:\n",
    "            x = data['input'].to(self.device)\n",
    "            label = data['label'].to(self.device).squeeze(1)\n",
    "            x = self.model(x)\n",
    "            loss = self.criterion(x, label)\n",
    "            avg_loss += loss.item()/len(val_dataloader)\n",
    "        return avg_loss, x.detach().cpu().numpy()\n",
    "\n",
    "    def predict(self, data_loader):\n",
    "        self.model.eval()\n",
    "        for data in data_loader:\n",
    "            x = data['input'].to(self.device)\n",
    "            x = self.model(x)\n",
    "        return x.detach().cpu().numpy()\n",
    "    \n",
    "def make_off_df(train_df, feature):\n",
    "    k = StratifiedKFold(n_splits=5, random_state=2020, shuffle=True)\n",
    "    #k = KFold(n_splits=5, random_state=202, shuffle=True)\n",
    "    \n",
    "    trn_cv_loss = []\n",
    "    val_cv_loss = []\n",
    "    off_df=[]\n",
    "    \n",
    "    fake_label =  train_df.jobflag.apply(\n",
    "        lambda x: random.randint(1,4)\n",
    "    )\n",
    "    for trn, val in k.split(train_df, train_df.jobflag):\n",
    "    #for trn, val in k.split(train_df, fake_label):\n",
    "    #for trn, val in k.split(train_df):\n",
    "        trn_df = train_df.iloc[\n",
    "            trn,:\n",
    "        ]\n",
    "        val_df = train_df.iloc[\n",
    "            val,:\n",
    "        ]\n",
    "        \n",
    "        \"\"\"sns.distplot(trn_df['jobflag'])\n",
    "        sns.distplot(val_df['jobflag'])\n",
    "        plt.show()\n",
    "        \"\"\"\n",
    "        trn_X, trn_y = trn_df[feature].values.tolist(),trn_df[['jobflag']].values.tolist() \n",
    "        val_X, val_y = val_df[feature].values.tolist(),val_df[['jobflag']].values.tolist() \n",
    "\n",
    "\n",
    "        trn_data_set = CreateDataset(trn_X, trn_y)\n",
    "        val_data_set = CreateDataset(val_X, val_y)\n",
    "        trn_dataloader = DataLoader(trn_data_set, shuffle=False, batch_size=256*2, sampler=ImbalancedDatasetSampler(trn_data_set))\n",
    "        val_dataloader = DataLoader(val_data_set, shuffle=False, batch_size=len(val_data_set))\n",
    "\n",
    "    \n",
    "\n",
    "        trn_loss_list=[]\n",
    "        val_loss_list=[]\n",
    "\n",
    "        model_trainer = Model_Trainer(4, feature)\n",
    "        \n",
    "        for e in tqdm(range(40)):\n",
    "            trn_loss_avg = model_trainer.train(trn_dataloader)\n",
    "            val_loss_avg, p = model_trainer.eval(val_dataloader)\n",
    "            for mm in range(4):\n",
    "                val_df[f'p_{mm+1}_{e}'] = p[:,mm]\n",
    "            val_df[f'p_{e}'] = np.argmax(p, axis=1)+1\n",
    "\n",
    "            trn_loss_list.append(trn_loss_avg)\n",
    "            val_loss_list.append(val_loss_avg)\n",
    "\n",
    "        trn_cv_loss.append(trn_loss_list)\n",
    "        val_cv_loss.append(val_loss_list)\n",
    "        off_df.append(val_df)\n",
    "        \n",
    "    off_df = pd.concat(off_df, axis=0)\n",
    "    off_df.sort_values('text_id', inplace=True)\n",
    "    off_df.reset_index(drop=True, inplace=True)\n",
    "    return off_df, trn_cv_loss, val_cv_loss\n",
    "\n",
    "def predict_test_df(train_df, test_df, feature):\n",
    "\n",
    "    X, y = train_df[feature].values.tolist(),train_df[['jobflag']].values.tolist()\n",
    "    trn_data_set = CreateDataset(X, y)\n",
    "    trn_dataloader = DataLoader(trn_data_set, shuffle=False, batch_size=256*2, sampler=ImbalancedDatasetSampler(trn_data_set))\n",
    "    \n",
    "    val_X, val_y = test_df[feature].values.tolist(), None\n",
    "    val_data_set = CreateDataset(val_X, val_y)\n",
    "    val_dataloader = DataLoader(val_data_set, shuffle=False, batch_size=len(val_data_set))\n",
    "    \n",
    "    trn_loss_list=[]\n",
    "    model_trainer = Model_Trainer(4, feature)\n",
    "    \n",
    "    for e in tqdm(range(40)):\n",
    "        trn_loss_avg = model_trainer.train(trn_dataloader)\n",
    "        p = model_trainer.predict(val_dataloader)\n",
    "        for mm in range(4):\n",
    "            test_df[f'p_{mm+1}_{e}'] = p[:,mm]\n",
    "        test_df[f'p_{e}'] = np.argmax(p, axis=1)+1\n",
    "        \n",
    "        trn_loss_list.append(trn_loss_avg)\n",
    "        \n",
    "    return test_df, trn_loss_list"
   ]
  },
  {
   "cell_type": "code",
   "execution_count": 5,
   "metadata": {},
   "outputs": [],
   "source": [
    "train_df = pd.read_csv('../train.csv')\n",
    "test_df = pd.read_csv('../test.csv')\n",
    "for i in range(4):    \n",
    "    train_df = pd.merge(train_df, pd.read_csv(f'../train_df_off{i+1}.csv'), on='id')\n",
    "    test_df = pd.merge(test_df, pd.read_csv(f'../test_df_off{i+1}.csv').drop(columns=['description', 'jobflag']), on='id')\n",
    "df = pd.concat([train_df, test_df],axis=0,ignore_index=True)\n",
    "df['text_id'] = df['id']\n",
    "del df['id']\n",
    "preprocessing = Preprocessing()\n",
    "df.description = df.description.apply(lambda x: preprocessing.change_text(x))\n",
    "\n",
    "cols = ['jobflag','text_id']\n",
    "X = preprocessing.vectorize_tfidf(df)\n",
    "X = pd.concat([df[cols], X], axis=1)"
   ]
  },
  {
   "cell_type": "code",
   "execution_count": 6,
   "metadata": {},
   "outputs": [
    {
     "data": {
      "application/vnd.jupyter.widget-view+json": {
       "model_id": "f68bb1aa472a4133a639ae36358fe881",
       "version_major": 2,
       "version_minor": 0
      },
      "text/plain": [
       "HBox(children=(FloatProgress(value=0.0, max=40.0), HTML(value='')))"
      ]
     },
     "metadata": {},
     "output_type": "display_data"
    },
    {
     "name": "stdout",
     "output_type": "stream",
     "text": [
      "\n"
     ]
    },
    {
     "data": {
      "application/vnd.jupyter.widget-view+json": {
       "model_id": "64683f1d9d514dd19a186a05c3099272",
       "version_major": 2,
       "version_minor": 0
      },
      "text/plain": [
       "HBox(children=(FloatProgress(value=0.0, max=40.0), HTML(value='')))"
      ]
     },
     "metadata": {},
     "output_type": "display_data"
    },
    {
     "name": "stdout",
     "output_type": "stream",
     "text": [
      "\n"
     ]
    },
    {
     "data": {
      "application/vnd.jupyter.widget-view+json": {
       "model_id": "612c83cd268146b399bb8bb4216c0333",
       "version_major": 2,
       "version_minor": 0
      },
      "text/plain": [
       "HBox(children=(FloatProgress(value=0.0, max=40.0), HTML(value='')))"
      ]
     },
     "metadata": {},
     "output_type": "display_data"
    },
    {
     "name": "stdout",
     "output_type": "stream",
     "text": [
      "\n"
     ]
    },
    {
     "data": {
      "application/vnd.jupyter.widget-view+json": {
       "model_id": "c1413a9b4f0f4683880f701a0814cb5d",
       "version_major": 2,
       "version_minor": 0
      },
      "text/plain": [
       "HBox(children=(FloatProgress(value=0.0, max=40.0), HTML(value='')))"
      ]
     },
     "metadata": {},
     "output_type": "display_data"
    },
    {
     "name": "stdout",
     "output_type": "stream",
     "text": [
      "\n"
     ]
    },
    {
     "data": {
      "application/vnd.jupyter.widget-view+json": {
       "model_id": "d909a4c1a6df447593069ff0800a5790",
       "version_major": 2,
       "version_minor": 0
      },
      "text/plain": [
       "HBox(children=(FloatProgress(value=0.0, max=40.0), HTML(value='')))"
      ]
     },
     "metadata": {},
     "output_type": "display_data"
    },
    {
     "name": "stdout",
     "output_type": "stream",
     "text": [
      "\n"
     ]
    },
    {
     "data": {
      "application/vnd.jupyter.widget-view+json": {
       "model_id": "020e6d2964974d16972a2f683bbce0e6",
       "version_major": 2,
       "version_minor": 0
      },
      "text/plain": [
       "HBox(children=(FloatProgress(value=0.0, max=40.0), HTML(value='')))"
      ]
     },
     "metadata": {},
     "output_type": "display_data"
    },
    {
     "name": "stdout",
     "output_type": "stream",
     "text": [
      "\n"
     ]
    }
   ],
   "source": [
    "train_df = X[X.jobflag.notnull()].reset_index(drop=True)\n",
    "test_df = X[X.jobflag.isnull()].drop(columns=['jobflag']).reset_index(drop=True)\n",
    "\n",
    "mlp_feature = train_df.drop(columns=cols).columns.tolist()\n",
    "\n",
    "off_df_mlp, trn_cv_loss, val_cv_loss = make_off_df(train_df, mlp_feature)\n",
    "test_df_mlp, trn_loss_list = predict_test_df(train_df, test_df, mlp_feature)"
   ]
  },
  {
   "cell_type": "code",
   "execution_count": 7,
   "metadata": {},
   "outputs": [],
   "source": [
    "mlp_pred_cols = [f'p_{mm+1}_{e}' for e in range(40) for mm in range(4)]"
   ]
  },
  {
   "cell_type": "code",
   "execution_count": 8,
   "metadata": {},
   "outputs": [],
   "source": [
    "train_df = X[X.jobflag.notnull()].reset_index(drop=True)\n",
    "test_df = X[X.jobflag.isnull()].drop(columns=['jobflag']).reset_index(drop=True)\n",
    "\n",
    "train_df2 = pd.concat([\n",
    "    train_df,\n",
    "    off_df_mlp[mlp_pred_cols]\n",
    "], axis=1)\n",
    "\n",
    "test_df2 = pd.concat([\n",
    "    test_df,\n",
    "    test_df_mlp[mlp_pred_cols]\n",
    "], axis=1)"
   ]
  },
  {
   "cell_type": "code",
   "execution_count": 9,
   "metadata": {},
   "outputs": [
    {
     "data": {
      "text/plain": [
       "((2886, 3545), (1743, 3544))"
      ]
     },
     "execution_count": 9,
     "metadata": {},
     "output_type": "execute_result"
    }
   ],
   "source": [
    "train_df2.shape, test_df2.shape"
   ]
  },
  {
   "cell_type": "code",
   "execution_count": 10,
   "metadata": {},
   "outputs": [
    {
     "data": {
      "text/plain": [
       "['jobflag']"
      ]
     },
     "execution_count": 10,
     "metadata": {},
     "output_type": "execute_result"
    }
   ],
   "source": [
    "[col for col in train_df2.columns if col not in test_df2.columns]"
   ]
  },
  {
   "cell_type": "code",
   "execution_count": 11,
   "metadata": {},
   "outputs": [
    {
     "data": {
      "text/plain": [
       "((1743, 3544), (2886, 3545), (2886, 3385))"
      ]
     },
     "execution_count": 11,
     "metadata": {},
     "output_type": "execute_result"
    }
   ],
   "source": [
    "test_df2.shape, train_df2.shape, train_df.shape"
   ]
  },
  {
   "cell_type": "code",
   "execution_count": 12,
   "metadata": {},
   "outputs": [],
   "source": [
    "mlp_feature2 = train_df2.drop(columns=cols).columns.tolist()"
   ]
  },
  {
   "cell_type": "code",
   "execution_count": 13,
   "metadata": {},
   "outputs": [
    {
     "data": {
      "application/vnd.jupyter.widget-view+json": {
       "model_id": "23f6a95214224ce2804badbb06d2d2e4",
       "version_major": 2,
       "version_minor": 0
      },
      "text/plain": [
       "HBox(children=(FloatProgress(value=0.0, max=40.0), HTML(value='')))"
      ]
     },
     "metadata": {},
     "output_type": "display_data"
    },
    {
     "name": "stdout",
     "output_type": "stream",
     "text": [
      "\n"
     ]
    },
    {
     "data": {
      "application/vnd.jupyter.widget-view+json": {
       "model_id": "d9755216338c4339aa4fc4796b065a62",
       "version_major": 2,
       "version_minor": 0
      },
      "text/plain": [
       "HBox(children=(FloatProgress(value=0.0, max=40.0), HTML(value='')))"
      ]
     },
     "metadata": {},
     "output_type": "display_data"
    },
    {
     "name": "stdout",
     "output_type": "stream",
     "text": [
      "\n"
     ]
    },
    {
     "data": {
      "application/vnd.jupyter.widget-view+json": {
       "model_id": "3b8acbf92ad3412bb5d238a701e44d7d",
       "version_major": 2,
       "version_minor": 0
      },
      "text/plain": [
       "HBox(children=(FloatProgress(value=0.0, max=40.0), HTML(value='')))"
      ]
     },
     "metadata": {},
     "output_type": "display_data"
    },
    {
     "name": "stdout",
     "output_type": "stream",
     "text": [
      "\n"
     ]
    },
    {
     "data": {
      "application/vnd.jupyter.widget-view+json": {
       "model_id": "88952218660f4c52aa8d5b8c812d2e1c",
       "version_major": 2,
       "version_minor": 0
      },
      "text/plain": [
       "HBox(children=(FloatProgress(value=0.0, max=40.0), HTML(value='')))"
      ]
     },
     "metadata": {},
     "output_type": "display_data"
    },
    {
     "name": "stdout",
     "output_type": "stream",
     "text": [
      "\n"
     ]
    },
    {
     "data": {
      "application/vnd.jupyter.widget-view+json": {
       "model_id": "7da18df88271400ab70404119668d5de",
       "version_major": 2,
       "version_minor": 0
      },
      "text/plain": [
       "HBox(children=(FloatProgress(value=0.0, max=40.0), HTML(value='')))"
      ]
     },
     "metadata": {},
     "output_type": "display_data"
    },
    {
     "name": "stdout",
     "output_type": "stream",
     "text": [
      "\n"
     ]
    },
    {
     "data": {
      "application/vnd.jupyter.widget-view+json": {
       "model_id": "4a168d168a8c4201aa43e955153a152a",
       "version_major": 2,
       "version_minor": 0
      },
      "text/plain": [
       "HBox(children=(FloatProgress(value=0.0, max=40.0), HTML(value='')))"
      ]
     },
     "metadata": {},
     "output_type": "display_data"
    },
    {
     "name": "stdout",
     "output_type": "stream",
     "text": [
      "\n"
     ]
    }
   ],
   "source": [
    "off_df_mlp2, trn_cv_loss2, val_cv_loss2 = make_off_df(train_df2, mlp_feature2)\n",
    "test_df_mlp2, trn_loss_list2 = predict_test_df(train_df2, test_df2, mlp_feature2)"
   ]
  },
  {
   "cell_type": "code",
   "execution_count": 14,
   "metadata": {},
   "outputs": [
    {
     "data": {
      "image/png": "[encoded data removed]",
      "text/plain": [
       "<Figure size 432x288 with 1 Axes>"
      ]
     },
     "metadata": {
      "needs_background": "light"
     },
     "output_type": "display_data"
    },
    {
     "data": {
      "image/png": "[encoded data removed]",
      "text/plain": [
       "<Figure size 432x288 with 1 Axes>"
      ]
     },
     "metadata": {
      "needs_background": "light"
     },
     "output_type": "display_data"
    },
    {
     "data": {
      "image/png": "[encoded data removed]",
      "text/plain": [
       "<Figure size 432x288 with 1 Axes>"
      ]
     },
     "metadata": {
      "needs_background": "light"
     },
     "output_type": "display_data"
    },
    {
     "data": {
      "image/png": "[encoded data removed]",
      "text/plain": [
       "<Figure size 432x288 with 1 Axes>"
      ]
     },
     "metadata": {
      "needs_background": "light"
     },
     "output_type": "display_data"
    },
    {
     "data": {
      "image/png": "[encoded data removed]",
      "text/plain": [
       "<Figure size 432x288 with 1 Axes>"
      ]
     },
     "metadata": {
      "needs_background": "light"
     },
     "output_type": "display_data"
    },
    {
     "data": {
      "image/png": "[encoded data removed]",
      "text/plain": [
       "<Figure size 432x288 with 1 Axes>"
      ]
     },
     "metadata": {
      "needs_background": "light"
     },
     "output_type": "display_data"
    }
   ],
   "source": [
    "scores=[]\n",
    "for i in range(40):   \n",
    "    p = off_df_mlp2[f'p_{i}']\n",
    "    label = off_df_mlp2['jobflag']\n",
    "    score = metrics.f1_score(label, p, average='macro')\n",
    "    scores.append(score)\n",
    "plt.plot(scores)\n",
    "plt.show()\n",
    "\n",
    "for i in range(len(trn_cv_loss)):\n",
    "    plt.plot(trn_cv_loss2[i])\n",
    "    \n",
    "    plt.plot(val_cv_loss2[i])\n",
    "    plt.show()"
   ]
  },
  {
   "cell_type": "code",
   "execution_count": 15,
   "metadata": {},
   "outputs": [
    {
     "data": {
      "text/plain": [
       "score    0.568081\n",
       "dtype: float64"
      ]
     },
     "execution_count": 15,
     "metadata": {},
     "output_type": "execute_result"
    }
   ],
   "source": [
    "data = pd.DataFrame()\n",
    "data['score'] = scores\n",
    "data.max()"
   ]
  },
  {
   "cell_type": "code",
   "execution_count": 89,
   "metadata": {},
   "outputs": [
    {
     "data": {
      "text/plain": [
       "Index(['text_id', '000', '10', '10g', '11', '12', '12c', '150', '20', '2003',\n",
       "       ...\n",
       "       'p_30', 'p_31', 'p_32', 'p_33', 'p_34', 'p_35', 'p_36', 'p_37', 'p_38',\n",
       "       'p_39'],\n",
       "      dtype='object', length=3588)"
      ]
     },
     "execution_count": 89,
     "metadata": {},
     "output_type": "execute_result"
    }
   ],
   "source": [
    "test_df_mlp2.columns"
   ]
  },
  {
   "cell_type": "code",
   "execution_count": 16,
   "metadata": {},
   "outputs": [],
   "source": [
    "preds = np.zeros((len(test_df), 4))\n",
    "for i in range(8, 15):\n",
    "    preds += test_df_mlp2[[f'p_{label+1}_{i}'  for label in range(4)]].values"
   ]
  },
  {
   "cell_type": "code",
   "execution_count": 17,
   "metadata": {},
   "outputs": [],
   "source": [
    "test_df_mlp2['final_preds'] = 1+np.argmax(preds, axis=1)"
   ]
  },
  {
   "cell_type": "code",
   "execution_count": 20,
   "metadata": {},
   "outputs": [],
   "source": [
    "test_df_mlp2[['text_id', 'final_preds']].to_csv('/Users/abcdm/Downloads/sub_17.csv', index=False, header=False)"
   ]
  },
  {
   "cell_type": "code",
   "execution_count": 21,
   "metadata": {},
   "outputs": [
    {
     "data": {
      "text/html": [
       "<div>\n",
       "<style scoped>\n",
       "    .dataframe tbody tr th:only-of-type {\n",
       "        vertical-align: middle;\n",
       "    }\n",
       "\n",
       "    .dataframe tbody tr th {\n",
       "        vertical-align: top;\n",
       "    }\n",
       "\n",
       "    .dataframe thead th {\n",
       "        text-align: right;\n",
       "    }\n",
       "</style>\n",
       "<table border=\"1\" class=\"dataframe\">\n",
       "  <thead>\n",
       "    <tr style=\"text-align: right;\">\n",
       "      <th></th>\n",
       "      <th>1_16</th>\n",
       "      <th>2_16</th>\n",
       "      <th>3_16</th>\n",
       "      <th>4_16</th>\n",
       "      <th>1_14</th>\n",
       "      <th>2_14</th>\n",
       "      <th>3_14</th>\n",
       "      <th>4_14</th>\n",
       "    </tr>\n",
       "  </thead>\n",
       "  <tbody>\n",
       "    <tr>\n",
       "      <th>1_16</th>\n",
       "      <td>1.000000</td>\n",
       "      <td>-0.202967</td>\n",
       "      <td>-0.405203</td>\n",
       "      <td>-0.349852</td>\n",
       "      <td>0.576862</td>\n",
       "      <td>0.054272</td>\n",
       "      <td>-0.304100</td>\n",
       "      <td>-0.232561</td>\n",
       "    </tr>\n",
       "    <tr>\n",
       "      <th>2_16</th>\n",
       "      <td>-0.202967</td>\n",
       "      <td>1.000000</td>\n",
       "      <td>-0.277931</td>\n",
       "      <td>-0.239965</td>\n",
       "      <td>0.050468</td>\n",
       "      <td>0.403125</td>\n",
       "      <td>-0.087375</td>\n",
       "      <td>-0.205240</td>\n",
       "    </tr>\n",
       "    <tr>\n",
       "      <th>3_16</th>\n",
       "      <td>-0.405203</td>\n",
       "      <td>-0.277931</td>\n",
       "      <td>1.000000</td>\n",
       "      <td>-0.479067</td>\n",
       "      <td>-0.315788</td>\n",
       "      <td>-0.141421</td>\n",
       "      <td>0.550995</td>\n",
       "      <td>-0.205464</td>\n",
       "    </tr>\n",
       "    <tr>\n",
       "      <th>4_16</th>\n",
       "      <td>-0.349852</td>\n",
       "      <td>-0.239965</td>\n",
       "      <td>-0.479067</td>\n",
       "      <td>1.000000</td>\n",
       "      <td>-0.236045</td>\n",
       "      <td>-0.191365</td>\n",
       "      <td>-0.236724</td>\n",
       "      <td>0.578679</td>\n",
       "    </tr>\n",
       "    <tr>\n",
       "      <th>1_14</th>\n",
       "      <td>0.576862</td>\n",
       "      <td>0.050468</td>\n",
       "      <td>-0.315788</td>\n",
       "      <td>-0.236045</td>\n",
       "      <td>1.000000</td>\n",
       "      <td>-0.169278</td>\n",
       "      <td>-0.413635</td>\n",
       "      <td>-0.357691</td>\n",
       "    </tr>\n",
       "    <tr>\n",
       "      <th>2_14</th>\n",
       "      <td>0.054272</td>\n",
       "      <td>0.403125</td>\n",
       "      <td>-0.141421</td>\n",
       "      <td>-0.191365</td>\n",
       "      <td>-0.169278</td>\n",
       "      <td>1.000000</td>\n",
       "      <td>-0.246977</td>\n",
       "      <td>-0.213574</td>\n",
       "    </tr>\n",
       "    <tr>\n",
       "      <th>3_14</th>\n",
       "      <td>-0.304100</td>\n",
       "      <td>-0.087375</td>\n",
       "      <td>0.550995</td>\n",
       "      <td>-0.236724</td>\n",
       "      <td>-0.413635</td>\n",
       "      <td>-0.246977</td>\n",
       "      <td>1.000000</td>\n",
       "      <td>-0.521874</td>\n",
       "    </tr>\n",
       "    <tr>\n",
       "      <th>4_14</th>\n",
       "      <td>-0.232561</td>\n",
       "      <td>-0.205240</td>\n",
       "      <td>-0.205464</td>\n",
       "      <td>0.578679</td>\n",
       "      <td>-0.357691</td>\n",
       "      <td>-0.213574</td>\n",
       "      <td>-0.521874</td>\n",
       "      <td>1.000000</td>\n",
       "    </tr>\n",
       "  </tbody>\n",
       "</table>\n",
       "</div>"
      ],
      "text/plain": [
       "          1_16      2_16      3_16      4_16      1_14      2_14      3_14  \\\n",
       "1_16  1.000000 -0.202967 -0.405203 -0.349852  0.576862  0.054272 -0.304100   \n",
       "2_16 -0.202967  1.000000 -0.277931 -0.239965  0.050468  0.403125 -0.087375   \n",
       "3_16 -0.405203 -0.277931  1.000000 -0.479067 -0.315788 -0.141421  0.550995   \n",
       "4_16 -0.349852 -0.239965 -0.479067  1.000000 -0.236045 -0.191365 -0.236724   \n",
       "1_14  0.576862  0.050468 -0.315788 -0.236045  1.000000 -0.169278 -0.413635   \n",
       "2_14  0.054272  0.403125 -0.141421 -0.191365 -0.169278  1.000000 -0.246977   \n",
       "3_14 -0.304100 -0.087375  0.550995 -0.236724 -0.413635 -0.246977  1.000000   \n",
       "4_14 -0.232561 -0.205240 -0.205464  0.578679 -0.357691 -0.213574 -0.521874   \n",
       "\n",
       "          4_14  \n",
       "1_16 -0.232561  \n",
       "2_16 -0.205240  \n",
       "3_16 -0.205464  \n",
       "4_16  0.578679  \n",
       "1_14 -0.357691  \n",
       "2_14 -0.213574  \n",
       "3_14 -0.521874  \n",
       "4_14  1.000000  "
      ]
     },
     "execution_count": 21,
     "metadata": {},
     "output_type": "execute_result"
    }
   ],
   "source": [
    "data = pd.merge(\n",
    "    pd.read_csv('/Users/abcdm/Downloads/sub_17.csv', header=None),\n",
    "    pd.read_csv('/Users/abcdm/Downloads/sub_14.csv', header=None),\n",
    "    on=[0]\n",
    ")\n",
    "\n",
    "pd.concat([\n",
    "    pd.get_dummies(data['1_x']).rename(\n",
    "        columns={i+1:f'{i+1}_16' for i in range(4)}\n",
    "    ),\n",
    "    pd.get_dummies(data['1_y']).rename(\n",
    "        columns={i+1:f'{i+1}_14' for i in range(4)}\n",
    "    )\n",
    "], axis=1).corr()"
   ]
  },
  {
   "cell_type": "code",
   "execution_count": 22,
   "metadata": {},
   "outputs": [
    {
     "data": {
      "text/html": [
       "<div>\n",
       "<style scoped>\n",
       "    .dataframe tbody tr th:only-of-type {\n",
       "        vertical-align: middle;\n",
       "    }\n",
       "\n",
       "    .dataframe tbody tr th {\n",
       "        vertical-align: top;\n",
       "    }\n",
       "\n",
       "    .dataframe thead th {\n",
       "        text-align: right;\n",
       "    }\n",
       "</style>\n",
       "<table border=\"1\" class=\"dataframe\">\n",
       "  <thead>\n",
       "    <tr style=\"text-align: right;\">\n",
       "      <th></th>\n",
       "      <th>1_16</th>\n",
       "      <th>2_16</th>\n",
       "      <th>3_16</th>\n",
       "      <th>4_16</th>\n",
       "      <th>1_15</th>\n",
       "      <th>2_15</th>\n",
       "      <th>3_15</th>\n",
       "      <th>4_15</th>\n",
       "    </tr>\n",
       "  </thead>\n",
       "  <tbody>\n",
       "    <tr>\n",
       "      <th>1_16</th>\n",
       "      <td>1.000000</td>\n",
       "      <td>-0.202967</td>\n",
       "      <td>-0.405203</td>\n",
       "      <td>-0.349852</td>\n",
       "      <td>0.812572</td>\n",
       "      <td>-0.087445</td>\n",
       "      <td>-0.376534</td>\n",
       "      <td>-0.281971</td>\n",
       "    </tr>\n",
       "    <tr>\n",
       "      <th>2_16</th>\n",
       "      <td>-0.202967</td>\n",
       "      <td>1.000000</td>\n",
       "      <td>-0.277931</td>\n",
       "      <td>-0.239965</td>\n",
       "      <td>-0.080874</td>\n",
       "      <td>0.719331</td>\n",
       "      <td>-0.246293</td>\n",
       "      <td>-0.231100</td>\n",
       "    </tr>\n",
       "    <tr>\n",
       "      <th>3_16</th>\n",
       "      <td>-0.405203</td>\n",
       "      <td>-0.277931</td>\n",
       "      <td>1.000000</td>\n",
       "      <td>-0.479067</td>\n",
       "      <td>-0.362670</td>\n",
       "      <td>-0.161158</td>\n",
       "      <td>0.775078</td>\n",
       "      <td>-0.357582</td>\n",
       "    </tr>\n",
       "    <tr>\n",
       "      <th>4_16</th>\n",
       "      <td>-0.349852</td>\n",
       "      <td>-0.239965</td>\n",
       "      <td>-0.479067</td>\n",
       "      <td>1.000000</td>\n",
       "      <td>-0.309603</td>\n",
       "      <td>-0.267461</td>\n",
       "      <td>-0.291449</td>\n",
       "      <td>0.803064</td>\n",
       "    </tr>\n",
       "    <tr>\n",
       "      <th>1_15</th>\n",
       "      <td>0.812572</td>\n",
       "      <td>-0.080874</td>\n",
       "      <td>-0.362670</td>\n",
       "      <td>-0.309603</td>\n",
       "      <td>1.000000</td>\n",
       "      <td>-0.221800</td>\n",
       "      <td>-0.388875</td>\n",
       "      <td>-0.335892</td>\n",
       "    </tr>\n",
       "    <tr>\n",
       "      <th>2_15</th>\n",
       "      <td>-0.087445</td>\n",
       "      <td>0.719331</td>\n",
       "      <td>-0.161158</td>\n",
       "      <td>-0.267461</td>\n",
       "      <td>-0.221800</td>\n",
       "      <td>1.000000</td>\n",
       "      <td>-0.303224</td>\n",
       "      <td>-0.261910</td>\n",
       "    </tr>\n",
       "    <tr>\n",
       "      <th>3_15</th>\n",
       "      <td>-0.376534</td>\n",
       "      <td>-0.246293</td>\n",
       "      <td>0.775078</td>\n",
       "      <td>-0.291449</td>\n",
       "      <td>-0.388875</td>\n",
       "      <td>-0.303224</td>\n",
       "      <td>1.000000</td>\n",
       "      <td>-0.459200</td>\n",
       "    </tr>\n",
       "    <tr>\n",
       "      <th>4_15</th>\n",
       "      <td>-0.281971</td>\n",
       "      <td>-0.231100</td>\n",
       "      <td>-0.357582</td>\n",
       "      <td>0.803064</td>\n",
       "      <td>-0.335892</td>\n",
       "      <td>-0.261910</td>\n",
       "      <td>-0.459200</td>\n",
       "      <td>1.000000</td>\n",
       "    </tr>\n",
       "  </tbody>\n",
       "</table>\n",
       "</div>"
      ],
      "text/plain": [
       "          1_16      2_16      3_16      4_16      1_15      2_15      3_15  \\\n",
       "1_16  1.000000 -0.202967 -0.405203 -0.349852  0.812572 -0.087445 -0.376534   \n",
       "2_16 -0.202967  1.000000 -0.277931 -0.239965 -0.080874  0.719331 -0.246293   \n",
       "3_16 -0.405203 -0.277931  1.000000 -0.479067 -0.362670 -0.161158  0.775078   \n",
       "4_16 -0.349852 -0.239965 -0.479067  1.000000 -0.309603 -0.267461 -0.291449   \n",
       "1_15  0.812572 -0.080874 -0.362670 -0.309603  1.000000 -0.221800 -0.388875   \n",
       "2_15 -0.087445  0.719331 -0.161158 -0.267461 -0.221800  1.000000 -0.303224   \n",
       "3_15 -0.376534 -0.246293  0.775078 -0.291449 -0.388875 -0.303224  1.000000   \n",
       "4_15 -0.281971 -0.231100 -0.357582  0.803064 -0.335892 -0.261910 -0.459200   \n",
       "\n",
       "          4_15  \n",
       "1_16 -0.281971  \n",
       "2_16 -0.231100  \n",
       "3_16 -0.357582  \n",
       "4_16  0.803064  \n",
       "1_15 -0.335892  \n",
       "2_15 -0.261910  \n",
       "3_15 -0.459200  \n",
       "4_15  1.000000  "
      ]
     },
     "execution_count": 22,
     "metadata": {},
     "output_type": "execute_result"
    }
   ],
   "source": [
    "data = pd.merge(\n",
    "    pd.read_csv('/Users/abcdm/Downloads/sub_17.csv', header=None),\n",
    "    pd.read_csv('/Users/abcdm/Downloads/sub_15.csv', header=None),\n",
    "    on=[0]\n",
    ")\n",
    "\n",
    "pd.concat([\n",
    "    pd.get_dummies(data['1_x']).rename(\n",
    "        columns={i+1:f'{i+1}_16' for i in range(4)}\n",
    "    ),\n",
    "    pd.get_dummies(data['1_y']).rename(\n",
    "        columns={i+1:f'{i+1}_15' for i in range(4)}\n",
    "    )\n",
    "], axis=1).corr()"
   ]
  },
  {
   "cell_type": "code",
   "execution_count": null,
   "metadata": {},
   "outputs": [],
   "source": []
  }
 ],
 "metadata": {
  "kernelspec": {
   "display_name": "Python 3",
   "language": "python",
   "name": "python3"
  },
  "language_info": {
   "codemirror_mode": {
    "name": "ipython",
    "version": 3
   },
   "file_extension": ".py",
   "mimetype": "text/x-python",
   "name": "python",
   "nbconvert_exporter": "python",
   "pygments_lexer": "ipython3",
   "version": "3.7.5"
  }
 },
 "nbformat": 4,
 "nbformat_minor": 2
}
