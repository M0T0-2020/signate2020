{
 "cells": [
  {
   "cell_type": "code",
   "execution_count": 152,
   "metadata": {},
   "outputs": [],
   "source": [
    "import warnings\n",
    "warnings.filterwarnings('ignore')\n",
    "import pandas as pd\n",
    "import numpy as np\n",
    "import matplotlib.pyplot as plt\n",
    "import seaborn as sns\n",
    "\n",
    "from stop_words import get_stop_words\n",
    "import nltk, string\n",
    "from nltk.stem.porter import PorterStemmer\n",
    "\n",
    "from sklearn.model_selection import StratifiedShuffleSplit, StratifiedKFold\n",
    "from sklearn import metrics\n",
    "from sklearn.feature_extraction.text import TfidfVectorizer, CountVectorizer\n",
    "\n",
    "import lightgbm as lgb\n",
    "\n",
    "from tqdm import tqdm_notebook as tqdm\n",
    "\n",
    "import optuna\n",
    "\n",
    "warnings.filterwarnings('ignore')"
   ]
  },
  {
   "cell_type": "code",
   "execution_count": 3,
   "metadata": {},
   "outputs": [],
   "source": [
    "class Preprocessing:\n",
    "    def __init__(self):\n",
    "        self.porter = PorterStemmer()\n",
    "        self.stop_words = get_stop_words('en')\n",
    "        self.stop_words.append(' ')\n",
    "        self.stop_words.append('')\n",
    "    \n",
    "    def pipeline(self, df):\n",
    "        for lang in ['description']:\n",
    "            #, 'translate_es', 'translate_fr', 'translate_de', 'translate_ja']:\n",
    "            df[lang] = df[lang].apply(lambda x: self.change_text(x))\n",
    "        return df\n",
    "\n",
    "    def change_text(self, text):\n",
    "        text = text.lower()\n",
    "        text = text.replace('ml', 'machine learning')\n",
    "        text = text.replace('machine learning', 'machinelearning')\n",
    "        text = \"\".join([char if char not in string.punctuation else ' ' for char in text])\n",
    "        text = \" \".join([self.porter.stem(char) for char in text.split(' ') if char not in self.stop_words])\n",
    "        return text\n",
    "    \n",
    "    def vectorize_tfidf(self, df):\n",
    "        vec_tfidf = TfidfVectorizer()\n",
    "        X = vec_tfidf.fit_transform(df.description.values)\n",
    "        X = pd.DataFrame(X.toarray(), columns=vec_tfidf.get_feature_names())\n",
    "        return X\n",
    "    \n",
    "    def vectorize_cnt(self, df):\n",
    "        vec_cnt = CountVectorizer()\n",
    "        X = vec_cnt.fit_transform(df.description.values)\n",
    "        X = pd.DataFrame(X.toarray(), columns=vec_tfidf.get_feature_names())\n",
    "        return X"
   ]
  },
  {
   "cell_type": "code",
   "execution_count": 129,
   "metadata": {},
   "outputs": [],
   "source": [
    "df = pd.concat([\n",
    "    pd.read_csv('train.csv'),\n",
    "    pd.read_csv('test.csv')],\n",
    "    axis=0,ignore_index=True)\n",
    "preprocessing = Preprocessing()\n",
    "df.description = df.description.apply(lambda x: preprocessing.change_text(x))"
   ]
  },
  {
   "cell_type": "code",
   "execution_count": 130,
   "metadata": {},
   "outputs": [],
   "source": [
    "X = preprocessing.vectorize_tfidf(df)"
   ]
  },
  {
   "cell_type": "code",
   "execution_count": 131,
   "metadata": {},
   "outputs": [],
   "source": [
    "X = pd.concat([df.jobflag, X], axis=1)"
   ]
  },
  {
   "cell_type": "code",
   "execution_count": 132,
   "metadata": {},
   "outputs": [],
   "source": [
    "train_df = X[X.jobflag.notnull()].reset_index(drop=True)\n",
    "test_df = X[X.jobflag.isnull()].drop(columns=['jobflag']).reset_index(drop=True)"
   ]
  },
  {
   "cell_type": "code",
   "execution_count": 9,
   "metadata": {},
   "outputs": [],
   "source": [
    "train_X = train_df.drop(columns=['jobflag'])\n",
    "train_y = train_df['jobflag']-1"
   ]
  },
  {
   "cell_type": "code",
   "execution_count": 10,
   "metadata": {},
   "outputs": [],
   "source": [
    "PARAMS={'boosting_type': 'gbdt','objective': 'multiclass','metric': 'multiclass', 'num_class':4,\n",
    "                'max_bin': 100,'n_estimators': 1400,'boost_from_average': False,'verbose': -1,'random_state':2020,\n",
    "                'subsample': 0.8897026631967412, 'subsample_freq': 0.42708068942389565,\n",
    "                'learning_rate': 0.030223062885783494,'num_leaves': 66, 'feature_fraction': 0.4294129948533598,\n",
    "                'bagging_freq': 4, 'min_child_samples': 11, 'lambda_l2': 6.563593012634628}"
   ]
  },
  {
   "cell_type": "code",
   "execution_count": 31,
   "metadata": {
    "scrolled": true
   },
   "outputs": [
    {
     "name": "stdout",
     "output_type": "stream",
     "text": [
      "Training until validation scores don't improve for 200 rounds\n",
      "[500]\tvalid_0's multi_logloss: 0.940099\n",
      "Early stopping, best iteration is:\n",
      "[303]\tvalid_0's multi_logloss: 0.916964\n",
      "Training until validation scores don't improve for 200 rounds\n",
      "[500]\tvalid_0's multi_logloss: 0.867486\n",
      "Early stopping, best iteration is:\n",
      "[326]\tvalid_0's multi_logloss: 0.85594\n",
      "Training until validation scores don't improve for 200 rounds\n",
      "Early stopping, best iteration is:\n",
      "[258]\tvalid_0's multi_logloss: 0.895986\n",
      "Training until validation scores don't improve for 200 rounds\n",
      "Early stopping, best iteration is:\n",
      "[271]\tvalid_0's multi_logloss: 0.901935\n",
      "Training until validation scores don't improve for 200 rounds\n",
      "Early stopping, best iteration is:\n",
      "[245]\tvalid_0's multi_logloss: 0.933606\n",
      "Training until validation scores don't improve for 200 rounds\n",
      "Early stopping, best iteration is:\n",
      "[250]\tvalid_0's multi_logloss: 0.917643\n",
      "Training until validation scores don't improve for 200 rounds\n",
      "[500]\tvalid_0's multi_logloss: 0.86534\n",
      "Early stopping, best iteration is:\n",
      "[362]\tvalid_0's multi_logloss: 0.854745\n",
      "Training until validation scores don't improve for 200 rounds\n",
      "Early stopping, best iteration is:\n",
      "[222]\tvalid_0's multi_logloss: 0.893312\n",
      "Training until validation scores don't improve for 200 rounds\n",
      "Early stopping, best iteration is:\n",
      "[283]\tvalid_0's multi_logloss: 0.898757\n",
      "Training until validation scores don't improve for 200 rounds\n",
      "Early stopping, best iteration is:\n",
      "[232]\tvalid_0's multi_logloss: 0.938613\n",
      "Training until validation scores don't improve for 200 rounds\n",
      "Early stopping, best iteration is:\n",
      "[275]\tvalid_0's multi_logloss: 0.917238\n",
      "Training until validation scores don't improve for 200 rounds\n",
      "[500]\tvalid_0's multi_logloss: 0.864426\n",
      "Early stopping, best iteration is:\n",
      "[331]\tvalid_0's multi_logloss: 0.855145\n",
      "Training until validation scores don't improve for 200 rounds\n",
      "Early stopping, best iteration is:\n",
      "[262]\tvalid_0's multi_logloss: 0.888188\n",
      "Training until validation scores don't improve for 200 rounds\n",
      "Early stopping, best iteration is:\n",
      "[272]\tvalid_0's multi_logloss: 0.898451\n",
      "Training until validation scores don't improve for 200 rounds\n",
      "Early stopping, best iteration is:\n",
      "[272]\tvalid_0's multi_logloss: 0.931219\n",
      "Training until validation scores don't improve for 200 rounds\n",
      "Early stopping, best iteration is:\n",
      "[257]\tvalid_0's multi_logloss: 0.919251\n",
      "Training until validation scores don't improve for 200 rounds\n",
      "[500]\tvalid_0's multi_logloss: 0.862322\n",
      "Early stopping, best iteration is:\n",
      "[328]\tvalid_0's multi_logloss: 0.852394\n",
      "Training until validation scores don't improve for 200 rounds\n",
      "Early stopping, best iteration is:\n",
      "[242]\tvalid_0's multi_logloss: 0.892925\n",
      "Training until validation scores don't improve for 200 rounds\n",
      "Early stopping, best iteration is:\n",
      "[248]\tvalid_0's multi_logloss: 0.902819\n",
      "Training until validation scores don't improve for 200 rounds\n",
      "Early stopping, best iteration is:\n",
      "[227]\tvalid_0's multi_logloss: 0.931332\n",
      "Training until validation scores don't improve for 200 rounds\n",
      "Early stopping, best iteration is:\n",
      "[287]\tvalid_0's multi_logloss: 0.912857\n",
      "Training until validation scores don't improve for 200 rounds\n",
      "[500]\tvalid_0's multi_logloss: 0.864603\n",
      "Early stopping, best iteration is:\n",
      "[312]\tvalid_0's multi_logloss: 0.854363\n",
      "Training until validation scores don't improve for 200 rounds\n",
      "Early stopping, best iteration is:\n",
      "[227]\tvalid_0's multi_logloss: 0.896394\n",
      "Training until validation scores don't improve for 200 rounds\n",
      "Early stopping, best iteration is:\n",
      "[253]\tvalid_0's multi_logloss: 0.903094\n",
      "Training until validation scores don't improve for 200 rounds\n",
      "Early stopping, best iteration is:\n",
      "[256]\tvalid_0's multi_logloss: 0.938696\n"
     ]
    }
   ],
   "source": [
    "k = StratifiedKFold(n_splits=5)\n",
    "score=[]\n",
    "importance=[]\n",
    "for _ in range(5):\n",
    "    for trn, val in k.split(train_X, train_y):\n",
    "        trn_X, val_X = train_X.iloc[trn,:], train_X.iloc[val,:]\n",
    "        trn_y, val_y = train_y.iloc[trn].astype(int), train_y.iloc[val].astype(int)\n",
    "        train_set = lgb.Dataset(trn_X, trn_y)\n",
    "        val_set = lgb.Dataset(val_X, val_y)\n",
    "\n",
    "        PARAMS['random_state']+=1\n",
    "        model = lgb.train(params=PARAMS, train_set=train_set, valid_sets=val_set,\n",
    "                  num_boost_round=3000, early_stopping_rounds=200, verbose_eval=500)\n",
    "        preds = model.predict(val_X)\n",
    "        score.append(metrics.f1_score(val_y,  np.argmax(preds, axis=1), average='macro'))\n",
    "        importance.append(model.feature_importance('gain'))"
   ]
  },
  {
   "cell_type": "code",
   "execution_count": 32,
   "metadata": {},
   "outputs": [
    {
     "name": "stdout",
     "output_type": "stream",
     "text": [
      "[0.5721308335543317, 0.587373547182722, 0.5850532866560626, 0.5680506919858384, 0.5477196589738642, 0.586552923536601, 0.5955935522602498, 0.5746599884034954, 0.5620702145562652, 0.5346557650809112, 0.5837086797322876, 0.6012835318630245, 0.5855989220829593, 0.5659571674663972, 0.5478146021495741, 0.5825551399795144, 0.5945813105653999, 0.5784790265597044, 0.5744838867783698, 0.5522052976361169, 0.5762968578437637, 0.5919576373542771, 0.5734348976860227, 0.5639818779097625, 0.5431023134518309]\n"
     ]
    }
   ],
   "source": [
    "print(score)"
   ]
  },
  {
   "cell_type": "code",
   "execution_count": 35,
   "metadata": {},
   "outputs": [],
   "source": [
    "importance_df=pd.DataFrame()\n",
    "importance_df['col'] = trn_X.columns\n",
    "importance_df['mean_value'] = np.mean(importance, axis=0)\n",
    "importance_df['std_value'] = np.std(importance, axis=0)\n",
    "importance_df['mean_std'] = importance_df.mean_value/importance_df.std_value"
   ]
  },
  {
   "cell_type": "code",
   "execution_count": 45,
   "metadata": {},
   "outputs": [
    {
     "data": {
      "text/html": [
       "<div>\n",
       "<style scoped>\n",
       "    .dataframe tbody tr th:only-of-type {\n",
       "        vertical-align: middle;\n",
       "    }\n",
       "\n",
       "    .dataframe tbody tr th {\n",
       "        vertical-align: top;\n",
       "    }\n",
       "\n",
       "    .dataframe thead th {\n",
       "        text-align: right;\n",
       "    }\n",
       "</style>\n",
       "<table border=\"1\" class=\"dataframe\">\n",
       "  <thead>\n",
       "    <tr style=\"text-align: right;\">\n",
       "      <th></th>\n",
       "      <th>col</th>\n",
       "      <th>mean_value</th>\n",
       "      <th>std_value</th>\n",
       "      <th>mean_std</th>\n",
       "    </tr>\n",
       "  </thead>\n",
       "  <tbody>\n",
       "    <tr>\n",
       "      <th>2215</th>\n",
       "      <td>platform</td>\n",
       "      <td>153.569114</td>\n",
       "      <td>12.658364</td>\n",
       "      <td>12.131830</td>\n",
       "    </tr>\n",
       "    <tr>\n",
       "      <th>395</th>\n",
       "      <td>build</td>\n",
       "      <td>574.373455</td>\n",
       "      <td>46.677902</td>\n",
       "      <td>12.305040</td>\n",
       "    </tr>\n",
       "    <tr>\n",
       "      <th>2527</th>\n",
       "      <td>requir</td>\n",
       "      <td>716.783795</td>\n",
       "      <td>57.460093</td>\n",
       "      <td>12.474463</td>\n",
       "    </tr>\n",
       "    <tr>\n",
       "      <th>1017</th>\n",
       "      <td>engin</td>\n",
       "      <td>590.557183</td>\n",
       "      <td>45.622791</td>\n",
       "      <td>12.944346</td>\n",
       "    </tr>\n",
       "    <tr>\n",
       "      <th>165</th>\n",
       "      <td>analysi</td>\n",
       "      <td>651.556710</td>\n",
       "      <td>49.997822</td>\n",
       "      <td>13.031702</td>\n",
       "    </tr>\n",
       "    <tr>\n",
       "      <th>2788</th>\n",
       "      <td>softwar</td>\n",
       "      <td>1737.749911</td>\n",
       "      <td>133.208126</td>\n",
       "      <td>13.045375</td>\n",
       "    </tr>\n",
       "    <tr>\n",
       "      <th>3001</th>\n",
       "      <td>technolog</td>\n",
       "      <td>280.252852</td>\n",
       "      <td>20.746983</td>\n",
       "      <td>13.508126</td>\n",
       "    </tr>\n",
       "    <tr>\n",
       "      <th>1889</th>\n",
       "      <td>model</td>\n",
       "      <td>1893.872131</td>\n",
       "      <td>122.978244</td>\n",
       "      <td>15.400058</td>\n",
       "    </tr>\n",
       "    <tr>\n",
       "      <th>752</th>\n",
       "      <td>data</td>\n",
       "      <td>5809.819357</td>\n",
       "      <td>346.176349</td>\n",
       "      <td>16.782832</td>\n",
       "    </tr>\n",
       "    <tr>\n",
       "      <th>1767</th>\n",
       "      <td>machinelearn</td>\n",
       "      <td>2956.043602</td>\n",
       "      <td>106.734357</td>\n",
       "      <td>27.695333</td>\n",
       "    </tr>\n",
       "  </tbody>\n",
       "</table>\n",
       "</div>"
      ],
      "text/plain": [
       "               col   mean_value   std_value   mean_std\n",
       "2215      platform   153.569114   12.658364  12.131830\n",
       "395          build   574.373455   46.677902  12.305040\n",
       "2527        requir   716.783795   57.460093  12.474463\n",
       "1017         engin   590.557183   45.622791  12.944346\n",
       "165        analysi   651.556710   49.997822  13.031702\n",
       "2788       softwar  1737.749911  133.208126  13.045375\n",
       "3001     technolog   280.252852   20.746983  13.508126\n",
       "1889         model  1893.872131  122.978244  15.400058\n",
       "752           data  5809.819357  346.176349  16.782832\n",
       "1767  machinelearn  2956.043602  106.734357  27.695333"
      ]
     },
     "execution_count": 45,
     "metadata": {},
     "output_type": "execute_result"
    }
   ],
   "source": [
    "importance_df.dropna(axis=0).sort_values('mean_std').tail(10)"
   ]
  },
  {
   "cell_type": "code",
   "execution_count": 63,
   "metadata": {},
   "outputs": [],
   "source": [
    "class Optimize_by_Optuna:\n",
    "    def __init__(self, data, features, target_colname, _objective=None):\n",
    "        self.data = data\n",
    "        self.features = features\n",
    "        self.target = target_colname\n",
    "        self._objective = _objective\n",
    "        \n",
    "    def objective(self, trial):\n",
    "        \n",
    "                        \n",
    "        PARAMS = {#'boosting_type': 'gbdt', 'metric': 'rmse',\n",
    "            'boosting_type': 'gbdt','objective': 'multiclass','metric': 'multiclass', 'num_class':4,\n",
    "            \n",
    "            'n_estimators': 1400,\n",
    "            'boost_from_average': False,'verbose': -1,'random_state':2020,\n",
    "        \n",
    "            'max_bin': trial.suggest_int('max_bin', 50, 300),\n",
    "            'subsample': trial.suggest_uniform('subsample', 0.4, 0.9),\n",
    "            'subsample_freq': trial.suggest_uniform('subsample_freq', 0.4, 0.9),\n",
    "            'learning_rate': trial.suggest_loguniform('learning_rate', 0.03, 0.5),\n",
    "            'num_leaves': trial.suggest_int('num_leaves', 4, 2*5),\n",
    "            'feature_fraction': trial.suggest_uniform('feature_fraction', 0.4, 1.0),\n",
    "            'bagging_freq': trial.suggest_int('bagging_freq', 1, 7),\n",
    "            'min_child_samples': trial.suggest_int('min_child_samples', 5, 100),\n",
    "            'lambda_l1': trial.suggest_loguniform('lambda_l1', 0.0001, 10.0),\n",
    "            'lambda_l2': trial.suggest_loguniform('lambda_l2', 0.0001, 10.0),\n",
    "        }\n",
    "        \n",
    "        score = 0\n",
    "        k = StratifiedKFold(n_splits=5)\n",
    "        for trn, val in k.split(self.data, self.data[self.target]):\n",
    "            train_df = self.data.iloc[trn,:]\n",
    "            val_df = self.data.iloc[val,:]\n",
    "            train_set= lgb.Dataset(train_df[self.features],  train_df[self.target])\n",
    "            val_set = lgb.Dataset(val_df[self.features],  val_df[self.target])   \n",
    "            \n",
    "            model = lgb.train(train_set=train_set, valid_sets=[train_set, val_set], params=PARAMS, num_boost_round=3000, \n",
    "                                  early_stopping_rounds=200, verbose_eval=500)\n",
    "            \n",
    "            preds = model.predict(val_df[self.features])\n",
    "            score+=metrics.f1_score(val_df[self.target],  np.argmax(preds, axis=1), average='macro')/5\n",
    "            \n",
    "        return score"
   ]
  },
  {
   "cell_type": "code",
   "execution_count": 79,
   "metadata": {},
   "outputs": [],
   "source": [
    "def make_null_importance_df(train_X, train_y, PARAMS):\n",
    "    k = StratifiedKFold(n_splits=5)\n",
    "    null_importance=pd.DataFrame()\n",
    "    null_importance['col'] = train_X.columns.tolist()\n",
    "    for i in range(50):\n",
    "        tmp_null_importance=[]\n",
    "        train_y = train_y.sample(frac=1).reset_index(drop=True)\n",
    "        for trn, val in k.split(train_X, train_y):\n",
    "            trn_X, val_X = train_X.iloc[trn,:], train_X.iloc[val,:]\n",
    "            trn_y, val_y = train_y.iloc[trn].astype(int), train_y.iloc[val].astype(int)\n",
    "            train_set = lgb.Dataset(trn_X, trn_y)\n",
    "            val_set = lgb.Dataset(val_X, val_y)\n",
    "\n",
    "            PARAMS['random_state']+=1\n",
    "            model = lgb.train(params=PARAMS, train_set=train_set, valid_sets=val_set,\n",
    "                              num_boost_round=3000, early_stopping_rounds=200, verbose_eval=500)\n",
    "            preds = model.predict(val_X)\n",
    "            tmp_null_importance.append(model.feature_importance('gain'))\n",
    "        null_importance[f'null_importance_{i+1}'] = np.mean(tmp_null_importance, axis=0)\n",
    "    return null_importance"
   ]
  },
  {
   "cell_type": "code",
   "execution_count": 64,
   "metadata": {
    "scrolled": true
   },
   "outputs": [
    {
     "name": "stdout",
     "output_type": "stream",
     "text": [
      "Training until validation scores don't improve for 200 rounds\n",
      "Early stopping, best iteration is:\n",
      "[160]\ttraining's multi_logloss: 0.846886\tvalid_1's multi_logloss: 0.979166\n",
      "Training until validation scores don't improve for 200 rounds\n",
      "Early stopping, best iteration is:\n",
      "[239]\ttraining's multi_logloss: 0.834862\tvalid_1's multi_logloss: 0.917611\n",
      "Training until validation scores don't improve for 200 rounds\n",
      "[500]\ttraining's multi_logloss: 0.753782\tvalid_1's multi_logloss: 0.931882\n",
      "Early stopping, best iteration is:\n",
      "[304]\ttraining's multi_logloss: 0.806679\tvalid_1's multi_logloss: 0.923847\n",
      "Training until validation scores don't improve for 200 rounds\n",
      "Early stopping, best iteration is:\n",
      "[128]\ttraining's multi_logloss: 0.876579\tvalid_1's multi_logloss: 0.956095\n",
      "Training until validation scores don't improve for 200 rounds\n",
      "Early stopping, best iteration is:\n",
      "[195]\ttraining's multi_logloss: 0.833396\tvalid_1's multi_logloss: 0.992638\n"
     ]
    },
    {
     "name": "stderr",
     "output_type": "stream",
     "text": [
      "[I 2020-08-19 09:54:02,344] Finished trial#0 resulted in value: 0.5136647544062923. Current best value is 0.5136647544062923 with parameters: {'max_bin': 174, 'subsample': 0.4553265394271921, 'subsample_freq': 0.4713956298132341, 'learning_rate': 0.09310877680319456, 'num_leaves': 5, 'feature_fraction': 0.771408088717868, 'bagging_freq': 4, 'min_child_samples': 39, 'lambda_l1': 0.0012021037249102368, 'lambda_l2': 3.587201619585713}.\n"
     ]
    },
    {
     "name": "stdout",
     "output_type": "stream",
     "text": [
      "Training until validation scores don't improve for 200 rounds\n",
      "Early stopping, best iteration is:\n",
      "[115]\ttraining's multi_logloss: 0.828659\tvalid_1's multi_logloss: 0.977006\n",
      "Training until validation scores don't improve for 200 rounds\n",
      "Early stopping, best iteration is:\n",
      "[125]\ttraining's multi_logloss: 0.850366\tvalid_1's multi_logloss: 0.938193\n",
      "Training until validation scores don't improve for 200 rounds\n",
      "Early stopping, best iteration is:\n",
      "[217]\ttraining's multi_logloss: 0.782332\tvalid_1's multi_logloss: 0.921713\n",
      "Training until validation scores don't improve for 200 rounds\n",
      "Early stopping, best iteration is:\n",
      "[94]\ttraining's multi_logloss: 0.855853\tvalid_1's multi_logloss: 0.957747\n",
      "Training until validation scores don't improve for 200 rounds\n",
      "Early stopping, best iteration is:\n",
      "[71]\ttraining's multi_logloss: 0.876406\tvalid_1's multi_logloss: 0.996609\n"
     ]
    },
    {
     "name": "stderr",
     "output_type": "stream",
     "text": [
      "[I 2020-08-19 09:54:21,198] Finished trial#1 resulted in value: 0.5234715206750775. Current best value is 0.5234715206750775 with parameters: {'max_bin': 188, 'subsample': 0.7784749140029616, 'subsample_freq': 0.7361616312962526, 'learning_rate': 0.09340366216389537, 'num_leaves': 9, 'feature_fraction': 0.5407232401378954, 'bagging_freq': 7, 'min_child_samples': 75, 'lambda_l1': 0.004671997307473328, 'lambda_l2': 0.17971976931129194}.\n"
     ]
    },
    {
     "name": "stdout",
     "output_type": "stream",
     "text": [
      "Training until validation scores don't improve for 200 rounds\n",
      "Early stopping, best iteration is:\n",
      "[98]\ttraining's multi_logloss: 0.901835\tvalid_1's multi_logloss: 1.00043\n",
      "Training until validation scores don't improve for 200 rounds\n",
      "Early stopping, best iteration is:\n",
      "[82]\ttraining's multi_logloss: 0.924974\tvalid_1's multi_logloss: 0.95064\n",
      "Training until validation scores don't improve for 200 rounds\n",
      "Early stopping, best iteration is:\n",
      "[99]\ttraining's multi_logloss: 0.9191\tvalid_1's multi_logloss: 0.947515\n",
      "Training until validation scores don't improve for 200 rounds\n",
      "Early stopping, best iteration is:\n",
      "[91]\ttraining's multi_logloss: 0.916824\tvalid_1's multi_logloss: 0.967056\n",
      "Training until validation scores don't improve for 200 rounds\n",
      "Early stopping, best iteration is:\n",
      "[165]\ttraining's multi_logloss: 0.875334\tvalid_1's multi_logloss: 1.00581\n"
     ]
    },
    {
     "name": "stderr",
     "output_type": "stream",
     "text": [
      "[I 2020-08-19 09:54:37,901] Finished trial#2 resulted in value: 0.5084847412927261. Current best value is 0.5234715206750775 with parameters: {'max_bin': 188, 'subsample': 0.7784749140029616, 'subsample_freq': 0.7361616312962526, 'learning_rate': 0.09340366216389537, 'num_leaves': 9, 'feature_fraction': 0.5407232401378954, 'bagging_freq': 7, 'min_child_samples': 75, 'lambda_l1': 0.004671997307473328, 'lambda_l2': 0.17971976931129194}.\n"
     ]
    },
    {
     "name": "stdout",
     "output_type": "stream",
     "text": [
      "Training until validation scores don't improve for 200 rounds\n",
      "Early stopping, best iteration is:\n",
      "[265]\ttraining's multi_logloss: 0.827158\tvalid_1's multi_logloss: 0.981048\n",
      "Training until validation scores don't improve for 200 rounds\n",
      "[500]\ttraining's multi_logloss: 0.794841\tvalid_1's multi_logloss: 0.935763\n",
      "Early stopping, best iteration is:\n",
      "[380]\ttraining's multi_logloss: 0.821711\tvalid_1's multi_logloss: 0.931962\n",
      "Training until validation scores don't improve for 200 rounds\n",
      "Early stopping, best iteration is:\n",
      "[275]\ttraining's multi_logloss: 0.840875\tvalid_1's multi_logloss: 0.918579\n",
      "Training until validation scores don't improve for 200 rounds\n",
      "Early stopping, best iteration is:\n",
      "[270]\ttraining's multi_logloss: 0.833643\tvalid_1's multi_logloss: 0.954272\n",
      "Training until validation scores don't improve for 200 rounds\n",
      "Early stopping, best iteration is:\n",
      "[205]\ttraining's multi_logloss: 0.849482\tvalid_1's multi_logloss: 0.994024\n"
     ]
    },
    {
     "name": "stderr",
     "output_type": "stream",
     "text": [
      "[I 2020-08-19 09:54:57,536] Finished trial#3 resulted in value: 0.5221328283982394. Current best value is 0.5234715206750775 with parameters: {'max_bin': 188, 'subsample': 0.7784749140029616, 'subsample_freq': 0.7361616312962526, 'learning_rate': 0.09340366216389537, 'num_leaves': 9, 'feature_fraction': 0.5407232401378954, 'bagging_freq': 7, 'min_child_samples': 75, 'lambda_l1': 0.004671997307473328, 'lambda_l2': 0.17971976931129194}.\n"
     ]
    },
    {
     "name": "stdout",
     "output_type": "stream",
     "text": [
      "Training until validation scores don't improve for 200 rounds\n",
      "Early stopping, best iteration is:\n",
      "[50]\ttraining's multi_logloss: 0.81559\tvalid_1's multi_logloss: 1.00821\n",
      "Training until validation scores don't improve for 200 rounds\n",
      "Early stopping, best iteration is:\n",
      "[36]\ttraining's multi_logloss: 0.878359\tvalid_1's multi_logloss: 0.977068\n",
      "Training until validation scores don't improve for 200 rounds\n",
      "Early stopping, best iteration is:\n",
      "[73]\ttraining's multi_logloss: 0.817897\tvalid_1's multi_logloss: 0.970168\n",
      "Training until validation scores don't improve for 200 rounds\n",
      "Early stopping, best iteration is:\n",
      "[34]\ttraining's multi_logloss: 0.864326\tvalid_1's multi_logloss: 0.960929\n",
      "Training until validation scores don't improve for 200 rounds\n",
      "Early stopping, best iteration is:\n",
      "[30]\ttraining's multi_logloss: 0.883283\tvalid_1's multi_logloss: 1.01953\n"
     ]
    },
    {
     "name": "stderr",
     "output_type": "stream",
     "text": [
      "[I 2020-08-19 09:55:14,821] Finished trial#4 resulted in value: 0.49601206282037136. Current best value is 0.5234715206750775 with parameters: {'max_bin': 188, 'subsample': 0.7784749140029616, 'subsample_freq': 0.7361616312962526, 'learning_rate': 0.09340366216389537, 'num_leaves': 9, 'feature_fraction': 0.5407232401378954, 'bagging_freq': 7, 'min_child_samples': 75, 'lambda_l1': 0.004671997307473328, 'lambda_l2': 0.17971976931129194}.\n"
     ]
    },
    {
     "name": "stdout",
     "output_type": "stream",
     "text": [
      "Training until validation scores don't improve for 200 rounds\n",
      "Early stopping, best iteration is:\n",
      "[32]\ttraining's multi_logloss: 0.813356\tvalid_1's multi_logloss: 0.985967\n",
      "Training until validation scores don't improve for 200 rounds\n",
      "Early stopping, best iteration is:\n",
      "[36]\ttraining's multi_logloss: 0.809768\tvalid_1's multi_logloss: 0.909975\n",
      "Training until validation scores don't improve for 200 rounds\n",
      "Early stopping, best iteration is:\n",
      "[25]\ttraining's multi_logloss: 0.843638\tvalid_1's multi_logloss: 0.930255\n",
      "Training until validation scores don't improve for 200 rounds\n",
      "Early stopping, best iteration is:\n",
      "[16]\ttraining's multi_logloss: 0.887068\tvalid_1's multi_logloss: 0.965287\n",
      "Training until validation scores don't improve for 200 rounds\n",
      "Early stopping, best iteration is:\n",
      "[17]\ttraining's multi_logloss: 0.869058\tvalid_1's multi_logloss: 1.00089\n"
     ]
    },
    {
     "name": "stderr",
     "output_type": "stream",
     "text": [
      "[I 2020-08-19 09:55:31,750] Finished trial#5 resulted in value: 0.5183675194057343. Current best value is 0.5234715206750775 with parameters: {'max_bin': 188, 'subsample': 0.7784749140029616, 'subsample_freq': 0.7361616312962526, 'learning_rate': 0.09340366216389537, 'num_leaves': 9, 'feature_fraction': 0.5407232401378954, 'bagging_freq': 7, 'min_child_samples': 75, 'lambda_l1': 0.004671997307473328, 'lambda_l2': 0.17971976931129194}.\n"
     ]
    },
    {
     "name": "stdout",
     "output_type": "stream",
     "text": [
      "Training until validation scores don't improve for 200 rounds\n",
      "Early stopping, best iteration is:\n",
      "[215]\ttraining's multi_logloss: 0.721186\tvalid_1's multi_logloss: 0.948879\n",
      "Training until validation scores don't improve for 200 rounds\n",
      "Early stopping, best iteration is:\n",
      "[277]\ttraining's multi_logloss: 0.701248\tvalid_1's multi_logloss: 0.869724\n",
      "Training until validation scores don't improve for 200 rounds\n",
      "Early stopping, best iteration is:\n",
      "[200]\ttraining's multi_logloss: 0.746445\tvalid_1's multi_logloss: 0.900163\n",
      "Training until validation scores don't improve for 200 rounds\n",
      "Early stopping, best iteration is:\n",
      "[190]\ttraining's multi_logloss: 0.746279\tvalid_1's multi_logloss: 0.922053\n",
      "Training until validation scores don't improve for 200 rounds\n",
      "Early stopping, best iteration is:\n",
      "[219]\ttraining's multi_logloss: 0.71961\tvalid_1's multi_logloss: 0.944994\n"
     ]
    },
    {
     "name": "stderr",
     "output_type": "stream",
     "text": [
      "[I 2020-08-19 09:55:54,175] Finished trial#6 resulted in value: 0.5513119530963412. Current best value is 0.5513119530963412 with parameters: {'max_bin': 162, 'subsample': 0.7937495497680944, 'subsample_freq': 0.49432407815786517, 'learning_rate': 0.04199859381303744, 'num_leaves': 9, 'feature_fraction': 0.6642154811630074, 'bagging_freq': 1, 'min_child_samples': 29, 'lambda_l1': 0.004684359888254445, 'lambda_l2': 0.0007273376379007983}.\n"
     ]
    },
    {
     "name": "stdout",
     "output_type": "stream",
     "text": [
      "Training until validation scores don't improve for 200 rounds\n",
      "Early stopping, best iteration is:\n",
      "[192]\ttraining's multi_logloss: 0.69513\tvalid_1's multi_logloss: 0.93945\n",
      "Training until validation scores don't improve for 200 rounds\n",
      "Early stopping, best iteration is:\n",
      "[294]\ttraining's multi_logloss: 0.643696\tvalid_1's multi_logloss: 0.865242\n",
      "Training until validation scores don't improve for 200 rounds\n",
      "Early stopping, best iteration is:\n",
      "[216]\ttraining's multi_logloss: 0.692699\tvalid_1's multi_logloss: 0.893066\n",
      "Training until validation scores don't improve for 200 rounds\n",
      "Early stopping, best iteration is:\n",
      "[288]\ttraining's multi_logloss: 0.638125\tvalid_1's multi_logloss: 0.903665\n",
      "Training until validation scores don't improve for 200 rounds\n",
      "Early stopping, best iteration is:\n",
      "[240]\ttraining's multi_logloss: 0.661755\tvalid_1's multi_logloss: 0.935153\n"
     ]
    },
    {
     "name": "stderr",
     "output_type": "stream",
     "text": [
      "[I 2020-08-19 09:56:19,544] Finished trial#7 resulted in value: 0.5645978742059273. Current best value is 0.5645978742059273 with parameters: {'max_bin': 191, 'subsample': 0.8997939664617591, 'subsample_freq': 0.801197919558142, 'learning_rate': 0.08032365156565872, 'num_leaves': 6, 'feature_fraction': 0.7468428828858379, 'bagging_freq': 6, 'min_child_samples': 17, 'lambda_l1': 0.0007886053617124732, 'lambda_l2': 1.813299381413606}.\n"
     ]
    },
    {
     "name": "stdout",
     "output_type": "stream",
     "text": [
      "Training until validation scores don't improve for 200 rounds\n",
      "Early stopping, best iteration is:\n",
      "[220]\ttraining's multi_logloss: 0.703555\tvalid_1's multi_logloss: 0.937251\n",
      "Training until validation scores don't improve for 200 rounds\n",
      "[500]\ttraining's multi_logloss: 0.638757\tvalid_1's multi_logloss: 0.873465\n",
      "Early stopping, best iteration is:\n",
      "[363]\ttraining's multi_logloss: 0.67601\tvalid_1's multi_logloss: 0.865752\n",
      "Training until validation scores don't improve for 200 rounds\n",
      "Early stopping, best iteration is:\n",
      "[281]\ttraining's multi_logloss: 0.69592\tvalid_1's multi_logloss: 0.895503\n",
      "Training until validation scores don't improve for 200 rounds\n",
      "Early stopping, best iteration is:\n",
      "[153]\ttraining's multi_logloss: 0.749398\tvalid_1's multi_logloss: 0.913232\n",
      "Training until validation scores don't improve for 200 rounds\n",
      "Early stopping, best iteration is:\n",
      "[298]\ttraining's multi_logloss: 0.678815\tvalid_1's multi_logloss: 0.954677\n"
     ]
    },
    {
     "name": "stderr",
     "output_type": "stream",
     "text": [
      "[I 2020-08-19 09:56:53,295] Finished trial#8 resulted in value: 0.5633048990286063. Current best value is 0.5645978742059273 with parameters: {'max_bin': 191, 'subsample': 0.8997939664617591, 'subsample_freq': 0.801197919558142, 'learning_rate': 0.08032365156565872, 'num_leaves': 6, 'feature_fraction': 0.7468428828858379, 'bagging_freq': 6, 'min_child_samples': 17, 'lambda_l1': 0.0007886053617124732, 'lambda_l2': 1.813299381413606}.\n"
     ]
    },
    {
     "name": "stdout",
     "output_type": "stream",
     "text": [
      "Training until validation scores don't improve for 200 rounds\n",
      "Early stopping, best iteration is:\n",
      "[76]\ttraining's multi_logloss: 0.657279\tvalid_1's multi_logloss: 0.941821\n",
      "Training until validation scores don't improve for 200 rounds\n",
      "Early stopping, best iteration is:\n",
      "[109]\ttraining's multi_logloss: 0.59737\tvalid_1's multi_logloss: 0.866124\n",
      "Training until validation scores don't improve for 200 rounds\n",
      "Early stopping, best iteration is:\n",
      "[91]\ttraining's multi_logloss: 0.633169\tvalid_1's multi_logloss: 0.889523\n",
      "Training until validation scores don't improve for 200 rounds\n",
      "Early stopping, best iteration is:\n",
      "[83]\ttraining's multi_logloss: 0.644973\tvalid_1's multi_logloss: 0.91334\n",
      "Training until validation scores don't improve for 200 rounds\n",
      "Early stopping, best iteration is:\n",
      "[80]\ttraining's multi_logloss: 0.645555\tvalid_1's multi_logloss: 0.939253\n"
     ]
    },
    {
     "name": "stderr",
     "output_type": "stream",
     "text": [
      "[I 2020-08-19 09:57:20,319] Finished trial#9 resulted in value: 0.5606711412601612. Current best value is 0.5645978742059273 with parameters: {'max_bin': 191, 'subsample': 0.8997939664617591, 'subsample_freq': 0.801197919558142, 'learning_rate': 0.08032365156565872, 'num_leaves': 6, 'feature_fraction': 0.7468428828858379, 'bagging_freq': 6, 'min_child_samples': 17, 'lambda_l1': 0.0007886053617124732, 'lambda_l2': 1.813299381413606}.\n"
     ]
    },
    {
     "name": "stdout",
     "output_type": "stream",
     "text": [
      "Training until validation scores don't improve for 200 rounds\n",
      "[500]\ttraining's multi_logloss: 0.869354\tvalid_1's multi_logloss: 0.987429\n",
      "Early stopping, best iteration is:\n",
      "[452]\ttraining's multi_logloss: 0.875076\tvalid_1's multi_logloss: 0.986719\n",
      "Training until validation scores don't improve for 200 rounds\n",
      "[500]\ttraining's multi_logloss: 0.902215\tvalid_1's multi_logloss: 0.9653\n",
      "Early stopping, best iteration is:\n",
      "[467]\ttraining's multi_logloss: 0.906359\tvalid_1's multi_logloss: 0.964072\n",
      "Training until validation scores don't improve for 200 rounds\n",
      "[500]\ttraining's multi_logloss: 0.904309\tvalid_1's multi_logloss: 0.946108\n",
      "Early stopping, best iteration is:\n",
      "[783]\ttraining's multi_logloss: 0.877382\tvalid_1's multi_logloss: 0.940187\n",
      "Training until validation scores don't improve for 200 rounds\n",
      "[500]\ttraining's multi_logloss: 0.881657\tvalid_1's multi_logloss: 0.94786\n",
      "[1000]\ttraining's multi_logloss: 0.837755\tvalid_1's multi_logloss: 0.948117\n",
      "Early stopping, best iteration is:\n",
      "[833]\ttraining's multi_logloss: 0.850466\tvalid_1's multi_logloss: 0.945391\n",
      "Training until validation scores don't improve for 200 rounds\n",
      "[500]\ttraining's multi_logloss: 0.889284\tvalid_1's multi_logloss: 1.0107\n",
      "Early stopping, best iteration is:\n",
      "[413]\ttraining's multi_logloss: 0.902454\tvalid_1's multi_logloss: 1.00759\n"
     ]
    },
    {
     "name": "stderr",
     "output_type": "stream",
     "text": [
      "[I 2020-08-19 09:57:45,042] Finished trial#10 resulted in value: 0.5075908213134612. Current best value is 0.5645978742059273 with parameters: {'max_bin': 191, 'subsample': 0.8997939664617591, 'subsample_freq': 0.801197919558142, 'learning_rate': 0.08032365156565872, 'num_leaves': 6, 'feature_fraction': 0.7468428828858379, 'bagging_freq': 6, 'min_child_samples': 17, 'lambda_l1': 0.0007886053617124732, 'lambda_l2': 1.813299381413606}.\n"
     ]
    },
    {
     "name": "stdout",
     "output_type": "stream",
     "text": [
      "Training until validation scores don't improve for 200 rounds\n",
      "Early stopping, best iteration is:\n",
      "[69]\ttraining's multi_logloss: 0.668502\tvalid_1's multi_logloss: 0.931222\n",
      "Training until validation scores don't improve for 200 rounds\n",
      "Early stopping, best iteration is:\n",
      "[107]\ttraining's multi_logloss: 0.607637\tvalid_1's multi_logloss: 0.870616\n",
      "Training until validation scores don't improve for 200 rounds\n",
      "Early stopping, best iteration is:\n",
      "[72]\ttraining's multi_logloss: 0.673923\tvalid_1's multi_logloss: 0.895166\n",
      "Training until validation scores don't improve for 200 rounds\n",
      "Early stopping, best iteration is:\n",
      "[69]\ttraining's multi_logloss: 0.679205\tvalid_1's multi_logloss: 0.904635\n",
      "Training until validation scores don't improve for 200 rounds\n",
      "Early stopping, best iteration is:\n",
      "[48]\ttraining's multi_logloss: 0.729665\tvalid_1's multi_logloss: 0.952256\n"
     ]
    },
    {
     "name": "stderr",
     "output_type": "stream",
     "text": [
      "[I 2020-08-19 09:58:09,167] Finished trial#11 resulted in value: 0.5647352759489483. Current best value is 0.5647352759489483 with parameters: {'max_bin': 93, 'subsample': 0.6180385169517516, 'subsample_freq': 0.8610897150141679, 'learning_rate': 0.20561320268661615, 'num_leaves': 7, 'feature_fraction': 0.7509854419633061, 'bagging_freq': 1, 'min_child_samples': 9, 'lambda_l1': 0.3838070525553391, 'lambda_l2': 1.5547679269374035}.\n"
     ]
    },
    {
     "name": "stdout",
     "output_type": "stream",
     "text": [
      "Training until validation scores don't improve for 200 rounds\n",
      "Early stopping, best iteration is:\n",
      "[64]\ttraining's multi_logloss: 0.7766\tvalid_1's multi_logloss: 0.949658\n",
      "Training until validation scores don't improve for 200 rounds\n",
      "Early stopping, best iteration is:\n",
      "[135]\ttraining's multi_logloss: 0.702576\tvalid_1's multi_logloss: 0.879731\n",
      "Training until validation scores don't improve for 200 rounds\n",
      "Early stopping, best iteration is:\n",
      "[90]\ttraining's multi_logloss: 0.750112\tvalid_1's multi_logloss: 0.903309\n",
      "Training until validation scores don't improve for 200 rounds\n",
      "Early stopping, best iteration is:\n",
      "[73]\ttraining's multi_logloss: 0.769127\tvalid_1's multi_logloss: 0.921157\n",
      "Training until validation scores don't improve for 200 rounds\n",
      "Early stopping, best iteration is:\n",
      "[69]\ttraining's multi_logloss: 0.768434\tvalid_1's multi_logloss: 0.96071\n"
     ]
    },
    {
     "name": "stderr",
     "output_type": "stream",
     "text": [
      "[I 2020-08-19 09:58:31,767] Finished trial#12 resulted in value: 0.5538220480336903. Current best value is 0.5647352759489483 with parameters: {'max_bin': 93, 'subsample': 0.6180385169517516, 'subsample_freq': 0.8610897150141679, 'learning_rate': 0.20561320268661615, 'num_leaves': 7, 'feature_fraction': 0.7509854419633061, 'bagging_freq': 1, 'min_child_samples': 9, 'lambda_l1': 0.3838070525553391, 'lambda_l2': 1.5547679269374035}.\n"
     ]
    },
    {
     "name": "stdout",
     "output_type": "stream",
     "text": [
      "Training until validation scores don't improve for 200 rounds\n",
      "Early stopping, best iteration is:\n",
      "[89]\ttraining's multi_logloss: 0.653948\tvalid_1's multi_logloss: 0.925998\n",
      "Training until validation scores don't improve for 200 rounds\n",
      "Early stopping, best iteration is:\n",
      "[165]\ttraining's multi_logloss: 0.555199\tvalid_1's multi_logloss: 0.858244\n",
      "Training until validation scores don't improve for 200 rounds\n",
      "Early stopping, best iteration is:\n",
      "[109]\ttraining's multi_logloss: 0.633823\tvalid_1's multi_logloss: 0.874183\n",
      "Training until validation scores don't improve for 200 rounds\n",
      "Early stopping, best iteration is:\n",
      "[105]\ttraining's multi_logloss: 0.634956\tvalid_1's multi_logloss: 0.89076\n",
      "Training until validation scores don't improve for 200 rounds\n",
      "Early stopping, best iteration is:\n",
      "[96]\ttraining's multi_logloss: 0.643252\tvalid_1's multi_logloss: 0.93142\n"
     ]
    },
    {
     "name": "stderr",
     "output_type": "stream",
     "text": [
      "[I 2020-08-19 09:58:59,665] Finished trial#13 resulted in value: 0.5684378408806294. Current best value is 0.5684378408806294 with parameters: {'max_bin': 105, 'subsample': 0.8948870829556534, 'subsample_freq': 0.8057627462502415, 'learning_rate': 0.19620976053628095, 'num_leaves': 6, 'feature_fraction': 0.9603776263585633, 'bagging_freq': 1, 'min_child_samples': 5, 'lambda_l1': 0.762542067224131, 'lambda_l2': 0.9953356748681305}.\n"
     ]
    },
    {
     "name": "stdout",
     "output_type": "stream",
     "text": [
      "Training until validation scores don't improve for 200 rounds\n",
      "Early stopping, best iteration is:\n",
      "[45]\ttraining's multi_logloss: 0.805408\tvalid_1's multi_logloss: 0.963965\n",
      "Training until validation scores don't improve for 200 rounds\n",
      "Early stopping, best iteration is:\n",
      "[76]\ttraining's multi_logloss: 0.765481\tvalid_1's multi_logloss: 0.904542\n",
      "Training until validation scores don't improve for 200 rounds\n",
      "Early stopping, best iteration is:\n",
      "[51]\ttraining's multi_logloss: 0.803969\tvalid_1's multi_logloss: 0.921217\n",
      "Training until validation scores don't improve for 200 rounds\n",
      "Early stopping, best iteration is:\n",
      "[40]\ttraining's multi_logloss: 0.825897\tvalid_1's multi_logloss: 0.943606\n",
      "Training until validation scores don't improve for 200 rounds\n",
      "Early stopping, best iteration is:\n",
      "[33]\ttraining's multi_logloss: 0.842997\tvalid_1's multi_logloss: 0.991862\n"
     ]
    },
    {
     "name": "stderr",
     "output_type": "stream",
     "text": [
      "[I 2020-08-19 09:59:20,548] Finished trial#14 resulted in value: 0.5269294140397391. Current best value is 0.5684378408806294 with parameters: {'max_bin': 105, 'subsample': 0.8948870829556534, 'subsample_freq': 0.8057627462502415, 'learning_rate': 0.19620976053628095, 'num_leaves': 6, 'feature_fraction': 0.9603776263585633, 'bagging_freq': 1, 'min_child_samples': 5, 'lambda_l1': 0.762542067224131, 'lambda_l2': 0.9953356748681305}.\n"
     ]
    },
    {
     "name": "stdout",
     "output_type": "stream",
     "text": [
      "Training until validation scores don't improve for 200 rounds\n",
      "Early stopping, best iteration is:\n",
      "[144]\ttraining's multi_logloss: 0.652159\tvalid_1's multi_logloss: 0.927475\n",
      "Training until validation scores don't improve for 200 rounds\n",
      "Early stopping, best iteration is:\n",
      "[190]\ttraining's multi_logloss: 0.61495\tvalid_1's multi_logloss: 0.867466\n",
      "Training until validation scores don't improve for 200 rounds\n",
      "Early stopping, best iteration is:\n",
      "[110]\ttraining's multi_logloss: 0.717499\tvalid_1's multi_logloss: 0.885968\n",
      "Training until validation scores don't improve for 200 rounds\n",
      "Early stopping, best iteration is:\n",
      "[141]\ttraining's multi_logloss: 0.667571\tvalid_1's multi_logloss: 0.896164\n",
      "Training until validation scores don't improve for 200 rounds\n",
      "Early stopping, best iteration is:\n",
      "[203]\ttraining's multi_logloss: 0.583516\tvalid_1's multi_logloss: 0.956158\n"
     ]
    },
    {
     "name": "stderr",
     "output_type": "stream",
     "text": [
      "[I 2020-08-19 09:59:43,853] Finished trial#15 resulted in value: 0.5595437641577545. Current best value is 0.5684378408806294 with parameters: {'max_bin': 105, 'subsample': 0.8948870829556534, 'subsample_freq': 0.8057627462502415, 'learning_rate': 0.19620976053628095, 'num_leaves': 6, 'feature_fraction': 0.9603776263585633, 'bagging_freq': 1, 'min_child_samples': 5, 'lambda_l1': 0.762542067224131, 'lambda_l2': 0.9953356748681305}.\n"
     ]
    },
    {
     "name": "stdout",
     "output_type": "stream",
     "text": [
      "Training until validation scores don't improve for 200 rounds\n",
      "Early stopping, best iteration is:\n",
      "[65]\ttraining's multi_logloss: 0.792826\tvalid_1's multi_logloss: 0.963884\n",
      "Training until validation scores don't improve for 200 rounds\n",
      "Early stopping, best iteration is:\n",
      "[94]\ttraining's multi_logloss: 0.774358\tvalid_1's multi_logloss: 0.911788\n",
      "Training until validation scores don't improve for 200 rounds\n",
      "Early stopping, best iteration is:\n",
      "[101]\ttraining's multi_logloss: 0.762122\tvalid_1's multi_logloss: 0.931488\n",
      "Training until validation scores don't improve for 200 rounds\n",
      "Early stopping, best iteration is:\n",
      "[56]\ttraining's multi_logloss: 0.813702\tvalid_1's multi_logloss: 0.931048\n",
      "Training until validation scores don't improve for 200 rounds\n",
      "Early stopping, best iteration is:\n",
      "[33]\ttraining's multi_logloss: 0.858472\tvalid_1's multi_logloss: 0.974459\n"
     ]
    },
    {
     "name": "stderr",
     "output_type": "stream",
     "text": [
      "[I 2020-08-19 10:00:03,011] Finished trial#16 resulted in value: 0.536518214172033. Current best value is 0.5684378408806294 with parameters: {'max_bin': 105, 'subsample': 0.8948870829556534, 'subsample_freq': 0.8057627462502415, 'learning_rate': 0.19620976053628095, 'num_leaves': 6, 'feature_fraction': 0.9603776263585633, 'bagging_freq': 1, 'min_child_samples': 5, 'lambda_l1': 0.762542067224131, 'lambda_l2': 0.9953356748681305}.\n"
     ]
    },
    {
     "name": "stdout",
     "output_type": "stream",
     "text": [
      "Training until validation scores don't improve for 200 rounds\n",
      "Early stopping, best iteration is:\n",
      "[101]\ttraining's multi_logloss: 0.961347\tvalid_1's multi_logloss: 1.07214\n",
      "Training until validation scores don't improve for 200 rounds\n",
      "Early stopping, best iteration is:\n",
      "[101]\ttraining's multi_logloss: 0.983204\tvalid_1's multi_logloss: 1.06331\n",
      "Training until validation scores don't improve for 200 rounds\n",
      "Early stopping, best iteration is:\n",
      "[108]\ttraining's multi_logloss: 0.965747\tvalid_1's multi_logloss: 1.01564\n",
      "Training until validation scores don't improve for 200 rounds\n",
      "Early stopping, best iteration is:\n",
      "[83]\ttraining's multi_logloss: 0.974652\tvalid_1's multi_logloss: 1.04492\n",
      "Training until validation scores don't improve for 200 rounds\n",
      "Early stopping, best iteration is:\n",
      "[190]\ttraining's multi_logloss: 0.936973\tvalid_1's multi_logloss: 1.08319\n"
     ]
    },
    {
     "name": "stderr",
     "output_type": "stream",
     "text": [
      "[I 2020-08-19 10:00:24,995] Finished trial#17 resulted in value: 0.4084625377561578. Current best value is 0.5684378408806294 with parameters: {'max_bin': 105, 'subsample': 0.8948870829556534, 'subsample_freq': 0.8057627462502415, 'learning_rate': 0.19620976053628095, 'num_leaves': 6, 'feature_fraction': 0.9603776263585633, 'bagging_freq': 1, 'min_child_samples': 5, 'lambda_l1': 0.762542067224131, 'lambda_l2': 0.9953356748681305}.\n"
     ]
    },
    {
     "name": "stdout",
     "output_type": "stream",
     "text": [
      "Training until validation scores don't improve for 200 rounds\n",
      "Early stopping, best iteration is:\n",
      "[115]\ttraining's multi_logloss: 0.730936\tvalid_1's multi_logloss: 0.950762\n",
      "Training until validation scores don't improve for 200 rounds\n",
      "Early stopping, best iteration is:\n",
      "[214]\ttraining's multi_logloss: 0.654299\tvalid_1's multi_logloss: 0.863043\n",
      "Training until validation scores don't improve for 200 rounds\n",
      "Early stopping, best iteration is:\n",
      "[170]\ttraining's multi_logloss: 0.687668\tvalid_1's multi_logloss: 0.898849\n",
      "Training until validation scores don't improve for 200 rounds\n",
      "Early stopping, best iteration is:\n",
      "[125]\ttraining's multi_logloss: 0.732448\tvalid_1's multi_logloss: 0.910503\n",
      "Training until validation scores don't improve for 200 rounds\n",
      "Early stopping, best iteration is:\n",
      "[137]\ttraining's multi_logloss: 0.708576\tvalid_1's multi_logloss: 0.941814\n"
     ]
    },
    {
     "name": "stderr",
     "output_type": "stream",
     "text": [
      "[I 2020-08-19 10:00:46,050] Finished trial#18 resulted in value: 0.5620762166362253. Current best value is 0.5684378408806294 with parameters: {'max_bin': 105, 'subsample': 0.8948870829556534, 'subsample_freq': 0.8057627462502415, 'learning_rate': 0.19620976053628095, 'num_leaves': 6, 'feature_fraction': 0.9603776263585633, 'bagging_freq': 1, 'min_child_samples': 5, 'lambda_l1': 0.762542067224131, 'lambda_l2': 0.9953356748681305}.\n"
     ]
    },
    {
     "name": "stdout",
     "output_type": "stream",
     "text": [
      "Training until validation scores don't improve for 200 rounds\n",
      "Early stopping, best iteration is:\n",
      "[45]\ttraining's multi_logloss: 0.806793\tvalid_1's multi_logloss: 0.967131\n",
      "Training until validation scores don't improve for 200 rounds\n",
      "Early stopping, best iteration is:\n",
      "[76]\ttraining's multi_logloss: 0.775201\tvalid_1's multi_logloss: 0.910426\n",
      "Training until validation scores don't improve for 200 rounds\n",
      "Early stopping, best iteration is:\n",
      "[45]\ttraining's multi_logloss: 0.824721\tvalid_1's multi_logloss: 0.924125\n",
      "Training until validation scores don't improve for 200 rounds\n",
      "Early stopping, best iteration is:\n",
      "[47]\ttraining's multi_logloss: 0.812549\tvalid_1's multi_logloss: 0.939277\n",
      "Training until validation scores don't improve for 200 rounds\n",
      "Early stopping, best iteration is:\n",
      "[27]\ttraining's multi_logloss: 0.863223\tvalid_1's multi_logloss: 0.987497\n"
     ]
    },
    {
     "name": "stderr",
     "output_type": "stream",
     "text": [
      "[I 2020-08-19 10:01:05,099] Finished trial#19 resulted in value: 0.5270683474300356. Current best value is 0.5684378408806294 with parameters: {'max_bin': 105, 'subsample': 0.8948870829556534, 'subsample_freq': 0.8057627462502415, 'learning_rate': 0.19620976053628095, 'num_leaves': 6, 'feature_fraction': 0.9603776263585633, 'bagging_freq': 1, 'min_child_samples': 5, 'lambda_l1': 0.762542067224131, 'lambda_l2': 0.9953356748681305}.\n"
     ]
    },
    {
     "name": "stdout",
     "output_type": "stream",
     "text": [
      "Training until validation scores don't improve for 200 rounds\n",
      "Early stopping, best iteration is:\n",
      "[208]\ttraining's multi_logloss: 0.738267\tvalid_1's multi_logloss: 0.940218\n",
      "Training until validation scores don't improve for 200 rounds\n",
      "[500]\ttraining's multi_logloss: 0.651737\tvalid_1's multi_logloss: 0.871279\n",
      "Early stopping, best iteration is:\n",
      "[454]\ttraining's multi_logloss: 0.659412\tvalid_1's multi_logloss: 0.869092\n",
      "Training until validation scores don't improve for 200 rounds\n",
      "[500]\ttraining's multi_logloss: 0.638073\tvalid_1's multi_logloss: 0.896133\n",
      "Early stopping, best iteration is:\n",
      "[376]\ttraining's multi_logloss: 0.678359\tvalid_1's multi_logloss: 0.890368\n",
      "Training until validation scores don't improve for 200 rounds\n",
      "Early stopping, best iteration is:\n",
      "[256]\ttraining's multi_logloss: 0.723092\tvalid_1's multi_logloss: 0.921347\n",
      "Training until validation scores don't improve for 200 rounds\n",
      "[500]\ttraining's multi_logloss: 0.636056\tvalid_1's multi_logloss: 0.952904\n",
      "Early stopping, best iteration is:\n",
      "[431]\ttraining's multi_logloss: 0.65661\tvalid_1's multi_logloss: 0.94923\n"
     ]
    },
    {
     "name": "stderr",
     "output_type": "stream",
     "text": [
      "[I 2020-08-19 10:01:31,216] Finished trial#20 resulted in value: 0.5530716410556716. Current best value is 0.5684378408806294 with parameters: {'max_bin': 105, 'subsample': 0.8948870829556534, 'subsample_freq': 0.8057627462502415, 'learning_rate': 0.19620976053628095, 'num_leaves': 6, 'feature_fraction': 0.9603776263585633, 'bagging_freq': 1, 'min_child_samples': 5, 'lambda_l1': 0.762542067224131, 'lambda_l2': 0.9953356748681305}.\n"
     ]
    },
    {
     "name": "stdout",
     "output_type": "stream",
     "text": [
      "Training until validation scores don't improve for 200 rounds\n",
      "[500]\ttraining's multi_logloss: 0.605072\tvalid_1's multi_logloss: 0.953047\n",
      "Early stopping, best iteration is:\n",
      "[323]\ttraining's multi_logloss: 0.681332\tvalid_1's multi_logloss: 0.942229\n",
      "Training until validation scores don't improve for 200 rounds\n",
      "[500]\ttraining's multi_logloss: 0.624433\tvalid_1's multi_logloss: 0.865743\n",
      "Early stopping, best iteration is:\n",
      "[434]\ttraining's multi_logloss: 0.649787\tvalid_1's multi_logloss: 0.864861\n",
      "Training until validation scores don't improve for 200 rounds\n",
      "[500]\ttraining's multi_logloss: 0.621347\tvalid_1's multi_logloss: 0.898094\n",
      "Early stopping, best iteration is:\n",
      "[417]\ttraining's multi_logloss: 0.654417\tvalid_1's multi_logloss: 0.892701\n",
      "Training until validation scores don't improve for 200 rounds\n",
      "Early stopping, best iteration is:\n",
      "[282]\ttraining's multi_logloss: 0.714906\tvalid_1's multi_logloss: 0.90087\n",
      "Training until validation scores don't improve for 200 rounds\n",
      "[500]\ttraining's multi_logloss: 0.606292\tvalid_1's multi_logloss: 0.938147\n",
      "Early stopping, best iteration is:\n",
      "[384]\ttraining's multi_logloss: 0.653884\tvalid_1's multi_logloss: 0.935544\n"
     ]
    },
    {
     "name": "stderr",
     "output_type": "stream",
     "text": [
      "[I 2020-08-19 10:01:58,296] Finished trial#21 resulted in value: 0.5622091311879136. Current best value is 0.5684378408806294 with parameters: {'max_bin': 105, 'subsample': 0.8948870829556534, 'subsample_freq': 0.8057627462502415, 'learning_rate': 0.19620976053628095, 'num_leaves': 6, 'feature_fraction': 0.9603776263585633, 'bagging_freq': 1, 'min_child_samples': 5, 'lambda_l1': 0.762542067224131, 'lambda_l2': 0.9953356748681305}.\n"
     ]
    },
    {
     "name": "stdout",
     "output_type": "stream",
     "text": [
      "Training until validation scores don't improve for 200 rounds\n",
      "[500]\ttraining's multi_logloss: 0.461157\tvalid_1's multi_logloss: 0.933354\n",
      "Early stopping, best iteration is:\n",
      "[332]\ttraining's multi_logloss: 0.550303\tvalid_1's multi_logloss: 0.918171\n",
      "Training until validation scores don't improve for 200 rounds\n",
      "[500]\ttraining's multi_logloss: 0.477725\tvalid_1's multi_logloss: 0.861235\n",
      "Early stopping, best iteration is:\n",
      "[314]\ttraining's multi_logloss: 0.578991\tvalid_1's multi_logloss: 0.855331\n",
      "Training until validation scores don't improve for 200 rounds\n",
      "Early stopping, best iteration is:\n",
      "[240]\ttraining's multi_logloss: 0.633004\tvalid_1's multi_logloss: 0.868048\n",
      "Training until validation scores don't improve for 200 rounds\n",
      "Early stopping, best iteration is:\n",
      "[279]\ttraining's multi_logloss: 0.595467\tvalid_1's multi_logloss: 0.889559\n",
      "Training until validation scores don't improve for 200 rounds\n",
      "Early stopping, best iteration is:\n",
      "[289]\ttraining's multi_logloss: 0.5779\tvalid_1's multi_logloss: 0.92813\n"
     ]
    },
    {
     "name": "stderr",
     "output_type": "stream",
     "text": [
      "[I 2020-08-19 10:02:25,850] Finished trial#22 resulted in value: 0.5794519352505282. Current best value is 0.5794519352505282 with parameters: {'max_bin': 222, 'subsample': 0.8272476271246125, 'subsample_freq': 0.7824872353751413, 'learning_rate': 0.08091706937160277, 'num_leaves': 6, 'feature_fraction': 0.6221691339403717, 'bagging_freq': 6, 'min_child_samples': 5, 'lambda_l1': 0.4989201517512116, 'lambda_l2': 0.49308936641921314}.\n"
     ]
    },
    {
     "name": "stdout",
     "output_type": "stream",
     "text": [
      "Training until validation scores don't improve for 200 rounds\n",
      "Early stopping, best iteration is:\n",
      "[176]\ttraining's multi_logloss: 0.579225\tvalid_1's multi_logloss: 0.92079\n",
      "Training until validation scores don't improve for 200 rounds\n",
      "Early stopping, best iteration is:\n",
      "[162]\ttraining's multi_logloss: 0.615459\tvalid_1's multi_logloss: 0.857728\n",
      "Training until validation scores don't improve for 200 rounds\n",
      "Early stopping, best iteration is:\n",
      "[166]\ttraining's multi_logloss: 0.609447\tvalid_1's multi_logloss: 0.872839\n",
      "Training until validation scores don't improve for 200 rounds\n",
      "Early stopping, best iteration is:\n",
      "[213]\ttraining's multi_logloss: 0.548247\tvalid_1's multi_logloss: 0.883039\n",
      "Training until validation scores don't improve for 200 rounds\n",
      "Early stopping, best iteration is:\n",
      "[213]\ttraining's multi_logloss: 0.536857\tvalid_1's multi_logloss: 0.92431\n"
     ]
    },
    {
     "name": "stderr",
     "output_type": "stream",
     "text": [
      "[I 2020-08-19 10:02:50,404] Finished trial#23 resulted in value: 0.5781034525813775. Current best value is 0.5794519352505282 with parameters: {'max_bin': 222, 'subsample': 0.8272476271246125, 'subsample_freq': 0.7824872353751413, 'learning_rate': 0.08091706937160277, 'num_leaves': 6, 'feature_fraction': 0.6221691339403717, 'bagging_freq': 6, 'min_child_samples': 5, 'lambda_l1': 0.4989201517512116, 'lambda_l2': 0.49308936641921314}.\n"
     ]
    },
    {
     "name": "stdout",
     "output_type": "stream",
     "text": [
      "Training until validation scores don't improve for 200 rounds\n",
      "Early stopping, best iteration is:\n",
      "[111]\ttraining's multi_logloss: 0.769205\tvalid_1's multi_logloss: 0.945877\n",
      "Training until validation scores don't improve for 200 rounds\n",
      "Early stopping, best iteration is:\n",
      "[158]\ttraining's multi_logloss: 0.742861\tvalid_1's multi_logloss: 0.869064\n",
      "Training until validation scores don't improve for 200 rounds\n",
      "Early stopping, best iteration is:\n",
      "[148]\ttraining's multi_logloss: 0.744876\tvalid_1's multi_logloss: 0.904582\n",
      "Training until validation scores don't improve for 200 rounds\n",
      "Early stopping, best iteration is:\n",
      "[145]\ttraining's multi_logloss: 0.737919\tvalid_1's multi_logloss: 0.911364\n",
      "Training until validation scores don't improve for 200 rounds\n",
      "Early stopping, best iteration is:\n",
      "[111]\ttraining's multi_logloss: 0.770876\tvalid_1's multi_logloss: 0.952059\n"
     ]
    },
    {
     "name": "stderr",
     "output_type": "stream",
     "text": [
      "[I 2020-08-19 10:03:10,734] Finished trial#24 resulted in value: 0.5501877626848254. Current best value is 0.5794519352505282 with parameters: {'max_bin': 222, 'subsample': 0.8272476271246125, 'subsample_freq': 0.7824872353751413, 'learning_rate': 0.08091706937160277, 'num_leaves': 6, 'feature_fraction': 0.6221691339403717, 'bagging_freq': 6, 'min_child_samples': 5, 'lambda_l1': 0.4989201517512116, 'lambda_l2': 0.49308936641921314}.\n"
     ]
    },
    {
     "name": "stdout",
     "output_type": "stream",
     "text": [
      "Training until validation scores don't improve for 200 rounds\n",
      "Early stopping, best iteration is:\n",
      "[282]\ttraining's multi_logloss: 0.604461\tvalid_1's multi_logloss: 0.912284\n",
      "Training until validation scores don't improve for 200 rounds\n",
      "[500]\ttraining's multi_logloss: 0.487204\tvalid_1's multi_logloss: 0.858419\n",
      "Early stopping, best iteration is:\n",
      "[364]\ttraining's multi_logloss: 0.563989\tvalid_1's multi_logloss: 0.855695\n",
      "Training until validation scores don't improve for 200 rounds\n",
      "Early stopping, best iteration is:\n",
      "[297]\ttraining's multi_logloss: 0.609142\tvalid_1's multi_logloss: 0.864963\n",
      "Training until validation scores don't improve for 200 rounds\n",
      "[500]\ttraining's multi_logloss: 0.4832\tvalid_1's multi_logloss: 0.890007\n",
      "Early stopping, best iteration is:\n",
      "[457]\ttraining's multi_logloss: 0.504481\tvalid_1's multi_logloss: 0.886195\n",
      "Training until validation scores don't improve for 200 rounds\n",
      "Early stopping, best iteration is:\n",
      "[296]\ttraining's multi_logloss: 0.59394\tvalid_1's multi_logloss: 0.930131\n"
     ]
    },
    {
     "name": "stderr",
     "output_type": "stream",
     "text": [
      "[I 2020-08-19 10:03:38,531] Finished trial#25 resulted in value: 0.5790369093588645. Current best value is 0.5794519352505282 with parameters: {'max_bin': 222, 'subsample': 0.8272476271246125, 'subsample_freq': 0.7824872353751413, 'learning_rate': 0.08091706937160277, 'num_leaves': 6, 'feature_fraction': 0.6221691339403717, 'bagging_freq': 6, 'min_child_samples': 5, 'lambda_l1': 0.4989201517512116, 'lambda_l2': 0.49308936641921314}.\n"
     ]
    },
    {
     "name": "stdout",
     "output_type": "stream",
     "text": [
      "Training until validation scores don't improve for 200 rounds\n",
      "[500]\ttraining's multi_logloss: 0.593573\tvalid_1's multi_logloss: 0.957883\n",
      "Early stopping, best iteration is:\n",
      "[301]\ttraining's multi_logloss: 0.687039\tvalid_1's multi_logloss: 0.94039\n",
      "Training until validation scores don't improve for 200 rounds\n",
      "[500]\ttraining's multi_logloss: 0.611551\tvalid_1's multi_logloss: 0.871768\n",
      "Early stopping, best iteration is:\n",
      "[361]\ttraining's multi_logloss: 0.67268\tvalid_1's multi_logloss: 0.863545\n",
      "Training until validation scores don't improve for 200 rounds\n",
      "[500]\ttraining's multi_logloss: 0.609854\tvalid_1's multi_logloss: 0.901148\n",
      "Early stopping, best iteration is:\n",
      "[342]\ttraining's multi_logloss: 0.682638\tvalid_1's multi_logloss: 0.881749\n",
      "Training until validation scores don't improve for 200 rounds\n",
      "[500]\ttraining's multi_logloss: 0.60531\tvalid_1's multi_logloss: 0.910467\n",
      "Early stopping, best iteration is:\n",
      "[312]\ttraining's multi_logloss: 0.692035\tvalid_1's multi_logloss: 0.903104\n",
      "Training until validation scores don't improve for 200 rounds\n",
      "[500]\ttraining's multi_logloss: 0.595251\tvalid_1's multi_logloss: 0.944463\n",
      "Early stopping, best iteration is:\n",
      "[339]\ttraining's multi_logloss: 0.668425\tvalid_1's multi_logloss: 0.93804\n"
     ]
    },
    {
     "name": "stderr",
     "output_type": "stream",
     "text": [
      "[I 2020-08-19 10:04:02,454] Finished trial#26 resulted in value: 0.5626129893018688. Current best value is 0.5794519352505282 with parameters: {'max_bin': 222, 'subsample': 0.8272476271246125, 'subsample_freq': 0.7824872353751413, 'learning_rate': 0.08091706937160277, 'num_leaves': 6, 'feature_fraction': 0.6221691339403717, 'bagging_freq': 6, 'min_child_samples': 5, 'lambda_l1': 0.4989201517512116, 'lambda_l2': 0.49308936641921314}.\n"
     ]
    },
    {
     "name": "stdout",
     "output_type": "stream",
     "text": [
      "Training until validation scores don't improve for 200 rounds\n",
      "[500]\ttraining's multi_logloss: 0.650883\tvalid_1's multi_logloss: 0.956005\n",
      "Early stopping, best iteration is:\n",
      "[313]\ttraining's multi_logloss: 0.727195\tvalid_1's multi_logloss: 0.942335\n",
      "Training until validation scores don't improve for 200 rounds\n",
      "[500]\ttraining's multi_logloss: 0.672813\tvalid_1's multi_logloss: 0.86143\n",
      "Early stopping, best iteration is:\n",
      "[518]\ttraining's multi_logloss: 0.667107\tvalid_1's multi_logloss: 0.860733\n",
      "Training until validation scores don't improve for 200 rounds\n",
      "[500]\ttraining's multi_logloss: 0.665475\tvalid_1's multi_logloss: 0.909863\n",
      "Early stopping, best iteration is:\n",
      "[381]\ttraining's multi_logloss: 0.712083\tvalid_1's multi_logloss: 0.900447\n",
      "Training until validation scores don't improve for 200 rounds\n",
      "[500]\ttraining's multi_logloss: 0.660007\tvalid_1's multi_logloss: 0.920849\n",
      "Early stopping, best iteration is:\n",
      "[336]\ttraining's multi_logloss: 0.725778\tvalid_1's multi_logloss: 0.913666\n",
      "Training until validation scores don't improve for 200 rounds\n",
      "[500]\ttraining's multi_logloss: 0.652449\tvalid_1's multi_logloss: 0.949081\n",
      "Early stopping, best iteration is:\n",
      "[356]\ttraining's multi_logloss: 0.708446\tvalid_1's multi_logloss: 0.94176\n"
     ]
    },
    {
     "name": "stderr",
     "output_type": "stream",
     "text": [
      "[I 2020-08-19 10:04:30,893] Finished trial#27 resulted in value: 0.5647063689097287. Current best value is 0.5794519352505282 with parameters: {'max_bin': 222, 'subsample': 0.8272476271246125, 'subsample_freq': 0.7824872353751413, 'learning_rate': 0.08091706937160277, 'num_leaves': 6, 'feature_fraction': 0.6221691339403717, 'bagging_freq': 6, 'min_child_samples': 5, 'lambda_l1': 0.4989201517512116, 'lambda_l2': 0.49308936641921314}.\n"
     ]
    },
    {
     "name": "stdout",
     "output_type": "stream",
     "text": [
      "Training until validation scores don't improve for 200 rounds\n",
      "[500]\ttraining's multi_logloss: 0.723238\tvalid_1's multi_logloss: 0.944166\n",
      "Early stopping, best iteration is:\n",
      "[590]\ttraining's multi_logloss: 0.705474\tvalid_1's multi_logloss: 0.940554\n",
      "Training until validation scores don't improve for 200 rounds\n",
      "[500]\ttraining's multi_logloss: 0.742097\tvalid_1's multi_logloss: 0.869209\n",
      "Early stopping, best iteration is:\n",
      "[795]\ttraining's multi_logloss: 0.692841\tvalid_1's multi_logloss: 0.864258\n",
      "Training until validation scores don't improve for 200 rounds\n",
      "[500]\ttraining's multi_logloss: 0.738182\tvalid_1's multi_logloss: 0.896987\n",
      "Early stopping, best iteration is:\n",
      "[622]\ttraining's multi_logloss: 0.714095\tvalid_1's multi_logloss: 0.895739\n",
      "Training until validation scores don't improve for 200 rounds\n",
      "[500]\ttraining's multi_logloss: 0.732732\tvalid_1's multi_logloss: 0.907564\n",
      "Early stopping, best iteration is:\n",
      "[557]\ttraining's multi_logloss: 0.720706\tvalid_1's multi_logloss: 0.90275\n",
      "Training until validation scores don't improve for 200 rounds\n",
      "[500]\ttraining's multi_logloss: 0.725311\tvalid_1's multi_logloss: 0.954044\n",
      "Early stopping, best iteration is:\n",
      "[575]\ttraining's multi_logloss: 0.710134\tvalid_1's multi_logloss: 0.949457\n"
     ]
    },
    {
     "name": "stderr",
     "output_type": "stream",
     "text": [
      "[I 2020-08-19 10:05:00,129] Finished trial#28 resulted in value: 0.5521029585104139. Current best value is 0.5794519352505282 with parameters: {'max_bin': 222, 'subsample': 0.8272476271246125, 'subsample_freq': 0.7824872353751413, 'learning_rate': 0.08091706937160277, 'num_leaves': 6, 'feature_fraction': 0.6221691339403717, 'bagging_freq': 6, 'min_child_samples': 5, 'lambda_l1': 0.4989201517512116, 'lambda_l2': 0.49308936641921314}.\n"
     ]
    },
    {
     "name": "stdout",
     "output_type": "stream",
     "text": [
      "Training until validation scores don't improve for 200 rounds\n",
      "Early stopping, best iteration is:\n",
      "[141]\ttraining's multi_logloss: 0.770613\tvalid_1's multi_logloss: 0.958057\n",
      "Training until validation scores don't improve for 200 rounds\n",
      "Early stopping, best iteration is:\n",
      "[263]\ttraining's multi_logloss: 0.708966\tvalid_1's multi_logloss: 0.877212\n",
      "Training until validation scores don't improve for 200 rounds\n",
      "Early stopping, best iteration is:\n",
      "[164]\ttraining's multi_logloss: 0.768921\tvalid_1's multi_logloss: 0.911165\n",
      "Training until validation scores don't improve for 200 rounds\n",
      "Early stopping, best iteration is:\n",
      "[123]\ttraining's multi_logloss: 0.797825\tvalid_1's multi_logloss: 0.917552\n",
      "Training until validation scores don't improve for 200 rounds\n",
      "Early stopping, best iteration is:\n",
      "[144]\ttraining's multi_logloss: 0.770962\tvalid_1's multi_logloss: 0.949941\n"
     ]
    },
    {
     "name": "stderr",
     "output_type": "stream",
     "text": [
      "[I 2020-08-19 10:05:22,012] Finished trial#29 resulted in value: 0.5408650548236813. Current best value is 0.5794519352505282 with parameters: {'max_bin': 222, 'subsample': 0.8272476271246125, 'subsample_freq': 0.7824872353751413, 'learning_rate': 0.08091706937160277, 'num_leaves': 6, 'feature_fraction': 0.6221691339403717, 'bagging_freq': 6, 'min_child_samples': 5, 'lambda_l1': 0.4989201517512116, 'lambda_l2': 0.49308936641921314}.\n"
     ]
    },
    {
     "name": "stdout",
     "output_type": "stream",
     "text": [
      "Training until validation scores don't improve for 200 rounds\n",
      "Early stopping, best iteration is:\n",
      "[182]\ttraining's multi_logloss: 0.806121\tvalid_1's multi_logloss: 0.964352\n",
      "Training until validation scores don't improve for 200 rounds\n",
      "[500]\ttraining's multi_logloss: 0.705164\tvalid_1's multi_logloss: 0.921545\n",
      "Early stopping, best iteration is:\n",
      "[317]\ttraining's multi_logloss: 0.761062\tvalid_1's multi_logloss: 0.907225\n",
      "Training until validation scores don't improve for 200 rounds\n",
      "Early stopping, best iteration is:\n",
      "[282]\ttraining's multi_logloss: 0.770216\tvalid_1's multi_logloss: 0.916694\n",
      "Training until validation scores don't improve for 200 rounds\n",
      "Early stopping, best iteration is:\n",
      "[181]\ttraining's multi_logloss: 0.812991\tvalid_1's multi_logloss: 0.940974\n",
      "Training until validation scores don't improve for 200 rounds\n",
      "Early stopping, best iteration is:\n",
      "[224]\ttraining's multi_logloss: 0.786893\tvalid_1's multi_logloss: 0.979148\n"
     ]
    },
    {
     "name": "stderr",
     "output_type": "stream",
     "text": [
      "[I 2020-08-19 10:05:42,892] Finished trial#30 resulted in value: 0.534979799606582. Current best value is 0.5794519352505282 with parameters: {'max_bin': 222, 'subsample': 0.8272476271246125, 'subsample_freq': 0.7824872353751413, 'learning_rate': 0.08091706937160277, 'num_leaves': 6, 'feature_fraction': 0.6221691339403717, 'bagging_freq': 6, 'min_child_samples': 5, 'lambda_l1': 0.4989201517512116, 'lambda_l2': 0.49308936641921314}.\n"
     ]
    },
    {
     "name": "stdout",
     "output_type": "stream",
     "text": [
      "Training until validation scores don't improve for 200 rounds\n",
      "Early stopping, best iteration is:\n",
      "[246]\ttraining's multi_logloss: 0.639587\tvalid_1's multi_logloss: 0.925497\n",
      "Training until validation scores don't improve for 200 rounds\n",
      "[500]\ttraining's multi_logloss: 0.511054\tvalid_1's multi_logloss: 0.857227\n",
      "Early stopping, best iteration is:\n",
      "[520]\ttraining's multi_logloss: 0.502498\tvalid_1's multi_logloss: 0.856432\n",
      "Training until validation scores don't improve for 200 rounds\n",
      "Early stopping, best iteration is:\n",
      "[299]\ttraining's multi_logloss: 0.618443\tvalid_1's multi_logloss: 0.87475\n",
      "Training until validation scores don't improve for 200 rounds\n",
      "Early stopping, best iteration is:\n",
      "[290]\ttraining's multi_logloss: 0.619609\tvalid_1's multi_logloss: 0.884315\n",
      "Training until validation scores don't improve for 200 rounds\n",
      "[500]\ttraining's multi_logloss: 0.492365\tvalid_1's multi_logloss: 0.938791\n",
      "Early stopping, best iteration is:\n",
      "[371]\ttraining's multi_logloss: 0.555854\tvalid_1's multi_logloss: 0.931072\n"
     ]
    },
    {
     "name": "stderr",
     "output_type": "stream",
     "text": [
      "[I 2020-08-19 10:06:11,898] Finished trial#31 resulted in value: 0.5733739109610626. Current best value is 0.5794519352505282 with parameters: {'max_bin': 222, 'subsample': 0.8272476271246125, 'subsample_freq': 0.7824872353751413, 'learning_rate': 0.08091706937160277, 'num_leaves': 6, 'feature_fraction': 0.6221691339403717, 'bagging_freq': 6, 'min_child_samples': 5, 'lambda_l1': 0.4989201517512116, 'lambda_l2': 0.49308936641921314}.\n"
     ]
    },
    {
     "name": "stdout",
     "output_type": "stream",
     "text": [
      "Training until validation scores don't improve for 200 rounds\n",
      "Early stopping, best iteration is:\n",
      "[205]\ttraining's multi_logloss: 0.65139\tvalid_1's multi_logloss: 0.929308\n",
      "Training until validation scores don't improve for 200 rounds\n",
      "Early stopping, best iteration is:\n",
      "[267]\ttraining's multi_logloss: 0.618689\tvalid_1's multi_logloss: 0.859955\n",
      "Training until validation scores don't improve for 200 rounds\n",
      "Early stopping, best iteration is:\n",
      "[213]\ttraining's multi_logloss: 0.660393\tvalid_1's multi_logloss: 0.881688\n",
      "Training until validation scores don't improve for 200 rounds\n",
      "Early stopping, best iteration is:\n",
      "[195]\ttraining's multi_logloss: 0.668332\tvalid_1's multi_logloss: 0.895462\n",
      "Training until validation scores don't improve for 200 rounds\n",
      "Early stopping, best iteration is:\n",
      "[206]\ttraining's multi_logloss: 0.650077\tvalid_1's multi_logloss: 0.92456\n"
     ]
    },
    {
     "name": "stderr",
     "output_type": "stream",
     "text": [
      "[I 2020-08-19 10:06:41,796] Finished trial#32 resulted in value: 0.5719520933026025. Current best value is 0.5794519352505282 with parameters: {'max_bin': 222, 'subsample': 0.8272476271246125, 'subsample_freq': 0.7824872353751413, 'learning_rate': 0.08091706937160277, 'num_leaves': 6, 'feature_fraction': 0.6221691339403717, 'bagging_freq': 6, 'min_child_samples': 5, 'lambda_l1': 0.4989201517512116, 'lambda_l2': 0.49308936641921314}.\n"
     ]
    },
    {
     "name": "stdout",
     "output_type": "stream",
     "text": [
      "Training until validation scores don't improve for 200 rounds\n",
      "[500]\ttraining's multi_logloss: 0.58888\tvalid_1's multi_logloss: 0.937657\n",
      "Early stopping, best iteration is:\n",
      "[311]\ttraining's multi_logloss: 0.653234\tvalid_1's multi_logloss: 0.930116\n",
      "Training until validation scores don't improve for 200 rounds\n",
      "[500]\ttraining's multi_logloss: 0.60567\tvalid_1's multi_logloss: 0.855209\n",
      "Early stopping, best iteration is:\n",
      "[494]\ttraining's multi_logloss: 0.607355\tvalid_1's multi_logloss: 0.854175\n",
      "Training until validation scores don't improve for 200 rounds\n",
      "Early stopping, best iteration is:\n",
      "[245]\ttraining's multi_logloss: 0.700659\tvalid_1's multi_logloss: 0.880452\n",
      "Training until validation scores don't improve for 200 rounds\n",
      "Early stopping, best iteration is:\n",
      "[237]\ttraining's multi_logloss: 0.699657\tvalid_1's multi_logloss: 0.896248\n",
      "Training until validation scores don't improve for 200 rounds\n",
      "[500]\ttraining's multi_logloss: 0.588924\tvalid_1's multi_logloss: 0.950542\n",
      "Early stopping, best iteration is:\n",
      "[350]\ttraining's multi_logloss: 0.638763\tvalid_1's multi_logloss: 0.936298\n"
     ]
    },
    {
     "name": "stderr",
     "output_type": "stream",
     "text": [
      "[I 2020-08-19 10:07:11,976] Finished trial#33 resulted in value: 0.5721856191572441. Current best value is 0.5794519352505282 with parameters: {'max_bin': 222, 'subsample': 0.8272476271246125, 'subsample_freq': 0.7824872353751413, 'learning_rate': 0.08091706937160277, 'num_leaves': 6, 'feature_fraction': 0.6221691339403717, 'bagging_freq': 6, 'min_child_samples': 5, 'lambda_l1': 0.4989201517512116, 'lambda_l2': 0.49308936641921314}.\n"
     ]
    },
    {
     "name": "stdout",
     "output_type": "stream",
     "text": [
      "Training until validation scores don't improve for 200 rounds\n",
      "[500]\ttraining's multi_logloss: 0.667592\tvalid_1's multi_logloss: 0.947083\n",
      "Early stopping, best iteration is:\n",
      "[328]\ttraining's multi_logloss: 0.730498\tvalid_1's multi_logloss: 0.940805\n",
      "Training until validation scores don't improve for 200 rounds\n",
      "[500]\ttraining's multi_logloss: 0.691511\tvalid_1's multi_logloss: 0.860838\n",
      "Early stopping, best iteration is:\n",
      "[571]\ttraining's multi_logloss: 0.671017\tvalid_1's multi_logloss: 0.859806\n",
      "Training until validation scores don't improve for 200 rounds\n",
      "[500]\ttraining's multi_logloss: 0.682203\tvalid_1's multi_logloss: 0.898781\n",
      "Early stopping, best iteration is:\n",
      "[391]\ttraining's multi_logloss: 0.719951\tvalid_1's multi_logloss: 0.893932\n",
      "Training until validation scores don't improve for 200 rounds\n",
      "[500]\ttraining's multi_logloss: 0.677216\tvalid_1's multi_logloss: 0.918692\n",
      "Early stopping, best iteration is:\n",
      "[388]\ttraining's multi_logloss: 0.715637\tvalid_1's multi_logloss: 0.911791\n",
      "Training until validation scores don't improve for 200 rounds\n",
      "[500]\ttraining's multi_logloss: 0.67\tvalid_1's multi_logloss: 0.954482\n",
      "Early stopping, best iteration is:\n",
      "[328]\ttraining's multi_logloss: 0.732409\tvalid_1's multi_logloss: 0.948437\n"
     ]
    },
    {
     "name": "stderr",
     "output_type": "stream",
     "text": [
      "[I 2020-08-19 10:07:39,038] Finished trial#34 resulted in value: 0.564042732670442. Current best value is 0.5794519352505282 with parameters: {'max_bin': 222, 'subsample': 0.8272476271246125, 'subsample_freq': 0.7824872353751413, 'learning_rate': 0.08091706937160277, 'num_leaves': 6, 'feature_fraction': 0.6221691339403717, 'bagging_freq': 6, 'min_child_samples': 5, 'lambda_l1': 0.4989201517512116, 'lambda_l2': 0.49308936641921314}.\n"
     ]
    },
    {
     "name": "stdout",
     "output_type": "stream",
     "text": [
      "Training until validation scores don't improve for 200 rounds\n",
      "Early stopping, best iteration is:\n",
      "[197]\ttraining's multi_logloss: 0.857165\tvalid_1's multi_logloss: 0.98194\n",
      "Training until validation scores don't improve for 200 rounds\n",
      "[500]\ttraining's multi_logloss: 0.812037\tvalid_1's multi_logloss: 0.955713\n",
      "Early stopping, best iteration is:\n",
      "[314]\ttraining's multi_logloss: 0.849947\tvalid_1's multi_logloss: 0.94917\n",
      "Training until validation scores don't improve for 200 rounds\n",
      "Early stopping, best iteration is:\n",
      "[297]\ttraining's multi_logloss: 0.842022\tvalid_1's multi_logloss: 0.92416\n",
      "Training until validation scores don't improve for 200 rounds\n",
      "Early stopping, best iteration is:\n",
      "[225]\ttraining's multi_logloss: 0.855909\tvalid_1's multi_logloss: 0.947741\n",
      "Training until validation scores don't improve for 200 rounds\n",
      "Early stopping, best iteration is:\n",
      "[165]\ttraining's multi_logloss: 0.869933\tvalid_1's multi_logloss: 0.996785\n"
     ]
    },
    {
     "name": "stderr",
     "output_type": "stream",
     "text": [
      "[I 2020-08-19 10:07:57,754] Finished trial#35 resulted in value: 0.5183748005859483. Current best value is 0.5794519352505282 with parameters: {'max_bin': 222, 'subsample': 0.8272476271246125, 'subsample_freq': 0.7824872353751413, 'learning_rate': 0.08091706937160277, 'num_leaves': 6, 'feature_fraction': 0.6221691339403717, 'bagging_freq': 6, 'min_child_samples': 5, 'lambda_l1': 0.4989201517512116, 'lambda_l2': 0.49308936641921314}.\n"
     ]
    },
    {
     "name": "stdout",
     "output_type": "stream",
     "text": [
      "Training until validation scores don't improve for 200 rounds\n",
      "Early stopping, best iteration is:\n",
      "[115]\ttraining's multi_logloss: 0.822006\tvalid_1's multi_logloss: 0.978862\n",
      "Training until validation scores don't improve for 200 rounds\n",
      "Early stopping, best iteration is:\n",
      "[174]\ttraining's multi_logloss: 0.792164\tvalid_1's multi_logloss: 0.915328\n",
      "Training until validation scores don't improve for 200 rounds\n",
      "Early stopping, best iteration is:\n",
      "[110]\ttraining's multi_logloss: 0.838727\tvalid_1's multi_logloss: 0.927146\n",
      "Training until validation scores don't improve for 200 rounds\n",
      "Early stopping, best iteration is:\n",
      "[118]\ttraining's multi_logloss: 0.823664\tvalid_1's multi_logloss: 0.94884\n",
      "Training until validation scores don't improve for 200 rounds\n",
      "Early stopping, best iteration is:\n",
      "[72]\ttraining's multi_logloss: 0.866481\tvalid_1's multi_logloss: 0.987274\n"
     ]
    },
    {
     "name": "stderr",
     "output_type": "stream",
     "text": [
      "[I 2020-08-19 10:08:18,441] Finished trial#36 resulted in value: 0.5245337019098539. Current best value is 0.5794519352505282 with parameters: {'max_bin': 222, 'subsample': 0.8272476271246125, 'subsample_freq': 0.7824872353751413, 'learning_rate': 0.08091706937160277, 'num_leaves': 6, 'feature_fraction': 0.6221691339403717, 'bagging_freq': 6, 'min_child_samples': 5, 'lambda_l1': 0.4989201517512116, 'lambda_l2': 0.49308936641921314}.\n"
     ]
    },
    {
     "name": "stdout",
     "output_type": "stream",
     "text": [
      "Training until validation scores don't improve for 200 rounds\n",
      "Early stopping, best iteration is:\n",
      "[230]\ttraining's multi_logloss: 0.616821\tvalid_1's multi_logloss: 0.931291\n",
      "Training until validation scores don't improve for 200 rounds\n",
      "Early stopping, best iteration is:\n",
      "[201]\ttraining's multi_logloss: 0.662761\tvalid_1's multi_logloss: 0.860316\n",
      "Training until validation scores don't improve for 200 rounds\n",
      "Early stopping, best iteration is:\n",
      "[171]\ttraining's multi_logloss: 0.690415\tvalid_1's multi_logloss: 0.894399\n",
      "Training until validation scores don't improve for 200 rounds\n",
      "Early stopping, best iteration is:\n",
      "[195]\ttraining's multi_logloss: 0.658484\tvalid_1's multi_logloss: 0.888023\n",
      "Training until validation scores don't improve for 200 rounds\n",
      "Early stopping, best iteration is:\n",
      "[249]\ttraining's multi_logloss: 0.605373\tvalid_1's multi_logloss: 0.927709\n"
     ]
    },
    {
     "name": "stderr",
     "output_type": "stream",
     "text": [
      "[I 2020-08-19 10:09:01,010] Finished trial#37 resulted in value: 0.5731004990750678. Current best value is 0.5794519352505282 with parameters: {'max_bin': 222, 'subsample': 0.8272476271246125, 'subsample_freq': 0.7824872353751413, 'learning_rate': 0.08091706937160277, 'num_leaves': 6, 'feature_fraction': 0.6221691339403717, 'bagging_freq': 6, 'min_child_samples': 5, 'lambda_l1': 0.4989201517512116, 'lambda_l2': 0.49308936641921314}.\n"
     ]
    },
    {
     "name": "stdout",
     "output_type": "stream",
     "text": [
      "Training until validation scores don't improve for 200 rounds\n",
      "Early stopping, best iteration is:\n",
      "[143]\ttraining's multi_logloss: 0.732231\tvalid_1's multi_logloss: 0.941112\n",
      "Training until validation scores don't improve for 200 rounds\n",
      "Early stopping, best iteration is:\n",
      "[294]\ttraining's multi_logloss: 0.621068\tvalid_1's multi_logloss: 0.866097\n",
      "Training until validation scores don't improve for 200 rounds\n",
      "Early stopping, best iteration is:\n",
      "[174]\ttraining's multi_logloss: 0.714683\tvalid_1's multi_logloss: 0.884269\n",
      "Training until validation scores don't improve for 200 rounds\n",
      "Early stopping, best iteration is:\n",
      "[158]\ttraining's multi_logloss: 0.724823\tvalid_1's multi_logloss: 0.906985\n",
      "Training until validation scores don't improve for 200 rounds\n",
      "Early stopping, best iteration is:\n",
      "[240]\ttraining's multi_logloss: 0.645617\tvalid_1's multi_logloss: 0.936204\n"
     ]
    },
    {
     "name": "stderr",
     "output_type": "stream",
     "text": [
      "[I 2020-08-19 10:09:33,592] Finished trial#38 resulted in value: 0.5604181820807861. Current best value is 0.5794519352505282 with parameters: {'max_bin': 222, 'subsample': 0.8272476271246125, 'subsample_freq': 0.7824872353751413, 'learning_rate': 0.08091706937160277, 'num_leaves': 6, 'feature_fraction': 0.6221691339403717, 'bagging_freq': 6, 'min_child_samples': 5, 'lambda_l1': 0.4989201517512116, 'lambda_l2': 0.49308936641921314}.\n"
     ]
    },
    {
     "name": "stdout",
     "output_type": "stream",
     "text": [
      "Training until validation scores don't improve for 200 rounds\n",
      "[500]\ttraining's multi_logloss: 0.91468\tvalid_1's multi_logloss: 0.993406\n",
      "[1000]\ttraining's multi_logloss: 0.881843\tvalid_1's multi_logloss: 0.980679\n",
      "Did not meet early stopping. Best iteration is:\n",
      "[1400]\ttraining's multi_logloss: 0.865219\tvalid_1's multi_logloss: 0.975587\n",
      "Training until validation scores don't improve for 200 rounds\n",
      "[500]\ttraining's multi_logloss: 0.92788\tvalid_1's multi_logloss: 0.949116\n",
      "[1000]\ttraining's multi_logloss: 0.895766\tvalid_1's multi_logloss: 0.931305\n",
      "Did not meet early stopping. Best iteration is:\n",
      "[1247]\ttraining's multi_logloss: 0.886138\tvalid_1's multi_logloss: 0.926237\n",
      "Training until validation scores don't improve for 200 rounds\n",
      "[500]\ttraining's multi_logloss: 0.925368\tvalid_1's multi_logloss: 0.945902\n",
      "[1000]\ttraining's multi_logloss: 0.894075\tvalid_1's multi_logloss: 0.930409\n",
      "Did not meet early stopping. Best iteration is:\n",
      "[1400]\ttraining's multi_logloss: 0.878773\tvalid_1's multi_logloss: 0.924863\n",
      "Training until validation scores don't improve for 200 rounds\n",
      "[500]\ttraining's multi_logloss: 0.92013\tvalid_1's multi_logloss: 0.962667\n",
      "[1000]\ttraining's multi_logloss: 0.887899\tvalid_1's multi_logloss: 0.94796\n",
      "Did not meet early stopping. Best iteration is:\n",
      "[1400]\ttraining's multi_logloss: 0.871526\tvalid_1's multi_logloss: 0.941362\n",
      "Training until validation scores don't improve for 200 rounds\n",
      "[500]\ttraining's multi_logloss: 0.914546\tvalid_1's multi_logloss: 1.00418\n",
      "[1000]\ttraining's multi_logloss: 0.880955\tvalid_1's multi_logloss: 0.9936\n",
      "Early stopping, best iteration is:\n",
      "[1161]\ttraining's multi_logloss: 0.873965\tvalid_1's multi_logloss: 0.991305\n"
     ]
    },
    {
     "name": "stderr",
     "output_type": "stream",
     "text": [
      "[I 2020-08-19 10:10:14,533] Finished trial#39 resulted in value: 0.5222251395155759. Current best value is 0.5794519352505282 with parameters: {'max_bin': 222, 'subsample': 0.8272476271246125, 'subsample_freq': 0.7824872353751413, 'learning_rate': 0.08091706937160277, 'num_leaves': 6, 'feature_fraction': 0.6221691339403717, 'bagging_freq': 6, 'min_child_samples': 5, 'lambda_l1': 0.4989201517512116, 'lambda_l2': 0.49308936641921314}.\n"
     ]
    },
    {
     "name": "stdout",
     "output_type": "stream",
     "text": [
      "0.5794519352505282\n",
      "{'max_bin': 222, 'subsample': 0.8272476271246125, 'subsample_freq': 0.7824872353751413, 'learning_rate': 0.08091706937160277, 'num_leaves': 6, 'feature_fraction': 0.6221691339403717, 'bagging_freq': 6, 'min_child_samples': 5, 'lambda_l1': 0.4989201517512116, 'lambda_l2': 0.49308936641921314}\n"
     ]
    }
   ],
   "source": [
    "train_df['jobflag_2']=train_df['jobflag']-1\n",
    "feature = train_df.drop(columns=['jobflag', 'jobflag_2']).columns\n",
    "warnings.filterwarnings('ignore')\n",
    "optimize_optuna = Optimize_by_Optuna(train_df, feature, 'jobflag_2')\n",
    "study = optuna.create_study(direction='maximize')\n",
    "study.optimize(optimize_optuna.objective, n_trials=40)\n",
    "print(study.best_value)\n",
    "print(study.best_params)"
   ]
  },
  {
   "cell_type": "code",
   "execution_count": 66,
   "metadata": {},
   "outputs": [],
   "source": [
    "PARAMS = {#'boosting_type': 'gbdt', 'metric': 'rmse',\n",
    "    'boosting_type': 'gbdt','objective': 'multiclass','metric': 'multiclass', 'num_class':4,\n",
    "    'n_estimators': 1400,\n",
    "    'boost_from_average': False,'verbose': -1,'random_state':2020,\n",
    "    'max_bin': 222, 'subsample': 0.8272476271246125, 'subsample_freq': 0.7824872353751413, 'learning_rate': 0.08091706937160277,\n",
    "    'num_leaves': 6, 'feature_fraction': 0.6221691339403717, 'bagging_freq': 6, 'min_child_samples': 5,\n",
    "    'lambda_l1': 0.4989201517512116, 'lambda_l2': 0.49308936641921314\n",
    "}"
   ]
  },
  {
   "cell_type": "code",
   "execution_count": 77,
   "metadata": {},
   "outputs": [],
   "source": [
    "train_X = train_df.drop(columns=['jobflag'])\n",
    "train_y = train_df['jobflag']-1"
   ]
  },
  {
   "cell_type": "code",
   "execution_count": 68,
   "metadata": {},
   "outputs": [
    {
     "name": "stdout",
     "output_type": "stream",
     "text": [
      "Training until validation scores don't improve for 200 rounds\n",
      "Early stopping, best iteration is:\n",
      "[220]\tvalid_0's multi_logloss: 0.924114\n",
      "Training until validation scores don't improve for 200 rounds\n",
      "[500]\tvalid_0's multi_logloss: 0.862264\n",
      "Early stopping, best iteration is:\n",
      "[334]\tvalid_0's multi_logloss: 0.853146\n",
      "Training until validation scores don't improve for 200 rounds\n",
      "Early stopping, best iteration is:\n",
      "[216]\tvalid_0's multi_logloss: 0.871711\n",
      "Training until validation scores don't improve for 200 rounds\n",
      "Early stopping, best iteration is:\n",
      "[216]\tvalid_0's multi_logloss: 0.889571\n",
      "Training until validation scores don't improve for 200 rounds\n",
      "[500]\tvalid_0's multi_logloss: 0.946109\n",
      "Early stopping, best iteration is:\n",
      "[332]\tvalid_0's multi_logloss: 0.931532\n"
     ]
    }
   ],
   "source": [
    "k = StratifiedKFold(n_splits=5)\n",
    "score=[]\n",
    "importance=[]\n",
    "for trn, val in k.split(train_X, train_y):\n",
    "    trn_X, val_X = train_X.iloc[trn,:], train_X.iloc[val,:]\n",
    "    trn_y, val_y = train_y.iloc[trn].astype(int), train_y.iloc[val].astype(int)\n",
    "    train_set = lgb.Dataset(trn_X, trn_y)\n",
    "    val_set = lgb.Dataset(val_X, val_y)\n",
    "    \n",
    "    PARAMS['random_state']+=1\n",
    "    model = lgb.train(params=PARAMS, train_set=train_set, valid_sets=val_set,\n",
    "                      num_boost_round=3000, early_stopping_rounds=200, verbose_eval=500)\n",
    "    preds = model.predict(val_X)\n",
    "    score.append(metrics.f1_score(val_y,  np.argmax(preds, axis=1), average='macro'))\n",
    "    importance.append(model.feature_importance('gain'))"
   ]
  },
  {
   "cell_type": "code",
   "execution_count": 72,
   "metadata": {},
   "outputs": [
    {
     "name": "stdout",
     "output_type": "stream",
     "text": [
      "0.5754877157059921\n"
     ]
    }
   ],
   "source": [
    "print(np.mean(score))"
   ]
  },
  {
   "cell_type": "code",
   "execution_count": 70,
   "metadata": {},
   "outputs": [],
   "source": [
    "importance_df=pd.DataFrame()\n",
    "importance_df['col'] = trn_X.columns\n",
    "importance_df['mean_value'] = np.mean(importance, axis=0)\n",
    "importance_df['std_value'] = np.std(importance, axis=0)\n",
    "importance_df['mean_std'] = importance_df.mean_value/importance_df.std_value"
   ]
  },
  {
   "cell_type": "code",
   "execution_count": 71,
   "metadata": {},
   "outputs": [
    {
     "data": {
      "text/html": [
       "<div>\n",
       "<style scoped>\n",
       "    .dataframe tbody tr th:only-of-type {\n",
       "        vertical-align: middle;\n",
       "    }\n",
       "\n",
       "    .dataframe tbody tr th {\n",
       "        vertical-align: top;\n",
       "    }\n",
       "\n",
       "    .dataframe thead th {\n",
       "        text-align: right;\n",
       "    }\n",
       "</style>\n",
       "<table border=\"1\" class=\"dataframe\">\n",
       "  <thead>\n",
       "    <tr style=\"text-align: right;\">\n",
       "      <th></th>\n",
       "      <th>col</th>\n",
       "      <th>mean_value</th>\n",
       "      <th>std_value</th>\n",
       "      <th>mean_std</th>\n",
       "    </tr>\n",
       "  </thead>\n",
       "  <tbody>\n",
       "    <tr>\n",
       "      <th>2129</th>\n",
       "      <td>particip</td>\n",
       "      <td>85.388595</td>\n",
       "      <td>8.765915</td>\n",
       "      <td>9.740979</td>\n",
       "    </tr>\n",
       "    <tr>\n",
       "      <th>1017</th>\n",
       "      <td>engin</td>\n",
       "      <td>186.342864</td>\n",
       "      <td>19.082186</td>\n",
       "      <td>9.765279</td>\n",
       "    </tr>\n",
       "    <tr>\n",
       "      <th>645</th>\n",
       "      <td>continu</td>\n",
       "      <td>38.128485</td>\n",
       "      <td>3.607716</td>\n",
       "      <td>10.568593</td>\n",
       "    </tr>\n",
       "    <tr>\n",
       "      <th>2947</th>\n",
       "      <td>support</td>\n",
       "      <td>143.138502</td>\n",
       "      <td>13.088769</td>\n",
       "      <td>10.935979</td>\n",
       "    </tr>\n",
       "    <tr>\n",
       "      <th>3118</th>\n",
       "      <td>troubleshoot</td>\n",
       "      <td>76.248007</td>\n",
       "      <td>6.377579</td>\n",
       "      <td>11.955635</td>\n",
       "    </tr>\n",
       "    <tr>\n",
       "      <th>1889</th>\n",
       "      <td>model</td>\n",
       "      <td>660.519992</td>\n",
       "      <td>54.649322</td>\n",
       "      <td>12.086518</td>\n",
       "    </tr>\n",
       "    <tr>\n",
       "      <th>2652</th>\n",
       "      <td>scientist</td>\n",
       "      <td>70.629911</td>\n",
       "      <td>5.726928</td>\n",
       "      <td>12.332949</td>\n",
       "    </tr>\n",
       "    <tr>\n",
       "      <th>752</th>\n",
       "      <td>data</td>\n",
       "      <td>2314.913834</td>\n",
       "      <td>156.563636</td>\n",
       "      <td>14.785769</td>\n",
       "    </tr>\n",
       "    <tr>\n",
       "      <th>2788</th>\n",
       "      <td>softwar</td>\n",
       "      <td>630.126143</td>\n",
       "      <td>40.834488</td>\n",
       "      <td>15.431224</td>\n",
       "    </tr>\n",
       "    <tr>\n",
       "      <th>1767</th>\n",
       "      <td>machinelearn</td>\n",
       "      <td>1205.882779</td>\n",
       "      <td>49.850654</td>\n",
       "      <td>24.189909</td>\n",
       "    </tr>\n",
       "  </tbody>\n",
       "</table>\n",
       "</div>"
      ],
      "text/plain": [
       "               col   mean_value   std_value   mean_std\n",
       "2129      particip    85.388595    8.765915   9.740979\n",
       "1017         engin   186.342864   19.082186   9.765279\n",
       "645        continu    38.128485    3.607716  10.568593\n",
       "2947       support   143.138502   13.088769  10.935979\n",
       "3118  troubleshoot    76.248007    6.377579  11.955635\n",
       "1889         model   660.519992   54.649322  12.086518\n",
       "2652     scientist    70.629911    5.726928  12.332949\n",
       "752           data  2314.913834  156.563636  14.785769\n",
       "2788       softwar   630.126143   40.834488  15.431224\n",
       "1767  machinelearn  1205.882779   49.850654  24.189909"
      ]
     },
     "execution_count": 71,
     "metadata": {},
     "output_type": "execute_result"
    }
   ],
   "source": [
    "importance_df.dropna(axis=0).sort_values('mean_std').tail(10)"
   ]
  },
  {
   "cell_type": "code",
   "execution_count": 80,
   "metadata": {
    "scrolled": true
   },
   "outputs": [
    {
     "name": "stdout",
     "output_type": "stream",
     "text": [
      "Training until validation scores don't improve for 200 rounds\n",
      "Early stopping, best iteration is:\n",
      "[31]\tvalid_0's multi_logloss: 1.27041\n",
      "Training until validation scores don't improve for 200 rounds\n",
      "Early stopping, best iteration is:\n",
      "[35]\tvalid_0's multi_logloss: 1.26943\n",
      "Training until validation scores don't improve for 200 rounds\n",
      "Early stopping, best iteration is:\n",
      "[38]\tvalid_0's multi_logloss: 1.26576\n",
      "Training until validation scores don't improve for 200 rounds\n",
      "Early stopping, best iteration is:\n",
      "[31]\tvalid_0's multi_logloss: 1.27443\n",
      "Training until validation scores don't improve for 200 rounds\n",
      "Early stopping, best iteration is:\n",
      "[36]\tvalid_0's multi_logloss: 1.26989\n",
      "Training until validation scores don't improve for 200 rounds\n",
      "Early stopping, best iteration is:\n",
      "[54]\tvalid_0's multi_logloss: 1.25365\n",
      "Training until validation scores don't improve for 200 rounds\n",
      "Early stopping, best iteration is:\n",
      "[38]\tvalid_0's multi_logloss: 1.2686\n",
      "Training until validation scores don't improve for 200 rounds\n",
      "Early stopping, best iteration is:\n",
      "[31]\tvalid_0's multi_logloss: 1.26556\n",
      "Training until validation scores don't improve for 200 rounds\n",
      "Early stopping, best iteration is:\n",
      "[38]\tvalid_0's multi_logloss: 1.26162\n",
      "Training until validation scores don't improve for 200 rounds\n",
      "Early stopping, best iteration is:\n",
      "[41]\tvalid_0's multi_logloss: 1.26533\n",
      "Training until validation scores don't improve for 200 rounds\n",
      "Early stopping, best iteration is:\n",
      "[42]\tvalid_0's multi_logloss: 1.2666\n",
      "Training until validation scores don't improve for 200 rounds\n",
      "Early stopping, best iteration is:\n",
      "[28]\tvalid_0's multi_logloss: 1.27282\n",
      "Training until validation scores don't improve for 200 rounds\n",
      "Early stopping, best iteration is:\n",
      "[25]\tvalid_0's multi_logloss: 1.27311\n",
      "Training until validation scores don't improve for 200 rounds\n",
      "Early stopping, best iteration is:\n",
      "[36]\tvalid_0's multi_logloss: 1.26163\n",
      "Training until validation scores don't improve for 200 rounds\n",
      "Early stopping, best iteration is:\n",
      "[31]\tvalid_0's multi_logloss: 1.26782\n",
      "Training until validation scores don't improve for 200 rounds\n",
      "Early stopping, best iteration is:\n",
      "[30]\tvalid_0's multi_logloss: 1.27159\n",
      "Training until validation scores don't improve for 200 rounds\n",
      "Early stopping, best iteration is:\n",
      "[32]\tvalid_0's multi_logloss: 1.27539\n",
      "Training until validation scores don't improve for 200 rounds\n",
      "Early stopping, best iteration is:\n",
      "[29]\tvalid_0's multi_logloss: 1.27386\n",
      "Training until validation scores don't improve for 200 rounds\n",
      "Early stopping, best iteration is:\n",
      "[25]\tvalid_0's multi_logloss: 1.27533\n",
      "Training until validation scores don't improve for 200 rounds\n",
      "Early stopping, best iteration is:\n",
      "[27]\tvalid_0's multi_logloss: 1.2717\n",
      "Training until validation scores don't improve for 200 rounds\n",
      "Early stopping, best iteration is:\n",
      "[30]\tvalid_0's multi_logloss: 1.26876\n",
      "Training until validation scores don't improve for 200 rounds\n",
      "Early stopping, best iteration is:\n",
      "[32]\tvalid_0's multi_logloss: 1.27275\n",
      "Training until validation scores don't improve for 200 rounds\n",
      "Early stopping, best iteration is:\n",
      "[24]\tvalid_0's multi_logloss: 1.2708\n",
      "Training until validation scores don't improve for 200 rounds\n",
      "Early stopping, best iteration is:\n",
      "[31]\tvalid_0's multi_logloss: 1.26849\n",
      "Training until validation scores don't improve for 200 rounds\n",
      "Early stopping, best iteration is:\n",
      "[46]\tvalid_0's multi_logloss: 1.26778\n",
      "Training until validation scores don't improve for 200 rounds\n",
      "Early stopping, best iteration is:\n",
      "[38]\tvalid_0's multi_logloss: 1.2685\n",
      "Training until validation scores don't improve for 200 rounds\n",
      "Early stopping, best iteration is:\n",
      "[53]\tvalid_0's multi_logloss: 1.26744\n",
      "Training until validation scores don't improve for 200 rounds\n",
      "Early stopping, best iteration is:\n",
      "[45]\tvalid_0's multi_logloss: 1.26942\n",
      "Training until validation scores don't improve for 200 rounds\n",
      "Early stopping, best iteration is:\n",
      "[33]\tvalid_0's multi_logloss: 1.2683\n",
      "Training until validation scores don't improve for 200 rounds\n",
      "Early stopping, best iteration is:\n",
      "[35]\tvalid_0's multi_logloss: 1.26825\n",
      "Training until validation scores don't improve for 200 rounds\n",
      "Early stopping, best iteration is:\n",
      "[34]\tvalid_0's multi_logloss: 1.28033\n",
      "Training until validation scores don't improve for 200 rounds\n",
      "Early stopping, best iteration is:\n",
      "[30]\tvalid_0's multi_logloss: 1.27481\n",
      "Training until validation scores don't improve for 200 rounds\n",
      "Early stopping, best iteration is:\n",
      "[37]\tvalid_0's multi_logloss: 1.26736\n",
      "Training until validation scores don't improve for 200 rounds\n",
      "Early stopping, best iteration is:\n",
      "[36]\tvalid_0's multi_logloss: 1.26932\n",
      "Training until validation scores don't improve for 200 rounds\n",
      "Early stopping, best iteration is:\n",
      "[30]\tvalid_0's multi_logloss: 1.26869\n",
      "Training until validation scores don't improve for 200 rounds\n",
      "Early stopping, best iteration is:\n",
      "[27]\tvalid_0's multi_logloss: 1.27848\n",
      "Training until validation scores don't improve for 200 rounds\n",
      "Early stopping, best iteration is:\n",
      "[31]\tvalid_0's multi_logloss: 1.27074\n",
      "Training until validation scores don't improve for 200 rounds\n",
      "Early stopping, best iteration is:\n",
      "[43]\tvalid_0's multi_logloss: 1.26338\n",
      "Training until validation scores don't improve for 200 rounds\n",
      "Early stopping, best iteration is:\n",
      "[28]\tvalid_0's multi_logloss: 1.26729\n",
      "Training until validation scores don't improve for 200 rounds\n",
      "Early stopping, best iteration is:\n",
      "[37]\tvalid_0's multi_logloss: 1.26773\n",
      "Training until validation scores don't improve for 200 rounds\n",
      "Early stopping, best iteration is:\n",
      "[41]\tvalid_0's multi_logloss: 1.27052\n",
      "Training until validation scores don't improve for 200 rounds\n",
      "Early stopping, best iteration is:\n",
      "[31]\tvalid_0's multi_logloss: 1.27115\n",
      "Training until validation scores don't improve for 200 rounds\n",
      "Early stopping, best iteration is:\n",
      "[33]\tvalid_0's multi_logloss: 1.26935\n",
      "Training until validation scores don't improve for 200 rounds\n",
      "Early stopping, best iteration is:\n",
      "[32]\tvalid_0's multi_logloss: 1.26969\n",
      "Training until validation scores don't improve for 200 rounds\n",
      "Early stopping, best iteration is:\n",
      "[39]\tvalid_0's multi_logloss: 1.27636\n",
      "Training until validation scores don't improve for 200 rounds\n",
      "Early stopping, best iteration is:\n",
      "[38]\tvalid_0's multi_logloss: 1.26491\n",
      "Training until validation scores don't improve for 200 rounds\n",
      "Early stopping, best iteration is:\n",
      "[31]\tvalid_0's multi_logloss: 1.2698\n",
      "Training until validation scores don't improve for 200 rounds\n",
      "Early stopping, best iteration is:\n",
      "[41]\tvalid_0's multi_logloss: 1.27242\n",
      "Training until validation scores don't improve for 200 rounds\n",
      "Early stopping, best iteration is:\n",
      "[33]\tvalid_0's multi_logloss: 1.26583\n",
      "Training until validation scores don't improve for 200 rounds\n",
      "Early stopping, best iteration is:\n",
      "[37]\tvalid_0's multi_logloss: 1.26625\n",
      "Training until validation scores don't improve for 200 rounds\n",
      "Early stopping, best iteration is:\n",
      "[32]\tvalid_0's multi_logloss: 1.26695\n",
      "Training until validation scores don't improve for 200 rounds\n",
      "Early stopping, best iteration is:\n",
      "[60]\tvalid_0's multi_logloss: 1.26375\n",
      "Training until validation scores don't improve for 200 rounds\n",
      "Early stopping, best iteration is:\n",
      "[36]\tvalid_0's multi_logloss: 1.26081\n",
      "Training until validation scores don't improve for 200 rounds\n",
      "Early stopping, best iteration is:\n",
      "[53]\tvalid_0's multi_logloss: 1.25648\n",
      "Training until validation scores don't improve for 200 rounds\n",
      "Early stopping, best iteration is:\n",
      "[45]\tvalid_0's multi_logloss: 1.26565\n",
      "Training until validation scores don't improve for 200 rounds\n",
      "Early stopping, best iteration is:\n",
      "[32]\tvalid_0's multi_logloss: 1.26801\n",
      "Training until validation scores don't improve for 200 rounds\n",
      "Early stopping, best iteration is:\n",
      "[33]\tvalid_0's multi_logloss: 1.2668\n",
      "Training until validation scores don't improve for 200 rounds\n",
      "Early stopping, best iteration is:\n",
      "[45]\tvalid_0's multi_logloss: 1.25808\n",
      "Training until validation scores don't improve for 200 rounds\n",
      "Early stopping, best iteration is:\n",
      "[26]\tvalid_0's multi_logloss: 1.27104\n",
      "Training until validation scores don't improve for 200 rounds\n",
      "Early stopping, best iteration is:\n",
      "[36]\tvalid_0's multi_logloss: 1.26894\n",
      "Training until validation scores don't improve for 200 rounds\n",
      "Early stopping, best iteration is:\n"
     ]
    },
    {
     "name": "stdout",
     "output_type": "stream",
     "text": [
      "[39]\tvalid_0's multi_logloss: 1.2594\n",
      "Training until validation scores don't improve for 200 rounds\n",
      "Early stopping, best iteration is:\n",
      "[36]\tvalid_0's multi_logloss: 1.26554\n",
      "Training until validation scores don't improve for 200 rounds\n",
      "Early stopping, best iteration is:\n",
      "[33]\tvalid_0's multi_logloss: 1.26973\n",
      "Training until validation scores don't improve for 200 rounds\n",
      "Early stopping, best iteration is:\n",
      "[46]\tvalid_0's multi_logloss: 1.26246\n",
      "Training until validation scores don't improve for 200 rounds\n",
      "Early stopping, best iteration is:\n",
      "[42]\tvalid_0's multi_logloss: 1.27206\n",
      "Training until validation scores don't improve for 200 rounds\n",
      "Early stopping, best iteration is:\n",
      "[36]\tvalid_0's multi_logloss: 1.27033\n",
      "Training until validation scores don't improve for 200 rounds\n",
      "Early stopping, best iteration is:\n",
      "[31]\tvalid_0's multi_logloss: 1.26737\n",
      "Training until validation scores don't improve for 200 rounds\n",
      "Early stopping, best iteration is:\n",
      "[30]\tvalid_0's multi_logloss: 1.2641\n",
      "Training until validation scores don't improve for 200 rounds\n",
      "Early stopping, best iteration is:\n",
      "[33]\tvalid_0's multi_logloss: 1.26888\n",
      "Training until validation scores don't improve for 200 rounds\n",
      "Early stopping, best iteration is:\n",
      "[40]\tvalid_0's multi_logloss: 1.26654\n",
      "Training until validation scores don't improve for 200 rounds\n",
      "Early stopping, best iteration is:\n",
      "[42]\tvalid_0's multi_logloss: 1.26353\n",
      "Training until validation scores don't improve for 200 rounds\n",
      "Early stopping, best iteration is:\n",
      "[29]\tvalid_0's multi_logloss: 1.26038\n",
      "Training until validation scores don't improve for 200 rounds\n",
      "Early stopping, best iteration is:\n",
      "[42]\tvalid_0's multi_logloss: 1.26435\n",
      "Training until validation scores don't improve for 200 rounds\n",
      "Early stopping, best iteration is:\n",
      "[36]\tvalid_0's multi_logloss: 1.26039\n",
      "Training until validation scores don't improve for 200 rounds\n",
      "Early stopping, best iteration is:\n",
      "[34]\tvalid_0's multi_logloss: 1.26345\n",
      "Training until validation scores don't improve for 200 rounds\n",
      "Early stopping, best iteration is:\n",
      "[35]\tvalid_0's multi_logloss: 1.26487\n",
      "Training until validation scores don't improve for 200 rounds\n",
      "Early stopping, best iteration is:\n",
      "[42]\tvalid_0's multi_logloss: 1.27217\n",
      "Training until validation scores don't improve for 200 rounds\n",
      "Early stopping, best iteration is:\n",
      "[30]\tvalid_0's multi_logloss: 1.27124\n",
      "Training until validation scores don't improve for 200 rounds\n",
      "Early stopping, best iteration is:\n",
      "[36]\tvalid_0's multi_logloss: 1.26863\n",
      "Training until validation scores don't improve for 200 rounds\n",
      "Early stopping, best iteration is:\n",
      "[51]\tvalid_0's multi_logloss: 1.26545\n",
      "Training until validation scores don't improve for 200 rounds\n",
      "Early stopping, best iteration is:\n",
      "[33]\tvalid_0's multi_logloss: 1.2702\n",
      "Training until validation scores don't improve for 200 rounds\n",
      "Early stopping, best iteration is:\n",
      "[36]\tvalid_0's multi_logloss: 1.25986\n",
      "Training until validation scores don't improve for 200 rounds\n",
      "Early stopping, best iteration is:\n",
      "[26]\tvalid_0's multi_logloss: 1.26553\n",
      "Training until validation scores don't improve for 200 rounds\n",
      "Early stopping, best iteration is:\n",
      "[58]\tvalid_0's multi_logloss: 1.25874\n",
      "Training until validation scores don't improve for 200 rounds\n",
      "Early stopping, best iteration is:\n",
      "[26]\tvalid_0's multi_logloss: 1.27408\n",
      "Training until validation scores don't improve for 200 rounds\n",
      "Early stopping, best iteration is:\n",
      "[32]\tvalid_0's multi_logloss: 1.27068\n",
      "Training until validation scores don't improve for 200 rounds\n",
      "Early stopping, best iteration is:\n",
      "[58]\tvalid_0's multi_logloss: 1.26109\n",
      "Training until validation scores don't improve for 200 rounds\n",
      "Early stopping, best iteration is:\n",
      "[27]\tvalid_0's multi_logloss: 1.27215\n",
      "Training until validation scores don't improve for 200 rounds\n",
      "Early stopping, best iteration is:\n",
      "[25]\tvalid_0's multi_logloss: 1.26546\n",
      "Training until validation scores don't improve for 200 rounds\n",
      "Early stopping, best iteration is:\n",
      "[41]\tvalid_0's multi_logloss: 1.26179\n",
      "Training until validation scores don't improve for 200 rounds\n",
      "Early stopping, best iteration is:\n",
      "[38]\tvalid_0's multi_logloss: 1.2664\n",
      "Training until validation scores don't improve for 200 rounds\n",
      "Early stopping, best iteration is:\n",
      "[46]\tvalid_0's multi_logloss: 1.25541\n",
      "Training until validation scores don't improve for 200 rounds\n",
      "Early stopping, best iteration is:\n",
      "[30]\tvalid_0's multi_logloss: 1.27395\n",
      "Training until validation scores don't improve for 200 rounds\n",
      "Early stopping, best iteration is:\n",
      "[33]\tvalid_0's multi_logloss: 1.2666\n",
      "Training until validation scores don't improve for 200 rounds\n",
      "Early stopping, best iteration is:\n",
      "[43]\tvalid_0's multi_logloss: 1.26978\n",
      "Training until validation scores don't improve for 200 rounds\n",
      "Early stopping, best iteration is:\n",
      "[37]\tvalid_0's multi_logloss: 1.27067\n",
      "Training until validation scores don't improve for 200 rounds\n",
      "Early stopping, best iteration is:\n",
      "[31]\tvalid_0's multi_logloss: 1.27507\n",
      "Training until validation scores don't improve for 200 rounds\n",
      "Early stopping, best iteration is:\n",
      "[37]\tvalid_0's multi_logloss: 1.26625\n",
      "Training until validation scores don't improve for 200 rounds\n",
      "Early stopping, best iteration is:\n",
      "[38]\tvalid_0's multi_logloss: 1.2716\n",
      "Training until validation scores don't improve for 200 rounds\n",
      "Early stopping, best iteration is:\n",
      "[42]\tvalid_0's multi_logloss: 1.27619\n",
      "Training until validation scores don't improve for 200 rounds\n",
      "Early stopping, best iteration is:\n",
      "[42]\tvalid_0's multi_logloss: 1.26793\n",
      "Training until validation scores don't improve for 200 rounds\n",
      "Early stopping, best iteration is:\n",
      "[39]\tvalid_0's multi_logloss: 1.26483\n",
      "Training until validation scores don't improve for 200 rounds\n",
      "Early stopping, best iteration is:\n",
      "[44]\tvalid_0's multi_logloss: 1.26806\n",
      "Training until validation scores don't improve for 200 rounds\n",
      "Early stopping, best iteration is:\n",
      "[33]\tvalid_0's multi_logloss: 1.26531\n",
      "Training until validation scores don't improve for 200 rounds\n",
      "Early stopping, best iteration is:\n",
      "[30]\tvalid_0's multi_logloss: 1.27172\n",
      "Training until validation scores don't improve for 200 rounds\n",
      "Early stopping, best iteration is:\n",
      "[33]\tvalid_0's multi_logloss: 1.27469\n",
      "Training until validation scores don't improve for 200 rounds\n",
      "Early stopping, best iteration is:\n",
      "[36]\tvalid_0's multi_logloss: 1.27511\n",
      "Training until validation scores don't improve for 200 rounds\n",
      "Early stopping, best iteration is:\n",
      "[33]\tvalid_0's multi_logloss: 1.27365\n",
      "Training until validation scores don't improve for 200 rounds\n",
      "Early stopping, best iteration is:\n",
      "[30]\tvalid_0's multi_logloss: 1.27215\n",
      "Training until validation scores don't improve for 200 rounds\n",
      "Early stopping, best iteration is:\n",
      "[37]\tvalid_0's multi_logloss: 1.26215\n",
      "Training until validation scores don't improve for 200 rounds\n",
      "Early stopping, best iteration is:\n",
      "[36]\tvalid_0's multi_logloss: 1.26932\n",
      "Training until validation scores don't improve for 200 rounds\n",
      "Early stopping, best iteration is:\n",
      "[26]\tvalid_0's multi_logloss: 1.27457\n",
      "Training until validation scores don't improve for 200 rounds\n",
      "Early stopping, best iteration is:\n",
      "[31]\tvalid_0's multi_logloss: 1.27022\n",
      "Training until validation scores don't improve for 200 rounds\n",
      "Early stopping, best iteration is:\n",
      "[34]\tvalid_0's multi_logloss: 1.25738\n",
      "Training until validation scores don't improve for 200 rounds\n",
      "Early stopping, best iteration is:\n",
      "[43]\tvalid_0's multi_logloss: 1.26996\n",
      "Training until validation scores don't improve for 200 rounds\n",
      "Early stopping, best iteration is:\n",
      "[40]\tvalid_0's multi_logloss: 1.27004\n",
      "Training until validation scores don't improve for 200 rounds\n",
      "Early stopping, best iteration is:\n",
      "[50]\tvalid_0's multi_logloss: 1.26061\n",
      "Training until validation scores don't improve for 200 rounds\n",
      "Early stopping, best iteration is:\n",
      "[43]\tvalid_0's multi_logloss: 1.26818\n",
      "Training until validation scores don't improve for 200 rounds\n",
      "Early stopping, best iteration is:\n",
      "[29]\tvalid_0's multi_logloss: 1.26729\n",
      "Training until validation scores don't improve for 200 rounds\n",
      "Early stopping, best iteration is:\n",
      "[38]\tvalid_0's multi_logloss: 1.26146\n",
      "Training until validation scores don't improve for 200 rounds\n",
      "Early stopping, best iteration is:\n",
      "[36]\tvalid_0's multi_logloss: 1.26994\n"
     ]
    },
    {
     "name": "stdout",
     "output_type": "stream",
     "text": [
      "Training until validation scores don't improve for 200 rounds\n",
      "Early stopping, best iteration is:\n",
      "[31]\tvalid_0's multi_logloss: 1.27098\n",
      "Training until validation scores don't improve for 200 rounds\n",
      "Early stopping, best iteration is:\n",
      "[38]\tvalid_0's multi_logloss: 1.27258\n",
      "Training until validation scores don't improve for 200 rounds\n",
      "Early stopping, best iteration is:\n",
      "[30]\tvalid_0's multi_logloss: 1.26191\n",
      "Training until validation scores don't improve for 200 rounds\n",
      "Early stopping, best iteration is:\n",
      "[26]\tvalid_0's multi_logloss: 1.26796\n",
      "Training until validation scores don't improve for 200 rounds\n",
      "Early stopping, best iteration is:\n",
      "[41]\tvalid_0's multi_logloss: 1.26981\n",
      "Training until validation scores don't improve for 200 rounds\n",
      "Early stopping, best iteration is:\n",
      "[38]\tvalid_0's multi_logloss: 1.27053\n",
      "Training until validation scores don't improve for 200 rounds\n",
      "Early stopping, best iteration is:\n",
      "[45]\tvalid_0's multi_logloss: 1.26982\n",
      "Training until validation scores don't improve for 200 rounds\n",
      "Early stopping, best iteration is:\n",
      "[54]\tvalid_0's multi_logloss: 1.26387\n",
      "Training until validation scores don't improve for 200 rounds\n",
      "Early stopping, best iteration is:\n",
      "[33]\tvalid_0's multi_logloss: 1.26439\n",
      "Training until validation scores don't improve for 200 rounds\n",
      "Early stopping, best iteration is:\n",
      "[66]\tvalid_0's multi_logloss: 1.26481\n",
      "Training until validation scores don't improve for 200 rounds\n",
      "Early stopping, best iteration is:\n",
      "[40]\tvalid_0's multi_logloss: 1.26931\n",
      "Training until validation scores don't improve for 200 rounds\n",
      "Early stopping, best iteration is:\n",
      "[37]\tvalid_0's multi_logloss: 1.25976\n",
      "Training until validation scores don't improve for 200 rounds\n",
      "Early stopping, best iteration is:\n",
      "[31]\tvalid_0's multi_logloss: 1.26848\n",
      "Training until validation scores don't improve for 200 rounds\n",
      "Early stopping, best iteration is:\n",
      "[24]\tvalid_0's multi_logloss: 1.26718\n",
      "Training until validation scores don't improve for 200 rounds\n",
      "Early stopping, best iteration is:\n",
      "[36]\tvalid_0's multi_logloss: 1.27013\n",
      "Training until validation scores don't improve for 200 rounds\n",
      "Early stopping, best iteration is:\n",
      "[28]\tvalid_0's multi_logloss: 1.28114\n",
      "Training until validation scores don't improve for 200 rounds\n",
      "Early stopping, best iteration is:\n",
      "[40]\tvalid_0's multi_logloss: 1.27431\n",
      "Training until validation scores don't improve for 200 rounds\n",
      "Early stopping, best iteration is:\n",
      "[34]\tvalid_0's multi_logloss: 1.27316\n",
      "Training until validation scores don't improve for 200 rounds\n",
      "Early stopping, best iteration is:\n",
      "[44]\tvalid_0's multi_logloss: 1.27947\n",
      "Training until validation scores don't improve for 200 rounds\n",
      "Early stopping, best iteration is:\n",
      "[37]\tvalid_0's multi_logloss: 1.26215\n",
      "Training until validation scores don't improve for 200 rounds\n",
      "Early stopping, best iteration is:\n",
      "[31]\tvalid_0's multi_logloss: 1.27357\n",
      "Training until validation scores don't improve for 200 rounds\n",
      "Early stopping, best iteration is:\n",
      "[36]\tvalid_0's multi_logloss: 1.27064\n",
      "Training until validation scores don't improve for 200 rounds\n",
      "Early stopping, best iteration is:\n",
      "[44]\tvalid_0's multi_logloss: 1.26062\n",
      "Training until validation scores don't improve for 200 rounds\n",
      "Early stopping, best iteration is:\n",
      "[36]\tvalid_0's multi_logloss: 1.26785\n",
      "Training until validation scores don't improve for 200 rounds\n",
      "Early stopping, best iteration is:\n",
      "[47]\tvalid_0's multi_logloss: 1.26594\n",
      "Training until validation scores don't improve for 200 rounds\n",
      "Early stopping, best iteration is:\n",
      "[40]\tvalid_0's multi_logloss: 1.26657\n",
      "Training until validation scores don't improve for 200 rounds\n",
      "Early stopping, best iteration is:\n",
      "[34]\tvalid_0's multi_logloss: 1.26983\n",
      "Training until validation scores don't improve for 200 rounds\n",
      "Early stopping, best iteration is:\n",
      "[28]\tvalid_0's multi_logloss: 1.26711\n",
      "Training until validation scores don't improve for 200 rounds\n",
      "Early stopping, best iteration is:\n",
      "[24]\tvalid_0's multi_logloss: 1.27485\n",
      "Training until validation scores don't improve for 200 rounds\n",
      "Early stopping, best iteration is:\n",
      "[37]\tvalid_0's multi_logloss: 1.26889\n",
      "Training until validation scores don't improve for 200 rounds\n",
      "Early stopping, best iteration is:\n",
      "[29]\tvalid_0's multi_logloss: 1.27374\n",
      "Training until validation scores don't improve for 200 rounds\n",
      "Early stopping, best iteration is:\n",
      "[32]\tvalid_0's multi_logloss: 1.27632\n",
      "Training until validation scores don't improve for 200 rounds\n",
      "Early stopping, best iteration is:\n",
      "[29]\tvalid_0's multi_logloss: 1.26894\n",
      "Training until validation scores don't improve for 200 rounds\n",
      "Early stopping, best iteration is:\n",
      "[31]\tvalid_0's multi_logloss: 1.27479\n",
      "Training until validation scores don't improve for 200 rounds\n",
      "Early stopping, best iteration is:\n",
      "[26]\tvalid_0's multi_logloss: 1.2693\n",
      "Training until validation scores don't improve for 200 rounds\n",
      "Early stopping, best iteration is:\n",
      "[40]\tvalid_0's multi_logloss: 1.26914\n",
      "Training until validation scores don't improve for 200 rounds\n",
      "Early stopping, best iteration is:\n",
      "[36]\tvalid_0's multi_logloss: 1.27648\n",
      "Training until validation scores don't improve for 200 rounds\n",
      "Early stopping, best iteration is:\n",
      "[54]\tvalid_0's multi_logloss: 1.26147\n",
      "Training until validation scores don't improve for 200 rounds\n",
      "Early stopping, best iteration is:\n",
      "[34]\tvalid_0's multi_logloss: 1.26247\n",
      "Training until validation scores don't improve for 200 rounds\n",
      "Early stopping, best iteration is:\n",
      "[34]\tvalid_0's multi_logloss: 1.26906\n",
      "Training until validation scores don't improve for 200 rounds\n",
      "Early stopping, best iteration is:\n",
      "[29]\tvalid_0's multi_logloss: 1.27438\n",
      "Training until validation scores don't improve for 200 rounds\n",
      "Early stopping, best iteration is:\n",
      "[43]\tvalid_0's multi_logloss: 1.2698\n",
      "Training until validation scores don't improve for 200 rounds\n",
      "Early stopping, best iteration is:\n",
      "[42]\tvalid_0's multi_logloss: 1.26802\n",
      "Training until validation scores don't improve for 200 rounds\n",
      "Early stopping, best iteration is:\n",
      "[30]\tvalid_0's multi_logloss: 1.2632\n",
      "Training until validation scores don't improve for 200 rounds\n",
      "Early stopping, best iteration is:\n",
      "[42]\tvalid_0's multi_logloss: 1.25738\n",
      "Training until validation scores don't improve for 200 rounds\n",
      "Early stopping, best iteration is:\n",
      "[30]\tvalid_0's multi_logloss: 1.26765\n",
      "Training until validation scores don't improve for 200 rounds\n",
      "Early stopping, best iteration is:\n",
      "[33]\tvalid_0's multi_logloss: 1.27028\n",
      "Training until validation scores don't improve for 200 rounds\n",
      "Early stopping, best iteration is:\n",
      "[53]\tvalid_0's multi_logloss: 1.26639\n",
      "Training until validation scores don't improve for 200 rounds\n",
      "Early stopping, best iteration is:\n",
      "[48]\tvalid_0's multi_logloss: 1.26315\n",
      "Training until validation scores don't improve for 200 rounds\n",
      "Early stopping, best iteration is:\n",
      "[41]\tvalid_0's multi_logloss: 1.27012\n",
      "Training until validation scores don't improve for 200 rounds\n",
      "Early stopping, best iteration is:\n",
      "[30]\tvalid_0's multi_logloss: 1.26327\n",
      "Training until validation scores don't improve for 200 rounds\n",
      "Early stopping, best iteration is:\n",
      "[39]\tvalid_0's multi_logloss: 1.27598\n",
      "Training until validation scores don't improve for 200 rounds\n",
      "Early stopping, best iteration is:\n",
      "[41]\tvalid_0's multi_logloss: 1.26978\n",
      "Training until validation scores don't improve for 200 rounds\n",
      "Early stopping, best iteration is:\n",
      "[31]\tvalid_0's multi_logloss: 1.26713\n",
      "Training until validation scores don't improve for 200 rounds\n",
      "Early stopping, best iteration is:\n",
      "[31]\tvalid_0's multi_logloss: 1.27319\n",
      "Training until validation scores don't improve for 200 rounds\n",
      "Early stopping, best iteration is:\n",
      "[30]\tvalid_0's multi_logloss: 1.27171\n",
      "Training until validation scores don't improve for 200 rounds\n",
      "Early stopping, best iteration is:\n",
      "[39]\tvalid_0's multi_logloss: 1.26314\n",
      "Training until validation scores don't improve for 200 rounds\n",
      "Early stopping, best iteration is:\n",
      "[30]\tvalid_0's multi_logloss: 1.26868\n",
      "Training until validation scores don't improve for 200 rounds\n",
      "Early stopping, best iteration is:\n",
      "[31]\tvalid_0's multi_logloss: 1.27165\n",
      "Training until validation scores don't improve for 200 rounds\n",
      "Early stopping, best iteration is:\n",
      "[53]\tvalid_0's multi_logloss: 1.26369\n",
      "Training until validation scores don't improve for 200 rounds\n",
      "Early stopping, best iteration is:\n"
     ]
    },
    {
     "name": "stdout",
     "output_type": "stream",
     "text": [
      "[29]\tvalid_0's multi_logloss: 1.2672\n",
      "Training until validation scores don't improve for 200 rounds\n",
      "Early stopping, best iteration is:\n",
      "[42]\tvalid_0's multi_logloss: 1.2643\n",
      "Training until validation scores don't improve for 200 rounds\n",
      "Early stopping, best iteration is:\n",
      "[31]\tvalid_0's multi_logloss: 1.27458\n",
      "Training until validation scores don't improve for 200 rounds\n",
      "Early stopping, best iteration is:\n",
      "[28]\tvalid_0's multi_logloss: 1.26761\n",
      "Training until validation scores don't improve for 200 rounds\n",
      "Early stopping, best iteration is:\n",
      "[39]\tvalid_0's multi_logloss: 1.26156\n",
      "Training until validation scores don't improve for 200 rounds\n",
      "Early stopping, best iteration is:\n",
      "[29]\tvalid_0's multi_logloss: 1.2681\n",
      "Training until validation scores don't improve for 200 rounds\n",
      "Early stopping, best iteration is:\n",
      "[35]\tvalid_0's multi_logloss: 1.26167\n",
      "Training until validation scores don't improve for 200 rounds\n",
      "Early stopping, best iteration is:\n",
      "[42]\tvalid_0's multi_logloss: 1.26727\n",
      "Training until validation scores don't improve for 200 rounds\n",
      "Early stopping, best iteration is:\n",
      "[28]\tvalid_0's multi_logloss: 1.26553\n",
      "Training until validation scores don't improve for 200 rounds\n",
      "Early stopping, best iteration is:\n",
      "[47]\tvalid_0's multi_logloss: 1.27902\n",
      "Training until validation scores don't improve for 200 rounds\n",
      "Early stopping, best iteration is:\n",
      "[36]\tvalid_0's multi_logloss: 1.26619\n",
      "Training until validation scores don't improve for 200 rounds\n",
      "Early stopping, best iteration is:\n",
      "[31]\tvalid_0's multi_logloss: 1.26573\n",
      "Training until validation scores don't improve for 200 rounds\n",
      "Early stopping, best iteration is:\n",
      "[28]\tvalid_0's multi_logloss: 1.26945\n",
      "Training until validation scores don't improve for 200 rounds\n",
      "Early stopping, best iteration is:\n",
      "[29]\tvalid_0's multi_logloss: 1.27352\n",
      "Training until validation scores don't improve for 200 rounds\n",
      "Early stopping, best iteration is:\n",
      "[36]\tvalid_0's multi_logloss: 1.26601\n",
      "Training until validation scores don't improve for 200 rounds\n",
      "Early stopping, best iteration is:\n",
      "[41]\tvalid_0's multi_logloss: 1.2682\n",
      "Training until validation scores don't improve for 200 rounds\n",
      "Early stopping, best iteration is:\n",
      "[28]\tvalid_0's multi_logloss: 1.27287\n",
      "Training until validation scores don't improve for 200 rounds\n",
      "Early stopping, best iteration is:\n",
      "[37]\tvalid_0's multi_logloss: 1.2575\n",
      "Training until validation scores don't improve for 200 rounds\n",
      "Early stopping, best iteration is:\n",
      "[47]\tvalid_0's multi_logloss: 1.2691\n",
      "Training until validation scores don't improve for 200 rounds\n",
      "Early stopping, best iteration is:\n",
      "[47]\tvalid_0's multi_logloss: 1.25952\n",
      "Training until validation scores don't improve for 200 rounds\n",
      "Early stopping, best iteration is:\n",
      "[32]\tvalid_0's multi_logloss: 1.26089\n",
      "Training until validation scores don't improve for 200 rounds\n",
      "Early stopping, best iteration is:\n",
      "[40]\tvalid_0's multi_logloss: 1.2642\n",
      "Training until validation scores don't improve for 200 rounds\n",
      "Early stopping, best iteration is:\n",
      "[58]\tvalid_0's multi_logloss: 1.25469\n",
      "Training until validation scores don't improve for 200 rounds\n",
      "Early stopping, best iteration is:\n",
      "[36]\tvalid_0's multi_logloss: 1.26481\n",
      "Training until validation scores don't improve for 200 rounds\n",
      "Early stopping, best iteration is:\n",
      "[32]\tvalid_0's multi_logloss: 1.27012\n",
      "Training until validation scores don't improve for 200 rounds\n",
      "Early stopping, best iteration is:\n",
      "[33]\tvalid_0's multi_logloss: 1.26532\n",
      "Training until validation scores don't improve for 200 rounds\n",
      "Early stopping, best iteration is:\n",
      "[64]\tvalid_0's multi_logloss: 1.2607\n",
      "Training until validation scores don't improve for 200 rounds\n",
      "Early stopping, best iteration is:\n",
      "[41]\tvalid_0's multi_logloss: 1.2626\n",
      "Training until validation scores don't improve for 200 rounds\n",
      "Early stopping, best iteration is:\n",
      "[43]\tvalid_0's multi_logloss: 1.2668\n",
      "Training until validation scores don't improve for 200 rounds\n",
      "Early stopping, best iteration is:\n",
      "[42]\tvalid_0's multi_logloss: 1.27593\n",
      "Training until validation scores don't improve for 200 rounds\n",
      "Early stopping, best iteration is:\n",
      "[30]\tvalid_0's multi_logloss: 1.27834\n",
      "Training until validation scores don't improve for 200 rounds\n",
      "Early stopping, best iteration is:\n",
      "[42]\tvalid_0's multi_logloss: 1.26722\n",
      "Training until validation scores don't improve for 200 rounds\n",
      "Early stopping, best iteration is:\n",
      "[39]\tvalid_0's multi_logloss: 1.26795\n",
      "Training until validation scores don't improve for 200 rounds\n",
      "Early stopping, best iteration is:\n",
      "[32]\tvalid_0's multi_logloss: 1.27305\n",
      "Training until validation scores don't improve for 200 rounds\n",
      "Early stopping, best iteration is:\n",
      "[31]\tvalid_0's multi_logloss: 1.27203\n",
      "Training until validation scores don't improve for 200 rounds\n",
      "Early stopping, best iteration is:\n",
      "[36]\tvalid_0's multi_logloss: 1.25659\n",
      "Training until validation scores don't improve for 200 rounds\n",
      "Early stopping, best iteration is:\n",
      "[60]\tvalid_0's multi_logloss: 1.26007\n",
      "Training until validation scores don't improve for 200 rounds\n",
      "Early stopping, best iteration is:\n",
      "[28]\tvalid_0's multi_logloss: 1.26541\n",
      "Training until validation scores don't improve for 200 rounds\n",
      "Early stopping, best iteration is:\n",
      "[33]\tvalid_0's multi_logloss: 1.26653\n",
      "Training until validation scores don't improve for 200 rounds\n",
      "Early stopping, best iteration is:\n",
      "[35]\tvalid_0's multi_logloss: 1.27556\n",
      "Training until validation scores don't improve for 200 rounds\n",
      "Early stopping, best iteration is:\n",
      "[36]\tvalid_0's multi_logloss: 1.26768\n",
      "Training until validation scores don't improve for 200 rounds\n",
      "Early stopping, best iteration is:\n",
      "[32]\tvalid_0's multi_logloss: 1.2687\n",
      "Training until validation scores don't improve for 200 rounds\n",
      "Early stopping, best iteration is:\n",
      "[38]\tvalid_0's multi_logloss: 1.2686\n",
      "Training until validation scores don't improve for 200 rounds\n",
      "Early stopping, best iteration is:\n",
      "[35]\tvalid_0's multi_logloss: 1.26887\n",
      "Training until validation scores don't improve for 200 rounds\n",
      "Early stopping, best iteration is:\n",
      "[29]\tvalid_0's multi_logloss: 1.27041\n",
      "Training until validation scores don't improve for 200 rounds\n",
      "Early stopping, best iteration is:\n",
      "[48]\tvalid_0's multi_logloss: 1.26421\n",
      "Training until validation scores don't improve for 200 rounds\n",
      "Early stopping, best iteration is:\n",
      "[35]\tvalid_0's multi_logloss: 1.2788\n",
      "Training until validation scores don't improve for 200 rounds\n",
      "Early stopping, best iteration is:\n",
      "[37]\tvalid_0's multi_logloss: 1.26844\n",
      "Training until validation scores don't improve for 200 rounds\n",
      "Early stopping, best iteration is:\n",
      "[36]\tvalid_0's multi_logloss: 1.27424\n",
      "Training until validation scores don't improve for 200 rounds\n",
      "Early stopping, best iteration is:\n",
      "[35]\tvalid_0's multi_logloss: 1.26331\n",
      "Training until validation scores don't improve for 200 rounds\n",
      "Early stopping, best iteration is:\n",
      "[26]\tvalid_0's multi_logloss: 1.27579\n",
      "Training until validation scores don't improve for 200 rounds\n",
      "Early stopping, best iteration is:\n",
      "[38]\tvalid_0's multi_logloss: 1.26157\n",
      "Training until validation scores don't improve for 200 rounds\n",
      "Early stopping, best iteration is:\n",
      "[33]\tvalid_0's multi_logloss: 1.2665\n",
      "Training until validation scores don't improve for 200 rounds\n",
      "Early stopping, best iteration is:\n",
      "[50]\tvalid_0's multi_logloss: 1.25961\n",
      "Training until validation scores don't improve for 200 rounds\n",
      "Early stopping, best iteration is:\n",
      "[30]\tvalid_0's multi_logloss: 1.26716\n",
      "Training until validation scores don't improve for 200 rounds\n",
      "Early stopping, best iteration is:\n",
      "[35]\tvalid_0's multi_logloss: 1.26211\n",
      "Training until validation scores don't improve for 200 rounds\n",
      "Early stopping, best iteration is:\n",
      "[30]\tvalid_0's multi_logloss: 1.26345\n",
      "Training until validation scores don't improve for 200 rounds\n",
      "Early stopping, best iteration is:\n",
      "[49]\tvalid_0's multi_logloss: 1.2633\n",
      "Training until validation scores don't improve for 200 rounds\n",
      "Early stopping, best iteration is:\n",
      "[33]\tvalid_0's multi_logloss: 1.26571\n",
      "Training until validation scores don't improve for 200 rounds\n",
      "Early stopping, best iteration is:\n",
      "[33]\tvalid_0's multi_logloss: 1.27042\n",
      "Training until validation scores don't improve for 200 rounds\n",
      "Early stopping, best iteration is:\n",
      "[26]\tvalid_0's multi_logloss: 1.26934\n",
      "Training until validation scores don't improve for 200 rounds\n",
      "Early stopping, best iteration is:\n"
     ]
    },
    {
     "name": "stdout",
     "output_type": "stream",
     "text": [
      "[40]\tvalid_0's multi_logloss: 1.265\n",
      "Training until validation scores don't improve for 200 rounds\n",
      "Early stopping, best iteration is:\n",
      "[57]\tvalid_0's multi_logloss: 1.26707\n",
      "Training until validation scores don't improve for 200 rounds\n",
      "Early stopping, best iteration is:\n",
      "[35]\tvalid_0's multi_logloss: 1.26801\n",
      "Training until validation scores don't improve for 200 rounds\n",
      "Early stopping, best iteration is:\n",
      "[33]\tvalid_0's multi_logloss: 1.26891\n",
      "Training until validation scores don't improve for 200 rounds\n",
      "Early stopping, best iteration is:\n",
      "[49]\tvalid_0's multi_logloss: 1.26604\n",
      "Training until validation scores don't improve for 200 rounds\n",
      "Early stopping, best iteration is:\n",
      "[36]\tvalid_0's multi_logloss: 1.26158\n",
      "Training until validation scores don't improve for 200 rounds\n",
      "Early stopping, best iteration is:\n",
      "[28]\tvalid_0's multi_logloss: 1.26744\n",
      "Training until validation scores don't improve for 200 rounds\n",
      "Early stopping, best iteration is:\n",
      "[54]\tvalid_0's multi_logloss: 1.26053\n"
     ]
    }
   ],
   "source": [
    "null_importance_df = make_null_importance_df(train_X, train_y, PARAMS)"
   ]
  },
  {
   "cell_type": "code",
   "execution_count": 84,
   "metadata": {},
   "outputs": [],
   "source": [
    "importance_df = pd.merge(\n",
    "    importance_df, null_importance_df, on='col')"
   ]
  },
  {
   "cell_type": "code",
   "execution_count": 87,
   "metadata": {},
   "outputs": [],
   "source": [
    "importance_df['true_importance']  = importance_df.mean_value"
   ]
  },
  {
   "cell_type": "code",
   "execution_count": 85,
   "metadata": {},
   "outputs": [],
   "source": [
    "null_importance_col = [col for col in importance_df.columns if 'null' in col]"
   ]
  },
  {
   "cell_type": "code",
   "execution_count": 88,
   "metadata": {},
   "outputs": [],
   "source": [
    "null_importance=pd.DataFrame()\n",
    "for idx, row in importance_df.iterrows():\n",
    "    acc_v = 1e-10+row['true_importance']\n",
    "    null_v = 1+np.percentile(row[null_importance_col], 75)\n",
    "    null_importance[row['col']] = [np.log(acc_v/null_v)]\n",
    "null_importance = null_importance.T"
   ]
  },
  {
   "cell_type": "code",
   "execution_count": 97,
   "metadata": {},
   "outputs": [],
   "source": [
    "null_importance.columns\n",
    "null_importance.sort_values(0, ascending=False).reset_index().to_csv('null_importance.csv', index=False)"
   ]
  },
  {
   "cell_type": "code",
   "execution_count": 102,
   "metadata": {},
   "outputs": [],
   "source": [
    "null_importance = pd.read_csv('null_importance.csv')"
   ]
  },
  {
   "cell_type": "code",
   "execution_count": 126,
   "metadata": {},
   "outputs": [
    {
     "data": {
      "image/png": "[encoded data removed]",
      "text/plain": [
       "<Figure size 432x288 with 1 Axes>"
      ]
     },
     "metadata": {
      "needs_background": "light"
     },
     "output_type": "display_data"
    },
    {
     "data": {
      "image/png": "[encoded data removed]",
      "text/plain": [
       "<Figure size 432x288 with 1 Axes>"
      ]
     },
     "metadata": {
      "needs_background": "light"
     },
     "output_type": "display_data"
    }
   ],
   "source": [
    "sns.distplot(null_importance['0'])\n",
    "plt.show()\n",
    "sns.distplot(null_importance[null_importance['0']>=-15]['0'])\n",
    "plt.show()"
   ]
  },
  {
   "cell_type": "code",
   "execution_count": 127,
   "metadata": {},
   "outputs": [],
   "source": [
    "col = null_importance[null_importance['0']>=-10]['index']"
   ]
  },
  {
   "cell_type": "code",
   "execution_count": 133,
   "metadata": {},
   "outputs": [],
   "source": [
    "train_df_2 = train_df[col.tolist()+['jobflag']]"
   ]
  },
  {
   "cell_type": "code",
   "execution_count": 134,
   "metadata": {},
   "outputs": [
    {
     "name": "stdout",
     "output_type": "stream",
     "text": [
      "Training until validation scores don't improve for 200 rounds\n",
      "[500]\ttraining's multi_logloss: 0.984809\tvalid_1's multi_logloss: 1.08521\n",
      "Early stopping, best iteration is:\n",
      "[400]\ttraining's multi_logloss: 0.993521\tvalid_1's multi_logloss: 1.08354\n",
      "Training until validation scores don't improve for 200 rounds\n",
      "[500]\ttraining's multi_logloss: 1.00288\tvalid_1's multi_logloss: 1.07803\n",
      "Early stopping, best iteration is:\n",
      "[392]\ttraining's multi_logloss: 1.01317\tvalid_1's multi_logloss: 1.07463\n",
      "Training until validation scores don't improve for 200 rounds\n",
      "[500]\ttraining's multi_logloss: 0.99275\tvalid_1's multi_logloss: 1.02815\n",
      "Early stopping, best iteration is:\n",
      "[602]\ttraining's multi_logloss: 0.983355\tvalid_1's multi_logloss: 1.0256\n",
      "Training until validation scores don't improve for 200 rounds\n",
      "[500]\ttraining's multi_logloss: 0.986143\tvalid_1's multi_logloss: 1.05808\n",
      "Early stopping, best iteration is:\n",
      "[468]\ttraining's multi_logloss: 0.988897\tvalid_1's multi_logloss: 1.05704\n",
      "Training until validation scores don't improve for 200 rounds\n",
      "Early stopping, best iteration is:\n",
      "[208]\ttraining's multi_logloss: 1.03469\tvalid_1's multi_logloss: 1.10051\n"
     ]
    },
    {
     "name": "stderr",
     "output_type": "stream",
     "text": [
      "[I 2020-08-19 11:18:55,615] Finished trial#0 resulted in value: 0.3931478893004836. Current best value is 0.3931478893004836 with parameters: {'max_bin': 262, 'subsample': 0.4049765785332663, 'subsample_freq': 0.6115892859189909, 'learning_rate': 0.04339701152695447, 'num_leaves': 9, 'feature_fraction': 0.7118784840823205, 'bagging_freq': 4, 'min_child_samples': 73, 'lambda_l1': 0.0006329620038752194, 'lambda_l2': 0.0005113229038100231}.\n"
     ]
    },
    {
     "name": "stdout",
     "output_type": "stream",
     "text": [
      "Training until validation scores don't improve for 200 rounds\n",
      "Early stopping, best iteration is:\n",
      "[117]\ttraining's multi_logloss: 0.803005\tvalid_1's multi_logloss: 0.97875\n",
      "Training until validation scores don't improve for 200 rounds\n",
      "Early stopping, best iteration is:\n",
      "[214]\ttraining's multi_logloss: 0.755198\tvalid_1's multi_logloss: 0.912701\n",
      "Training until validation scores don't improve for 200 rounds\n",
      "Early stopping, best iteration is:\n",
      "[143]\ttraining's multi_logloss: 0.794606\tvalid_1's multi_logloss: 0.917916\n",
      "Training until validation scores don't improve for 200 rounds\n",
      "Early stopping, best iteration is:\n",
      "[78]\ttraining's multi_logloss: 0.854162\tvalid_1's multi_logloss: 0.949686\n",
      "Training until validation scores don't improve for 200 rounds\n",
      "Early stopping, best iteration is:\n",
      "[77]\ttraining's multi_logloss: 0.850364\tvalid_1's multi_logloss: 0.998938\n"
     ]
    },
    {
     "name": "stderr",
     "output_type": "stream",
     "text": [
      "[I 2020-08-19 11:19:04,478] Finished trial#1 resulted in value: 0.5202911320261051. Current best value is 0.5202911320261051 with parameters: {'max_bin': 191, 'subsample': 0.41067598959907514, 'subsample_freq': 0.6788536959000997, 'learning_rate': 0.10054078963357249, 'num_leaves': 7, 'feature_fraction': 0.7685127479646744, 'bagging_freq': 1, 'min_child_samples': 33, 'lambda_l1': 0.0010289967253656858, 'lambda_l2': 0.00022423130280594422}.\n"
     ]
    },
    {
     "name": "stdout",
     "output_type": "stream",
     "text": [
      "Training until validation scores don't improve for 200 rounds\n",
      "Early stopping, best iteration is:\n",
      "[59]\ttraining's multi_logloss: 0.830176\tvalid_1's multi_logloss: 0.969314\n",
      "Training until validation scores don't improve for 200 rounds\n",
      "Early stopping, best iteration is:\n",
      "[91]\ttraining's multi_logloss: 0.795549\tvalid_1's multi_logloss: 0.907408\n",
      "Training until validation scores don't improve for 200 rounds\n",
      "Early stopping, best iteration is:\n",
      "[86]\ttraining's multi_logloss: 0.798798\tvalid_1's multi_logloss: 0.916379\n",
      "Training until validation scores don't improve for 200 rounds\n",
      "Early stopping, best iteration is:\n",
      "[74]\ttraining's multi_logloss: 0.810371\tvalid_1's multi_logloss: 0.944512\n",
      "Training until validation scores don't improve for 200 rounds\n",
      "Early stopping, best iteration is:\n",
      "[109]\ttraining's multi_logloss: 0.762445\tvalid_1's multi_logloss: 0.981592\n"
     ]
    },
    {
     "name": "stderr",
     "output_type": "stream",
     "text": [
      "[I 2020-08-19 11:19:11,202] Finished trial#2 resulted in value: 0.525625755327882. Current best value is 0.525625755327882 with parameters: {'max_bin': 198, 'subsample': 0.4630647489111398, 'subsample_freq': 0.6167175864719194, 'learning_rate': 0.1676286927358713, 'num_leaves': 5, 'feature_fraction': 0.5790469202743597, 'bagging_freq': 2, 'min_child_samples': 25, 'lambda_l1': 0.0003156573996859692, 'lambda_l2': 0.003146771602064199}.\n"
     ]
    },
    {
     "name": "stdout",
     "output_type": "stream",
     "text": [
      "Training until validation scores don't improve for 200 rounds\n",
      "Early stopping, best iteration is:\n",
      "[27]\ttraining's multi_logloss: 0.85934\tvalid_1's multi_logloss: 1.00947\n",
      "Training until validation scores don't improve for 200 rounds\n",
      "Early stopping, best iteration is:\n",
      "[20]\ttraining's multi_logloss: 0.917209\tvalid_1's multi_logloss: 1.01067\n",
      "Training until validation scores don't improve for 200 rounds\n",
      "Early stopping, best iteration is:\n",
      "[51]\ttraining's multi_logloss: 0.805373\tvalid_1's multi_logloss: 0.932587\n",
      "Training until validation scores don't improve for 200 rounds\n",
      "Early stopping, best iteration is:\n",
      "[34]\ttraining's multi_logloss: 0.844008\tvalid_1's multi_logloss: 0.975699\n",
      "Training until validation scores don't improve for 200 rounds\n",
      "Early stopping, best iteration is:\n",
      "[14]\ttraining's multi_logloss: 0.920995\tvalid_1's multi_logloss: 1.01806\n"
     ]
    },
    {
     "name": "stderr",
     "output_type": "stream",
     "text": [
      "[I 2020-08-19 11:19:19,497] Finished trial#3 resulted in value: 0.4941550176064608. Current best value is 0.525625755327882 with parameters: {'max_bin': 198, 'subsample': 0.4630647489111398, 'subsample_freq': 0.6167175864719194, 'learning_rate': 0.1676286927358713, 'num_leaves': 5, 'feature_fraction': 0.5790469202743597, 'bagging_freq': 2, 'min_child_samples': 25, 'lambda_l1': 0.0003156573996859692, 'lambda_l2': 0.003146771602064199}.\n"
     ]
    },
    {
     "name": "stdout",
     "output_type": "stream",
     "text": [
      "Training until validation scores don't improve for 200 rounds\n",
      "Early stopping, best iteration is:\n",
      "[114]\ttraining's multi_logloss: 0.733332\tvalid_1's multi_logloss: 0.950009\n",
      "Training until validation scores don't improve for 200 rounds\n",
      "Early stopping, best iteration is:\n",
      "[180]\ttraining's multi_logloss: 0.724705\tvalid_1's multi_logloss: 0.88209\n",
      "Training until validation scores don't improve for 200 rounds\n",
      "Early stopping, best iteration is:\n",
      "[94]\ttraining's multi_logloss: 0.759109\tvalid_1's multi_logloss: 0.893678\n",
      "Training until validation scores don't improve for 200 rounds\n",
      "Early stopping, best iteration is:\n",
      "[76]\ttraining's multi_logloss: 0.767297\tvalid_1's multi_logloss: 0.929117\n",
      "Training until validation scores don't improve for 200 rounds\n",
      "Early stopping, best iteration is:\n",
      "[67]\ttraining's multi_logloss: 0.777773\tvalid_1's multi_logloss: 0.960989\n"
     ]
    },
    {
     "name": "stderr",
     "output_type": "stream",
     "text": [
      "[I 2020-08-19 11:19:28,110] Finished trial#4 resulted in value: 0.5475510801576297. Current best value is 0.5475510801576297 with parameters: {'max_bin': 61, 'subsample': 0.8827197153587076, 'subsample_freq': 0.5074690657352035, 'learning_rate': 0.2775516548281099, 'num_leaves': 9, 'feature_fraction': 0.9302077579227445, 'bagging_freq': 5, 'min_child_samples': 31, 'lambda_l1': 4.181537620266634, 'lambda_l2': 6.8306700035549195}.\n"
     ]
    },
    {
     "name": "stdout",
     "output_type": "stream",
     "text": [
      "Training until validation scores don't improve for 200 rounds\n",
      "Early stopping, best iteration is:\n",
      "[139]\ttraining's multi_logloss: 0.933114\tvalid_1's multi_logloss: 1.025\n",
      "Training until validation scores don't improve for 200 rounds\n",
      "Early stopping, best iteration is:\n",
      "[134]\ttraining's multi_logloss: 0.998584\tvalid_1's multi_logloss: 1.03976\n",
      "Training until validation scores don't improve for 200 rounds\n",
      "Early stopping, best iteration is:\n",
      "[129]\ttraining's multi_logloss: 0.979045\tvalid_1's multi_logloss: 1.00464\n",
      "Training until validation scores don't improve for 200 rounds\n",
      "Early stopping, best iteration is:\n",
      "[127]\ttraining's multi_logloss: 0.977105\tvalid_1's multi_logloss: 1.02999\n",
      "Training until validation scores don't improve for 200 rounds\n",
      "Early stopping, best iteration is:\n",
      "[114]\ttraining's multi_logloss: 0.942539\tvalid_1's multi_logloss: 1.02021\n"
     ]
    },
    {
     "name": "stderr",
     "output_type": "stream",
     "text": [
      "[I 2020-08-19 11:19:33,486] Finished trial#5 resulted in value: 0.4492957870853579. Current best value is 0.5475510801576297 with parameters: {'max_bin': 61, 'subsample': 0.8827197153587076, 'subsample_freq': 0.5074690657352035, 'learning_rate': 0.2775516548281099, 'num_leaves': 9, 'feature_fraction': 0.9302077579227445, 'bagging_freq': 5, 'min_child_samples': 31, 'lambda_l1': 4.181537620266634, 'lambda_l2': 6.8306700035549195}.\n"
     ]
    },
    {
     "name": "stdout",
     "output_type": "stream",
     "text": [
      "Training until validation scores don't improve for 200 rounds\n",
      "Early stopping, best iteration is:\n",
      "[55]\ttraining's multi_logloss: 1.00322\tvalid_1's multi_logloss: 1.08094\n",
      "Training until validation scores don't improve for 200 rounds\n",
      "Early stopping, best iteration is:\n",
      "[128]\ttraining's multi_logloss: 0.977518\tvalid_1's multi_logloss: 1.06931\n",
      "Training until validation scores don't improve for 200 rounds\n",
      "Early stopping, best iteration is:\n",
      "[117]\ttraining's multi_logloss: 0.974176\tvalid_1's multi_logloss: 1.01182\n",
      "Training until validation scores don't improve for 200 rounds\n",
      "Early stopping, best iteration is:\n",
      "[74]\ttraining's multi_logloss: 0.987642\tvalid_1's multi_logloss: 1.0554\n",
      "Training until validation scores don't improve for 200 rounds\n",
      "Early stopping, best iteration is:\n",
      "[108]\ttraining's multi_logloss: 0.979842\tvalid_1's multi_logloss: 1.08725\n"
     ]
    },
    {
     "name": "stderr",
     "output_type": "stream",
     "text": [
      "[I 2020-08-19 11:19:40,509] Finished trial#6 resulted in value: 0.4014508368709193. Current best value is 0.5475510801576297 with parameters: {'max_bin': 61, 'subsample': 0.8827197153587076, 'subsample_freq': 0.5074690657352035, 'learning_rate': 0.2775516548281099, 'num_leaves': 9, 'feature_fraction': 0.9302077579227445, 'bagging_freq': 5, 'min_child_samples': 31, 'lambda_l1': 4.181537620266634, 'lambda_l2': 6.8306700035549195}.\n"
     ]
    },
    {
     "name": "stdout",
     "output_type": "stream",
     "text": [
      "Training until validation scores don't improve for 200 rounds\n",
      "Early stopping, best iteration is:\n",
      "[47]\ttraining's multi_logloss: 0.836672\tvalid_1's multi_logloss: 0.994733\n",
      "Training until validation scores don't improve for 200 rounds\n",
      "Early stopping, best iteration is:\n",
      "[24]\ttraining's multi_logloss: 0.911871\tvalid_1's multi_logloss: 0.969911\n",
      "Training until validation scores don't improve for 200 rounds\n",
      "Early stopping, best iteration is:\n",
      "[50]\ttraining's multi_logloss: 0.84608\tvalid_1's multi_logloss: 0.929587\n",
      "Training until validation scores don't improve for 200 rounds\n",
      "Early stopping, best iteration is:\n",
      "[40]\ttraining's multi_logloss: 0.859018\tvalid_1's multi_logloss: 0.947542\n",
      "Training until validation scores don't improve for 200 rounds\n",
      "Early stopping, best iteration is:\n",
      "[20]\ttraining's multi_logloss: 0.896537\tvalid_1's multi_logloss: 0.998111\n"
     ]
    },
    {
     "name": "stderr",
     "output_type": "stream",
     "text": [
      "[I 2020-08-19 11:19:46,865] Finished trial#7 resulted in value: 0.510753759403468. Current best value is 0.5475510801576297 with parameters: {'max_bin': 61, 'subsample': 0.8827197153587076, 'subsample_freq': 0.5074690657352035, 'learning_rate': 0.2775516548281099, 'num_leaves': 9, 'feature_fraction': 0.9302077579227445, 'bagging_freq': 5, 'min_child_samples': 31, 'lambda_l1': 4.181537620266634, 'lambda_l2': 6.8306700035549195}.\n"
     ]
    },
    {
     "name": "stdout",
     "output_type": "stream",
     "text": [
      "Training until validation scores don't improve for 200 rounds\n",
      "Early stopping, best iteration is:\n",
      "[23]\ttraining's multi_logloss: 0.80432\tvalid_1's multi_logloss: 0.986954\n",
      "Training until validation scores don't improve for 200 rounds\n",
      "Early stopping, best iteration is:\n",
      "[21]\ttraining's multi_logloss: 0.834578\tvalid_1's multi_logloss: 0.910732\n",
      "Training until validation scores don't improve for 200 rounds\n",
      "Early stopping, best iteration is:\n",
      "[23]\ttraining's multi_logloss: 0.819243\tvalid_1's multi_logloss: 0.92354\n",
      "Training until validation scores don't improve for 200 rounds\n",
      "Early stopping, best iteration is:\n",
      "[27]\ttraining's multi_logloss: 0.792227\tvalid_1's multi_logloss: 0.950485\n",
      "Training until validation scores don't improve for 200 rounds\n",
      "Early stopping, best iteration is:\n",
      "[18]\ttraining's multi_logloss: 0.840012\tvalid_1's multi_logloss: 0.972139\n"
     ]
    },
    {
     "name": "stderr",
     "output_type": "stream",
     "text": [
      "[I 2020-08-19 11:19:54,465] Finished trial#8 resulted in value: 0.5281556919638629. Current best value is 0.5475510801576297 with parameters: {'max_bin': 61, 'subsample': 0.8827197153587076, 'subsample_freq': 0.5074690657352035, 'learning_rate': 0.2775516548281099, 'num_leaves': 9, 'feature_fraction': 0.9302077579227445, 'bagging_freq': 5, 'min_child_samples': 31, 'lambda_l1': 4.181537620266634, 'lambda_l2': 6.8306700035549195}.\n"
     ]
    },
    {
     "name": "stdout",
     "output_type": "stream",
     "text": [
      "Training until validation scores don't improve for 200 rounds\n",
      "Early stopping, best iteration is:\n",
      "[272]\ttraining's multi_logloss: 0.811357\tvalid_1's multi_logloss: 0.972904\n",
      "Training until validation scores don't improve for 200 rounds\n",
      "[500]\ttraining's multi_logloss: 0.767493\tvalid_1's multi_logloss: 0.910315\n",
      "Early stopping, best iteration is:\n",
      "[372]\ttraining's multi_logloss: 0.801874\tvalid_1's multi_logloss: 0.905152\n",
      "Training until validation scores don't improve for 200 rounds\n",
      "[500]\ttraining's multi_logloss: 0.760651\tvalid_1's multi_logloss: 0.930401\n",
      "Early stopping, best iteration is:\n",
      "[368]\ttraining's multi_logloss: 0.794456\tvalid_1's multi_logloss: 0.922853\n",
      "Training until validation scores don't improve for 200 rounds\n",
      "Early stopping, best iteration is:\n",
      "[224]\ttraining's multi_logloss: 0.841512\tvalid_1's multi_logloss: 0.948938\n",
      "Training until validation scores don't improve for 200 rounds\n",
      "Early stopping, best iteration is:\n",
      "[210]\ttraining's multi_logloss: 0.842858\tvalid_1's multi_logloss: 0.9893\n"
     ]
    },
    {
     "name": "stderr",
     "output_type": "stream",
     "text": [
      "[I 2020-08-19 11:20:06,003] Finished trial#9 resulted in value: 0.517993719970561. Current best value is 0.5475510801576297 with parameters: {'max_bin': 61, 'subsample': 0.8827197153587076, 'subsample_freq': 0.5074690657352035, 'learning_rate': 0.2775516548281099, 'num_leaves': 9, 'feature_fraction': 0.9302077579227445, 'bagging_freq': 5, 'min_child_samples': 31, 'lambda_l1': 4.181537620266634, 'lambda_l2': 6.8306700035549195}.\n"
     ]
    },
    {
     "name": "stdout",
     "output_type": "stream",
     "text": [
      "Training until validation scores don't improve for 200 rounds\n",
      "[500]\ttraining's multi_logloss: 0.79385\tvalid_1's multi_logloss: 0.945214\n",
      "Early stopping, best iteration is:\n",
      "[317]\ttraining's multi_logloss: 0.79385\tvalid_1's multi_logloss: 0.945214\n",
      "Training until validation scores don't improve for 200 rounds\n",
      "Early stopping, best iteration is:\n",
      "[235]\ttraining's multi_logloss: 0.83664\tvalid_1's multi_logloss: 0.902373\n",
      "Training until validation scores don't improve for 200 rounds\n",
      "Early stopping, best iteration is:\n",
      "[268]\ttraining's multi_logloss: 0.829057\tvalid_1's multi_logloss: 0.911652\n",
      "Training until validation scores don't improve for 200 rounds\n",
      "Early stopping, best iteration is:\n",
      "[263]\ttraining's multi_logloss: 0.82404\tvalid_1's multi_logloss: 0.92936\n",
      "Training until validation scores don't improve for 200 rounds\n",
      "Early stopping, best iteration is:\n",
      "[208]\ttraining's multi_logloss: 0.824384\tvalid_1's multi_logloss: 0.970956\n"
     ]
    },
    {
     "name": "stderr",
     "output_type": "stream",
     "text": [
      "[I 2020-08-19 11:20:19,447] Finished trial#10 resulted in value: 0.5355192061152769. Current best value is 0.5475510801576297 with parameters: {'max_bin': 61, 'subsample': 0.8827197153587076, 'subsample_freq': 0.5074690657352035, 'learning_rate': 0.2775516548281099, 'num_leaves': 9, 'feature_fraction': 0.9302077579227445, 'bagging_freq': 5, 'min_child_samples': 31, 'lambda_l1': 4.181537620266634, 'lambda_l2': 6.8306700035549195}.\n"
     ]
    },
    {
     "name": "stdout",
     "output_type": "stream",
     "text": [
      "Training until validation scores don't improve for 200 rounds\n",
      "Early stopping, best iteration is:\n",
      "[290]\ttraining's multi_logloss: 0.839076\tvalid_1's multi_logloss: 0.958288\n",
      "Training until validation scores don't improve for 200 rounds\n",
      "Early stopping, best iteration is:\n",
      "[263]\ttraining's multi_logloss: 0.869101\tvalid_1's multi_logloss: 0.919206\n",
      "Training until validation scores don't improve for 200 rounds\n",
      "Early stopping, best iteration is:\n",
      "[214]\ttraining's multi_logloss: 0.87488\tvalid_1's multi_logloss: 0.929421\n",
      "Training until validation scores don't improve for 200 rounds\n",
      "Early stopping, best iteration is:\n",
      "[238]\ttraining's multi_logloss: 0.859662\tvalid_1's multi_logloss: 0.943252\n",
      "Training until validation scores don't improve for 200 rounds\n",
      "Early stopping, best iteration is:\n",
      "[289]\ttraining's multi_logloss: 0.850693\tvalid_1's multi_logloss: 0.976766\n"
     ]
    },
    {
     "name": "stderr",
     "output_type": "stream",
     "text": [
      "[I 2020-08-19 11:20:33,652] Finished trial#11 resulted in value: 0.5264447498624741. Current best value is 0.5475510801576297 with parameters: {'max_bin': 61, 'subsample': 0.8827197153587076, 'subsample_freq': 0.5074690657352035, 'learning_rate': 0.2775516548281099, 'num_leaves': 9, 'feature_fraction': 0.9302077579227445, 'bagging_freq': 5, 'min_child_samples': 31, 'lambda_l1': 4.181537620266634, 'lambda_l2': 6.8306700035549195}.\n"
     ]
    },
    {
     "name": "stdout",
     "output_type": "stream",
     "text": [
      "Training until validation scores don't improve for 200 rounds\n",
      "Early stopping, best iteration is:\n",
      "[87]\ttraining's multi_logloss: 0.645608\tvalid_1's multi_logloss: 0.928321\n",
      "Training until validation scores don't improve for 200 rounds\n",
      "Early stopping, best iteration is:\n",
      "[164]\ttraining's multi_logloss: 0.559298\tvalid_1's multi_logloss: 0.857105\n",
      "Training until validation scores don't improve for 200 rounds\n",
      "Early stopping, best iteration is:\n",
      "[92]\ttraining's multi_logloss: 0.652811\tvalid_1's multi_logloss: 0.880556\n",
      "Training until validation scores don't improve for 200 rounds\n",
      "Early stopping, best iteration is:\n",
      "[86]\ttraining's multi_logloss: 0.65698\tvalid_1's multi_logloss: 0.902486\n",
      "Training until validation scores don't improve for 200 rounds\n",
      "Early stopping, best iteration is:\n",
      "[121]\ttraining's multi_logloss: 0.59475\tvalid_1's multi_logloss: 0.943409\n"
     ]
    },
    {
     "name": "stderr",
     "output_type": "stream",
     "text": [
      "[I 2020-08-19 11:20:47,377] Finished trial#12 resulted in value: 0.5643702381076751. Current best value is 0.5643702381076751 with parameters: {'max_bin': 50, 'subsample': 0.8966541262658317, 'subsample_freq': 0.4241683273684092, 'learning_rate': 0.2273771053550045, 'num_leaves': 9, 'feature_fraction': 0.981233944297284, 'bagging_freq': 3, 'min_child_samples': 6, 'lambda_l1': 0.7948531666754233, 'lambda_l2': 9.66989132749582}.\n"
     ]
    },
    {
     "name": "stdout",
     "output_type": "stream",
     "text": [
      "Training until validation scores don't improve for 200 rounds\n",
      "Early stopping, best iteration is:\n",
      "[39]\ttraining's multi_logloss: 0.73927\tvalid_1's multi_logloss: 0.94125\n",
      "Training until validation scores don't improve for 200 rounds\n",
      "Early stopping, best iteration is:\n",
      "[57]\ttraining's multi_logloss: 0.701615\tvalid_1's multi_logloss: 0.869737\n",
      "Training until validation scores don't improve for 200 rounds\n",
      "Early stopping, best iteration is:\n",
      "[34]\ttraining's multi_logloss: 0.77067\tvalid_1's multi_logloss: 0.903831\n",
      "Training until validation scores don't improve for 200 rounds\n",
      "Early stopping, best iteration is:\n",
      "[35]\ttraining's multi_logloss: 0.757176\tvalid_1's multi_logloss: 0.923168\n",
      "Training until validation scores don't improve for 200 rounds\n",
      "Early stopping, best iteration is:\n",
      "[34]\ttraining's multi_logloss: 0.757241\tvalid_1's multi_logloss: 0.968521\n"
     ]
    },
    {
     "name": "stderr",
     "output_type": "stream",
     "text": [
      "[I 2020-08-19 11:20:55,793] Finished trial#13 resulted in value: 0.5479518039459513. Current best value is 0.5643702381076751 with parameters: {'max_bin': 50, 'subsample': 0.8966541262658317, 'subsample_freq': 0.4241683273684092, 'learning_rate': 0.2273771053550045, 'num_leaves': 9, 'feature_fraction': 0.981233944297284, 'bagging_freq': 3, 'min_child_samples': 6, 'lambda_l1': 0.7948531666754233, 'lambda_l2': 9.66989132749582}.\n"
     ]
    },
    {
     "name": "stdout",
     "output_type": "stream",
     "text": [
      "Training until validation scores don't improve for 200 rounds\n",
      "Early stopping, best iteration is:\n",
      "[32]\ttraining's multi_logloss: 0.756771\tvalid_1's multi_logloss: 0.950037\n",
      "Training until validation scores don't improve for 200 rounds\n",
      "Early stopping, best iteration is:\n",
      "[57]\ttraining's multi_logloss: 0.69195\tvalid_1's multi_logloss: 0.878906\n",
      "Training until validation scores don't improve for 200 rounds\n",
      "Early stopping, best iteration is:\n",
      "[33]\ttraining's multi_logloss: 0.768958\tvalid_1's multi_logloss: 0.909931\n",
      "Training until validation scores don't improve for 200 rounds\n",
      "Early stopping, best iteration is:\n",
      "[36]\ttraining's multi_logloss: 0.74712\tvalid_1's multi_logloss: 0.936504\n",
      "Training until validation scores don't improve for 200 rounds\n",
      "Early stopping, best iteration is:\n",
      "[38]\ttraining's multi_logloss: 0.730715\tvalid_1's multi_logloss: 0.955595\n"
     ]
    },
    {
     "name": "stderr",
     "output_type": "stream",
     "text": [
      "[I 2020-08-19 11:21:04,524] Finished trial#14 resulted in value: 0.5487340538235786. Current best value is 0.5643702381076751 with parameters: {'max_bin': 50, 'subsample': 0.8966541262658317, 'subsample_freq': 0.4241683273684092, 'learning_rate': 0.2273771053550045, 'num_leaves': 9, 'feature_fraction': 0.981233944297284, 'bagging_freq': 3, 'min_child_samples': 6, 'lambda_l1': 0.7948531666754233, 'lambda_l2': 9.66989132749582}.\n"
     ]
    },
    {
     "name": "stdout",
     "output_type": "stream",
     "text": [
      "Training until validation scores don't improve for 200 rounds\n",
      "Early stopping, best iteration is:\n",
      "[62]\ttraining's multi_logloss: 0.692404\tvalid_1's multi_logloss: 0.938301\n",
      "Training until validation scores don't improve for 200 rounds\n",
      "Early stopping, best iteration is:\n",
      "[96]\ttraining's multi_logloss: 0.640699\tvalid_1's multi_logloss: 0.866778\n",
      "Training until validation scores don't improve for 200 rounds\n",
      "Early stopping, best iteration is:\n",
      "[52]\ttraining's multi_logloss: 0.739205\tvalid_1's multi_logloss: 0.903119\n",
      "Training until validation scores don't improve for 200 rounds\n",
      "Early stopping, best iteration is:\n",
      "[69]\ttraining's multi_logloss: 0.686337\tvalid_1's multi_logloss: 0.913799\n",
      "Training until validation scores don't improve for 200 rounds\n",
      "Early stopping, best iteration is:\n",
      "[51]\ttraining's multi_logloss: 0.73103\tvalid_1's multi_logloss: 0.947348\n"
     ]
    },
    {
     "name": "stderr",
     "output_type": "stream",
     "text": [
      "[I 2020-08-19 11:21:14,005] Finished trial#15 resulted in value: 0.5609771728470839. Current best value is 0.5643702381076751 with parameters: {'max_bin': 50, 'subsample': 0.8966541262658317, 'subsample_freq': 0.4241683273684092, 'learning_rate': 0.2273771053550045, 'num_leaves': 9, 'feature_fraction': 0.981233944297284, 'bagging_freq': 3, 'min_child_samples': 6, 'lambda_l1': 0.7948531666754233, 'lambda_l2': 9.66989132749582}.\n"
     ]
    },
    {
     "name": "stdout",
     "output_type": "stream",
     "text": [
      "Training until validation scores don't improve for 200 rounds\n",
      "Early stopping, best iteration is:\n",
      "[173]\ttraining's multi_logloss: 0.776689\tvalid_1's multi_logloss: 0.98981\n",
      "Training until validation scores don't improve for 200 rounds\n",
      "Early stopping, best iteration is:\n",
      "[117]\ttraining's multi_logloss: 0.848792\tvalid_1's multi_logloss: 0.95454\n",
      "Training until validation scores don't improve for 200 rounds\n",
      "Early stopping, best iteration is:\n",
      "[154]\ttraining's multi_logloss: 0.814997\tvalid_1's multi_logloss: 0.93089\n",
      "Training until validation scores don't improve for 200 rounds\n",
      "Early stopping, best iteration is:\n",
      "[95]\ttraining's multi_logloss: 0.848054\tvalid_1's multi_logloss: 0.948986\n",
      "Training until validation scores don't improve for 200 rounds\n",
      "Early stopping, best iteration is:\n",
      "[68]\ttraining's multi_logloss: 0.872467\tvalid_1's multi_logloss: 0.998906\n"
     ]
    },
    {
     "name": "stderr",
     "output_type": "stream",
     "text": [
      "[I 2020-08-19 11:21:21,620] Finished trial#16 resulted in value: 0.5197606306020426. Current best value is 0.5643702381076751 with parameters: {'max_bin': 50, 'subsample': 0.8966541262658317, 'subsample_freq': 0.4241683273684092, 'learning_rate': 0.2273771053550045, 'num_leaves': 9, 'feature_fraction': 0.981233944297284, 'bagging_freq': 3, 'min_child_samples': 6, 'lambda_l1': 0.7948531666754233, 'lambda_l2': 9.66989132749582}.\n"
     ]
    },
    {
     "name": "stdout",
     "output_type": "stream",
     "text": [
      "Training until validation scores don't improve for 200 rounds\n",
      "Early stopping, best iteration is:\n",
      "[143]\ttraining's multi_logloss: 0.568954\tvalid_1's multi_logloss: 0.935596\n",
      "Training until validation scores don't improve for 200 rounds\n",
      "Early stopping, best iteration is:\n",
      "[189]\ttraining's multi_logloss: 0.522115\tvalid_1's multi_logloss: 0.857907\n",
      "Training until validation scores don't improve for 200 rounds\n",
      "Early stopping, best iteration is:\n",
      "[99]\ttraining's multi_logloss: 0.659645\tvalid_1's multi_logloss: 0.880349\n",
      "Training until validation scores don't improve for 200 rounds\n",
      "Early stopping, best iteration is:\n",
      "[228]\ttraining's multi_logloss: 0.472534\tvalid_1's multi_logloss: 0.895524\n",
      "Training until validation scores don't improve for 200 rounds\n",
      "Early stopping, best iteration is:\n",
      "[124]\ttraining's multi_logloss: 0.59438\tvalid_1's multi_logloss: 0.948298\n"
     ]
    },
    {
     "name": "stderr",
     "output_type": "stream",
     "text": [
      "[I 2020-08-19 11:21:32,588] Finished trial#17 resulted in value: 0.5681285501584873. Current best value is 0.5681285501584873 with parameters: {'max_bin': 91, 'subsample': 0.5441397629517047, 'subsample_freq': 0.47976211375285766, 'learning_rate': 0.13341209122433276, 'num_leaves': 6, 'feature_fraction': 0.8458322978967301, 'bagging_freq': 3, 'min_child_samples': 5, 'lambda_l1': 0.05736451252159929, 'lambda_l2': 0.024205993524208113}.\n"
     ]
    },
    {
     "name": "stdout",
     "output_type": "stream",
     "text": [
      "Training until validation scores don't improve for 200 rounds\n",
      "[500]\ttraining's multi_logloss: 0.572049\tvalid_1's multi_logloss: 0.927168\n",
      "Early stopping, best iteration is:\n",
      "[626]\ttraining's multi_logloss: 0.522134\tvalid_1's multi_logloss: 0.923287\n",
      "Training until validation scores don't improve for 200 rounds\n",
      "[500]\ttraining's multi_logloss: 0.588987\tvalid_1's multi_logloss: 0.872455\n",
      "Early stopping, best iteration is:\n",
      "[554]\ttraining's multi_logloss: 0.566485\tvalid_1's multi_logloss: 0.868223\n",
      "Training until validation scores don't improve for 200 rounds\n",
      "[500]\ttraining's multi_logloss: 0.586367\tvalid_1's multi_logloss: 0.885833\n",
      "Early stopping, best iteration is:\n",
      "[417]\ttraining's multi_logloss: 0.626007\tvalid_1's multi_logloss: 0.879562\n",
      "Training until validation scores don't improve for 200 rounds\n",
      "[500]\ttraining's multi_logloss: 0.585721\tvalid_1's multi_logloss: 0.885545\n",
      "Early stopping, best iteration is:\n",
      "[502]\ttraining's multi_logloss: 0.584949\tvalid_1's multi_logloss: 0.885293\n",
      "Training until validation scores don't improve for 200 rounds\n",
      "[500]\ttraining's multi_logloss: 0.572313\tvalid_1's multi_logloss: 0.944857\n",
      "Early stopping, best iteration is:\n",
      "[364]\ttraining's multi_logloss: 0.640059\tvalid_1's multi_logloss: 0.939916\n"
     ]
    },
    {
     "name": "stderr",
     "output_type": "stream",
     "text": [
      "[I 2020-08-19 11:21:46,190] Finished trial#18 resulted in value: 0.576265499370293. Current best value is 0.576265499370293 with parameters: {'max_bin': 86, 'subsample': 0.6781844891290957, 'subsample_freq': 0.5741036147770283, 'learning_rate': 0.06226098621495584, 'num_leaves': 4, 'feature_fraction': 0.8308500801743306, 'bagging_freq': 2, 'min_child_samples': 5, 'lambda_l1': 0.06272213238829652, 'lambda_l2': 0.02989291065385534}.\n"
     ]
    },
    {
     "name": "stdout",
     "output_type": "stream",
     "text": [
      "Training until validation scores don't improve for 200 rounds\n",
      "Early stopping, best iteration is:\n",
      "[215]\ttraining's multi_logloss: 0.862655\tvalid_1's multi_logloss: 0.981242\n",
      "Training until validation scores don't improve for 200 rounds\n",
      "[500]\ttraining's multi_logloss: 0.816694\tvalid_1's multi_logloss: 0.930018\n",
      "Early stopping, best iteration is:\n",
      "[352]\ttraining's multi_logloss: 0.844895\tvalid_1's multi_logloss: 0.925977\n",
      "Training until validation scores don't improve for 200 rounds\n",
      "[500]\ttraining's multi_logloss: 0.810851\tvalid_1's multi_logloss: 0.928919\n",
      "Early stopping, best iteration is:\n",
      "[338]\ttraining's multi_logloss: 0.842354\tvalid_1's multi_logloss: 0.925234\n",
      "Training until validation scores don't improve for 200 rounds\n",
      "Early stopping, best iteration is:\n",
      "[268]\ttraining's multi_logloss: 0.85692\tvalid_1's multi_logloss: 0.948457\n",
      "Training until validation scores don't improve for 200 rounds\n",
      "Early stopping, best iteration is:\n",
      "[213]\ttraining's multi_logloss: 0.864618\tvalid_1's multi_logloss: 0.995798\n"
     ]
    },
    {
     "name": "stderr",
     "output_type": "stream",
     "text": [
      "[I 2020-08-19 11:21:53,531] Finished trial#19 resulted in value: 0.5225733347012773. Current best value is 0.576265499370293 with parameters: {'max_bin': 86, 'subsample': 0.6781844891290957, 'subsample_freq': 0.5741036147770283, 'learning_rate': 0.06226098621495584, 'num_leaves': 4, 'feature_fraction': 0.8308500801743306, 'bagging_freq': 2, 'min_child_samples': 5, 'lambda_l1': 0.06272213238829652, 'lambda_l2': 0.02989291065385534}.\n"
     ]
    },
    {
     "name": "stdout",
     "output_type": "stream",
     "text": [
      "Training until validation scores don't improve for 200 rounds\n",
      "[500]\ttraining's multi_logloss: 0.713054\tvalid_1's multi_logloss: 0.940418\n",
      "[1000]\ttraining's multi_logloss: 0.571936\tvalid_1's multi_logloss: 0.927042\n",
      "Early stopping, best iteration is:\n",
      "[940]\ttraining's multi_logloss: 0.585056\tvalid_1's multi_logloss: 0.926095\n",
      "Training until validation scores don't improve for 200 rounds\n",
      "[500]\ttraining's multi_logloss: 0.726739\tvalid_1's multi_logloss: 0.884362\n",
      "[1000]\ttraining's multi_logloss: 0.585789\tvalid_1's multi_logloss: 0.865906\n",
      "Early stopping, best iteration is:\n",
      "[1027]\ttraining's multi_logloss: 0.580078\tvalid_1's multi_logloss: 0.864672\n",
      "Training until validation scores don't improve for 200 rounds\n",
      "[500]\ttraining's multi_logloss: 0.726807\tvalid_1's multi_logloss: 0.894916\n",
      "Early stopping, best iteration is:\n",
      "[698]\ttraining's multi_logloss: 0.660311\tvalid_1's multi_logloss: 0.886104\n",
      "Training until validation scores don't improve for 200 rounds\n",
      "[500]\ttraining's multi_logloss: 0.722165\tvalid_1's multi_logloss: 0.902456\n",
      "[1000]\ttraining's multi_logloss: 0.583495\tvalid_1's multi_logloss: 0.896944\n",
      "Early stopping, best iteration is:\n",
      "[919]\ttraining's multi_logloss: 0.601254\tvalid_1's multi_logloss: 0.89511\n",
      "Training until validation scores don't improve for 200 rounds\n",
      "[500]\ttraining's multi_logloss: 0.710055\tvalid_1's multi_logloss: 0.951109\n",
      "[1000]\ttraining's multi_logloss: 0.570323\tvalid_1's multi_logloss: 0.94505\n",
      "Early stopping, best iteration is:\n",
      "[858]\ttraining's multi_logloss: 0.602239\tvalid_1's multi_logloss: 0.942891\n"
     ]
    },
    {
     "name": "stderr",
     "output_type": "stream",
     "text": [
      "[I 2020-08-19 11:22:12,363] Finished trial#20 resulted in value: 0.5637501249023096. Current best value is 0.576265499370293 with parameters: {'max_bin': 86, 'subsample': 0.6781844891290957, 'subsample_freq': 0.5741036147770283, 'learning_rate': 0.06226098621495584, 'num_leaves': 4, 'feature_fraction': 0.8308500801743306, 'bagging_freq': 2, 'min_child_samples': 5, 'lambda_l1': 0.06272213238829652, 'lambda_l2': 0.02989291065385534}.\n"
     ]
    },
    {
     "name": "stdout",
     "output_type": "stream",
     "text": [
      "Training until validation scores don't improve for 200 rounds\n",
      "Early stopping, best iteration is:\n",
      "[135]\ttraining's multi_logloss: 0.606084\tvalid_1's multi_logloss: 0.923838\n",
      "Training until validation scores don't improve for 200 rounds\n",
      "Early stopping, best iteration is:\n",
      "[195]\ttraining's multi_logloss: 0.542065\tvalid_1's multi_logloss: 0.849904\n",
      "Training until validation scores don't improve for 200 rounds\n",
      "Early stopping, best iteration is:\n",
      "[127]\ttraining's multi_logloss: 0.63385\tvalid_1's multi_logloss: 0.861546\n",
      "Training until validation scores don't improve for 200 rounds\n",
      "Early stopping, best iteration is:\n",
      "[147]\ttraining's multi_logloss: 0.596557\tvalid_1's multi_logloss: 0.884211\n",
      "Training until validation scores don't improve for 200 rounds\n",
      "Early stopping, best iteration is:\n",
      "[127]\ttraining's multi_logloss: 0.616826\tvalid_1's multi_logloss: 0.936033\n"
     ]
    },
    {
     "name": "stderr",
     "output_type": "stream",
     "text": [
      "[I 2020-08-19 11:22:22,895] Finished trial#21 resulted in value: 0.5714120487771012. Current best value is 0.576265499370293 with parameters: {'max_bin': 86, 'subsample': 0.6781844891290957, 'subsample_freq': 0.5741036147770283, 'learning_rate': 0.06226098621495584, 'num_leaves': 4, 'feature_fraction': 0.8308500801743306, 'bagging_freq': 2, 'min_child_samples': 5, 'lambda_l1': 0.06272213238829652, 'lambda_l2': 0.02989291065385534}.\n"
     ]
    },
    {
     "name": "stdout",
     "output_type": "stream",
     "text": [
      "Training until validation scores don't improve for 200 rounds\n",
      "Early stopping, best iteration is:\n",
      "[151]\ttraining's multi_logloss: 0.744931\tvalid_1's multi_logloss: 0.949507\n",
      "Training until validation scores don't improve for 200 rounds\n",
      "Early stopping, best iteration is:\n",
      "[239]\ttraining's multi_logloss: 0.697784\tvalid_1's multi_logloss: 0.863528\n",
      "Training until validation scores don't improve for 200 rounds\n",
      "Early stopping, best iteration is:\n",
      "[160]\ttraining's multi_logloss: 0.750995\tvalid_1's multi_logloss: 0.906032\n",
      "Training until validation scores don't improve for 200 rounds\n",
      "Early stopping, best iteration is:\n",
      "[179]\ttraining's multi_logloss: 0.726766\tvalid_1's multi_logloss: 0.916228\n",
      "Training until validation scores don't improve for 200 rounds\n",
      "Early stopping, best iteration is:\n",
      "[185]\ttraining's multi_logloss: 0.715814\tvalid_1's multi_logloss: 0.958397\n"
     ]
    },
    {
     "name": "stderr",
     "output_type": "stream",
     "text": [
      "[I 2020-08-19 11:22:32,019] Finished trial#22 resulted in value: 0.554293581071737. Current best value is 0.576265499370293 with parameters: {'max_bin': 86, 'subsample': 0.6781844891290957, 'subsample_freq': 0.5741036147770283, 'learning_rate': 0.06226098621495584, 'num_leaves': 4, 'feature_fraction': 0.8308500801743306, 'bagging_freq': 2, 'min_child_samples': 5, 'lambda_l1': 0.06272213238829652, 'lambda_l2': 0.02989291065385534}.\n"
     ]
    },
    {
     "name": "stdout",
     "output_type": "stream",
     "text": [
      "Training until validation scores don't improve for 200 rounds\n",
      "Early stopping, best iteration is:\n",
      "[144]\ttraining's multi_logloss: 0.693396\tvalid_1's multi_logloss: 0.954793\n",
      "Training until validation scores don't improve for 200 rounds\n",
      "Early stopping, best iteration is:\n",
      "[188]\ttraining's multi_logloss: 0.671116\tvalid_1's multi_logloss: 0.874104\n",
      "Training until validation scores don't improve for 200 rounds\n",
      "Early stopping, best iteration is:\n",
      "[138]\ttraining's multi_logloss: 0.719457\tvalid_1's multi_logloss: 0.89256\n",
      "Training until validation scores don't improve for 200 rounds\n",
      "Early stopping, best iteration is:\n",
      "[116]\ttraining's multi_logloss: 0.741834\tvalid_1's multi_logloss: 0.909907\n",
      "Training until validation scores don't improve for 200 rounds\n",
      "Early stopping, best iteration is:\n",
      "[196]\ttraining's multi_logloss: 0.646074\tvalid_1's multi_logloss: 0.953792\n"
     ]
    },
    {
     "name": "stderr",
     "output_type": "stream",
     "text": [
      "[I 2020-08-19 11:22:39,588] Finished trial#23 resulted in value: 0.5622278733058492. Current best value is 0.576265499370293 with parameters: {'max_bin': 86, 'subsample': 0.6781844891290957, 'subsample_freq': 0.5741036147770283, 'learning_rate': 0.06226098621495584, 'num_leaves': 4, 'feature_fraction': 0.8308500801743306, 'bagging_freq': 2, 'min_child_samples': 5, 'lambda_l1': 0.06272213238829652, 'lambda_l2': 0.02989291065385534}.\n"
     ]
    },
    {
     "name": "stdout",
     "output_type": "stream",
     "text": [
      "Training until validation scores don't improve for 200 rounds\n",
      "Early stopping, best iteration is:\n",
      "[280]\ttraining's multi_logloss: 0.601862\tvalid_1's multi_logloss: 0.912674\n",
      "Training until validation scores don't improve for 200 rounds\n",
      "[500]\ttraining's multi_logloss: 0.485358\tvalid_1's multi_logloss: 0.862436\n",
      "Early stopping, best iteration is:\n",
      "[385]\ttraining's multi_logloss: 0.547082\tvalid_1's multi_logloss: 0.853687\n",
      "Training until validation scores don't improve for 200 rounds\n",
      "Early stopping, best iteration is:\n",
      "[295]\ttraining's multi_logloss: 0.607517\tvalid_1's multi_logloss: 0.870687\n",
      "Training until validation scores don't improve for 200 rounds\n",
      "Early stopping, best iteration is:\n",
      "[297]\ttraining's multi_logloss: 0.601447\tvalid_1's multi_logloss: 0.885092\n",
      "Training until validation scores don't improve for 200 rounds\n",
      "[500]\ttraining's multi_logloss: 0.465363\tvalid_1's multi_logloss: 0.945586\n",
      "Early stopping, best iteration is:\n",
      "[309]\ttraining's multi_logloss: 0.57822\tvalid_1's multi_logloss: 0.935577\n"
     ]
    },
    {
     "name": "stderr",
     "output_type": "stream",
     "text": [
      "[I 2020-08-19 11:22:54,109] Finished trial#24 resulted in value: 0.5721847078956535. Current best value is 0.576265499370293 with parameters: {'max_bin': 86, 'subsample': 0.6781844891290957, 'subsample_freq': 0.5741036147770283, 'learning_rate': 0.06226098621495584, 'num_leaves': 4, 'feature_fraction': 0.8308500801743306, 'bagging_freq': 2, 'min_child_samples': 5, 'lambda_l1': 0.06272213238829652, 'lambda_l2': 0.02989291065385534}.\n"
     ]
    },
    {
     "name": "stdout",
     "output_type": "stream",
     "text": [
      "Training until validation scores don't improve for 200 rounds\n",
      "Early stopping, best iteration is:\n",
      "[231]\ttraining's multi_logloss: 0.7522\tvalid_1's multi_logloss: 0.955903\n",
      "Training until validation scores don't improve for 200 rounds\n",
      "[500]\ttraining's multi_logloss: 0.669821\tvalid_1's multi_logloss: 0.890427\n",
      "Early stopping, best iteration is:\n",
      "[376]\ttraining's multi_logloss: 0.711639\tvalid_1's multi_logloss: 0.880044\n",
      "Training until validation scores don't improve for 200 rounds\n",
      "Early stopping, best iteration is:\n",
      "[276]\ttraining's multi_logloss: 0.74137\tvalid_1's multi_logloss: 0.908881\n",
      "Training until validation scores don't improve for 200 rounds\n",
      "Early stopping, best iteration is:\n",
      "[192]\ttraining's multi_logloss: 0.786389\tvalid_1's multi_logloss: 0.92844\n",
      "Training until validation scores don't improve for 200 rounds\n",
      "Early stopping, best iteration is:\n",
      "[240]\ttraining's multi_logloss: 0.75065\tvalid_1's multi_logloss: 0.958765\n"
     ]
    },
    {
     "name": "stderr",
     "output_type": "stream",
     "text": [
      "[I 2020-08-19 11:23:14,655] Finished trial#25 resulted in value: 0.5382555329937019. Current best value is 0.576265499370293 with parameters: {'max_bin': 86, 'subsample': 0.6781844891290957, 'subsample_freq': 0.5741036147770283, 'learning_rate': 0.06226098621495584, 'num_leaves': 4, 'feature_fraction': 0.8308500801743306, 'bagging_freq': 2, 'min_child_samples': 5, 'lambda_l1': 0.06272213238829652, 'lambda_l2': 0.02989291065385534}.\n"
     ]
    },
    {
     "name": "stdout",
     "output_type": "stream",
     "text": [
      "Training until validation scores don't improve for 200 rounds\n",
      "[500]\ttraining's multi_logloss: 0.750563\tvalid_1's multi_logloss: 0.945913\n",
      "Early stopping, best iteration is:\n",
      "[784]\ttraining's multi_logloss: 0.688078\tvalid_1's multi_logloss: 0.939887\n",
      "Training until validation scores don't improve for 200 rounds\n",
      "[500]\ttraining's multi_logloss: 0.770032\tvalid_1's multi_logloss: 0.881272\n",
      "[1000]\ttraining's multi_logloss: 0.675081\tvalid_1's multi_logloss: 0.86541\n",
      "Early stopping, best iteration is:\n",
      "[972]\ttraining's multi_logloss: 0.679067\tvalid_1's multi_logloss: 0.864746\n",
      "Training until validation scores don't improve for 200 rounds\n",
      "[500]\ttraining's multi_logloss: 0.77025\tvalid_1's multi_logloss: 0.897967\n",
      "[1000]\ttraining's multi_logloss: 0.671662\tvalid_1's multi_logloss: 0.893092\n",
      "Early stopping, best iteration is:\n",
      "[859]\ttraining's multi_logloss: 0.693873\tvalid_1's multi_logloss: 0.889469\n",
      "Training until validation scores don't improve for 200 rounds\n",
      "[500]\ttraining's multi_logloss: 0.761241\tvalid_1's multi_logloss: 0.907456\n",
      "Early stopping, best iteration is:\n",
      "[676]\ttraining's multi_logloss: 0.719582\tvalid_1's multi_logloss: 0.903682\n",
      "Training until validation scores don't improve for 200 rounds\n",
      "[500]\ttraining's multi_logloss: 0.753121\tvalid_1's multi_logloss: 0.949777\n",
      "[1000]\ttraining's multi_logloss: 0.655884\tvalid_1's multi_logloss: 0.94556\n",
      "Early stopping, best iteration is:\n",
      "[812]\ttraining's multi_logloss: 0.685487\tvalid_1's multi_logloss: 0.942485\n"
     ]
    },
    {
     "name": "stderr",
     "output_type": "stream",
     "text": [
      "[I 2020-08-19 11:23:43,153] Finished trial#26 resulted in value: 0.5589635218633348. Current best value is 0.576265499370293 with parameters: {'max_bin': 86, 'subsample': 0.6781844891290957, 'subsample_freq': 0.5741036147770283, 'learning_rate': 0.06226098621495584, 'num_leaves': 4, 'feature_fraction': 0.8308500801743306, 'bagging_freq': 2, 'min_child_samples': 5, 'lambda_l1': 0.06272213238829652, 'lambda_l2': 0.02989291065385534}.\n"
     ]
    },
    {
     "name": "stdout",
     "output_type": "stream",
     "text": [
      "Training until validation scores don't improve for 200 rounds\n",
      "Early stopping, best iteration is:\n",
      "[237]\ttraining's multi_logloss: 0.727644\tvalid_1's multi_logloss: 0.945123\n",
      "Training until validation scores don't improve for 200 rounds\n",
      "[500]\ttraining's multi_logloss: 0.638532\tvalid_1's multi_logloss: 0.873217\n",
      "Early stopping, best iteration is:\n",
      "[411]\ttraining's multi_logloss: 0.670253\tvalid_1's multi_logloss: 0.866851\n",
      "Training until validation scores don't improve for 200 rounds\n",
      "Early stopping, best iteration is:\n",
      "[270]\ttraining's multi_logloss: 0.723228\tvalid_1's multi_logloss: 0.906575\n",
      "Training until validation scores don't improve for 200 rounds\n",
      "Early stopping, best iteration is:\n",
      "[178]\ttraining's multi_logloss: 0.779905\tvalid_1's multi_logloss: 0.920895\n",
      "Training until validation scores don't improve for 200 rounds\n",
      "Early stopping, best iteration is:\n",
      "[234]\ttraining's multi_logloss: 0.732744\tvalid_1's multi_logloss: 0.951626\n"
     ]
    },
    {
     "name": "stderr",
     "output_type": "stream",
     "text": [
      "[I 2020-08-19 11:23:53,484] Finished trial#27 resulted in value: 0.5496369686767458. Current best value is 0.576265499370293 with parameters: {'max_bin': 86, 'subsample': 0.6781844891290957, 'subsample_freq': 0.5741036147770283, 'learning_rate': 0.06226098621495584, 'num_leaves': 4, 'feature_fraction': 0.8308500801743306, 'bagging_freq': 2, 'min_child_samples': 5, 'lambda_l1': 0.06272213238829652, 'lambda_l2': 0.02989291065385534}.\n"
     ]
    },
    {
     "name": "stdout",
     "output_type": "stream",
     "text": [
      "Training until validation scores don't improve for 200 rounds\n",
      "[500]\ttraining's multi_logloss: 0.569856\tvalid_1's multi_logloss: 0.93119\n",
      "Early stopping, best iteration is:\n",
      "[340]\ttraining's multi_logloss: 0.650244\tvalid_1's multi_logloss: 0.923966\n",
      "Training until validation scores don't improve for 200 rounds\n",
      "[500]\ttraining's multi_logloss: 0.588929\tvalid_1's multi_logloss: 0.856807\n",
      "Early stopping, best iteration is:\n",
      "[588]\ttraining's multi_logloss: 0.55249\tvalid_1's multi_logloss: 0.85559\n",
      "Training until validation scores don't improve for 200 rounds\n",
      "[500]\ttraining's multi_logloss: 0.582893\tvalid_1's multi_logloss: 0.891011\n",
      "Early stopping, best iteration is:\n",
      "[338]\ttraining's multi_logloss: 0.66628\tvalid_1's multi_logloss: 0.887183\n",
      "Training until validation scores don't improve for 200 rounds\n",
      "[500]\ttraining's multi_logloss: 0.579329\tvalid_1's multi_logloss: 0.885632\n",
      "Early stopping, best iteration is:\n",
      "[445]\ttraining's multi_logloss: 0.604243\tvalid_1's multi_logloss: 0.881555\n",
      "Training until validation scores don't improve for 200 rounds\n",
      "[500]\ttraining's multi_logloss: 0.569464\tvalid_1's multi_logloss: 0.927614\n",
      "Early stopping, best iteration is:\n",
      "[457]\ttraining's multi_logloss: 0.589246\tvalid_1's multi_logloss: 0.922129\n"
     ]
    },
    {
     "name": "stderr",
     "output_type": "stream",
     "text": [
      "[I 2020-08-19 11:24:11,793] Finished trial#28 resulted in value: 0.569203160123662. Current best value is 0.576265499370293 with parameters: {'max_bin': 86, 'subsample': 0.6781844891290957, 'subsample_freq': 0.5741036147770283, 'learning_rate': 0.06226098621495584, 'num_leaves': 4, 'feature_fraction': 0.8308500801743306, 'bagging_freq': 2, 'min_child_samples': 5, 'lambda_l1': 0.06272213238829652, 'lambda_l2': 0.02989291065385534}.\n"
     ]
    },
    {
     "name": "stdout",
     "output_type": "stream",
     "text": [
      "Training until validation scores don't improve for 200 rounds\n",
      "Early stopping, best iteration is:\n",
      "[204]\ttraining's multi_logloss: 0.792171\tvalid_1's multi_logloss: 0.960172\n",
      "Training until validation scores don't improve for 200 rounds\n",
      "Early stopping, best iteration is:\n",
      "[264]\ttraining's multi_logloss: 0.783294\tvalid_1's multi_logloss: 0.898277\n",
      "Training until validation scores don't improve for 200 rounds\n",
      "Early stopping, best iteration is:\n",
      "[281]\ttraining's multi_logloss: 0.764238\tvalid_1's multi_logloss: 0.913599\n",
      "Training until validation scores don't improve for 200 rounds\n",
      "Early stopping, best iteration is:\n",
      "[228]\ttraining's multi_logloss: 0.786649\tvalid_1's multi_logloss: 0.933546\n",
      "Training until validation scores don't improve for 200 rounds\n",
      "Early stopping, best iteration is:\n",
      "[240]\ttraining's multi_logloss: 0.776539\tvalid_1's multi_logloss: 0.961632\n"
     ]
    },
    {
     "name": "stderr",
     "output_type": "stream",
     "text": [
      "[I 2020-08-19 11:24:21,854] Finished trial#29 resulted in value: 0.5343497314548276. Current best value is 0.576265499370293 with parameters: {'max_bin': 86, 'subsample': 0.6781844891290957, 'subsample_freq': 0.5741036147770283, 'learning_rate': 0.06226098621495584, 'num_leaves': 4, 'feature_fraction': 0.8308500801743306, 'bagging_freq': 2, 'min_child_samples': 5, 'lambda_l1': 0.06272213238829652, 'lambda_l2': 0.02989291065385534}.\n"
     ]
    },
    {
     "name": "stdout",
     "output_type": "stream",
     "text": [
      "Training until validation scores don't improve for 200 rounds\n",
      "Early stopping, best iteration is:\n",
      "[104]\ttraining's multi_logloss: 0.993319\tvalid_1's multi_logloss: 1.0669\n",
      "Training until validation scores don't improve for 200 rounds\n",
      "Early stopping, best iteration is:\n",
      "[221]\ttraining's multi_logloss: 0.970326\tvalid_1's multi_logloss: 1.04861\n",
      "Training until validation scores don't improve for 200 rounds\n",
      "Early stopping, best iteration is:\n",
      "[274]\ttraining's multi_logloss: 0.958424\tvalid_1's multi_logloss: 1.01108\n",
      "Training until validation scores don't improve for 200 rounds\n",
      "Early stopping, best iteration is:\n",
      "[222]\ttraining's multi_logloss: 0.963768\tvalid_1's multi_logloss: 1.04436\n",
      "Training until validation scores don't improve for 200 rounds\n",
      "Early stopping, best iteration is:\n",
      "[196]\ttraining's multi_logloss: 0.971839\tvalid_1's multi_logloss: 1.06086\n"
     ]
    },
    {
     "name": "stderr",
     "output_type": "stream",
     "text": [
      "[I 2020-08-19 11:24:28,853] Finished trial#30 resulted in value: 0.4170874913271111. Current best value is 0.576265499370293 with parameters: {'max_bin': 86, 'subsample': 0.6781844891290957, 'subsample_freq': 0.5741036147770283, 'learning_rate': 0.06226098621495584, 'num_leaves': 4, 'feature_fraction': 0.8308500801743306, 'bagging_freq': 2, 'min_child_samples': 5, 'lambda_l1': 0.06272213238829652, 'lambda_l2': 0.02989291065385534}.\n"
     ]
    },
    {
     "name": "stdout",
     "output_type": "stream",
     "text": [
      "Training until validation scores don't improve for 200 rounds\n",
      "[500]\ttraining's multi_logloss: 0.593466\tvalid_1's multi_logloss: 0.92946\n",
      "Early stopping, best iteration is:\n",
      "[412]\ttraining's multi_logloss: 0.634079\tvalid_1's multi_logloss: 0.925268\n",
      "Training until validation scores don't improve for 200 rounds\n",
      "[500]\ttraining's multi_logloss: 0.611719\tvalid_1's multi_logloss: 0.855189\n",
      "Early stopping, best iteration is:\n",
      "[592]\ttraining's multi_logloss: 0.574576\tvalid_1's multi_logloss: 0.850862\n",
      "Training until validation scores don't improve for 200 rounds\n",
      "[500]\ttraining's multi_logloss: 0.606918\tvalid_1's multi_logloss: 0.888412\n",
      "Early stopping, best iteration is:\n",
      "[440]\ttraining's multi_logloss: 0.63457\tvalid_1's multi_logloss: 0.884947\n",
      "Training until validation scores don't improve for 200 rounds\n",
      "[500]\ttraining's multi_logloss: 0.602823\tvalid_1's multi_logloss: 0.88352\n",
      "Early stopping, best iteration is:\n",
      "[490]\ttraining's multi_logloss: 0.607168\tvalid_1's multi_logloss: 0.881533\n",
      "Training until validation scores don't improve for 200 rounds\n",
      "[500]\ttraining's multi_logloss: 0.593205\tvalid_1's multi_logloss: 0.929928\n",
      "Early stopping, best iteration is:\n",
      "[460]\ttraining's multi_logloss: 0.610977\tvalid_1's multi_logloss: 0.926707\n"
     ]
    },
    {
     "name": "stderr",
     "output_type": "stream",
     "text": [
      "[I 2020-08-19 11:24:46,402] Finished trial#31 resulted in value: 0.5687404901310709. Current best value is 0.576265499370293 with parameters: {'max_bin': 86, 'subsample': 0.6781844891290957, 'subsample_freq': 0.5741036147770283, 'learning_rate': 0.06226098621495584, 'num_leaves': 4, 'feature_fraction': 0.8308500801743306, 'bagging_freq': 2, 'min_child_samples': 5, 'lambda_l1': 0.06272213238829652, 'lambda_l2': 0.02989291065385534}.\n"
     ]
    },
    {
     "name": "stdout",
     "output_type": "stream",
     "text": [
      "Training until validation scores don't improve for 200 rounds\n",
      "Early stopping, best iteration is:\n",
      "[282]\ttraining's multi_logloss: 0.717442\tvalid_1's multi_logloss: 0.941477\n",
      "Training until validation scores don't improve for 200 rounds\n",
      "[500]\ttraining's multi_logloss: 0.642817\tvalid_1's multi_logloss: 0.858139\n",
      "Early stopping, best iteration is:\n",
      "[568]\ttraining's multi_logloss: 0.619757\tvalid_1's multi_logloss: 0.852053\n",
      "Training until validation scores don't improve for 200 rounds\n",
      "[500]\ttraining's multi_logloss: 0.633271\tvalid_1's multi_logloss: 0.90489\n",
      "Early stopping, best iteration is:\n",
      "[325]\ttraining's multi_logloss: 0.709327\tvalid_1's multi_logloss: 0.893568\n",
      "Training until validation scores don't improve for 200 rounds\n",
      "[500]\ttraining's multi_logloss: 0.629977\tvalid_1's multi_logloss: 0.923722\n",
      "Early stopping, best iteration is:\n",
      "[306]\ttraining's multi_logloss: 0.712601\tvalid_1's multi_logloss: 0.913891\n",
      "Training until validation scores don't improve for 200 rounds\n",
      "[500]\ttraining's multi_logloss: 0.624147\tvalid_1's multi_logloss: 0.959062\n",
      "Early stopping, best iteration is:\n",
      "[342]\ttraining's multi_logloss: 0.689642\tvalid_1's multi_logloss: 0.947223\n"
     ]
    },
    {
     "name": "stderr",
     "output_type": "stream",
     "text": [
      "[I 2020-08-19 11:24:59,911] Finished trial#32 resulted in value: 0.5657457811434811. Current best value is 0.576265499370293 with parameters: {'max_bin': 86, 'subsample': 0.6781844891290957, 'subsample_freq': 0.5741036147770283, 'learning_rate': 0.06226098621495584, 'num_leaves': 4, 'feature_fraction': 0.8308500801743306, 'bagging_freq': 2, 'min_child_samples': 5, 'lambda_l1': 0.06272213238829652, 'lambda_l2': 0.02989291065385534}.\n"
     ]
    },
    {
     "name": "stdout",
     "output_type": "stream",
     "text": [
      "Training until validation scores don't improve for 200 rounds\n",
      "[500]\ttraining's multi_logloss: 0.51594\tvalid_1's multi_logloss: 0.91781\n",
      "Early stopping, best iteration is:\n",
      "[516]\ttraining's multi_logloss: 0.508581\tvalid_1's multi_logloss: 0.917265\n",
      "Training until validation scores don't improve for 200 rounds\n",
      "[500]\ttraining's multi_logloss: 0.534553\tvalid_1's multi_logloss: 0.852353\n",
      "Early stopping, best iteration is:\n",
      "[448]\ttraining's multi_logloss: 0.559336\tvalid_1's multi_logloss: 0.849772\n",
      "Training until validation scores don't improve for 200 rounds\n",
      "[500]\ttraining's multi_logloss: 0.529203\tvalid_1's multi_logloss: 0.872634\n",
      "Early stopping, best iteration is:\n",
      "[354]\ttraining's multi_logloss: 0.607163\tvalid_1's multi_logloss: 0.868755\n",
      "Training until validation scores don't improve for 200 rounds\n",
      "[500]\ttraining's multi_logloss: 0.52658\tvalid_1's multi_logloss: 0.891555\n",
      "Early stopping, best iteration is:\n",
      "[308]\ttraining's multi_logloss: 0.631546\tvalid_1's multi_logloss: 0.88653\n",
      "Training until validation scores don't improve for 200 rounds\n",
      "[500]\ttraining's multi_logloss: 0.516463\tvalid_1's multi_logloss: 0.927427\n",
      "Early stopping, best iteration is:\n",
      "[460]\ttraining's multi_logloss: 0.535765\tvalid_1's multi_logloss: 0.926486\n"
     ]
    },
    {
     "name": "stderr",
     "output_type": "stream",
     "text": [
      "[I 2020-08-19 11:25:19,859] Finished trial#33 resulted in value: 0.576330387123468. Current best value is 0.576330387123468 with parameters: {'max_bin': 284, 'subsample': 0.8557428386486005, 'subsample_freq': 0.5951625089135864, 'learning_rate': 0.049314291762869215, 'num_leaves': 7, 'feature_fraction': 0.8582139682982178, 'bagging_freq': 4, 'min_child_samples': 5, 'lambda_l1': 0.003582271159620405, 'lambda_l2': 1.2828770550671542}.\n"
     ]
    },
    {
     "name": "stdout",
     "output_type": "stream",
     "text": [
      "Training until validation scores don't improve for 200 rounds\n",
      "Early stopping, best iteration is:\n",
      "[227]\ttraining's multi_logloss: 0.744964\tvalid_1's multi_logloss: 0.944158\n",
      "Training until validation scores don't improve for 200 rounds\n",
      "[500]\ttraining's multi_logloss: 0.646988\tvalid_1's multi_logloss: 0.87221\n",
      "Early stopping, best iteration is:\n",
      "[304]\ttraining's multi_logloss: 0.724393\tvalid_1's multi_logloss: 0.863808\n",
      "Training until validation scores don't improve for 200 rounds\n",
      "Early stopping, best iteration is:\n",
      "[272]\ttraining's multi_logloss: 0.732198\tvalid_1's multi_logloss: 0.903929\n",
      "Training until validation scores don't improve for 200 rounds\n",
      "Early stopping, best iteration is:\n",
      "[221]\ttraining's multi_logloss: 0.756404\tvalid_1's multi_logloss: 0.913974\n",
      "Training until validation scores don't improve for 200 rounds\n",
      "[500]\ttraining's multi_logloss: 0.622533\tvalid_1's multi_logloss: 0.968846\n",
      "Early stopping, best iteration is:\n",
      "[317]\ttraining's multi_logloss: 0.694508\tvalid_1's multi_logloss: 0.951642\n"
     ]
    },
    {
     "name": "stderr",
     "output_type": "stream",
     "text": [
      "[I 2020-08-19 11:25:31,418] Finished trial#34 resulted in value: 0.549129206504456. Current best value is 0.576330387123468 with parameters: {'max_bin': 284, 'subsample': 0.8557428386486005, 'subsample_freq': 0.5951625089135864, 'learning_rate': 0.049314291762869215, 'num_leaves': 7, 'feature_fraction': 0.8582139682982178, 'bagging_freq': 4, 'min_child_samples': 5, 'lambda_l1': 0.003582271159620405, 'lambda_l2': 1.2828770550671542}.\n"
     ]
    },
    {
     "name": "stdout",
     "output_type": "stream",
     "text": [
      "Training until validation scores don't improve for 200 rounds\n",
      "Early stopping, best iteration is:\n",
      "[159]\ttraining's multi_logloss: 0.64392\tvalid_1's multi_logloss: 0.917634\n",
      "Training until validation scores don't improve for 200 rounds\n",
      "Early stopping, best iteration is:\n",
      "[209]\ttraining's multi_logloss: 0.610191\tvalid_1's multi_logloss: 0.855112\n",
      "Training until validation scores don't improve for 200 rounds\n",
      "Early stopping, best iteration is:\n",
      "[138]\ttraining's multi_logloss: 0.686784\tvalid_1's multi_logloss: 0.873136\n",
      "Training until validation scores don't improve for 200 rounds\n",
      "Early stopping, best iteration is:\n",
      "[129]\ttraining's multi_logloss: 0.691843\tvalid_1's multi_logloss: 0.888065\n",
      "Training until validation scores don't improve for 200 rounds\n",
      "Early stopping, best iteration is:\n",
      "[183]\ttraining's multi_logloss: 0.61887\tvalid_1's multi_logloss: 0.937427\n"
     ]
    },
    {
     "name": "stderr",
     "output_type": "stream",
     "text": [
      "[I 2020-08-19 11:25:42,158] Finished trial#35 resulted in value: 0.5742781081674153. Current best value is 0.576330387123468 with parameters: {'max_bin': 284, 'subsample': 0.8557428386486005, 'subsample_freq': 0.5951625089135864, 'learning_rate': 0.049314291762869215, 'num_leaves': 7, 'feature_fraction': 0.8582139682982178, 'bagging_freq': 4, 'min_child_samples': 5, 'lambda_l1': 0.003582271159620405, 'lambda_l2': 1.2828770550671542}.\n"
     ]
    },
    {
     "name": "stdout",
     "output_type": "stream",
     "text": [
      "Training until validation scores don't improve for 200 rounds\n",
      "Early stopping, best iteration is:\n",
      "[220]\ttraining's multi_logloss: 0.697431\tvalid_1's multi_logloss: 0.94094\n",
      "Training until validation scores don't improve for 200 rounds\n",
      "[500]\ttraining's multi_logloss: 0.58222\tvalid_1's multi_logloss: 0.875256\n",
      "Early stopping, best iteration is:\n",
      "[320]\ttraining's multi_logloss: 0.658685\tvalid_1's multi_logloss: 0.863493\n",
      "Training until validation scores don't improve for 200 rounds\n",
      "Early stopping, best iteration is:\n",
      "[200]\ttraining's multi_logloss: 0.727768\tvalid_1's multi_logloss: 0.8935\n",
      "Training until validation scores don't improve for 200 rounds\n",
      "Early stopping, best iteration is:\n",
      "[196]\ttraining's multi_logloss: 0.724953\tvalid_1's multi_logloss: 0.914029\n",
      "Training until validation scores don't improve for 200 rounds\n",
      "Early stopping, best iteration is:\n",
      "[206]\ttraining's multi_logloss: 0.711102\tvalid_1's multi_logloss: 0.946321\n"
     ]
    },
    {
     "name": "stderr",
     "output_type": "stream",
     "text": [
      "[I 2020-08-19 11:25:53,699] Finished trial#36 resulted in value: 0.560466253212853. Current best value is 0.576330387123468 with parameters: {'max_bin': 284, 'subsample': 0.8557428386486005, 'subsample_freq': 0.5951625089135864, 'learning_rate': 0.049314291762869215, 'num_leaves': 7, 'feature_fraction': 0.8582139682982178, 'bagging_freq': 4, 'min_child_samples': 5, 'lambda_l1': 0.003582271159620405, 'lambda_l2': 1.2828770550671542}.\n"
     ]
    },
    {
     "name": "stdout",
     "output_type": "stream",
     "text": [
      "Training until validation scores don't improve for 200 rounds\n",
      "Early stopping, best iteration is:\n",
      "[169]\ttraining's multi_logloss: 0.797339\tvalid_1's multi_logloss: 0.959433\n",
      "Training until validation scores don't improve for 200 rounds\n",
      "[500]\ttraining's multi_logloss: 0.689322\tvalid_1's multi_logloss: 0.901074\n",
      "Early stopping, best iteration is:\n",
      "[369]\ttraining's multi_logloss: 0.728861\tvalid_1's multi_logloss: 0.892386\n",
      "Training until validation scores don't improve for 200 rounds\n",
      "Early stopping, best iteration is:\n",
      "[220]\ttraining's multi_logloss: 0.780847\tvalid_1's multi_logloss: 0.918243\n",
      "Training until validation scores don't improve for 200 rounds\n",
      "Early stopping, best iteration is:\n",
      "[176]\ttraining's multi_logloss: 0.801272\tvalid_1's multi_logloss: 0.933287\n",
      "Training until validation scores don't improve for 200 rounds\n",
      "Early stopping, best iteration is:\n",
      "[207]\ttraining's multi_logloss: 0.776657\tvalid_1's multi_logloss: 0.967898\n"
     ]
    },
    {
     "name": "stderr",
     "output_type": "stream",
     "text": [
      "[I 2020-08-19 11:26:02,805] Finished trial#37 resulted in value: 0.5370499774179459. Current best value is 0.576330387123468 with parameters: {'max_bin': 284, 'subsample': 0.8557428386486005, 'subsample_freq': 0.5951625089135864, 'learning_rate': 0.049314291762869215, 'num_leaves': 7, 'feature_fraction': 0.8582139682982178, 'bagging_freq': 4, 'min_child_samples': 5, 'lambda_l1': 0.003582271159620405, 'lambda_l2': 1.2828770550671542}.\n"
     ]
    },
    {
     "name": "stdout",
     "output_type": "stream",
     "text": [
      "Training until validation scores don't improve for 200 rounds\n",
      "[500]\ttraining's multi_logloss: 0.576972\tvalid_1's multi_logloss: 0.937441\n",
      "Early stopping, best iteration is:\n",
      "[436]\ttraining's multi_logloss: 0.602993\tvalid_1's multi_logloss: 0.933875\n",
      "Training until validation scores don't improve for 200 rounds\n",
      "[500]\ttraining's multi_logloss: 0.59745\tvalid_1's multi_logloss: 0.865237\n",
      "Early stopping, best iteration is:\n",
      "[529]\ttraining's multi_logloss: 0.586747\tvalid_1's multi_logloss: 0.862772\n",
      "Training until validation scores don't improve for 200 rounds\n",
      "[500]\ttraining's multi_logloss: 0.591918\tvalid_1's multi_logloss: 0.889352\n",
      "Early stopping, best iteration is:\n",
      "[339]\ttraining's multi_logloss: 0.666326\tvalid_1's multi_logloss: 0.881471\n",
      "Training until validation scores don't improve for 200 rounds\n",
      "[500]\ttraining's multi_logloss: 0.587445\tvalid_1's multi_logloss: 0.899838\n",
      "Early stopping, best iteration is:\n",
      "[354]\ttraining's multi_logloss: 0.652579\tvalid_1's multi_logloss: 0.890079\n",
      "Training until validation scores don't improve for 200 rounds\n",
      "[500]\ttraining's multi_logloss: 0.580662\tvalid_1's multi_logloss: 0.937013\n",
      "Early stopping, best iteration is:\n",
      "[477]\ttraining's multi_logloss: 0.589943\tvalid_1's multi_logloss: 0.935193\n"
     ]
    },
    {
     "name": "stderr",
     "output_type": "stream",
     "text": [
      "[I 2020-08-19 11:26:16,135] Finished trial#38 resulted in value: 0.574829424885039. Current best value is 0.576330387123468 with parameters: {'max_bin': 284, 'subsample': 0.8557428386486005, 'subsample_freq': 0.5951625089135864, 'learning_rate': 0.049314291762869215, 'num_leaves': 7, 'feature_fraction': 0.8582139682982178, 'bagging_freq': 4, 'min_child_samples': 5, 'lambda_l1': 0.003582271159620405, 'lambda_l2': 1.2828770550671542}.\n"
     ]
    },
    {
     "name": "stdout",
     "output_type": "stream",
     "text": [
      "Training until validation scores don't improve for 200 rounds\n",
      "Early stopping, best iteration is:\n",
      "[146]\ttraining's multi_logloss: 0.880138\tvalid_1's multi_logloss: 0.988449\n",
      "Training until validation scores don't improve for 200 rounds\n",
      "Early stopping, best iteration is:\n",
      "[255]\ttraining's multi_logloss: 0.877421\tvalid_1's multi_logloss: 0.960498\n",
      "Training until validation scores don't improve for 200 rounds\n",
      "[500]\ttraining's multi_logloss: 0.832626\tvalid_1's multi_logloss: 0.945849\n",
      "Early stopping, best iteration is:\n",
      "[323]\ttraining's multi_logloss: 0.864424\tvalid_1's multi_logloss: 0.941975\n",
      "Training until validation scores don't improve for 200 rounds\n",
      "Early stopping, best iteration is:\n",
      "[265]\ttraining's multi_logloss: 0.853802\tvalid_1's multi_logloss: 0.945993\n",
      "Training until validation scores don't improve for 200 rounds\n",
      "Early stopping, best iteration is:\n",
      "[110]\ttraining's multi_logloss: 0.918872\tvalid_1's multi_logloss: 1.00877\n"
     ]
    },
    {
     "name": "stderr",
     "output_type": "stream",
     "text": [
      "[I 2020-08-19 11:26:23,687] Finished trial#39 resulted in value: 0.5067981267322595. Current best value is 0.576330387123468 with parameters: {'max_bin': 284, 'subsample': 0.8557428386486005, 'subsample_freq': 0.5951625089135864, 'learning_rate': 0.049314291762869215, 'num_leaves': 7, 'feature_fraction': 0.8582139682982178, 'bagging_freq': 4, 'min_child_samples': 5, 'lambda_l1': 0.003582271159620405, 'lambda_l2': 1.2828770550671542}.\n"
     ]
    },
    {
     "name": "stdout",
     "output_type": "stream",
     "text": [
      "0.576330387123468\n",
      "{'max_bin': 284, 'subsample': 0.8557428386486005, 'subsample_freq': 0.5951625089135864, 'learning_rate': 0.049314291762869215, 'num_leaves': 7, 'feature_fraction': 0.8582139682982178, 'bagging_freq': 4, 'min_child_samples': 5, 'lambda_l1': 0.003582271159620405, 'lambda_l2': 1.2828770550671542}\n"
     ]
    }
   ],
   "source": [
    "train_df_2['jobflag_2']=train_df_2['jobflag']-1\n",
    "feature = train_df_2.drop(columns=['jobflag', 'jobflag_2']).columns\n",
    "warnings.filterwarnings('ignore')\n",
    "optimize_optuna = Optimize_by_Optuna(train_df_2, feature, 'jobflag_2')\n",
    "study = optuna.create_study(direction='maximize')\n",
    "study.optimize(optimize_optuna.objective, n_trials=40)\n",
    "print(study.best_value)\n",
    "print(study.best_params)"
   ]
  },
  {
   "cell_type": "code",
   "execution_count": 135,
   "metadata": {},
   "outputs": [],
   "source": []
  },
  {
   "cell_type": "code",
   "execution_count": 136,
   "metadata": {},
   "outputs": [],
   "source": [
    "train_df_2 = train_df[col.tolist()+['jobflag']]"
   ]
  },
  {
   "cell_type": "code",
   "execution_count": 139,
   "metadata": {},
   "outputs": [],
   "source": [
    "X = train_df_2[col]\n",
    "y = train_df_2['jobflag']-1"
   ]
  },
  {
   "cell_type": "code",
   "execution_count": 145,
   "metadata": {},
   "outputs": [],
   "source": [
    "test_X = test_df[col]"
   ]
  },
  {
   "cell_type": "code",
   "execution_count": 172,
   "metadata": {},
   "outputs": [
    {
     "data": {
      "application/vnd.jupyter.widget-view+json": {
       "model_id": "8e15fd4e875a4f79a43a68f3805e1372",
       "version_major": 2,
       "version_minor": 0
      },
      "text/plain": [
       "HBox(children=(IntProgress(value=0, max=10), HTML(value='')))"
      ]
     },
     "metadata": {},
     "output_type": "display_data"
    },
    {
     "name": "stdout",
     "output_type": "stream",
     "text": [
      "[500]\ttraining's multi_logloss: 0.55954\n",
      "[500]\ttraining's multi_logloss: 0.560287\n",
      "[500]\ttraining's multi_logloss: 0.557759\n",
      "[500]\ttraining's multi_logloss: 0.558944\n",
      "[500]\ttraining's multi_logloss: 0.558295\n",
      "[500]\ttraining's multi_logloss: 0.558546\n",
      "[500]\ttraining's multi_logloss: 0.558914\n",
      "[500]\ttraining's multi_logloss: 0.559457\n",
      "[500]\ttraining's multi_logloss: 0.558792\n",
      "[500]\ttraining's multi_logloss: 0.559604\n",
      "\n"
     ]
    }
   ],
   "source": [
    "PARAMS = {#'boosting_type': 'gbdt', 'metric': 'rmse',\n",
    "    'boosting_type': 'gbdt','objective': 'multiclass','metric': 'multiclass', 'num_class':4,\n",
    "    \n",
    "    'n_estimators': 500,\n",
    "    \n",
    "    'boost_from_average': False,'verbose': 250,'random_state':2020,\n",
    "    'max_bin': 284, 'subsample': 0.8557428386486005, 'subsample_freq': 0.5951625089135864, 'learning_rate': 0.049314291762869215,\n",
    "    'num_leaves': 7, 'feature_fraction': 0.8582139682982178, 'bagging_freq': 4, 'min_child_samples': 5, \n",
    "    'lambda_l1': 0.003582271159620405, 'lambda_l2': 1.2828770550671542\n",
    "}\n",
    "preds=[]\n",
    "#importance=[]\n",
    "for _ in tqdm(range(10)):\n",
    "    train_set = lgb.Dataset(X, y)\n",
    "        #val_set = lgb.Dataset(val_X, val_y)\n",
    "    model = lgb.train(params=PARAMS, train_set=train_set,\n",
    "                      valid_sets=train_set,\n",
    "                      num_boost_round=3000,\n",
    "                      #early_stopping_rounds=200, \n",
    "                      verbose_eval=500\n",
    "                     )\n",
    "    preds += [model.predict(test_X).tolist()]\n",
    "#    score.append(metrics.f1_score(val_y,  np.argmax(preds, axis=1), average='macro'))\n",
    "    #importance.append(model.feature_importance('gain'))\n",
    "    PARAMS['random_state']+=1"
   ]
  },
  {
   "cell_type": "code",
   "execution_count": 174,
   "metadata": {},
   "outputs": [],
   "source": [
    "sub = pd.read_csv('test.csv')"
   ]
  },
  {
   "cell_type": "code",
   "execution_count": 178,
   "metadata": {},
   "outputs": [],
   "source": [
    "sub['preds'] = np.argmax(np.mean(preds, axis=0), axis=1)"
   ]
  },
  {
   "cell_type": "code",
   "execution_count": 180,
   "metadata": {},
   "outputs": [],
   "source": [
    "sub['preds']+=1"
   ]
  },
  {
   "cell_type": "code",
   "execution_count": 183,
   "metadata": {},
   "outputs": [
    {
     "data": {
      "text/plain": [
       "3    0.582903\n",
       "1    0.234653\n",
       "4    0.137694\n",
       "2    0.044750\n",
       "Name: preds, dtype: float64"
      ]
     },
     "execution_count": 183,
     "metadata": {},
     "output_type": "execute_result"
    }
   ],
   "source": [
    "sub.preds.value_counts(normalize=True)"
   ]
  },
  {
   "cell_type": "code",
   "execution_count": null,
   "metadata": {},
   "outputs": [],
   "source": []
  }
 ],
 "metadata": {
  "kernelspec": {
   "display_name": "Python 3",
   "language": "python",
   "name": "python3"
  },
  "language_info": {
   "codemirror_mode": {
    "name": "ipython",
    "version": 3
   },
   "file_extension": ".py",
   "mimetype": "text/x-python",
   "name": "python",
   "nbconvert_exporter": "python",
   "pygments_lexer": "ipython3",
   "version": "3.6.5"
  }
 },
 "nbformat": 4,
 "nbformat_minor": 2
}
