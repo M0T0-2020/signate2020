{
 "cells": [
  {
   "cell_type": "code",
   "execution_count": 1,
   "metadata": {},
   "outputs": [],
   "source": [
    "import  warnings\n",
    "warnings.filterwarnings('ignore')\n",
    "import numpy as np\n",
    "import pandas as pd\n",
    "\n",
    "from sklearn.model_selection import StratifiedShuffleSplit, StratifiedKFold, KFold, ShuffleSplit\n",
    "from sklearn import metrics\n",
    "from sklearn.cluster import KMeans\n",
    "from sklearn.feature_extraction.text import TfidfVectorizer, CountVectorizer\n",
    "from sklearn.linear_model import LogisticRegression, RidgeClassifier\n",
    "from sklearn.neighbors import KNeighborsClassifier\n",
    "from sklearn.naive_bayes import GaussianNB\n",
    "from sklearn.gaussian_process import GaussianProcessClassifier\n",
    "\n",
    "import torch\n",
    "from torch import nn\n",
    "from torch.utils.data import Dataset, DataLoader\n",
    "import torch.utils.data\n",
    "import torchvision\n",
    "from torch import optim\n",
    "from torch import cuda\n",
    "from torch.optim.lr_scheduler import CosineAnnealingLR\n",
    "\n",
    "import time, gc, random\n",
    "from tqdm import tqdm_notebook as tqdm\n",
    "from matplotlib import pyplot as plt\n",
    "import seaborn as sns\n",
    "\n",
    "from stop_words import get_stop_words\n",
    "import nltk, string\n",
    "from nltk.stem.porter import PorterStemmer\n",
    "\n",
    "import lightgbm as lgb\n",
    "\n",
    "random.seed(2020)\n",
    "np.random.seed(2020)\n",
    "torch.cuda.manual_seed_all(2020)\n",
    "\n",
    "warnings.filterwarnings('ignore')\n",
    "%matplotlib inline"
   ]
  },
  {
   "cell_type": "code",
   "execution_count": 2,
   "metadata": {},
   "outputs": [],
   "source": [
    "class Preprocessing:\n",
    "    def __init__(self):\n",
    "        self.porter = PorterStemmer()\n",
    "        self.stop_words = get_stop_words('en')\n",
    "        self.stop_words.append(' ')\n",
    "        self.stop_words.append('')\n",
    "    \n",
    "    def pipeline(self, df):\n",
    "        for lang in ['description']:\n",
    "            #, 'translate_es', 'translate_fr', 'translate_de', 'translate_ja']:\n",
    "            df[lang] = df[lang].apply(lambda x: self.change_text(x))\n",
    "        return df\n",
    "\n",
    "    def change_text(self, text):\n",
    "        text = text.lower()\n",
    "        text = text.replace('ml', 'machine learning')\n",
    "        text = \"\".join([char if char not in string.punctuation else ' ' for char in text])\n",
    "        text = \" \".join([self.porter.stem(char) for char in text.split(' ') if char not in self.stop_words])\n",
    "        return text\n",
    "    \n",
    "    def vectorize_tfidf(self, df):\n",
    "        vec_tfidf = TfidfVectorizer()\n",
    "        X = vec_tfidf.fit_transform(df.values)\n",
    "        X = pd.DataFrame(X.toarray(), columns=vec_tfidf.get_feature_names())\n",
    "        return X\n",
    "    \n",
    "    def vectorize_cnt(self, df):\n",
    "        vec_cnt = CountVectorizer()\n",
    "        X = vec_cnt.fit_transform(df.values)\n",
    "        X = pd.DataFrame(X.toarray(), columns=vec_cnt.get_feature_names())\n",
    "        return X"
   ]
  },
  {
   "cell_type": "code",
   "execution_count": 3,
   "metadata": {},
   "outputs": [],
   "source": [
    "class CreateDataset(Dataset):\n",
    "    def __init__(self, X, y):\n",
    "        self.X=X\n",
    "        self.y=y\n",
    "        \n",
    "    def __len__(self):  # len(Dataset)で返す値を指定\n",
    "        return len(self.X)\n",
    "\n",
    "    def __getitem__(self, index):  # Dataset[index]で返す値を指定\n",
    "        # argumentation\n",
    "        x = self.X[index]\n",
    "        x = torch.FloatTensor(x)\n",
    "        \n",
    "        \n",
    "        if self.y!=None:\n",
    "            return {\n",
    "                'input': x,\n",
    "                'label': torch.FloatTensor(self.y[index])\n",
    "            }\n",
    "        else:\n",
    "            return {\n",
    "                'input': x\n",
    "            }"
   ]
  },
  {
   "cell_type": "code",
   "execution_count": 4,
   "metadata": {},
   "outputs": [],
   "source": [
    "class ImbalancedDatasetSampler(torch.utils.data.sampler.Sampler):\n",
    "    \"\"\"Samples elements randomly from a given list of indices for imbalanced dataset\n",
    "    Arguments:\n",
    "        indices (list, optional): a list of indices\n",
    "        num_samples (int, optional): number of samples to draw\n",
    "        callback_get_label func: a callback-like function which takes two arguments - dataset and index\n",
    "    \"\"\"\n",
    "\n",
    "    def __init__(self, dataset, indices=None, num_samples=None, callback_get_label=None):\n",
    "                \n",
    "        # if indices is not provided, \n",
    "        # all elements in the dataset will be considered\n",
    "        self.indices = list(range(len(dataset))) \\\n",
    "            if indices is None else indices\n",
    "\n",
    "        # define custom callback\n",
    "        self.callback_get_label = callback_get_label\n",
    "\n",
    "        # if num_samples is not provided, \n",
    "        # draw `len(indices)` samples in each iteration\n",
    "        self.num_samples = len(self.indices) \\\n",
    "            if num_samples is None else num_samples\n",
    "            \n",
    "        # distribution of classes in the dataset \n",
    "        label_to_count = {}\n",
    "        for idx in self.indices:\n",
    "            label = self._get_label(dataset, idx)\n",
    "            if label in label_to_count:\n",
    "                label_to_count[label] += 1\n",
    "            else:\n",
    "                label_to_count[label] = 1\n",
    "                \n",
    "        # weight for each sample\n",
    "        weights = [1.0 / np.sqrt(label_to_count[self._get_label(dataset, idx)])\n",
    "                   for idx in self.indices]\n",
    "        self.weights = torch.DoubleTensor(weights)\n",
    "\n",
    "    def _get_label(self, dataset, idx):\n",
    "        \"\"\"if isinstance(dataset, torchvision.datasets.MNIST):\n",
    "            return dataset.train_labels[idx].item()\n",
    "        elif isinstance(dataset, torchvision.datasets.ImageFolder):\n",
    "            return dataset.imgs[idx][1]\n",
    "        elif isinstance(dataset, torch.utils.data.Subset):\n",
    "            return dataset.dataset.imgs[idx][1]\n",
    "        elif self.callback_get_label:\n",
    "            return self.callback_get_label(dataset, idx)\n",
    "        else:\n",
    "            raise NotImplementedError\"\"\"\n",
    "        return dataset.y[idx][0]\n",
    "        \n",
    "                \n",
    "    def __iter__(self):\n",
    "        return (self.indices[i] for i in torch.multinomial(\n",
    "            self.weights, self.num_samples, replacement=True))\n",
    "\n",
    "    def __len__(self):\n",
    "        return self.num_samples"
   ]
  },
  {
   "cell_type": "code",
   "execution_count": 5,
   "metadata": {},
   "outputs": [],
   "source": [
    "class CustomLoss(nn.Module):\n",
    "    def __init__(self):\n",
    "        super(CustomLoss, self).__init__()\n",
    "        self.mse = nn.MSELoss()\n",
    "\n",
    "    def forward(self, pred, target):\n",
    "        pred_1 = pred[target<1.5][:,0]\n",
    "        loss_1 = torch.mean((pred_1-1)**2)\n",
    "        \n",
    "        pred_2 = pred[(target>1.5)&(target<2.5)][:,1]\n",
    "        loss_2 = torch.mean((pred_2-1)**2)\n",
    "        \n",
    "        pred_3 = pred[(target>2.5)&(target<3.5)][:,2]\n",
    "        loss_3 = torch.mean((pred_3-1)**2)\n",
    "\n",
    "        pred_4 = pred[target>3.5][:,3]\n",
    "        loss_4 = torch.mean((pred_4-1)**2)\n",
    "        \n",
    "        loss = loss_1 + loss_2 + loss_3 + loss_4\n",
    "        \n",
    "        return loss"
   ]
  },
  {
   "cell_type": "code",
   "execution_count": 6,
   "metadata": {},
   "outputs": [],
   "source": [
    "class MLPClass(torch.nn.Module):\n",
    "    def __init__(self, input_size, output_size, hidden_layers):\n",
    "        super().__init__()\n",
    "        \n",
    "        self.fc = nn.Sequential(\n",
    "            nn.Linear(input_size, hidden_layers[0]),\n",
    "            nn.LeakyReLU(),\n",
    "            nn.Dropout(0.5),\n",
    "            nn.Linear(hidden_layers[0], hidden_layers[1]),\n",
    "            nn.LeakyReLU(),\n",
    "            nn.Dropout(0.5),\n",
    "            nn.Linear(hidden_layers[1], output_size)\n",
    "        )\n",
    "        \n",
    "            \n",
    "        \n",
    "        self.sigmoid = torch.nn.Sigmoid()\n",
    "        self.softmax = torch.nn.Softmax()\n",
    "\n",
    "    def forward(self, x):\n",
    "        x = self.fc(x)\n",
    "        #x= self.sigmoid(x)\n",
    "        x= self.softmax(x)\n",
    "        return x"
   ]
  },
  {
   "cell_type": "code",
   "execution_count": 7,
   "metadata": {},
   "outputs": [],
   "source": [
    "class Model_Trainer:\n",
    "    def __init__(self, output_size, feature, hidden_layers, lr=6e-4, weight_decay=0.0005):\n",
    "        self.device =  'cuda' if cuda.is_available() else 'cpu'\n",
    "        self.model = MLPClass(len(feature), output_size, hidden_layers).to(self.device)\n",
    "        self.criterion = CustomLoss()\n",
    "        self.optimizer = optim.Adam(params=self.model.parameters(), lr=lr, weight_decay=weight_decay)\n",
    "        self.scheduler = CosineAnnealingLR(optimizer=self.optimizer, T_max=10)\n",
    "        self.output_size = output_size\n",
    "        self.hidden_layers = hidden_layers\n",
    "\n",
    "    \n",
    "    def load_params(self, state_dict):\n",
    "        self.model.load_state_dict(state_dict)\n",
    "\n",
    "    \n",
    "    def train(self, trn_dataloader):\n",
    "        self.model.train()\n",
    "        avg_loss=0\n",
    "        all_preds = []\n",
    "        all_labels = []\n",
    "        for data in trn_dataloader:\n",
    "            self.optimizer.zero_grad()\n",
    "            x = data['input'].to(self.device)\n",
    "            label = data['label'].squeeze(1)\n",
    "            if len(np.unique(label))!=4:\n",
    "                continue\n",
    "            label = label.to(self.device)\n",
    "            x = self.model(x)   \n",
    "            loss = self.criterion(x, label)\n",
    "            loss.backward()\n",
    "            self.optimizer.step()\n",
    "            self.scheduler.step()\n",
    "            avg_loss += loss.item()/len(trn_dataloader)\n",
    "            all_preds+=x.detach().cpu().tolist()\n",
    "            all_labels+=label.cpu().tolist()\n",
    "            \n",
    "        return avg_loss, np.array(all_preds), np.array(all_labels)\n",
    "\n",
    "    def eval(self, val_dataloader):\n",
    "        self.model.eval()\n",
    "        avg_loss=0\n",
    "        for data in val_dataloader:\n",
    "            x = data['input'].to(self.device)\n",
    "            label = data['label'].to(self.device).squeeze(1)\n",
    "            x = self.model(x)\n",
    "            loss = self.criterion(x, label)\n",
    "            avg_loss += loss.item()/len(val_dataloader)\n",
    "        return avg_loss, x.detach().cpu().numpy()\n",
    "    \n",
    "    def predict(self, data_loader):\n",
    "        self.model.eval()\n",
    "        preds = []\n",
    "        for data in data_loader:\n",
    "            x = data['input'].to(self.device)\n",
    "            preds+=self.model(x).detach().cpu().tolist()\n",
    "        return np.array(preds)"
   ]
  },
  {
   "cell_type": "code",
   "execution_count": 67,
   "metadata": {},
   "outputs": [],
   "source": [
    "class CustomSplit:\n",
    "    def __init__(self, n_splits ,random_state):\n",
    "        self.n_splits = n_splits\n",
    "        self.random_state = random_state\n",
    "        \n",
    "    def split(self, train_df, train_label=None):\n",
    "        train_df_1 = train_df[train_df.jobflag==1]\n",
    "        train_df_2 = train_df[train_df.jobflag==2]\n",
    "        train_df_3 = train_df[train_df.jobflag==3]\n",
    "        train_df_4 = train_df[train_df.jobflag==4]\n",
    "        \n",
    "        k_1 = ShuffleSplit(n_splits=self.n_splits, random_state=self.random_state, train_size=len(train_df_2)+random.randint(-5,30))\n",
    "        k_3 = ShuffleSplit(n_splits=self.n_splits, random_state=self.random_state, train_size=len(train_df_2)+random.randint(-5,30))\n",
    "        k_4 = ShuffleSplit(n_splits=self.n_splits, random_state=self.random_state, train_size=len(train_df_2)+random.randint(-5,30))\n",
    "        \n",
    "        trn_idx_1 = []\n",
    "        trn_idx_2 = train_df_2.index.tolist()\n",
    "        trn_idx_3 = []\n",
    "        trn_idx_4 = []    \n",
    "        for trn_1, val_1 in k_1.split(train_df_1):\n",
    "            trn_idx_1.append(train_df_1.iloc[trn_1].index.tolist())\n",
    "        for trn_3, val_3 in k_3.split(train_df_3):\n",
    "            trn_idx_3.append(train_df_3.iloc[trn_3].index.tolist())\n",
    "        for trn_4, val_4 in k_4.split(train_df_4):\n",
    "            trn_idx_4.append(train_df_4.iloc[trn_4].index.tolist())\n",
    "        \n",
    "        trn_idx = []\n",
    "        for i in range(len(trn_idx_1)):\n",
    "            idx = trn_idx_1[i]+trn_idx_2+trn_idx_3[i]+trn_idx_4[i]\n",
    "            trn_idx.append(idx)\n",
    "        return trn_idx\n",
    "    \n",
    "class Train_Predict:\n",
    "    \n",
    "    def __init__(self, train_df, test_df, feature, hidden_layers, lr=6e-4, weight_decay=0.0005, loop_num=3):\n",
    "        self.train_df = train_df\n",
    "        self.test_df = test_df\n",
    "        self.feature = feature\n",
    "        self.hidden_layers = hidden_layers\n",
    "        self.lr=lr\n",
    "        self.weight_decay = weight_decay\n",
    "        self.loop_num=loop_num\n",
    "        self.torch_random_state = 2020\n",
    "        torch.cuda.manual_seed_all(self.torch_random_state)\n",
    "    \n",
    "    def init_model(self):\n",
    "        self.model_trainer = Model_Trainer(output_size=4, feature=self.feature, hidden_layers=self.hidden_layers,\n",
    "                                           lr=self.lr, weight_decay=self.weight_decay)\n",
    "        \n",
    "    def make_off_df(self, epoch_num, k, custom_k):\n",
    "        if k==None:\n",
    "            k = StratifiedKFold(n_splits=5, random_state=2020, shuffle=True)\n",
    "            \n",
    "        off_df=[]\n",
    "        all_trn_loss = []\n",
    "        all_val_loss = []\n",
    "        kfold_num=0\n",
    "\n",
    "        for trn, val in k.split(self.train_df, self.train_df.jobflag):\n",
    "            \n",
    "            all_trn_df = self.train_df.iloc[trn,:].reset_index(drop=True)\n",
    "            val_df = self.train_df.iloc[val,:]\n",
    "            \n",
    "            val_X, val_y = val_df[self.feature].values.tolist(),val_df[['jobflag']].values.tolist() \n",
    "            val_data_set = CreateDataset(val_X, val_y)\n",
    "            val_dataloader = DataLoader(val_data_set, shuffle=False, batch_size=len(val_data_set))\n",
    "            \n",
    "            val_preds = []\n",
    "            trn_loss = []\n",
    "            val_loss = []\n",
    "            \n",
    "            for sample_trn in tqdm(custom_k.split(all_trn_df)):\n",
    "                \n",
    "                trn_df = all_trn_df.iloc[sample_trn,:]\n",
    "                trn_X, trn_y = trn_df[self.feature].values.tolist(),trn_df[['jobflag']].values.tolist() \n",
    "                trn_data_set = CreateDataset(trn_X, trn_y)\n",
    "                trn_dataloader = DataLoader(trn_data_set, shuffle=False, batch_size=512, sampler=ImbalancedDatasetSampler(trn_data_set))\n",
    "                \n",
    "                sample_preds = []\n",
    "                sample_trn_loss = []\n",
    "                sample_val_loss = []\n",
    "                \n",
    "                self.init_model()\n",
    "                for e in range(epoch_num):\n",
    "                    trn_loss_avg, trn_preds, trn_labels = self.model_trainer.train(trn_dataloader)\n",
    "                    val_loss_avg, p = self.model_trainer.eval(val_dataloader)\n",
    "                    sample_preds.append(p)\n",
    "                    sample_trn_loss.append(trn_loss_avg)\n",
    "                    sample_val_loss.append(val_loss_avg)\n",
    "                    \n",
    "                val_preds.append(np.hstack(tuple(sample_preds)))\n",
    "                trn_loss.append(sample_trn_loss)\n",
    "                val_loss.append(sample_val_loss)\n",
    "                \n",
    "                \"\"\"plt.plot(sample_trn_loss, label='train')\n",
    "                plt.plot(sample_val_loss, label='val')\n",
    "                plt.legend()\n",
    "                plt.show()\"\"\"\n",
    "                \n",
    "                \n",
    "            val_preds_mean = np.mean(val_preds, axis=0)\n",
    "            val_preds_std = np.std(val_preds, axis=0)\n",
    "            \n",
    "            all_trn_loss.append([np.mean(trn_loss, axis=0), np.std(trn_loss, axis=0)]  )\n",
    "            all_val_loss.append( [np.mean(val_loss, axis=0),np.std(val_loss, axis=0)] )\n",
    "            \n",
    "            for i in range(epoch_num*4):\n",
    "                label_name=(i%4)+1\n",
    "                e_num=(i//4)\n",
    "                val_df[f'p_mean_{e_num}_{label_name}'] = val_preds_mean[:,i]\n",
    "                val_df[f'p_std_{e_num}_{label_name}'] = val_preds_std[:,i]\n",
    "                val_df[f'p_mean_d_std_{e_num}_{label_name}'] = val_preds_mean[:,i]/val_preds_std[:,i]\n",
    "            val_df['num_k'] = kfold_num\n",
    "            kfold_num+=1\n",
    "            off_df.append(val_df)\n",
    "            \n",
    "        off_df = pd.concat(off_df, axis=0)\n",
    "        off_df.sort_values('text_id', inplace=True)\n",
    "        off_df.reset_index(drop=True, inplace=True)\n",
    "        return off_df, [all_trn_loss, all_val_loss]\n",
    "    \n",
    "    def predict_test_df(self, epoch_num, custom_k):\n",
    "        \n",
    "        val_X, val_y = self.test_df[self.feature].values.tolist(), None\n",
    "        val_data_set = CreateDataset(val_X, val_y)\n",
    "        val_dataloader = DataLoader(val_data_set, shuffle=False, batch_size=len(val_data_set))\n",
    "        \n",
    "        test_preds = []\n",
    "        trn_loss=[]\n",
    "        test_df = self.test_df.copy()\n",
    "        \n",
    "        train_df = self.train_df.reset_index(drop=True)\n",
    "        for trn in custom_k.split(train_df):\n",
    "            trn_df = train_df.iloc[trn,:]\n",
    "        \n",
    "            X, y = trn_df[self.feature].values.tolist(), trn_df[['jobflag']].values.tolist()\n",
    "            trn_data_set = CreateDataset(X, y)\n",
    "            trn_dataloader = DataLoader(trn_data_set, shuffle=False, batch_size=512, sampler=ImbalancedDatasetSampler(trn_data_set))\n",
    "            \n",
    "            sample_preds = []\n",
    "            sample_trn_loss=[]\n",
    "            self.init_model()\n",
    "            \n",
    "            for e in range(epoch_num):\n",
    "                trn_loss_avg, trn_preds, trn_labels = self.model_trainer.train(trn_dataloader)\n",
    "                p = self.model_trainer.predict(val_dataloader)\n",
    "                sample_preds.append(p)\n",
    "                sample_trn_loss.append(trn_loss_avg)\n",
    "                \n",
    "            test_preds.append(np.hstack(tuple(sample_preds)))\n",
    "            trn_loss.append(sample_trn_loss)\n",
    "            \n",
    "        test_preds_mean = np.mean(test_preds, axis=0)\n",
    "        test_preds_std = np.std(test_preds, axis=0)\n",
    "        \n",
    "        for i in range(epoch_num*4):\n",
    "            label_name=(i%4)+1\n",
    "            e_num=(i//4)\n",
    "            test_df[f'p_mean_{e_num}_{label_name}'] = test_preds_mean[:,i]\n",
    "            test_df[f'p_std_{e_num}_{label_name}'] = test_preds_std[:,i]\n",
    "            test_df[f'p_mean_d_std_{e_num}_{label_name}'] = test_preds_mean[:,i]/test_preds_std[:,i]\n",
    "        \n",
    "        return test_df, [np.mean(trn_loss, axis=0), np.std(trn_loss, axis=0)]"
   ]
  },
  {
   "cell_type": "code",
   "execution_count": 68,
   "metadata": {},
   "outputs": [],
   "source": [
    "class CustomKFlod:\n",
    "    def __init__(self, n_splits, random_state, val_distribution):\n",
    "        self.n_splits = n_splits\n",
    "        self.random_state = random_state\n",
    "        self.val_distribution = val_distribution\n",
    "        \n",
    "    def split(self, train_df, train_label):\n",
    "        val_size = len(train_df)/self.n_splits\n",
    "        val_nums = val_size*np.array(self.val_distribution)\n",
    "        \n",
    "        trn_idxs={}\n",
    "        val_idxs={}  \n",
    "        for i in range(self.n_splits):\n",
    "            trn_idxs[f'idx{i}_{_}'] = []\n",
    "            val_idxs[f'idx{i}_{_}'] = []\n",
    "        for label in range(4):\n",
    "            label_df = train_label[train_label==label+1]\n",
    "            label_size = val_nums[label]/len(label_df)\n",
    "\n",
    "            k = ShuffleSplit(n_splits=self.n_splits, train_size=label_size, random_state=self.random_state)\n",
    "            for i,(trn, val) in enumerate( k.split(label_df, label_df) ):\n",
    "                trn_idx = label_df.iloc[trn].index.tolist()\n",
    "                val_idx = label_df.iloc[val].index.tolist()\n",
    "                trn_idxs[f'idx{i}_{_}']+=trn_idx\n",
    "                val_idxs[f'idx{i}_{_}']+=val_idx\n",
    "                \n",
    "        return zip(np.array(list((trn_idxs.values()))), np.array(list((val_idxs.values()))))"
   ]
  },
  {
   "cell_type": "code",
   "execution_count": 69,
   "metadata": {},
   "outputs": [],
   "source": [
    "def make_tfidf_df(o_df):\n",
    "    df = o_df.copy()\n",
    "    id_cols = ['jobflag','text_id']\n",
    "    preprocessing = Preprocessing()\n",
    "    df['description'] = df['description'].apply(lambda x: preprocessing.change_text(x))\n",
    "        \n",
    "    X = preprocessing.vectorize_tfidf(df['description'])\n",
    "    X = pd.concat([df[id_cols], X], axis=1)\n",
    "    train_df = X[X.jobflag.notnull()].reset_index(drop=True)\n",
    "    test_df = X[X.jobflag.isnull()].drop(columns=['jobflag']).reset_index(drop=True)\n",
    "    mlp_feature = train_df.drop(columns=id_cols).columns.tolist()\n",
    "    return train_df, test_df, mlp_feature"
   ]
  },
  {
   "cell_type": "code",
   "execution_count": 122,
   "metadata": {},
   "outputs": [],
   "source": [
    "class All_flow:\n",
    "    def __init__(self, path='../', step1_k=None, custom_k=None, step1_epoch_num=40):\n",
    "        train_df = pd.read_csv(path+'train_translated.csv')#.sample(1500)\n",
    "        test_df = pd.read_csv(path+'test_translated.csv')\n",
    "        self.df = pd.concat([train_df, test_df],axis=0,ignore_index=True)\n",
    "        self.df['text_id'] = self.df['id']\n",
    "        self.df.drop(columns=['id'], inplace=True)\n",
    "\n",
    "        self.step1_k = StratifiedKFold(n_splits=5, random_state=2020, shuffle=True) if step1_k==None else step1_k\n",
    "        self.custom_k = CustomSplit(random_state=2020) if custom_k==None else custom_k\n",
    "            \n",
    "        self.step1_epoch_num = step1_epoch_num\n",
    "\n",
    "    def main(self):\n",
    "        train_df, test_df, mlp_feature = make_tfidf_df(self.df)\n",
    "        \n",
    "        train_predict = Train_Predict(train_df, test_df, mlp_feature, hidden_layers=[300, 100], lr=0.001, weight_decay=0.00001)\n",
    "\n",
    "        off_df, all_cv_loss = train_predict.make_off_df(\n",
    "            epoch_num=self.step1_epoch_num,k=self.step1_k, custom_k=self.custom_k\n",
    "        )\n",
    "            \n",
    "        test_df_mlp, trn_loss_list = train_predict.predict_test_df(\n",
    "            epoch_num=self.step1_epoch_num, custom_k=self.custom_k\n",
    "        )\n",
    "\n",
    "        return off_df, all_cv_loss, test_df_mlp, trn_loss_list"
   ]
  },
  {
   "cell_type": "code",
   "execution_count": 123,
   "metadata": {},
   "outputs": [],
   "source": [
    "custom_k=CustomSplit(n_splits=10, random_state=2020)\n",
    "step1_k = StratifiedKFold(n_splits=5, random_state=2020, shuffle=True)\n",
    "submission_model = All_flow(custom_k=custom_k, step1_k=step1_k, step1_epoch_num=100)"
   ]
  },
  {
   "cell_type": "code",
   "execution_count": 124,
   "metadata": {
    "scrolled": true
   },
   "outputs": [
    {
     "data": {
      "application/vnd.jupyter.widget-view+json": {
       "model_id": "99671e5dd4804cb6ac6e22def5cee3d3",
       "version_major": 2,
       "version_minor": 0
      },
      "text/plain": [
       "HBox(children=(FloatProgress(value=0.0, max=10.0), HTML(value='')))"
      ]
     },
     "metadata": {},
     "output_type": "display_data"
    },
    {
     "name": "stdout",
     "output_type": "stream",
     "text": [
      "\n"
     ]
    },
    {
     "data": {
      "application/vnd.jupyter.widget-view+json": {
       "model_id": "c5594b12e7c645a2bd87a2189e677f4a",
       "version_major": 2,
       "version_minor": 0
      },
      "text/plain": [
       "HBox(children=(FloatProgress(value=0.0, max=10.0), HTML(value='')))"
      ]
     },
     "metadata": {},
     "output_type": "display_data"
    },
    {
     "name": "stdout",
     "output_type": "stream",
     "text": [
      "\n"
     ]
    },
    {
     "data": {
      "application/vnd.jupyter.widget-view+json": {
       "model_id": "0aec83778ea24fceb06a992f2982e7c3",
       "version_major": 2,
       "version_minor": 0
      },
      "text/plain": [
       "HBox(children=(FloatProgress(value=0.0, max=10.0), HTML(value='')))"
      ]
     },
     "metadata": {},
     "output_type": "display_data"
    },
    {
     "name": "stdout",
     "output_type": "stream",
     "text": [
      "\n"
     ]
    },
    {
     "data": {
      "application/vnd.jupyter.widget-view+json": {
       "model_id": "b9cf559665a749c3a6511b97f95f5ea8",
       "version_major": 2,
       "version_minor": 0
      },
      "text/plain": [
       "HBox(children=(FloatProgress(value=0.0, max=10.0), HTML(value='')))"
      ]
     },
     "metadata": {},
     "output_type": "display_data"
    },
    {
     "name": "stdout",
     "output_type": "stream",
     "text": [
      "\n"
     ]
    },
    {
     "data": {
      "application/vnd.jupyter.widget-view+json": {
       "model_id": "3485a3043a704500b5ed9fdfeae54211",
       "version_major": 2,
       "version_minor": 0
      },
      "text/plain": [
       "HBox(children=(FloatProgress(value=0.0, max=10.0), HTML(value='')))"
      ]
     },
     "metadata": {},
     "output_type": "display_data"
    },
    {
     "name": "stdout",
     "output_type": "stream",
     "text": [
      "\n"
     ]
    }
   ],
   "source": [
    "off_df, all_cv_loss, test_df_mlp, trn_loss_list = submission_model.main()"
   ]
  },
  {
   "cell_type": "code",
   "execution_count": 125,
   "metadata": {},
   "outputs": [
    {
     "data": {
      "image/png": "[encoded data removed]",
      "text/plain": [
       "<Figure size 432x288 with 1 Axes>"
      ]
     },
     "metadata": {
      "needs_background": "light"
     },
     "output_type": "display_data"
    },
    {
     "data": {
      "image/png": "[encoded data removed]",
      "text/plain": [
       "<Figure size 432x288 with 1 Axes>"
      ]
     },
     "metadata": {
      "needs_background": "light"
     },
     "output_type": "display_data"
    },
    {
     "data": {
      "image/png": "[encoded data removed]",
      "text/plain": [
       "<Figure size 432x288 with 1 Axes>"
      ]
     },
     "metadata": {
      "needs_background": "light"
     },
     "output_type": "display_data"
    },
    {
     "data": {
      "image/png": "[encoded data removed]",
      "text/plain": [
       "<Figure size 432x288 with 1 Axes>"
      ]
     },
     "metadata": {
      "needs_background": "light"
     },
     "output_type": "display_data"
    },
    {
     "data": {
      "image/png": "[encoded data removed]",
      "text/plain": [
       "<Figure size 432x288 with 1 Axes>"
      ]
     },
     "metadata": {
      "needs_background": "light"
     },
     "output_type": "display_data"
    }
   ],
   "source": [
    "for i in range(len(all_cv_loss[0])):\n",
    "    plt.plot(all_cv_loss[0][i][0])\n",
    "    plt.plot(all_cv_loss[1][i][0])\n",
    "    plt.show()"
   ]
  },
  {
   "cell_type": "code",
   "execution_count": 73,
   "metadata": {},
   "outputs": [
    {
     "data": {
      "text/html": [
       "<div>\n",
       "<style scoped>\n",
       "    .dataframe tbody tr th:only-of-type {\n",
       "        vertical-align: middle;\n",
       "    }\n",
       "\n",
       "    .dataframe tbody tr th {\n",
       "        vertical-align: top;\n",
       "    }\n",
       "\n",
       "    .dataframe thead th {\n",
       "        text-align: right;\n",
       "    }\n",
       "</style>\n",
       "<table border=\"1\" class=\"dataframe\">\n",
       "  <thead>\n",
       "    <tr style=\"text-align: right;\">\n",
       "      <th></th>\n",
       "      <th>text_id</th>\n",
       "      <th>000</th>\n",
       "      <th>10</th>\n",
       "      <th>10g</th>\n",
       "      <th>11</th>\n",
       "      <th>12</th>\n",
       "      <th>12c</th>\n",
       "      <th>150</th>\n",
       "      <th>20</th>\n",
       "      <th>2003</th>\n",
       "      <th>...</th>\n",
       "      <th>p_mean_d_std_99_1</th>\n",
       "      <th>p_mean_99_2</th>\n",
       "      <th>p_std_99_2</th>\n",
       "      <th>p_mean_d_std_99_2</th>\n",
       "      <th>p_mean_99_3</th>\n",
       "      <th>p_std_99_3</th>\n",
       "      <th>p_mean_d_std_99_3</th>\n",
       "      <th>p_mean_99_4</th>\n",
       "      <th>p_std_99_4</th>\n",
       "      <th>p_mean_d_std_99_4</th>\n",
       "    </tr>\n",
       "  </thead>\n",
       "  <tbody>\n",
       "    <tr>\n",
       "      <th>0</th>\n",
       "      <td>2931</td>\n",
       "      <td>0.0</td>\n",
       "      <td>0.0</td>\n",
       "      <td>0.000000</td>\n",
       "      <td>0.0</td>\n",
       "      <td>0.0</td>\n",
       "      <td>0.0</td>\n",
       "      <td>0.0</td>\n",
       "      <td>0.0</td>\n",
       "      <td>0.0</td>\n",
       "      <td>...</td>\n",
       "      <td>2.107056</td>\n",
       "      <td>0.734713</td>\n",
       "      <td>0.151608</td>\n",
       "      <td>4.846135</td>\n",
       "      <td>0.132738</td>\n",
       "      <td>0.107671</td>\n",
       "      <td>1.232811</td>\n",
       "      <td>0.090675</td>\n",
       "      <td>0.072451</td>\n",
       "      <td>1.251529</td>\n",
       "    </tr>\n",
       "    <tr>\n",
       "      <th>1</th>\n",
       "      <td>2932</td>\n",
       "      <td>0.0</td>\n",
       "      <td>0.0</td>\n",
       "      <td>0.264382</td>\n",
       "      <td>0.0</td>\n",
       "      <td>0.0</td>\n",
       "      <td>0.0</td>\n",
       "      <td>0.0</td>\n",
       "      <td>0.0</td>\n",
       "      <td>0.0</td>\n",
       "      <td>...</td>\n",
       "      <td>0.536610</td>\n",
       "      <td>0.030136</td>\n",
       "      <td>0.031058</td>\n",
       "      <td>0.970301</td>\n",
       "      <td>0.870860</td>\n",
       "      <td>0.244400</td>\n",
       "      <td>3.563264</td>\n",
       "      <td>0.088452</td>\n",
       "      <td>0.195639</td>\n",
       "      <td>0.452116</td>\n",
       "    </tr>\n",
       "    <tr>\n",
       "      <th>2</th>\n",
       "      <td>2933</td>\n",
       "      <td>0.0</td>\n",
       "      <td>0.0</td>\n",
       "      <td>0.000000</td>\n",
       "      <td>0.0</td>\n",
       "      <td>0.0</td>\n",
       "      <td>0.0</td>\n",
       "      <td>0.0</td>\n",
       "      <td>0.0</td>\n",
       "      <td>0.0</td>\n",
       "      <td>...</td>\n",
       "      <td>1.086261</td>\n",
       "      <td>0.872100</td>\n",
       "      <td>0.124838</td>\n",
       "      <td>6.985848</td>\n",
       "      <td>0.097583</td>\n",
       "      <td>0.123636</td>\n",
       "      <td>0.789282</td>\n",
       "      <td>0.008205</td>\n",
       "      <td>0.008006</td>\n",
       "      <td>1.024829</td>\n",
       "    </tr>\n",
       "    <tr>\n",
       "      <th>3</th>\n",
       "      <td>2934</td>\n",
       "      <td>0.0</td>\n",
       "      <td>0.0</td>\n",
       "      <td>0.000000</td>\n",
       "      <td>0.0</td>\n",
       "      <td>0.0</td>\n",
       "      <td>0.0</td>\n",
       "      <td>0.0</td>\n",
       "      <td>0.0</td>\n",
       "      <td>0.0</td>\n",
       "      <td>...</td>\n",
       "      <td>3.734540</td>\n",
       "      <td>0.016183</td>\n",
       "      <td>0.012487</td>\n",
       "      <td>1.296016</td>\n",
       "      <td>0.004653</td>\n",
       "      <td>0.009758</td>\n",
       "      <td>0.476891</td>\n",
       "      <td>0.086896</td>\n",
       "      <td>0.231072</td>\n",
       "      <td>0.376056</td>\n",
       "    </tr>\n",
       "    <tr>\n",
       "      <th>4</th>\n",
       "      <td>2935</td>\n",
       "      <td>0.0</td>\n",
       "      <td>0.0</td>\n",
       "      <td>0.000000</td>\n",
       "      <td>0.0</td>\n",
       "      <td>0.0</td>\n",
       "      <td>0.0</td>\n",
       "      <td>0.0</td>\n",
       "      <td>0.0</td>\n",
       "      <td>0.0</td>\n",
       "      <td>...</td>\n",
       "      <td>0.623569</td>\n",
       "      <td>0.003785</td>\n",
       "      <td>0.005938</td>\n",
       "      <td>0.637408</td>\n",
       "      <td>0.213441</td>\n",
       "      <td>0.267889</td>\n",
       "      <td>0.796751</td>\n",
       "      <td>0.615166</td>\n",
       "      <td>0.358393</td>\n",
       "      <td>1.716458</td>\n",
       "    </tr>\n",
       "  </tbody>\n",
       "</table>\n",
       "<p>5 rows × 4585 columns</p>\n",
       "</div>"
      ],
      "text/plain": [
       "   text_id  000   10       10g   11   12  12c  150   20  2003  ...  \\\n",
       "0     2931  0.0  0.0  0.000000  0.0  0.0  0.0  0.0  0.0   0.0  ...   \n",
       "1     2932  0.0  0.0  0.264382  0.0  0.0  0.0  0.0  0.0   0.0  ...   \n",
       "2     2933  0.0  0.0  0.000000  0.0  0.0  0.0  0.0  0.0   0.0  ...   \n",
       "3     2934  0.0  0.0  0.000000  0.0  0.0  0.0  0.0  0.0   0.0  ...   \n",
       "4     2935  0.0  0.0  0.000000  0.0  0.0  0.0  0.0  0.0   0.0  ...   \n",
       "\n",
       "   p_mean_d_std_99_1  p_mean_99_2  p_std_99_2  p_mean_d_std_99_2  p_mean_99_3  \\\n",
       "0           2.107056     0.734713    0.151608           4.846135     0.132738   \n",
       "1           0.536610     0.030136    0.031058           0.970301     0.870860   \n",
       "2           1.086261     0.872100    0.124838           6.985848     0.097583   \n",
       "3           3.734540     0.016183    0.012487           1.296016     0.004653   \n",
       "4           0.623569     0.003785    0.005938           0.637408     0.213441   \n",
       "\n",
       "   p_std_99_3  p_mean_d_std_99_3  p_mean_99_4  p_std_99_4  p_mean_d_std_99_4  \n",
       "0    0.107671           1.232811     0.090675    0.072451           1.251529  \n",
       "1    0.244400           3.563264     0.088452    0.195639           0.452116  \n",
       "2    0.123636           0.789282     0.008205    0.008006           1.024829  \n",
       "3    0.009758           0.476891     0.086896    0.231072           0.376056  \n",
       "4    0.267889           0.796751     0.615166    0.358393           1.716458  \n",
       "\n",
       "[5 rows x 4585 columns]"
      ]
     },
     "execution_count": 73,
     "metadata": {},
     "output_type": "execute_result"
    }
   ],
   "source": [
    "test_df_mlp.head()"
   ]
  },
  {
   "cell_type": "code",
   "execution_count": 128,
   "metadata": {},
   "outputs": [
    {
     "name": "stdout",
     "output_type": "stream",
     "text": [
      "(2931, 4587)\n"
     ]
    },
    {
     "data": {
      "text/html": [
       "<div>\n",
       "<style scoped>\n",
       "    .dataframe tbody tr th:only-of-type {\n",
       "        vertical-align: middle;\n",
       "    }\n",
       "\n",
       "    .dataframe tbody tr th {\n",
       "        vertical-align: top;\n",
       "    }\n",
       "\n",
       "    .dataframe thead th {\n",
       "        text-align: right;\n",
       "    }\n",
       "</style>\n",
       "<table border=\"1\" class=\"dataframe\">\n",
       "  <thead>\n",
       "    <tr style=\"text-align: right;\">\n",
       "      <th></th>\n",
       "      <th>jobflag</th>\n",
       "      <th>text_id</th>\n",
       "      <th>000</th>\n",
       "      <th>10</th>\n",
       "      <th>10g</th>\n",
       "      <th>11</th>\n",
       "      <th>12</th>\n",
       "      <th>12c</th>\n",
       "      <th>150</th>\n",
       "      <th>20</th>\n",
       "      <th>...</th>\n",
       "      <th>p_mean_99_2</th>\n",
       "      <th>p_std_99_2</th>\n",
       "      <th>p_mean_d_std_99_2</th>\n",
       "      <th>p_mean_99_3</th>\n",
       "      <th>p_std_99_3</th>\n",
       "      <th>p_mean_d_std_99_3</th>\n",
       "      <th>p_mean_99_4</th>\n",
       "      <th>p_std_99_4</th>\n",
       "      <th>p_mean_d_std_99_4</th>\n",
       "      <th>num_k</th>\n",
       "    </tr>\n",
       "  </thead>\n",
       "  <tbody>\n",
       "    <tr>\n",
       "      <th>0</th>\n",
       "      <td>2.0</td>\n",
       "      <td>0</td>\n",
       "      <td>0.0</td>\n",
       "      <td>0.0</td>\n",
       "      <td>0.0</td>\n",
       "      <td>0.0</td>\n",
       "      <td>0.0</td>\n",
       "      <td>0.0</td>\n",
       "      <td>0.0</td>\n",
       "      <td>0.0</td>\n",
       "      <td>...</td>\n",
       "      <td>0.264114</td>\n",
       "      <td>0.210904</td>\n",
       "      <td>1.252294</td>\n",
       "      <td>0.694634</td>\n",
       "      <td>0.229382</td>\n",
       "      <td>3.028289</td>\n",
       "      <td>0.023047</td>\n",
       "      <td>0.011813</td>\n",
       "      <td>1.950963</td>\n",
       "      <td>2</td>\n",
       "    </tr>\n",
       "    <tr>\n",
       "      <th>1</th>\n",
       "      <td>3.0</td>\n",
       "      <td>1</td>\n",
       "      <td>0.0</td>\n",
       "      <td>0.0</td>\n",
       "      <td>0.0</td>\n",
       "      <td>0.0</td>\n",
       "      <td>0.0</td>\n",
       "      <td>0.0</td>\n",
       "      <td>0.0</td>\n",
       "      <td>0.0</td>\n",
       "      <td>...</td>\n",
       "      <td>0.048444</td>\n",
       "      <td>0.064002</td>\n",
       "      <td>0.756926</td>\n",
       "      <td>0.825395</td>\n",
       "      <td>0.091355</td>\n",
       "      <td>9.035032</td>\n",
       "      <td>0.118528</td>\n",
       "      <td>0.056597</td>\n",
       "      <td>2.094263</td>\n",
       "      <td>1</td>\n",
       "    </tr>\n",
       "    <tr>\n",
       "      <th>2</th>\n",
       "      <td>4.0</td>\n",
       "      <td>2</td>\n",
       "      <td>0.0</td>\n",
       "      <td>0.0</td>\n",
       "      <td>0.0</td>\n",
       "      <td>0.0</td>\n",
       "      <td>0.0</td>\n",
       "      <td>0.0</td>\n",
       "      <td>0.0</td>\n",
       "      <td>0.0</td>\n",
       "      <td>...</td>\n",
       "      <td>0.044088</td>\n",
       "      <td>0.033650</td>\n",
       "      <td>1.310201</td>\n",
       "      <td>0.198936</td>\n",
       "      <td>0.136475</td>\n",
       "      <td>1.457672</td>\n",
       "      <td>0.653546</td>\n",
       "      <td>0.114603</td>\n",
       "      <td>5.702692</td>\n",
       "      <td>4</td>\n",
       "    </tr>\n",
       "    <tr>\n",
       "      <th>3</th>\n",
       "      <td>1.0</td>\n",
       "      <td>3</td>\n",
       "      <td>0.0</td>\n",
       "      <td>0.0</td>\n",
       "      <td>0.0</td>\n",
       "      <td>0.0</td>\n",
       "      <td>0.0</td>\n",
       "      <td>0.0</td>\n",
       "      <td>0.0</td>\n",
       "      <td>0.0</td>\n",
       "      <td>...</td>\n",
       "      <td>0.055632</td>\n",
       "      <td>0.024474</td>\n",
       "      <td>2.273104</td>\n",
       "      <td>0.034766</td>\n",
       "      <td>0.029862</td>\n",
       "      <td>1.164242</td>\n",
       "      <td>0.258804</td>\n",
       "      <td>0.195241</td>\n",
       "      <td>1.325565</td>\n",
       "      <td>3</td>\n",
       "    </tr>\n",
       "    <tr>\n",
       "      <th>4</th>\n",
       "      <td>4.0</td>\n",
       "      <td>4</td>\n",
       "      <td>0.0</td>\n",
       "      <td>0.0</td>\n",
       "      <td>0.0</td>\n",
       "      <td>0.0</td>\n",
       "      <td>0.0</td>\n",
       "      <td>0.0</td>\n",
       "      <td>0.0</td>\n",
       "      <td>0.0</td>\n",
       "      <td>...</td>\n",
       "      <td>0.053284</td>\n",
       "      <td>0.035660</td>\n",
       "      <td>1.494230</td>\n",
       "      <td>0.270814</td>\n",
       "      <td>0.175010</td>\n",
       "      <td>1.547419</td>\n",
       "      <td>0.565961</td>\n",
       "      <td>0.193158</td>\n",
       "      <td>2.930042</td>\n",
       "      <td>2</td>\n",
       "    </tr>\n",
       "  </tbody>\n",
       "</table>\n",
       "<p>5 rows × 4587 columns</p>\n",
       "</div>"
      ],
      "text/plain": [
       "   jobflag  text_id  000   10  10g   11   12  12c  150   20  ...  p_mean_99_2  \\\n",
       "0      2.0        0  0.0  0.0  0.0  0.0  0.0  0.0  0.0  0.0  ...     0.264114   \n",
       "1      3.0        1  0.0  0.0  0.0  0.0  0.0  0.0  0.0  0.0  ...     0.048444   \n",
       "2      4.0        2  0.0  0.0  0.0  0.0  0.0  0.0  0.0  0.0  ...     0.044088   \n",
       "3      1.0        3  0.0  0.0  0.0  0.0  0.0  0.0  0.0  0.0  ...     0.055632   \n",
       "4      4.0        4  0.0  0.0  0.0  0.0  0.0  0.0  0.0  0.0  ...     0.053284   \n",
       "\n",
       "   p_std_99_2  p_mean_d_std_99_2  p_mean_99_3  p_std_99_3  p_mean_d_std_99_3  \\\n",
       "0    0.210904           1.252294     0.694634    0.229382           3.028289   \n",
       "1    0.064002           0.756926     0.825395    0.091355           9.035032   \n",
       "2    0.033650           1.310201     0.198936    0.136475           1.457672   \n",
       "3    0.024474           2.273104     0.034766    0.029862           1.164242   \n",
       "4    0.035660           1.494230     0.270814    0.175010           1.547419   \n",
       "\n",
       "   p_mean_99_4  p_std_99_4  p_mean_d_std_99_4  num_k  \n",
       "0     0.023047    0.011813           1.950963      2  \n",
       "1     0.118528    0.056597           2.094263      1  \n",
       "2     0.653546    0.114603           5.702692      4  \n",
       "3     0.258804    0.195241           1.325565      3  \n",
       "4     0.565961    0.193158           2.930042      2  \n",
       "\n",
       "[5 rows x 4587 columns]"
      ]
     },
     "execution_count": 128,
     "metadata": {},
     "output_type": "execute_result"
    }
   ],
   "source": [
    "print(off_df.shape)\n",
    "off_df.head()"
   ]
  },
  {
   "cell_type": "code",
   "execution_count": 126,
   "metadata": {},
   "outputs": [
    {
     "data": {
      "image/png": "[encoded data removed]",
      "text/plain": [
       "<Figure size 432x288 with 1 Axes>"
      ]
     },
     "metadata": {
      "needs_background": "light"
     },
     "output_type": "display_data"
    }
   ],
   "source": [
    "scores_mean=[]\n",
    "scores_mean_d_std=[]\n",
    "for e in range(100):\n",
    "    cols = [f'p_mean_{e}_{label+1}' for label in range(4)]\n",
    "    p = off_df[cols].values\n",
    "    p = np.argmax(p, axis=1)+1\n",
    "    scores_mean.append(\n",
    "        metrics.f1_score(off_df['jobflag'], p, average='macro')\n",
    "    )\n",
    "    \n",
    "    cols = [f'p_mean_d_std_{e}_{label+1}' for label in range(4)]\n",
    "    p = off_df[cols].values\n",
    "    p = np.argmax(p, axis=1)+1\n",
    "    scores_mean_d_std.append(\n",
    "        metrics.f1_score(off_df['jobflag'], p, average='macro')\n",
    "    )\n",
    "plt.plot(scores_mean)\n",
    "plt.title(np.mean(scores_mean[35:40]))\n",
    "plt.plot(scores_mean_d_std)\n",
    "plt.show()"
   ]
  },
  {
   "cell_type": "code",
   "execution_count": 109,
   "metadata": {},
   "outputs": [
    {
     "data": {
      "image/png": "[encoded data removed]",
      "text/plain": [
       "<Figure size 432x288 with 1 Axes>"
      ]
     },
     "metadata": {
      "needs_background": "light"
     },
     "output_type": "display_data"
    }
   ],
   "source": [
    "scores_mean=[]\n",
    "scores_mean_d_std=[]\n",
    "for e in range(100):\n",
    "    cols = [f'p_mean_{e}_{label+1}' for label in range(4)]\n",
    "    p = off_df[cols].values\n",
    "    p = np.argmax(p, axis=1)+1\n",
    "    scores_mean.append(\n",
    "        metrics.f1_score(off_df['jobflag'], p, average='macro')\n",
    "    )\n",
    "    \n",
    "    cols = [f'p_mean_d_std_{e}_{label+1}' for label in range(4)]\n",
    "    p = off_df[cols].values\n",
    "    p = np.argmax(p, axis=1)+1\n",
    "    scores_mean_d_std.append(\n",
    "        metrics.f1_score(off_df['jobflag'], p, average='macro')\n",
    "    )\n",
    "plt.plot(scores_mean)\n",
    "plt.title(np.mean(scores_mean[35:40]))\n",
    "plt.plot(scores_mean_d_std)\n",
    "plt.show()"
   ]
  },
  {
   "cell_type": "code",
   "execution_count": 127,
   "metadata": {},
   "outputs": [
    {
     "data": {
      "image/png": "[encoded data removed]",
      "text/plain": [
       "<Figure size 432x288 with 1 Axes>"
      ]
     },
     "metadata": {
      "needs_background": "light"
     },
     "output_type": "display_data"
    },
    {
     "data": {
      "image/png": "[encoded data removed]",
      "text/plain": [
       "<Figure size 432x288 with 1 Axes>"
      ]
     },
     "metadata": {
      "needs_background": "light"
     },
     "output_type": "display_data"
    },
    {
     "data": {
      "image/png": "[encoded data removed]",
      "text/plain": [
       "<Figure size 432x288 with 1 Axes>"
      ]
     },
     "metadata": {
      "needs_background": "light"
     },
     "output_type": "display_data"
    },
    {
     "data": {
      "image/png": "[encoded data removed]",
      "text/plain": [
       "<Figure size 432x288 with 1 Axes>"
      ]
     },
     "metadata": {
      "needs_background": "light"
     },
     "output_type": "display_data"
    },
    {
     "data": {
      "image/png": "[encoded data removed]",
      "text/plain": [
       "<Figure size 432x288 with 1 Axes>"
      ]
     },
     "metadata": {
      "needs_background": "light"
     },
     "output_type": "display_data"
    }
   ],
   "source": [
    "for k_num in off_df.num_k.unique():\n",
    "    tmp_off_df = off_df[off_df.num_k==k_num]\n",
    "    scores_mean=[]\n",
    "    scores_mean_d_std=[]\n",
    "    for e in range(100):\n",
    "        cols = [f'p_mean_{e}_{label+1}' for label in range(4)]\n",
    "        p = tmp_off_df[cols].values\n",
    "        p = np.argmax(p, axis=1)+1\n",
    "        scores_mean.append(\n",
    "            metrics.f1_score(tmp_off_df['jobflag'], p, average='macro')\n",
    "        )\n",
    "\n",
    "        cols = [f'p_mean_d_std_{e}_{label+1}' for label in range(4)]\n",
    "        p = tmp_off_df[cols].values\n",
    "        p = np.argmax(p, axis=1)+1\n",
    "        scores_mean_d_std.append(\n",
    "            metrics.f1_score(tmp_off_df['jobflag'], p, average='macro')\n",
    "        )\n",
    "        \n",
    "    plt.plot(scores_mean)\n",
    "    plt.title(np.mean(scores_mean[35:40]))\n",
    "    plt.plot(scores_mean_d_std)\n",
    "    plt.show()"
   ]
  },
  {
   "cell_type": "code",
   "execution_count": 110,
   "metadata": {},
   "outputs": [
    {
     "data": {
      "image/png": "[encoded data removed]",
      "text/plain": [
       "<Figure size 432x288 with 1 Axes>"
      ]
     },
     "metadata": {
      "needs_background": "light"
     },
     "output_type": "display_data"
    },
    {
     "data": {
      "image/png": "[encoded data removed]",
      "text/plain": [
       "<Figure size 432x288 with 1 Axes>"
      ]
     },
     "metadata": {
      "needs_background": "light"
     },
     "output_type": "display_data"
    },
    {
     "data": {
      "image/png": "[encoded data removed]",
      "text/plain": [
       "<Figure size 432x288 with 1 Axes>"
      ]
     },
     "metadata": {
      "needs_background": "light"
     },
     "output_type": "display_data"
    },
    {
     "data": {
      "image/png": "[encoded data removed]",
      "text/plain": [
       "<Figure size 432x288 with 1 Axes>"
      ]
     },
     "metadata": {
      "needs_background": "light"
     },
     "output_type": "display_data"
    },
    {
     "data": {
      "image/png": "[encoded data removed]",
      "text/plain": [
       "<Figure size 432x288 with 1 Axes>"
      ]
     },
     "metadata": {
      "needs_background": "light"
     },
     "output_type": "display_data"
    }
   ],
   "source": [
    "for k_num in off_df.num_k.unique():\n",
    "    tmp_off_df = off_df[off_df.num_k==k_num]\n",
    "    scores_mean=[]\n",
    "    scores_mean_d_std=[]\n",
    "    for e in range(100):\n",
    "        cols = [f'p_mean_{e}_{label+1}' for label in range(4)]\n",
    "        p = tmp_off_df[cols].values\n",
    "        p = np.argmax(p, axis=1)+1\n",
    "        scores_mean.append(\n",
    "            metrics.f1_score(tmp_off_df['jobflag'], p, average='macro')\n",
    "        )\n",
    "\n",
    "        cols = [f'p_mean_d_std_{e}_{label+1}' for label in range(4)]\n",
    "        p = tmp_off_df[cols].values\n",
    "        p = np.argmax(p, axis=1)+1\n",
    "        scores_mean_d_std.append(\n",
    "            metrics.f1_score(tmp_off_df['jobflag'], p, average='macro')\n",
    "        )\n",
    "        \n",
    "    plt.plot(scores_mean)\n",
    "    plt.title(np.mean(scores_mean[35:40]))\n",
    "    plt.plot(scores_mean_d_std)\n",
    "    plt.show()"
   ]
  },
  {
   "cell_type": "code",
   "execution_count": 82,
   "metadata": {},
   "outputs": [
    {
     "name": "stdout",
     "output_type": "stream",
     "text": [
      "0.5752672983436662\n"
     ]
    }
   ],
   "source": [
    "scores_mean=[]\n",
    "scores_mean_d_std=[]\n",
    "preds = np.zeros((len(off_df), 4))\n",
    "for e in range(40,50):\n",
    "    cols = [f'p_mean_{e}_{label+1}' for label in range(4)]\n",
    "    preds += off_df[cols].values\n",
    "p = np.argmax(preds, axis=1)+1\n",
    "print(\n",
    "    metrics.f1_score(off_df['jobflag'], p, average='macro')\n",
    ")"
   ]
  },
  {
   "cell_type": "code",
   "execution_count": 111,
   "metadata": {},
   "outputs": [],
   "source": [
    "preds = np.zeros((len(test_df_mlp), 4))\n",
    "for e in range(35,40):\n",
    "    cols = [f'p_mean_{e}_{label+1}' for label in range(4)]\n",
    "    preds += test_df_mlp[cols].values\n",
    "p = np.argmax(preds, axis=1)+1"
   ]
  },
  {
   "cell_type": "code",
   "execution_count": 118,
   "metadata": {},
   "outputs": [],
   "source": [
    "test_df_mlp['final_preds'] = p"
   ]
  },
  {
   "cell_type": "code",
   "execution_count": 119,
   "metadata": {},
   "outputs": [
    {
     "data": {
      "text/plain": [
       "3    0.323580\n",
       "4    0.271945\n",
       "1    0.254733\n",
       "2    0.149742\n",
       "Name: final_preds, dtype: float64"
      ]
     },
     "execution_count": 119,
     "metadata": {},
     "output_type": "execute_result"
    }
   ],
   "source": [
    "test_df_mlp.final_preds.value_counts(normalize=True)"
   ]
  },
  {
   "cell_type": "code",
   "execution_count": 120,
   "metadata": {},
   "outputs": [],
   "source": [
    "test_df_mlp[['text_id', 'final_preds']].to_csv('/Users/abcdm/Downloads/sub_22_35_40.csv', index=False, header=False)"
   ]
  },
  {
   "cell_type": "code",
   "execution_count": 121,
   "metadata": {},
   "outputs": [
    {
     "data": {
      "text/html": [
       "<div>\n",
       "<style scoped>\n",
       "    .dataframe tbody tr th:only-of-type {\n",
       "        vertical-align: middle;\n",
       "    }\n",
       "\n",
       "    .dataframe tbody tr th {\n",
       "        vertical-align: top;\n",
       "    }\n",
       "\n",
       "    .dataframe thead th {\n",
       "        text-align: right;\n",
       "    }\n",
       "</style>\n",
       "<table border=\"1\" class=\"dataframe\">\n",
       "  <thead>\n",
       "    <tr style=\"text-align: right;\">\n",
       "      <th></th>\n",
       "      <th>1_22</th>\n",
       "      <th>2_22</th>\n",
       "      <th>3_22</th>\n",
       "      <th>4_22</th>\n",
       "    </tr>\n",
       "  </thead>\n",
       "  <tbody>\n",
       "    <tr>\n",
       "      <th>1_17</th>\n",
       "      <td>0.933256</td>\n",
       "      <td>-0.217176</td>\n",
       "      <td>-0.392214</td>\n",
       "      <td>-0.327318</td>\n",
       "    </tr>\n",
       "    <tr>\n",
       "      <th>2_17</th>\n",
       "      <td>-0.207829</td>\n",
       "      <td>0.939702</td>\n",
       "      <td>-0.283287</td>\n",
       "      <td>-0.252193</td>\n",
       "    </tr>\n",
       "    <tr>\n",
       "      <th>3_17</th>\n",
       "      <td>-0.381845</td>\n",
       "      <td>-0.279944</td>\n",
       "      <td>0.939712</td>\n",
       "      <td>-0.389636</td>\n",
       "    </tr>\n",
       "    <tr>\n",
       "      <th>4_17</th>\n",
       "      <td>-0.340084</td>\n",
       "      <td>-0.253241</td>\n",
       "      <td>-0.376500</td>\n",
       "      <td>0.931949</td>\n",
       "    </tr>\n",
       "  </tbody>\n",
       "</table>\n",
       "</div>"
      ],
      "text/plain": [
       "          1_22      2_22      3_22      4_22\n",
       "1_17  0.933256 -0.217176 -0.392214 -0.327318\n",
       "2_17 -0.207829  0.939702 -0.283287 -0.252193\n",
       "3_17 -0.381845 -0.279944  0.939712 -0.389636\n",
       "4_17 -0.340084 -0.253241 -0.376500  0.931949"
      ]
     },
     "execution_count": 121,
     "metadata": {},
     "output_type": "execute_result"
    }
   ],
   "source": [
    "data = pd.merge(\n",
    "    pd.read_csv('/Users/abcdm/Downloads/sub_22.csv', header=None),\n",
    "    pd.read_csv('/Users/abcdm/Downloads/sub_22_35_40.csv', header=None),\n",
    "    on=[0]\n",
    ")\n",
    "\n",
    "pd.concat([\n",
    "    pd.get_dummies(data['1_x']).rename(\n",
    "        columns={i+1:f'{i+1}_17' for i in range(4)}\n",
    "    ),\n",
    "    pd.get_dummies(data['1_y']).rename(\n",
    "        columns={i+1:f'{i+1}_22' for i in range(4)}\n",
    "    )\n",
    "], axis=1).corr().loc[\n",
    "    [f'{i+1}_17' for i in range(4)],[f'{i+1}_22' for i in range(4)]\n",
    "]"
   ]
  },
  {
   "cell_type": "code",
   "execution_count": 117,
   "metadata": {},
   "outputs": [
    {
     "data": {
      "text/html": [
       "<div>\n",
       "<style scoped>\n",
       "    .dataframe tbody tr th:only-of-type {\n",
       "        vertical-align: middle;\n",
       "    }\n",
       "\n",
       "    .dataframe tbody tr th {\n",
       "        vertical-align: top;\n",
       "    }\n",
       "\n",
       "    .dataframe thead th {\n",
       "        text-align: right;\n",
       "    }\n",
       "</style>\n",
       "<table border=\"1\" class=\"dataframe\">\n",
       "  <thead>\n",
       "    <tr style=\"text-align: right;\">\n",
       "      <th></th>\n",
       "      <th>0</th>\n",
       "      <th>1</th>\n",
       "    </tr>\n",
       "  </thead>\n",
       "  <tbody>\n",
       "    <tr>\n",
       "      <th>0</th>\n",
       "      <td>2931</td>\n",
       "      <td>2</td>\n",
       "    </tr>\n",
       "    <tr>\n",
       "      <th>1</th>\n",
       "      <td>2932</td>\n",
       "      <td>3</td>\n",
       "    </tr>\n",
       "    <tr>\n",
       "      <th>2</th>\n",
       "      <td>2933</td>\n",
       "      <td>2</td>\n",
       "    </tr>\n",
       "    <tr>\n",
       "      <th>3</th>\n",
       "      <td>2934</td>\n",
       "      <td>1</td>\n",
       "    </tr>\n",
       "    <tr>\n",
       "      <th>4</th>\n",
       "      <td>2935</td>\n",
       "      <td>4</td>\n",
       "    </tr>\n",
       "    <tr>\n",
       "      <th>...</th>\n",
       "      <td>...</td>\n",
       "      <td>...</td>\n",
       "    </tr>\n",
       "    <tr>\n",
       "      <th>1738</th>\n",
       "      <td>4669</td>\n",
       "      <td>1</td>\n",
       "    </tr>\n",
       "    <tr>\n",
       "      <th>1739</th>\n",
       "      <td>4670</td>\n",
       "      <td>3</td>\n",
       "    </tr>\n",
       "    <tr>\n",
       "      <th>1740</th>\n",
       "      <td>4671</td>\n",
       "      <td>1</td>\n",
       "    </tr>\n",
       "    <tr>\n",
       "      <th>1741</th>\n",
       "      <td>4672</td>\n",
       "      <td>3</td>\n",
       "    </tr>\n",
       "    <tr>\n",
       "      <th>1742</th>\n",
       "      <td>4673</td>\n",
       "      <td>3</td>\n",
       "    </tr>\n",
       "  </tbody>\n",
       "</table>\n",
       "<p>1743 rows × 2 columns</p>\n",
       "</div>"
      ],
      "text/plain": [
       "         0  1\n",
       "0     2931  2\n",
       "1     2932  3\n",
       "2     2933  2\n",
       "3     2934  1\n",
       "4     2935  4\n",
       "...    ... ..\n",
       "1738  4669  1\n",
       "1739  4670  3\n",
       "1740  4671  1\n",
       "1741  4672  3\n",
       "1742  4673  3\n",
       "\n",
       "[1743 rows x 2 columns]"
      ]
     },
     "execution_count": 117,
     "metadata": {},
     "output_type": "execute_result"
    }
   ],
   "source": [
    "pd.read_csv('/Users/abcdm/Downloads/sub_22.csv', header=None)"
   ]
  },
  {
   "cell_type": "code",
   "execution_count": null,
   "metadata": {},
   "outputs": [],
   "source": []
  }
 ],
 "metadata": {
  "kernelspec": {
   "display_name": "Python 3",
   "language": "python",
   "name": "python3"
  },
  "language_info": {
   "codemirror_mode": {
    "name": "ipython",
    "version": 3
   },
   "file_extension": ".py",
   "mimetype": "text/x-python",
   "name": "python",
   "nbconvert_exporter": "python",
   "pygments_lexer": "ipython3",
   "version": "3.7.5"
  }
 },
 "nbformat": 4,
 "nbformat_minor": 2
}
